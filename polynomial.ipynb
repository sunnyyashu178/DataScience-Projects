{
  "nbformat": 4,
  "nbformat_minor": 0,
  "metadata": {
    "colab": {
      "name": "polynomial.ipynb",
      "provenance": [],
      "authorship_tag": "ABX9TyNH6v2PAASW7vybqRTKpMkZ",
      "include_colab_link": true
    },
    "kernelspec": {
      "name": "python3",
      "display_name": "Python 3"
    }
  },
  "cells": [
    {
      "cell_type": "markdown",
      "metadata": {
        "id": "view-in-github",
        "colab_type": "text"
      },
      "source": [
        "<a href=\"https://colab.research.google.com/github/sunnyyashu178/DataScience-Projects/blob/master/polynomial.ipynb\" target=\"_parent\"><img src=\"https://colab.research.google.com/assets/colab-badge.svg\" alt=\"Open In Colab\"/></a>"
      ]
    },
    {
      "cell_type": "code",
      "metadata": {
        "id": "CsfiIie_AmLx"
      },
      "source": [
        "import numpy as np\r\n",
        "import matplotlib.pyplot as plt\r\n",
        "import pandas as pd\r\n",
        "import seaborn as sns"
      ],
      "execution_count": 165,
      "outputs": []
    },
    {
      "cell_type": "code",
      "metadata": {
        "colab": {
          "base_uri": "https://localhost:8080/",
          "height": 402
        },
        "id": "XsJRAVfD5VgQ",
        "outputId": "d2699f10-dbae-4345-808a-db52622212f5"
      },
      "source": [
        "m = 100\r\n",
        "X = 6 * np.random.rand(m,1)-3\r\n",
        "y = 0.5 * X**2 + X + 2 + np.random.randn(m,1)\r\n",
        "df = pd.DataFrame()\r\n",
        "df[\"X\"] = X.reshape(100,)\r\n",
        "df[\"y\"] = y\r\n",
        "df"
      ],
      "execution_count": 166,
      "outputs": [
        {
          "output_type": "execute_result",
          "data": {
            "text/html": [
              "<div>\n",
              "<style scoped>\n",
              "    .dataframe tbody tr th:only-of-type {\n",
              "        vertical-align: middle;\n",
              "    }\n",
              "\n",
              "    .dataframe tbody tr th {\n",
              "        vertical-align: top;\n",
              "    }\n",
              "\n",
              "    .dataframe thead th {\n",
              "        text-align: right;\n",
              "    }\n",
              "</style>\n",
              "<table border=\"1\" class=\"dataframe\">\n",
              "  <thead>\n",
              "    <tr style=\"text-align: right;\">\n",
              "      <th></th>\n",
              "      <th>X</th>\n",
              "      <th>y</th>\n",
              "    </tr>\n",
              "  </thead>\n",
              "  <tbody>\n",
              "    <tr>\n",
              "      <th>0</th>\n",
              "      <td>-0.854769</td>\n",
              "      <td>1.466489</td>\n",
              "    </tr>\n",
              "    <tr>\n",
              "      <th>1</th>\n",
              "      <td>-0.567316</td>\n",
              "      <td>2.026808</td>\n",
              "    </tr>\n",
              "    <tr>\n",
              "      <th>2</th>\n",
              "      <td>-0.818795</td>\n",
              "      <td>1.838251</td>\n",
              "    </tr>\n",
              "    <tr>\n",
              "      <th>3</th>\n",
              "      <td>-2.096218</td>\n",
              "      <td>0.180852</td>\n",
              "    </tr>\n",
              "    <tr>\n",
              "      <th>4</th>\n",
              "      <td>0.431956</td>\n",
              "      <td>2.511699</td>\n",
              "    </tr>\n",
              "    <tr>\n",
              "      <th>...</th>\n",
              "      <td>...</td>\n",
              "      <td>...</td>\n",
              "    </tr>\n",
              "    <tr>\n",
              "      <th>95</th>\n",
              "      <td>1.395513</td>\n",
              "      <td>5.792963</td>\n",
              "    </tr>\n",
              "    <tr>\n",
              "      <th>96</th>\n",
              "      <td>1.400121</td>\n",
              "      <td>4.036031</td>\n",
              "    </tr>\n",
              "    <tr>\n",
              "      <th>97</th>\n",
              "      <td>-2.250435</td>\n",
              "      <td>1.801714</td>\n",
              "    </tr>\n",
              "    <tr>\n",
              "      <th>98</th>\n",
              "      <td>-1.011552</td>\n",
              "      <td>1.096045</td>\n",
              "    </tr>\n",
              "    <tr>\n",
              "      <th>99</th>\n",
              "      <td>-1.175468</td>\n",
              "      <td>0.464709</td>\n",
              "    </tr>\n",
              "  </tbody>\n",
              "</table>\n",
              "<p>100 rows × 2 columns</p>\n",
              "</div>"
            ],
            "text/plain": [
              "           X         y\n",
              "0  -0.854769  1.466489\n",
              "1  -0.567316  2.026808\n",
              "2  -0.818795  1.838251\n",
              "3  -2.096218  0.180852\n",
              "4   0.431956  2.511699\n",
              "..       ...       ...\n",
              "95  1.395513  5.792963\n",
              "96  1.400121  4.036031\n",
              "97 -2.250435  1.801714\n",
              "98 -1.011552  1.096045\n",
              "99 -1.175468  0.464709\n",
              "\n",
              "[100 rows x 2 columns]"
            ]
          },
          "metadata": {
            "tags": []
          },
          "execution_count": 166
        }
      ]
    },
    {
      "cell_type": "code",
      "metadata": {
        "colab": {
          "base_uri": "https://localhost:8080/",
          "height": 350
        },
        "id": "yv0x_R_5AwZ1",
        "outputId": "5790f522-8065-4e44-d846-3a6b0568858c"
      },
      "source": [
        "sns.scatterplot(\"X\",\"y\",data=df)"
      ],
      "execution_count": 167,
      "outputs": [
        {
          "output_type": "stream",
          "text": [
            "/usr/local/lib/python3.6/dist-packages/seaborn/_decorators.py:43: FutureWarning: Pass the following variables as keyword args: x, y. From version 0.12, the only valid positional argument will be `data`, and passing other arguments without an explicit keyword will result in an error or misinterpretation.\n",
            "  FutureWarning\n"
          ],
          "name": "stderr"
        },
        {
          "output_type": "execute_result",
          "data": {
            "text/plain": [
              "<matplotlib.axes._subplots.AxesSubplot at 0x7f864a70a9e8>"
            ]
          },
          "metadata": {
            "tags": []
          },
          "execution_count": 167
        },
        {
          "output_type": "display_data",
          "data": {
            "image/png": "[encoded data removed]",
            "text/plain": [
              "<Figure size 432x288 with 1 Axes>"
            ]
          },
          "metadata": {
            "tags": [],
            "needs_background": "light"
          }
        }
      ]
    },
    {
      "cell_type": "code",
      "metadata": {
        "id": "6Hf-i2LVBj4P"
      },
      "source": [
        "from sklearn.preprocessing import PolynomialFeatures"
      ],
      "execution_count": 168,
      "outputs": []
    },
    {
      "cell_type": "code",
      "metadata": {
        "id": "LJ8f9KbjEE_C"
      },
      "source": [
        "poly_features = PolynomialFeatures(degree=2,include_bias = False)"
      ],
      "execution_count": 169,
      "outputs": []
    },
    {
      "cell_type": "code",
      "metadata": {
        "id": "q3IjUbsWERar"
      },
      "source": [
        "X_poly = poly_features.fit_transform(X)"
      ],
      "execution_count": 170,
      "outputs": []
    },
    {
      "cell_type": "code",
      "metadata": {
        "colab": {
          "base_uri": "https://localhost:8080/"
        },
        "id": "vRjJ5dwuEXFN",
        "outputId": "3387338d-2ef9-41cb-cf0b-42420345d991"
      },
      "source": [
        "X[0], X_poly[0]"
      ],
      "execution_count": 171,
      "outputs": [
        {
          "output_type": "execute_result",
          "data": {
            "text/plain": [
              "(array([-0.85476853]), array([-0.85476853,  0.73062923]))"
            ]
          },
          "metadata": {
            "tags": []
          },
          "execution_count": 171
        }
      ]
    },
    {
      "cell_type": "code",
      "metadata": {
        "id": "AS-RshJoEZMm"
      },
      "source": [
        "from sklearn.linear_model import LinearRegression"
      ],
      "execution_count": 172,
      "outputs": []
    },
    {
      "cell_type": "code",
      "metadata": {
        "colab": {
          "base_uri": "https://localhost:8080/"
        },
        "id": "dNvjYxJ4Eir5",
        "outputId": "6faa11fe-42c2-4e1f-baf5-352437a99113"
      },
      "source": [
        "lin_reg = LinearRegression()\r\n",
        "lin_reg.fit(X_poly,y)\r\n",
        "lin_reg.intercept_, lin_reg.coef_"
      ],
      "execution_count": 173,
      "outputs": [
        {
          "output_type": "execute_result",
          "data": {
            "text/plain": [
              "(array([2.08031247]), array([[1.04198322, 0.4903198 ]]))"
            ]
          },
          "metadata": {
            "tags": []
          },
          "execution_count": 173
        }
      ]
    },
    {
      "cell_type": "code",
      "metadata": {
        "id": "C3G5w5YREtDf"
      },
      "source": [
        "y_predict = lin_reg.predict(X_poly)"
      ],
      "execution_count": 174,
      "outputs": []
    },
    {
      "cell_type": "code",
      "metadata": {
        "id": "Qx9Pyfv4E0wv"
      },
      "source": [
        "df[\"X1\"] = X_poly[:,0]"
      ],
      "execution_count": 175,
      "outputs": []
    },
    {
      "cell_type": "code",
      "metadata": {
        "id": "S-rld8ZdE8hy"
      },
      "source": [
        "df[\"X^2\"] = X_poly[:,1] "
      ],
      "execution_count": 176,
      "outputs": []
    },
    {
      "cell_type": "code",
      "metadata": {
        "colab": {
          "base_uri": "https://localhost:8080/",
          "height": 195
        },
        "id": "Ugim-QJPFWGI",
        "outputId": "ec21d249-8912-4b30-e26a-10ad6ec0fdf3"
      },
      "source": [
        "df.head()"
      ],
      "execution_count": 177,
      "outputs": [
        {
          "output_type": "execute_result",
          "data": {
            "text/html": [
              "<div>\n",
              "<style scoped>\n",
              "    .dataframe tbody tr th:only-of-type {\n",
              "        vertical-align: middle;\n",
              "    }\n",
              "\n",
              "    .dataframe tbody tr th {\n",
              "        vertical-align: top;\n",
              "    }\n",
              "\n",
              "    .dataframe thead th {\n",
              "        text-align: right;\n",
              "    }\n",
              "</style>\n",
              "<table border=\"1\" class=\"dataframe\">\n",
              "  <thead>\n",
              "    <tr style=\"text-align: right;\">\n",
              "      <th></th>\n",
              "      <th>X</th>\n",
              "      <th>y</th>\n",
              "      <th>X1</th>\n",
              "      <th>X^2</th>\n",
              "    </tr>\n",
              "  </thead>\n",
              "  <tbody>\n",
              "    <tr>\n",
              "      <th>0</th>\n",
              "      <td>-0.854769</td>\n",
              "      <td>1.466489</td>\n",
              "      <td>-0.854769</td>\n",
              "      <td>0.730629</td>\n",
              "    </tr>\n",
              "    <tr>\n",
              "      <th>1</th>\n",
              "      <td>-0.567316</td>\n",
              "      <td>2.026808</td>\n",
              "      <td>-0.567316</td>\n",
              "      <td>0.321847</td>\n",
              "    </tr>\n",
              "    <tr>\n",
              "      <th>2</th>\n",
              "      <td>-0.818795</td>\n",
              "      <td>1.838251</td>\n",
              "      <td>-0.818795</td>\n",
              "      <td>0.670425</td>\n",
              "    </tr>\n",
              "    <tr>\n",
              "      <th>3</th>\n",
              "      <td>-2.096218</td>\n",
              "      <td>0.180852</td>\n",
              "      <td>-2.096218</td>\n",
              "      <td>4.394132</td>\n",
              "    </tr>\n",
              "    <tr>\n",
              "      <th>4</th>\n",
              "      <td>0.431956</td>\n",
              "      <td>2.511699</td>\n",
              "      <td>0.431956</td>\n",
              "      <td>0.186586</td>\n",
              "    </tr>\n",
              "  </tbody>\n",
              "</table>\n",
              "</div>"
            ],
            "text/plain": [
              "          X         y        X1       X^2\n",
              "0 -0.854769  1.466489 -0.854769  0.730629\n",
              "1 -0.567316  2.026808 -0.567316  0.321847\n",
              "2 -0.818795  1.838251 -0.818795  0.670425\n",
              "3 -2.096218  0.180852 -2.096218  4.394132\n",
              "4  0.431956  2.511699  0.431956  0.186586"
            ]
          },
          "metadata": {
            "tags": []
          },
          "execution_count": 177
        }
      ]
    },
    {
      "cell_type": "code",
      "metadata": {
        "id": "VRZ9J7w3FW_Q"
      },
      "source": [
        "df.drop(\"X\",axis=1,inplace=True)"
      ],
      "execution_count": 178,
      "outputs": []
    },
    {
      "cell_type": "code",
      "metadata": {
        "id": "RGURR0AjGAB2"
      },
      "source": [
        "df[\"y_pred\"] = y_predict"
      ],
      "execution_count": 179,
      "outputs": []
    },
    {
      "cell_type": "code",
      "metadata": {
        "colab": {
          "base_uri": "https://localhost:8080/",
          "height": 195
        },
        "id": "lCHl12NKFcTw",
        "outputId": "d43913a2-7d21-4af6-fada-0d0f86ee6b51"
      },
      "source": [
        "df.head()"
      ],
      "execution_count": 180,
      "outputs": [
        {
          "output_type": "execute_result",
          "data": {
            "text/html": [
              "<div>\n",
              "<style scoped>\n",
              "    .dataframe tbody tr th:only-of-type {\n",
              "        vertical-align: middle;\n",
              "    }\n",
              "\n",
              "    .dataframe tbody tr th {\n",
              "        vertical-align: top;\n",
              "    }\n",
              "\n",
              "    .dataframe thead th {\n",
              "        text-align: right;\n",
              "    }\n",
              "</style>\n",
              "<table border=\"1\" class=\"dataframe\">\n",
              "  <thead>\n",
              "    <tr style=\"text-align: right;\">\n",
              "      <th></th>\n",
              "      <th>y</th>\n",
              "      <th>X1</th>\n",
              "      <th>X^2</th>\n",
              "      <th>y_pred</th>\n",
              "    </tr>\n",
              "  </thead>\n",
              "  <tbody>\n",
              "    <tr>\n",
              "      <th>0</th>\n",
              "      <td>1.466489</td>\n",
              "      <td>-0.854769</td>\n",
              "      <td>0.730629</td>\n",
              "      <td>1.547900</td>\n",
              "    </tr>\n",
              "    <tr>\n",
              "      <th>1</th>\n",
              "      <td>2.026808</td>\n",
              "      <td>-0.567316</td>\n",
              "      <td>0.321847</td>\n",
              "      <td>1.646987</td>\n",
              "    </tr>\n",
              "    <tr>\n",
              "      <th>2</th>\n",
              "      <td>1.838251</td>\n",
              "      <td>-0.818795</td>\n",
              "      <td>0.670425</td>\n",
              "      <td>1.555865</td>\n",
              "    </tr>\n",
              "    <tr>\n",
              "      <th>3</th>\n",
              "      <td>0.180852</td>\n",
              "      <td>-2.096218</td>\n",
              "      <td>4.394132</td>\n",
              "      <td>2.050618</td>\n",
              "    </tr>\n",
              "    <tr>\n",
              "      <th>4</th>\n",
              "      <td>2.511699</td>\n",
              "      <td>0.431956</td>\n",
              "      <td>0.186586</td>\n",
              "      <td>2.621890</td>\n",
              "    </tr>\n",
              "  </tbody>\n",
              "</table>\n",
              "</div>"
            ],
            "text/plain": [
              "          y        X1       X^2    y_pred\n",
              "0  1.466489 -0.854769  0.730629  1.547900\n",
              "1  2.026808 -0.567316  0.321847  1.646987\n",
              "2  1.838251 -0.818795  0.670425  1.555865\n",
              "3  0.180852 -2.096218  4.394132  2.050618\n",
              "4  2.511699  0.431956  0.186586  2.621890"
            ]
          },
          "metadata": {
            "tags": []
          },
          "execution_count": 180
        }
      ]
    },
    {
      "cell_type": "code",
      "metadata": {
        "colab": {
          "base_uri": "https://localhost:8080/",
          "height": 287
        },
        "id": "_sXoJk8pFdfG",
        "outputId": "f38abcc4-20a1-4d71-bf4e-c9b4167f73cc"
      },
      "source": [
        "plt.plot(X,y,\"b.\")\r\n",
        "X_new=np.linspace(-3, 3, 100).reshape(100, 1)\r\n",
        "plt.plot(X_new, lin_reg.predict(poly_features.transform(X_new)), 'r-',linewidth=2)\r\n",
        "plt.axis([-3,3,0,10])\r\n",
        "plt.xlabel(\"X1\",fontsize=14)\r\n",
        "plt.ylabel(\"y\",fontsize=14)\r\n",
        "plt.show()"
      ],
      "execution_count": 181,
      "outputs": [
        {
          "output_type": "display_data",
          "data": {
            "image/png": "[encoded data removed]",
            "text/plain": [
              "<Figure size 432x288 with 1 Axes>"
            ]
          },
          "metadata": {
            "tags": [],
            "needs_background": "light"
          }
        }
      ]
    },
    {
      "cell_type": "code",
      "metadata": {
        "id": "zP1uNZKUFmi3"
      },
      "source": [
        "poly_2 = PolynomialFeatures(degree=2,include_bias = False)\r\n",
        "X_poly2 = poly_2.fit_transform(X)\r\n",
        "poly_1 = PolynomialFeatures(degree=1,include_bias = False)\r\n",
        "X_poly1 = poly_1.fit_transform(X)\r\n",
        "poly_300 = PolynomialFeatures(degree=300,include_bias = False)\r\n",
        "X_poly300 = poly_300.fit_transform(X)"
      ],
      "execution_count": 182,
      "outputs": []
    },
    {
      "cell_type": "markdown",
      "metadata": {
        "id": "vbE8jo9jZf7d"
      },
      "source": [
        "# Learning Curves"
      ]
    },
    {
      "cell_type": "code",
      "metadata": {
        "colab": {
          "base_uri": "https://localhost:8080/",
          "height": 400
        },
        "id": "N4OzN74cNPGx",
        "outputId": "b77091cf-a1d3-4b97-95f5-86236c3c8dd1"
      },
      "source": [
        "plt.figure(figsize=(10,6))\r\n",
        "from sklearn.preprocessing import StandardScaler\r\n",
        "from sklearn.pipeline import Pipeline\r\n",
        "\r\n",
        "for style, width, degree in ((\"g-\", 1, 300), (\"b--\", 2, 2), (\"r-+\", 2, 1)):\r\n",
        "    polybig_features = PolynomialFeatures(degree=degree, include_bias=False)\r\n",
        "    std_scaler = StandardScaler()\r\n",
        "    lin_reg = LinearRegression()\r\n",
        "    polynomial_regression = Pipeline([\r\n",
        "            (\"poly_features\", polybig_features),\r\n",
        "            (\"std_scaler\", std_scaler),\r\n",
        "            (\"lin_reg\", lin_reg),\r\n",
        "        ])\r\n",
        "    polynomial_regression.fit(X, y)\r\n",
        "    y_newbig = polynomial_regression.predict(X_new)\r\n",
        "    plt.plot(X_new, y_newbig, style, label=str(degree), linewidth=width)\r\n",
        "\r\n",
        "plt.plot(X, y, \"b.\", linewidth=3)\r\n",
        "plt.legend(loc=\"upper left\")\r\n",
        "plt.xlabel(\"$x_1$\", fontsize=18)\r\n",
        "plt.ylabel(\"$y$\", rotation=0, fontsize=18)\r\n",
        "plt.axis([-3, 3, 0, 10])\r\n",
        "plt.show()\r\n"
      ],
      "execution_count": 183,
      "outputs": [
        {
          "output_type": "display_data",
          "data": {
            "image/png": "[encoded data removed]",
            "text/plain": [
              "<Figure size 720x432 with 1 Axes>"
            ]
          },
          "metadata": {
            "tags": [],
            "needs_background": "light"
          }
        }
      ]
    },
    {
      "cell_type": "code",
      "metadata": {
        "id": "BgVk58w5WsFE"
      },
      "source": [
        "from sklearn.metrics import mean_squared_error"
      ],
      "execution_count": 184,
      "outputs": []
    },
    {
      "cell_type": "code",
      "metadata": {
        "id": "uKkCnbv_aFAg"
      },
      "source": [
        "from sklearn.model_selection import train_test_split"
      ],
      "execution_count": 185,
      "outputs": []
    },
    {
      "cell_type": "code",
      "metadata": {
        "id": "AoJKG0wtaI4u"
      },
      "source": [
        "def plot_learning_curves(model,X,y):\r\n",
        "  X_train, X_val, y_train, y_val = train_test_split(X, y, test_size=0.2)\r\n",
        "  train_errors, val_errors = [], []\r\n",
        "  for m in range(1,len(X_train)):\r\n",
        "    model.fit(X_train[:m],y_train[:m])\r\n",
        "    y_train_predict = model.predict(X_train[:m])\r\n",
        "    y_val_predict = model.predict(X_val)\r\n",
        "    train_errors.append(mean_squared_error(y_train_predict,y_train[:m]))\r\n",
        "    val_errors.append(mean_squared_error(y_val_predict,y_val))\r\n",
        "  plt.plot(np.sqrt(train_errors),\"r-+\",linewidth=2,label=\"train\")\r\n",
        "  plt.plot(np.sqrt(val_errors),\"b-\",linewidth=2,label=\"test\")\r\n",
        "  plt.legend()"
      ],
      "execution_count": 186,
      "outputs": []
    },
    {
      "cell_type": "code",
      "metadata": {
        "colab": {
          "base_uri": "https://localhost:8080/",
          "height": 265
        },
        "id": "0SxJTpOX9UxL",
        "outputId": "f00d5656-246d-4077-b300-3600f9152790"
      },
      "source": [
        "lin_reg = LinearRegression()\r\n",
        "plot_learning_curves(lin_reg,X,y)"
      ],
      "execution_count": 187,
      "outputs": [
        {
          "output_type": "display_data",
          "data": {
            "image/png": "[encoded data removed]",
            "text/plain": [
              "<Figure size 432x288 with 1 Axes>"
            ]
          },
          "metadata": {
            "tags": [],
            "needs_background": "light"
          }
        }
      ]
    },
    {
      "cell_type": "markdown",
      "metadata": {
        "id": "q1ErgiEWBEbr"
      },
      "source": [
        "If your model is underfitting the training data, adding more train‐\r\n",
        "ing examples will not help. You need to use a more complex model\r\n",
        "or come up with better features.  \r\n",
        "Let’s look at the learning curves of a 10th-degree polynomial model on the same\r\n",
        "data"
      ]
    },
    {
      "cell_type": "code",
      "metadata": {
        "id": "hmBt9i219dn4"
      },
      "source": [
        "from sklearn.pipeline import Pipeline"
      ],
      "execution_count": 188,
      "outputs": []
    },
    {
      "cell_type": "code",
      "metadata": {
        "id": "qjVG76bwBPvX"
      },
      "source": [
        "polynomial_regression = Pipeline((\r\n",
        "                                (\"poly_features\", PolynomialFeatures(degree=2, include_bias=False)),\r\n",
        "                                (\"sgd_reg\", LinearRegression())\r\n",
        "                                ))"
      ],
      "execution_count": 189,
      "outputs": []
    },
    {
      "cell_type": "code",
      "metadata": {
        "colab": {
          "base_uri": "https://localhost:8080/",
          "height": 265
        },
        "id": "0iMzO7SlEUdZ",
        "outputId": "37070617-09d5-4188-ca7d-69945aa3a6cc"
      },
      "source": [
        "plot_learning_curves(polynomial_regression,X,y)"
      ],
      "execution_count": 190,
      "outputs": [
        {
          "output_type": "display_data",
          "data": {
            "image/png": "[encoded data removed]",
            "text/plain": [
              "<Figure size 432x288 with 1 Axes>"
            ]
          },
          "metadata": {
            "tags": [],
            "needs_background": "light"
          }
        }
      ]
    },
    {
      "cell_type": "code",
      "metadata": {
        "id": "BqRGze7ZEYLB"
      },
      "source": [
        ""
      ],
      "execution_count": 191,
      "outputs": []
    },
    {
      "cell_type": "code",
      "metadata": {
        "id": "H48h8d0yFkH5"
      },
      "source": [
        ""
      ],
      "execution_count": 191,
      "outputs": []
    }
  ]
}