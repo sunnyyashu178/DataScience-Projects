{
  "nbformat": 4,
  "nbformat_minor": 0,
  "metadata": {
    "kernelspec": {
      "display_name": "Python 3",
      "language": "python",
      "name": "python3"
    },
    "language_info": {
      "codemirror_mode": {
        "name": "ipython",
        "version": 3
      },
      "file_extension": ".py",
      "mimetype": "text/x-python",
      "name": "python",
      "nbconvert_exporter": "python",
      "pygments_lexer": "ipython3",
      "version": "3.7.6"
    },
    "colab": {
      "name": "Pandas_topics.ipynb",
      "provenance": [],
      "include_colab_link": true
    }
  },
  "cells": [
    {
      "cell_type": "markdown",
      "metadata": {
        "id": "view-in-github",
        "colab_type": "text"
      },
      "source": [
        "<a href=\"https://colab.research.google.com/github/sunnyyashu178/DataScience-Projects/blob/master/Pandas_topics.ipynb\" target=\"_parent\"><img src=\"https://colab.research.google.com/assets/colab-badge.svg\" alt=\"Open In Colab\"/></a>"
      ]
    },
    {
      "cell_type": "markdown",
      "metadata": {
        "id": "sfYB0ju3KwjY"
      },
      "source": [
        "# Pandas Tutorial"
      ]
    },
    {
      "cell_type": "markdown",
      "metadata": {
        "id": "plpCiFKtKwjY"
      },
      "source": [
        "Datasets\n",
        "\n",
        "tips.csv = https://raw.githubusercontent.com/sunnyyashu178/DataScience-Projects/master/Datasets/tips.csv\n",
        "\n",
        "Sales_Funnel_CRM.csv = https://raw.githubusercontent.com/sunnyyashu178/DataScience-Projects/master/Datasets/Sales_Funnel_CRM.csv\n",
        "\n",
        "movie_scores.csv = https://raw.githubusercontent.com/sunnyyashu178/DataScience-Projects/master/Datasets/movie_scores.csv\n",
        "\n",
        "RetailSales_BeerWineLiquor.csv = https://raw.githubusercontent.com/sunnyyashu178/DataScience-Projects/master/Datasets/RetailSales_BeerWineLiquor.csv\n",
        "\n",
        "mpg.csv = https://raw.githubusercontent.com/sunnyyashu178/DataScience-Projects/master/Datasets/mpg.csv\n",
        "    \n",
        "example.csv = https://raw.githubusercontent.com/sunnyyashu178/DataScience-Projects/master/Datasets/example.csv\n"
      ]
    },
    {
      "cell_type": "markdown",
      "metadata": {
        "id": "XzfjQ2FRKwjZ"
      },
      "source": [
        "# Series"
      ]
    },
    {
      "cell_type": "code",
      "metadata": {
        "id": "TqLwDOQrKwjZ"
      },
      "source": [
        "# Series is a one-dimensional ndarray\n",
        "# import the pandas as pd\n",
        "import pandas as pd\n",
        "import numpy as np"
      ],
      "execution_count": 3,
      "outputs": []
    },
    {
      "cell_type": "code",
      "metadata": {
        "id": "NV9Q9nn3KwjZ"
      },
      "source": [
        "my_data = [20,3,10]\n",
        "my_index = [\"A\",\"B\",\"C\"]"
      ],
      "execution_count": null,
      "outputs": []
    },
    {
      "cell_type": "code",
      "metadata": {
        "id": "IbUzeiXyKwjZ",
        "outputId": "0dd8bd8d-3920-46e9-9182-7424b9462fc7"
      },
      "source": [
        "pd.Series(my_data,index=my_index)"
      ],
      "execution_count": null,
      "outputs": [
        {
          "output_type": "execute_result",
          "data": {
            "text/plain": [
              "A    20\n",
              "B     3\n",
              "C    10\n",
              "dtype: int64"
            ]
          },
          "metadata": {
            "tags": []
          },
          "execution_count": 3
        }
      ]
    },
    {
      "cell_type": "code",
      "metadata": {
        "id": "XEQLXoifKwja",
        "outputId": "0ad54ade-14d8-41aa-a7e3-668b433001ac"
      },
      "source": [
        "#you can directly use dictionary\n",
        "my_data = {\"A\":20,\"B\":3,\"C\":10}\n",
        "pd.Series(my_data)"
      ],
      "execution_count": null,
      "outputs": [
        {
          "output_type": "execute_result",
          "data": {
            "text/plain": [
              "A    20\n",
              "B     3\n",
              "C    10\n",
              "dtype: int64"
            ]
          },
          "metadata": {
            "tags": []
          },
          "execution_count": 4
        }
      ]
    },
    {
      "cell_type": "code",
      "metadata": {
        "id": "qY9zXNDIKwja"
      },
      "source": [
        "my_data = {\"USA\":200,\"Brazil\":100,\"Japan\":69,\"India\":120}\n",
        "my_data2 = {\"USA\":100,\"China\":100,\"Japan\":89,\"India\":120}\n",
        "series1 = pd.Series(my_data)\n",
        "series2 = pd.Series(my_data2)"
      ],
      "execution_count": null,
      "outputs": []
    },
    {
      "cell_type": "code",
      "metadata": {
        "id": "6I-3T_HpKwja",
        "outputId": "96340ca8-4cce-48c0-b140-afd57ff921b4"
      },
      "source": [
        "# it return null values, if the value is not present in one of the columns\n",
        "series1 + series2"
      ],
      "execution_count": null,
      "outputs": [
        {
          "output_type": "execute_result",
          "data": {
            "text/plain": [
              "Brazil      NaN\n",
              "China       NaN\n",
              "India     240.0\n",
              "Japan     158.0\n",
              "USA       300.0\n",
              "dtype: float64"
            ]
          },
          "metadata": {
            "tags": []
          },
          "execution_count": 6
        }
      ]
    },
    {
      "cell_type": "code",
      "metadata": {
        "id": "i-_Q1K0NKwja",
        "outputId": "4a6d0a61-432e-41ac-ff6d-1eda3e190a3b"
      },
      "source": [
        "# use .add() to fill the null values\n",
        "series1.add(series2,fill_value=0)"
      ],
      "execution_count": null,
      "outputs": [
        {
          "output_type": "execute_result",
          "data": {
            "text/plain": [
              "Brazil    100.0\n",
              "China     100.0\n",
              "India     240.0\n",
              "Japan     158.0\n",
              "USA       300.0\n",
              "dtype: float64"
            ]
          },
          "metadata": {
            "tags": []
          },
          "execution_count": 7
        }
      ]
    },
    {
      "cell_type": "markdown",
      "metadata": {
        "id": "_eJTC5TsKwja"
      },
      "source": [
        "# DataFrame"
      ]
    },
    {
      "cell_type": "markdown",
      "metadata": {
        "id": "iQqzOBG8Kwja"
      },
      "source": [
        "A group of Pandas Series objects that share the same index"
      ]
    },
    {
      "cell_type": "code",
      "metadata": {
        "id": "lVH7StylKwja"
      },
      "source": [
        "import numpy as np"
      ],
      "execution_count": null,
      "outputs": []
    },
    {
      "cell_type": "code",
      "metadata": {
        "id": "G4fNxpVSKwja",
        "outputId": "46667c4c-b407-4e81-ed00-7e1d18bb89d6"
      },
      "source": [
        "np.random.seed(101)\n",
        "mydata =np.random.randint(0,101,(4,3))\n",
        "mydata"
      ],
      "execution_count": null,
      "outputs": [
        {
          "output_type": "execute_result",
          "data": {
            "text/plain": [
              "array([[95, 11, 81],\n",
              "       [70, 63, 87],\n",
              "       [75,  9, 77],\n",
              "       [40,  4, 63]])"
            ]
          },
          "metadata": {
            "tags": []
          },
          "execution_count": 9
        }
      ]
    },
    {
      "cell_type": "code",
      "metadata": {
        "id": "DO53S4q6Kwja"
      },
      "source": [
        "my_index = [\"CA\",\"NY\",\"AZ\",\"TX\"]\n",
        "my_columns = [\"Jan\",\"Feb\",\"Mar\"]"
      ],
      "execution_count": null,
      "outputs": []
    },
    {
      "cell_type": "code",
      "metadata": {
        "id": "fgTqphJ-Kwja",
        "outputId": "f489ce1c-a6f0-4e34-eeef-cac62fc0f12d"
      },
      "source": [
        "df = pd.DataFrame(mydata,index=my_index,columns=my_columns)\n",
        "df"
      ],
      "execution_count": null,
      "outputs": [
        {
          "output_type": "execute_result",
          "data": {
            "text/html": [
              "<div>\n",
              "<style scoped>\n",
              "    .dataframe tbody tr th:only-of-type {\n",
              "        vertical-align: middle;\n",
              "    }\n",
              "\n",
              "    .dataframe tbody tr th {\n",
              "        vertical-align: top;\n",
              "    }\n",
              "\n",
              "    .dataframe thead th {\n",
              "        text-align: right;\n",
              "    }\n",
              "</style>\n",
              "<table border=\"1\" class=\"dataframe\">\n",
              "  <thead>\n",
              "    <tr style=\"text-align: right;\">\n",
              "      <th></th>\n",
              "      <th>Jan</th>\n",
              "      <th>Feb</th>\n",
              "      <th>Mar</th>\n",
              "    </tr>\n",
              "  </thead>\n",
              "  <tbody>\n",
              "    <tr>\n",
              "      <th>CA</th>\n",
              "      <td>95</td>\n",
              "      <td>11</td>\n",
              "      <td>81</td>\n",
              "    </tr>\n",
              "    <tr>\n",
              "      <th>NY</th>\n",
              "      <td>70</td>\n",
              "      <td>63</td>\n",
              "      <td>87</td>\n",
              "    </tr>\n",
              "    <tr>\n",
              "      <th>AZ</th>\n",
              "      <td>75</td>\n",
              "      <td>9</td>\n",
              "      <td>77</td>\n",
              "    </tr>\n",
              "    <tr>\n",
              "      <th>TX</th>\n",
              "      <td>40</td>\n",
              "      <td>4</td>\n",
              "      <td>63</td>\n",
              "    </tr>\n",
              "  </tbody>\n",
              "</table>\n",
              "</div>"
            ],
            "text/plain": [
              "    Jan  Feb  Mar\n",
              "CA   95   11   81\n",
              "NY   70   63   87\n",
              "AZ   75    9   77\n",
              "TX   40    4   63"
            ]
          },
          "metadata": {
            "tags": []
          },
          "execution_count": 11
        }
      ]
    },
    {
      "cell_type": "code",
      "metadata": {
        "id": "WtPEJL8eKwja",
        "outputId": "ac9f22c4-9530-4136-ed70-a1ec374e8d5f"
      },
      "source": [
        "#It returns info of the data\n",
        "df.info()"
      ],
      "execution_count": null,
      "outputs": [
        {
          "output_type": "stream",
          "text": [
            "<class 'pandas.core.frame.DataFrame'>\n",
            "Index: 4 entries, CA to TX\n",
            "Data columns (total 3 columns):\n",
            " #   Column  Non-Null Count  Dtype\n",
            "---  ------  --------------  -----\n",
            " 0   Jan     4 non-null      int32\n",
            " 1   Feb     4 non-null      int32\n",
            " 2   Mar     4 non-null      int32\n",
            "dtypes: int32(3)\n",
            "memory usage: 80.0+ bytes\n"
          ],
          "name": "stdout"
        }
      ]
    },
    {
      "cell_type": "markdown",
      "metadata": {
        "id": "k9ZV5sQlKwja"
      },
      "source": [
        "# Read csv file using pandas\n"
      ]
    },
    {
      "cell_type": "code",
      "metadata": {
        "id": "NTf-rZFmKwja"
      },
      "source": [
        "df = pd.read_csv(\"https://raw.githubusercontent.com/sunnyyashu178/DataScience-Projects/master/Datasets/tips.csv\")"
      ],
      "execution_count": null,
      "outputs": []
    },
    {
      "cell_type": "code",
      "metadata": {
        "id": "Djt7oBp_Kwja",
        "outputId": "13800af6-4f28-4483-ba98-e5e4e56d5c9c"
      },
      "source": [
        "df.head()"
      ],
      "execution_count": null,
      "outputs": [
        {
          "output_type": "execute_result",
          "data": {
            "text/html": [
              "<div>\n",
              "<style scoped>\n",
              "    .dataframe tbody tr th:only-of-type {\n",
              "        vertical-align: middle;\n",
              "    }\n",
              "\n",
              "    .dataframe tbody tr th {\n",
              "        vertical-align: top;\n",
              "    }\n",
              "\n",
              "    .dataframe thead th {\n",
              "        text-align: right;\n",
              "    }\n",
              "</style>\n",
              "<table border=\"1\" class=\"dataframe\">\n",
              "  <thead>\n",
              "    <tr style=\"text-align: right;\">\n",
              "      <th></th>\n",
              "      <th>total_bill</th>\n",
              "      <th>tip</th>\n",
              "      <th>sex</th>\n",
              "      <th>smoker</th>\n",
              "      <th>day</th>\n",
              "      <th>time</th>\n",
              "      <th>size</th>\n",
              "      <th>price_per_person</th>\n",
              "      <th>Payer Name</th>\n",
              "      <th>CC Number</th>\n",
              "      <th>Payment ID</th>\n",
              "    </tr>\n",
              "  </thead>\n",
              "  <tbody>\n",
              "    <tr>\n",
              "      <th>0</th>\n",
              "      <td>16.99</td>\n",
              "      <td>1.01</td>\n",
              "      <td>Female</td>\n",
              "      <td>No</td>\n",
              "      <td>Sun</td>\n",
              "      <td>Dinner</td>\n",
              "      <td>2</td>\n",
              "      <td>8.49</td>\n",
              "      <td>Christy Cunningham</td>\n",
              "      <td>3560325168603410</td>\n",
              "      <td>Sun2959</td>\n",
              "    </tr>\n",
              "    <tr>\n",
              "      <th>1</th>\n",
              "      <td>10.34</td>\n",
              "      <td>1.66</td>\n",
              "      <td>Male</td>\n",
              "      <td>No</td>\n",
              "      <td>Sun</td>\n",
              "      <td>Dinner</td>\n",
              "      <td>3</td>\n",
              "      <td>3.45</td>\n",
              "      <td>Douglas Tucker</td>\n",
              "      <td>4478071379779230</td>\n",
              "      <td>Sun4608</td>\n",
              "    </tr>\n",
              "    <tr>\n",
              "      <th>2</th>\n",
              "      <td>21.01</td>\n",
              "      <td>3.50</td>\n",
              "      <td>Male</td>\n",
              "      <td>No</td>\n",
              "      <td>Sun</td>\n",
              "      <td>Dinner</td>\n",
              "      <td>3</td>\n",
              "      <td>7.00</td>\n",
              "      <td>Travis Walters</td>\n",
              "      <td>6011812112971322</td>\n",
              "      <td>Sun4458</td>\n",
              "    </tr>\n",
              "    <tr>\n",
              "      <th>3</th>\n",
              "      <td>23.68</td>\n",
              "      <td>3.31</td>\n",
              "      <td>Male</td>\n",
              "      <td>No</td>\n",
              "      <td>Sun</td>\n",
              "      <td>Dinner</td>\n",
              "      <td>2</td>\n",
              "      <td>11.84</td>\n",
              "      <td>Nathaniel Harris</td>\n",
              "      <td>4676137647685994</td>\n",
              "      <td>Sun5260</td>\n",
              "    </tr>\n",
              "    <tr>\n",
              "      <th>4</th>\n",
              "      <td>24.59</td>\n",
              "      <td>3.61</td>\n",
              "      <td>Female</td>\n",
              "      <td>No</td>\n",
              "      <td>Sun</td>\n",
              "      <td>Dinner</td>\n",
              "      <td>4</td>\n",
              "      <td>6.15</td>\n",
              "      <td>Tonya Carter</td>\n",
              "      <td>4832732618637221</td>\n",
              "      <td>Sun2251</td>\n",
              "    </tr>\n",
              "  </tbody>\n",
              "</table>\n",
              "</div>"
            ],
            "text/plain": [
              "   total_bill   tip     sex smoker  day    time  size  price_per_person  \\\n",
              "0       16.99  1.01  Female     No  Sun  Dinner     2              8.49   \n",
              "1       10.34  1.66    Male     No  Sun  Dinner     3              3.45   \n",
              "2       21.01  3.50    Male     No  Sun  Dinner     3              7.00   \n",
              "3       23.68  3.31    Male     No  Sun  Dinner     2             11.84   \n",
              "4       24.59  3.61  Female     No  Sun  Dinner     4              6.15   \n",
              "\n",
              "           Payer Name         CC Number Payment ID  \n",
              "0  Christy Cunningham  3560325168603410    Sun2959  \n",
              "1      Douglas Tucker  4478071379779230    Sun4608  \n",
              "2      Travis Walters  6011812112971322    Sun4458  \n",
              "3    Nathaniel Harris  4676137647685994    Sun5260  \n",
              "4        Tonya Carter  4832732618637221    Sun2251  "
            ]
          },
          "metadata": {
            "tags": []
          },
          "execution_count": 513
        }
      ]
    },
    {
      "cell_type": "code",
      "metadata": {
        "id": "xOHwDxDMKwja"
      },
      "source": [
        "# To check the file directory"
      ],
      "execution_count": null,
      "outputs": []
    },
    {
      "cell_type": "code",
      "metadata": {
        "id": "Tz49C9xzKwjb",
        "outputId": "03501857-51f7-4c01-e6c4-f71b6bdd8f43"
      },
      "source": [
        "pwd"
      ],
      "execution_count": null,
      "outputs": [
        {
          "output_type": "execute_result",
          "data": {
            "text/plain": [
              "'C:\\\\Users\\\\Hp\\\\Whole machine_learning\\\\03-Pandas'"
            ]
          },
          "metadata": {
            "tags": []
          },
          "execution_count": 16
        }
      ]
    },
    {
      "cell_type": "code",
      "metadata": {
        "id": "JoYE9uL1Kwjb"
      },
      "source": [
        "# ls returns all the files in your current directory"
      ],
      "execution_count": null,
      "outputs": []
    },
    {
      "cell_type": "code",
      "metadata": {
        "id": "bH1RLuyUKwjb",
        "outputId": "af35af18-0572-4500-f984-8abfb58c15de"
      },
      "source": [
        "ls"
      ],
      "execution_count": null,
      "outputs": [
        {
          "output_type": "stream",
          "text": [
            " Volume in drive C has no label.\n",
            " Volume Serial Number is B45D-6A9E\n",
            "\n",
            " Directory of C:\\Users\\Hp\\Whole machine_learning\\03-Pandas\n",
            "\n",
            "20-11-2020  18:45    <DIR>          .\n",
            "20-11-2020  18:45    <DIR>          ..\n",
            "19-11-2020  14:00    <DIR>          .ipynb_checkpoints\n",
            "12-07-2020  20:07    <DIR>          __pycache__\n",
            "01-07-2020  00:51           565,390 00-Series.ipynb\n",
            "08-09-2020  18:59           208,957 01-DataFrames.ipynb\n",
            "08-09-2020  18:59           194,591 02-Conditional-Filtering.ipynb\n",
            "13-08-2020  01:49           196,385 03-Useful-Methods.ipynb\n",
            "01-07-2020  23:32            64,227 04-Missing-Data.ipynb\n",
            "04-07-2020  21:28           219,627 05-Groupby-Operations-and-MultiIndex.ipynb\n",
            "04-07-2020  23:19            62,966 06-Combining-DataFrames.ipynb\n",
            "25-09-2020  19:04            32,972 07-Text-Methods.ipynb\n",
            "08-09-2020  18:59            93,392 08-Time-Methods.ipynb\n",
            "26-09-2020  00:48            65,234 09-Inputs-and-Outputs.ipynb\n",
            "26-09-2020  00:46           101,081 10-Pivot-Tables.ipynb\n",
            "27-09-2020  21:34            47,135 11-Pandas-Project-Exercise .ipynb\n",
            "27-09-2020  21:34            52,576 12-Pandas-Project-Exercise-Solution.ipynb\n",
            "05-07-2020  01:39                51 example.csv\n",
            "26-09-2020  20:14             5,022 example.xlsx\n",
            "12-07-2020  20:41        25,112,317 hotel_booking_data.csv\n",
            "07-02-2020  20:26               177 movie_scores.csv\n",
            "01-07-2020  23:56            17,727 mpg.csv\n",
            "05-07-2020  01:58             5,022 my_excel_file.xlsx\n",
            "05-07-2020  02:10                51 new_file.csv\n",
            "26-09-2020  20:05             5,021 new_workbook.xlsx\n",
            "26-09-2020  01:16                51 newfile.csv\n",
            "20-11-2020  18:45           375,247 Pandas_topics.ipynb\n",
            "11-07-2020  20:14            52,132 reshaping_pivot.png\n",
            "03-07-2020  01:56             5,459 RetailSales_BeerWineLiquor.csv\n",
            "07-07-2020  01:10             1,320 Sales_Funnel_CRM.csv\n",
            "26-09-2020  18:40             1,330 sample_table.html\n",
            "05-07-2020  02:10               555 simple.html\n",
            "27-01-2020  22:28            18,752 tips.csv\n",
            "              29 File(s)     27,504,767 bytes\n",
            "               4 Dir(s)  410,364,628,992 bytes free\n"
          ],
          "name": "stdout"
        }
      ]
    },
    {
      "cell_type": "code",
      "metadata": {
        "id": "oPwWYFqsKwjb",
        "outputId": "20403efa-00ed-40c3-ed9d-27943fb6e3e9"
      },
      "source": [
        "df.columns"
      ],
      "execution_count": null,
      "outputs": [
        {
          "output_type": "execute_result",
          "data": {
            "text/plain": [
              "Index(['total_bill', 'tip', 'sex', 'smoker', 'day', 'time', 'size',\n",
              "       'price_per_person', 'Payer Name', 'CC Number', 'Payment ID'],\n",
              "      dtype='object')"
            ]
          },
          "metadata": {
            "tags": []
          },
          "execution_count": 19
        }
      ]
    },
    {
      "cell_type": "code",
      "metadata": {
        "id": "vqRZr9twKwjb",
        "outputId": "ea6e4943-5a3e-47a8-edba-063a63311c54"
      },
      "source": [
        "df.index "
      ],
      "execution_count": null,
      "outputs": [
        {
          "output_type": "execute_result",
          "data": {
            "text/plain": [
              "RangeIndex(start=0, stop=244, step=1)"
            ]
          },
          "metadata": {
            "tags": []
          },
          "execution_count": 20
        }
      ]
    },
    {
      "cell_type": "code",
      "metadata": {
        "id": "qebA-Uh3Kwjb",
        "outputId": "8931e2cc-5cf9-4eaf-d7a8-10e5e20b2f2b"
      },
      "source": [
        "# it shows first 6 rows\n",
        "df.head(6)"
      ],
      "execution_count": null,
      "outputs": [
        {
          "output_type": "execute_result",
          "data": {
            "text/html": [
              "<div>\n",
              "<style scoped>\n",
              "    .dataframe tbody tr th:only-of-type {\n",
              "        vertical-align: middle;\n",
              "    }\n",
              "\n",
              "    .dataframe tbody tr th {\n",
              "        vertical-align: top;\n",
              "    }\n",
              "\n",
              "    .dataframe thead th {\n",
              "        text-align: right;\n",
              "    }\n",
              "</style>\n",
              "<table border=\"1\" class=\"dataframe\">\n",
              "  <thead>\n",
              "    <tr style=\"text-align: right;\">\n",
              "      <th></th>\n",
              "      <th>total_bill</th>\n",
              "      <th>tip</th>\n",
              "      <th>sex</th>\n",
              "      <th>smoker</th>\n",
              "      <th>day</th>\n",
              "      <th>time</th>\n",
              "      <th>size</th>\n",
              "      <th>price_per_person</th>\n",
              "      <th>Payer Name</th>\n",
              "      <th>CC Number</th>\n",
              "      <th>Payment ID</th>\n",
              "    </tr>\n",
              "  </thead>\n",
              "  <tbody>\n",
              "    <tr>\n",
              "      <th>0</th>\n",
              "      <td>16.99</td>\n",
              "      <td>1.01</td>\n",
              "      <td>Female</td>\n",
              "      <td>No</td>\n",
              "      <td>Sun</td>\n",
              "      <td>Dinner</td>\n",
              "      <td>2</td>\n",
              "      <td>8.49</td>\n",
              "      <td>Christy Cunningham</td>\n",
              "      <td>3560325168603410</td>\n",
              "      <td>Sun2959</td>\n",
              "    </tr>\n",
              "    <tr>\n",
              "      <th>1</th>\n",
              "      <td>10.34</td>\n",
              "      <td>1.66</td>\n",
              "      <td>Male</td>\n",
              "      <td>No</td>\n",
              "      <td>Sun</td>\n",
              "      <td>Dinner</td>\n",
              "      <td>3</td>\n",
              "      <td>3.45</td>\n",
              "      <td>Douglas Tucker</td>\n",
              "      <td>4478071379779230</td>\n",
              "      <td>Sun4608</td>\n",
              "    </tr>\n",
              "    <tr>\n",
              "      <th>2</th>\n",
              "      <td>21.01</td>\n",
              "      <td>3.50</td>\n",
              "      <td>Male</td>\n",
              "      <td>No</td>\n",
              "      <td>Sun</td>\n",
              "      <td>Dinner</td>\n",
              "      <td>3</td>\n",
              "      <td>7.00</td>\n",
              "      <td>Travis Walters</td>\n",
              "      <td>6011812112971322</td>\n",
              "      <td>Sun4458</td>\n",
              "    </tr>\n",
              "    <tr>\n",
              "      <th>3</th>\n",
              "      <td>23.68</td>\n",
              "      <td>3.31</td>\n",
              "      <td>Male</td>\n",
              "      <td>No</td>\n",
              "      <td>Sun</td>\n",
              "      <td>Dinner</td>\n",
              "      <td>2</td>\n",
              "      <td>11.84</td>\n",
              "      <td>Nathaniel Harris</td>\n",
              "      <td>4676137647685994</td>\n",
              "      <td>Sun5260</td>\n",
              "    </tr>\n",
              "    <tr>\n",
              "      <th>4</th>\n",
              "      <td>24.59</td>\n",
              "      <td>3.61</td>\n",
              "      <td>Female</td>\n",
              "      <td>No</td>\n",
              "      <td>Sun</td>\n",
              "      <td>Dinner</td>\n",
              "      <td>4</td>\n",
              "      <td>6.15</td>\n",
              "      <td>Tonya Carter</td>\n",
              "      <td>4832732618637221</td>\n",
              "      <td>Sun2251</td>\n",
              "    </tr>\n",
              "    <tr>\n",
              "      <th>5</th>\n",
              "      <td>25.29</td>\n",
              "      <td>4.71</td>\n",
              "      <td>Male</td>\n",
              "      <td>No</td>\n",
              "      <td>Sun</td>\n",
              "      <td>Dinner</td>\n",
              "      <td>4</td>\n",
              "      <td>6.32</td>\n",
              "      <td>Erik Smith</td>\n",
              "      <td>213140353657882</td>\n",
              "      <td>Sun9679</td>\n",
              "    </tr>\n",
              "  </tbody>\n",
              "</table>\n",
              "</div>"
            ],
            "text/plain": [
              "   total_bill   tip     sex smoker  day    time  size  price_per_person  \\\n",
              "0       16.99  1.01  Female     No  Sun  Dinner     2              8.49   \n",
              "1       10.34  1.66    Male     No  Sun  Dinner     3              3.45   \n",
              "2       21.01  3.50    Male     No  Sun  Dinner     3              7.00   \n",
              "3       23.68  3.31    Male     No  Sun  Dinner     2             11.84   \n",
              "4       24.59  3.61  Female     No  Sun  Dinner     4              6.15   \n",
              "5       25.29  4.71    Male     No  Sun  Dinner     4              6.32   \n",
              "\n",
              "           Payer Name         CC Number Payment ID  \n",
              "0  Christy Cunningham  3560325168603410    Sun2959  \n",
              "1      Douglas Tucker  4478071379779230    Sun4608  \n",
              "2      Travis Walters  6011812112971322    Sun4458  \n",
              "3    Nathaniel Harris  4676137647685994    Sun5260  \n",
              "4        Tonya Carter  4832732618637221    Sun2251  \n",
              "5          Erik Smith   213140353657882    Sun9679  "
            ]
          },
          "metadata": {
            "tags": []
          },
          "execution_count": 21
        }
      ]
    },
    {
      "cell_type": "code",
      "metadata": {
        "id": "b2vLtHFRKwjb",
        "outputId": "7f69b55c-a87c-4942-e889-a4834fc0189d"
      },
      "source": [
        "#it show last 6 values\n",
        "df.tail(6)"
      ],
      "execution_count": null,
      "outputs": [
        {
          "output_type": "execute_result",
          "data": {
            "text/html": [
              "<div>\n",
              "<style scoped>\n",
              "    .dataframe tbody tr th:only-of-type {\n",
              "        vertical-align: middle;\n",
              "    }\n",
              "\n",
              "    .dataframe tbody tr th {\n",
              "        vertical-align: top;\n",
              "    }\n",
              "\n",
              "    .dataframe thead th {\n",
              "        text-align: right;\n",
              "    }\n",
              "</style>\n",
              "<table border=\"1\" class=\"dataframe\">\n",
              "  <thead>\n",
              "    <tr style=\"text-align: right;\">\n",
              "      <th></th>\n",
              "      <th>total_bill</th>\n",
              "      <th>tip</th>\n",
              "      <th>sex</th>\n",
              "      <th>smoker</th>\n",
              "      <th>day</th>\n",
              "      <th>time</th>\n",
              "      <th>size</th>\n",
              "      <th>price_per_person</th>\n",
              "      <th>Payer Name</th>\n",
              "      <th>CC Number</th>\n",
              "      <th>Payment ID</th>\n",
              "    </tr>\n",
              "  </thead>\n",
              "  <tbody>\n",
              "    <tr>\n",
              "      <th>238</th>\n",
              "      <td>35.83</td>\n",
              "      <td>4.67</td>\n",
              "      <td>Female</td>\n",
              "      <td>No</td>\n",
              "      <td>Sat</td>\n",
              "      <td>Dinner</td>\n",
              "      <td>3</td>\n",
              "      <td>11.94</td>\n",
              "      <td>Kimberly Crane</td>\n",
              "      <td>676184013727</td>\n",
              "      <td>Sat9777</td>\n",
              "    </tr>\n",
              "    <tr>\n",
              "      <th>239</th>\n",
              "      <td>29.03</td>\n",
              "      <td>5.92</td>\n",
              "      <td>Male</td>\n",
              "      <td>No</td>\n",
              "      <td>Sat</td>\n",
              "      <td>Dinner</td>\n",
              "      <td>3</td>\n",
              "      <td>9.68</td>\n",
              "      <td>Michael Avila</td>\n",
              "      <td>5296068606052842</td>\n",
              "      <td>Sat2657</td>\n",
              "    </tr>\n",
              "    <tr>\n",
              "      <th>240</th>\n",
              "      <td>27.18</td>\n",
              "      <td>2.00</td>\n",
              "      <td>Female</td>\n",
              "      <td>Yes</td>\n",
              "      <td>Sat</td>\n",
              "      <td>Dinner</td>\n",
              "      <td>2</td>\n",
              "      <td>13.59</td>\n",
              "      <td>Monica Sanders</td>\n",
              "      <td>3506806155565404</td>\n",
              "      <td>Sat1766</td>\n",
              "    </tr>\n",
              "    <tr>\n",
              "      <th>241</th>\n",
              "      <td>22.67</td>\n",
              "      <td>2.00</td>\n",
              "      <td>Male</td>\n",
              "      <td>Yes</td>\n",
              "      <td>Sat</td>\n",
              "      <td>Dinner</td>\n",
              "      <td>2</td>\n",
              "      <td>11.34</td>\n",
              "      <td>Keith Wong</td>\n",
              "      <td>6011891618747196</td>\n",
              "      <td>Sat3880</td>\n",
              "    </tr>\n",
              "    <tr>\n",
              "      <th>242</th>\n",
              "      <td>17.82</td>\n",
              "      <td>1.75</td>\n",
              "      <td>Male</td>\n",
              "      <td>No</td>\n",
              "      <td>Sat</td>\n",
              "      <td>Dinner</td>\n",
              "      <td>2</td>\n",
              "      <td>8.91</td>\n",
              "      <td>Dennis Dixon</td>\n",
              "      <td>4375220550950</td>\n",
              "      <td>Sat17</td>\n",
              "    </tr>\n",
              "    <tr>\n",
              "      <th>243</th>\n",
              "      <td>18.78</td>\n",
              "      <td>3.00</td>\n",
              "      <td>Female</td>\n",
              "      <td>No</td>\n",
              "      <td>Thur</td>\n",
              "      <td>Dinner</td>\n",
              "      <td>2</td>\n",
              "      <td>9.39</td>\n",
              "      <td>Michelle Hardin</td>\n",
              "      <td>3511451626698139</td>\n",
              "      <td>Thur672</td>\n",
              "    </tr>\n",
              "  </tbody>\n",
              "</table>\n",
              "</div>"
            ],
            "text/plain": [
              "     total_bill   tip     sex smoker   day    time  size  price_per_person  \\\n",
              "238       35.83  4.67  Female     No   Sat  Dinner     3             11.94   \n",
              "239       29.03  5.92    Male     No   Sat  Dinner     3              9.68   \n",
              "240       27.18  2.00  Female    Yes   Sat  Dinner     2             13.59   \n",
              "241       22.67  2.00    Male    Yes   Sat  Dinner     2             11.34   \n",
              "242       17.82  1.75    Male     No   Sat  Dinner     2              8.91   \n",
              "243       18.78  3.00  Female     No  Thur  Dinner     2              9.39   \n",
              "\n",
              "          Payer Name         CC Number Payment ID  \n",
              "238   Kimberly Crane      676184013727    Sat9777  \n",
              "239    Michael Avila  5296068606052842    Sat2657  \n",
              "240   Monica Sanders  3506806155565404    Sat1766  \n",
              "241       Keith Wong  6011891618747196    Sat3880  \n",
              "242     Dennis Dixon     4375220550950      Sat17  \n",
              "243  Michelle Hardin  3511451626698139    Thur672  "
            ]
          },
          "metadata": {
            "tags": []
          },
          "execution_count": 22
        }
      ]
    },
    {
      "cell_type": "code",
      "metadata": {
        "id": "cx9kesgOKwjb",
        "outputId": "0e481258-4065-4031-dfbb-1ef00766c98e"
      },
      "source": [
        "df.info()"
      ],
      "execution_count": null,
      "outputs": [
        {
          "output_type": "stream",
          "text": [
            "<class 'pandas.core.frame.DataFrame'>\n",
            "RangeIndex: 244 entries, 0 to 243\n",
            "Data columns (total 11 columns):\n",
            " #   Column            Non-Null Count  Dtype  \n",
            "---  ------            --------------  -----  \n",
            " 0   total_bill        244 non-null    float64\n",
            " 1   tip               244 non-null    float64\n",
            " 2   sex               244 non-null    object \n",
            " 3   smoker            244 non-null    object \n",
            " 4   day               244 non-null    object \n",
            " 5   time              244 non-null    object \n",
            " 6   size              244 non-null    int64  \n",
            " 7   price_per_person  244 non-null    float64\n",
            " 8   Payer Name        244 non-null    object \n",
            " 9   CC Number         244 non-null    int64  \n",
            " 10  Payment ID        244 non-null    object \n",
            "dtypes: float64(3), int64(2), object(6)\n",
            "memory usage: 21.1+ KB\n"
          ],
          "name": "stdout"
        }
      ]
    },
    {
      "cell_type": "code",
      "metadata": {
        "id": "s1Sa4E7zKwjb",
        "outputId": "a110d336-6bf8-4f75-f328-2cf8d4bc4e38"
      },
      "source": [
        "df.describe()"
      ],
      "execution_count": null,
      "outputs": [
        {
          "output_type": "execute_result",
          "data": {
            "text/html": [
              "<div>\n",
              "<style scoped>\n",
              "    .dataframe tbody tr th:only-of-type {\n",
              "        vertical-align: middle;\n",
              "    }\n",
              "\n",
              "    .dataframe tbody tr th {\n",
              "        vertical-align: top;\n",
              "    }\n",
              "\n",
              "    .dataframe thead th {\n",
              "        text-align: right;\n",
              "    }\n",
              "</style>\n",
              "<table border=\"1\" class=\"dataframe\">\n",
              "  <thead>\n",
              "    <tr style=\"text-align: right;\">\n",
              "      <th></th>\n",
              "      <th>total_bill</th>\n",
              "      <th>tip</th>\n",
              "      <th>size</th>\n",
              "      <th>price_per_person</th>\n",
              "      <th>CC Number</th>\n",
              "    </tr>\n",
              "  </thead>\n",
              "  <tbody>\n",
              "    <tr>\n",
              "      <th>count</th>\n",
              "      <td>244.000000</td>\n",
              "      <td>244.000000</td>\n",
              "      <td>244.000000</td>\n",
              "      <td>244.000000</td>\n",
              "      <td>2.440000e+02</td>\n",
              "    </tr>\n",
              "    <tr>\n",
              "      <th>mean</th>\n",
              "      <td>19.785943</td>\n",
              "      <td>2.998279</td>\n",
              "      <td>2.569672</td>\n",
              "      <td>7.888197</td>\n",
              "      <td>2.563496e+15</td>\n",
              "    </tr>\n",
              "    <tr>\n",
              "      <th>std</th>\n",
              "      <td>8.902412</td>\n",
              "      <td>1.383638</td>\n",
              "      <td>0.951100</td>\n",
              "      <td>2.914234</td>\n",
              "      <td>2.369340e+15</td>\n",
              "    </tr>\n",
              "    <tr>\n",
              "      <th>min</th>\n",
              "      <td>3.070000</td>\n",
              "      <td>1.000000</td>\n",
              "      <td>1.000000</td>\n",
              "      <td>2.880000</td>\n",
              "      <td>6.040679e+10</td>\n",
              "    </tr>\n",
              "    <tr>\n",
              "      <th>25%</th>\n",
              "      <td>13.347500</td>\n",
              "      <td>2.000000</td>\n",
              "      <td>2.000000</td>\n",
              "      <td>5.800000</td>\n",
              "      <td>3.040731e+13</td>\n",
              "    </tr>\n",
              "    <tr>\n",
              "      <th>50%</th>\n",
              "      <td>17.795000</td>\n",
              "      <td>2.900000</td>\n",
              "      <td>2.000000</td>\n",
              "      <td>7.255000</td>\n",
              "      <td>3.525318e+15</td>\n",
              "    </tr>\n",
              "    <tr>\n",
              "      <th>75%</th>\n",
              "      <td>24.127500</td>\n",
              "      <td>3.562500</td>\n",
              "      <td>3.000000</td>\n",
              "      <td>9.390000</td>\n",
              "      <td>4.553675e+15</td>\n",
              "    </tr>\n",
              "    <tr>\n",
              "      <th>max</th>\n",
              "      <td>50.810000</td>\n",
              "      <td>10.000000</td>\n",
              "      <td>6.000000</td>\n",
              "      <td>20.270000</td>\n",
              "      <td>6.596454e+15</td>\n",
              "    </tr>\n",
              "  </tbody>\n",
              "</table>\n",
              "</div>"
            ],
            "text/plain": [
              "       total_bill         tip        size  price_per_person     CC Number\n",
              "count  244.000000  244.000000  244.000000        244.000000  2.440000e+02\n",
              "mean    19.785943    2.998279    2.569672          7.888197  2.563496e+15\n",
              "std      8.902412    1.383638    0.951100          2.914234  2.369340e+15\n",
              "min      3.070000    1.000000    1.000000          2.880000  6.040679e+10\n",
              "25%     13.347500    2.000000    2.000000          5.800000  3.040731e+13\n",
              "50%     17.795000    2.900000    2.000000          7.255000  3.525318e+15\n",
              "75%     24.127500    3.562500    3.000000          9.390000  4.553675e+15\n",
              "max     50.810000   10.000000    6.000000         20.270000  6.596454e+15"
            ]
          },
          "metadata": {
            "tags": []
          },
          "execution_count": 24
        }
      ]
    },
    {
      "cell_type": "code",
      "metadata": {
        "id": "jtwCioqkKwjb",
        "outputId": "d01517c1-1b3a-4b5a-cabf-b2bd582f6bce"
      },
      "source": [
        "# transposing the described data\n",
        "df.describe().T"
      ],
      "execution_count": null,
      "outputs": [
        {
          "output_type": "execute_result",
          "data": {
            "text/html": [
              "<div>\n",
              "<style scoped>\n",
              "    .dataframe tbody tr th:only-of-type {\n",
              "        vertical-align: middle;\n",
              "    }\n",
              "\n",
              "    .dataframe tbody tr th {\n",
              "        vertical-align: top;\n",
              "    }\n",
              "\n",
              "    .dataframe thead th {\n",
              "        text-align: right;\n",
              "    }\n",
              "</style>\n",
              "<table border=\"1\" class=\"dataframe\">\n",
              "  <thead>\n",
              "    <tr style=\"text-align: right;\">\n",
              "      <th></th>\n",
              "      <th>count</th>\n",
              "      <th>mean</th>\n",
              "      <th>std</th>\n",
              "      <th>min</th>\n",
              "      <th>25%</th>\n",
              "      <th>50%</th>\n",
              "      <th>75%</th>\n",
              "      <th>max</th>\n",
              "    </tr>\n",
              "  </thead>\n",
              "  <tbody>\n",
              "    <tr>\n",
              "      <th>total_bill</th>\n",
              "      <td>244.0</td>\n",
              "      <td>1.978594e+01</td>\n",
              "      <td>8.902412e+00</td>\n",
              "      <td>3.070000e+00</td>\n",
              "      <td>1.334750e+01</td>\n",
              "      <td>1.779500e+01</td>\n",
              "      <td>2.412750e+01</td>\n",
              "      <td>5.081000e+01</td>\n",
              "    </tr>\n",
              "    <tr>\n",
              "      <th>tip</th>\n",
              "      <td>244.0</td>\n",
              "      <td>2.998279e+00</td>\n",
              "      <td>1.383638e+00</td>\n",
              "      <td>1.000000e+00</td>\n",
              "      <td>2.000000e+00</td>\n",
              "      <td>2.900000e+00</td>\n",
              "      <td>3.562500e+00</td>\n",
              "      <td>1.000000e+01</td>\n",
              "    </tr>\n",
              "    <tr>\n",
              "      <th>size</th>\n",
              "      <td>244.0</td>\n",
              "      <td>2.569672e+00</td>\n",
              "      <td>9.510998e-01</td>\n",
              "      <td>1.000000e+00</td>\n",
              "      <td>2.000000e+00</td>\n",
              "      <td>2.000000e+00</td>\n",
              "      <td>3.000000e+00</td>\n",
              "      <td>6.000000e+00</td>\n",
              "    </tr>\n",
              "    <tr>\n",
              "      <th>price_per_person</th>\n",
              "      <td>244.0</td>\n",
              "      <td>7.888197e+00</td>\n",
              "      <td>2.914234e+00</td>\n",
              "      <td>2.880000e+00</td>\n",
              "      <td>5.800000e+00</td>\n",
              "      <td>7.255000e+00</td>\n",
              "      <td>9.390000e+00</td>\n",
              "      <td>2.027000e+01</td>\n",
              "    </tr>\n",
              "    <tr>\n",
              "      <th>CC Number</th>\n",
              "      <td>244.0</td>\n",
              "      <td>2.563496e+15</td>\n",
              "      <td>2.369340e+15</td>\n",
              "      <td>6.040679e+10</td>\n",
              "      <td>3.040731e+13</td>\n",
              "      <td>3.525318e+15</td>\n",
              "      <td>4.553675e+15</td>\n",
              "      <td>6.596454e+15</td>\n",
              "    </tr>\n",
              "  </tbody>\n",
              "</table>\n",
              "</div>"
            ],
            "text/plain": [
              "                  count          mean           std           min  \\\n",
              "total_bill        244.0  1.978594e+01  8.902412e+00  3.070000e+00   \n",
              "tip               244.0  2.998279e+00  1.383638e+00  1.000000e+00   \n",
              "size              244.0  2.569672e+00  9.510998e-01  1.000000e+00   \n",
              "price_per_person  244.0  7.888197e+00  2.914234e+00  2.880000e+00   \n",
              "CC Number         244.0  2.563496e+15  2.369340e+15  6.040679e+10   \n",
              "\n",
              "                           25%           50%           75%           max  \n",
              "total_bill        1.334750e+01  1.779500e+01  2.412750e+01  5.081000e+01  \n",
              "tip               2.000000e+00  2.900000e+00  3.562500e+00  1.000000e+01  \n",
              "size              2.000000e+00  2.000000e+00  3.000000e+00  6.000000e+00  \n",
              "price_per_person  5.800000e+00  7.255000e+00  9.390000e+00  2.027000e+01  \n",
              "CC Number         3.040731e+13  3.525318e+15  4.553675e+15  6.596454e+15  "
            ]
          },
          "metadata": {
            "tags": []
          },
          "execution_count": 25
        }
      ]
    },
    {
      "cell_type": "markdown",
      "metadata": {
        "id": "QOZpODcqKwjb"
      },
      "source": [
        "# Columns"
      ]
    },
    {
      "cell_type": "code",
      "metadata": {
        "id": "tnPymyhWKwjb",
        "outputId": "454990c0-1c1e-4a6c-e8e5-47a9e3775acf"
      },
      "source": [
        "df.head()"
      ],
      "execution_count": null,
      "outputs": [
        {
          "output_type": "execute_result",
          "data": {
            "text/html": [
              "<div>\n",
              "<style scoped>\n",
              "    .dataframe tbody tr th:only-of-type {\n",
              "        vertical-align: middle;\n",
              "    }\n",
              "\n",
              "    .dataframe tbody tr th {\n",
              "        vertical-align: top;\n",
              "    }\n",
              "\n",
              "    .dataframe thead th {\n",
              "        text-align: right;\n",
              "    }\n",
              "</style>\n",
              "<table border=\"1\" class=\"dataframe\">\n",
              "  <thead>\n",
              "    <tr style=\"text-align: right;\">\n",
              "      <th></th>\n",
              "      <th>total_bill</th>\n",
              "      <th>tip</th>\n",
              "      <th>sex</th>\n",
              "      <th>smoker</th>\n",
              "      <th>day</th>\n",
              "      <th>time</th>\n",
              "      <th>size</th>\n",
              "      <th>price_per_person</th>\n",
              "      <th>Payer Name</th>\n",
              "      <th>CC Number</th>\n",
              "      <th>Payment ID</th>\n",
              "    </tr>\n",
              "  </thead>\n",
              "  <tbody>\n",
              "    <tr>\n",
              "      <th>0</th>\n",
              "      <td>16.99</td>\n",
              "      <td>1.01</td>\n",
              "      <td>Female</td>\n",
              "      <td>No</td>\n",
              "      <td>Sun</td>\n",
              "      <td>Dinner</td>\n",
              "      <td>2</td>\n",
              "      <td>8.49</td>\n",
              "      <td>Christy Cunningham</td>\n",
              "      <td>3560325168603410</td>\n",
              "      <td>Sun2959</td>\n",
              "    </tr>\n",
              "    <tr>\n",
              "      <th>1</th>\n",
              "      <td>10.34</td>\n",
              "      <td>1.66</td>\n",
              "      <td>Male</td>\n",
              "      <td>No</td>\n",
              "      <td>Sun</td>\n",
              "      <td>Dinner</td>\n",
              "      <td>3</td>\n",
              "      <td>3.45</td>\n",
              "      <td>Douglas Tucker</td>\n",
              "      <td>4478071379779230</td>\n",
              "      <td>Sun4608</td>\n",
              "    </tr>\n",
              "    <tr>\n",
              "      <th>2</th>\n",
              "      <td>21.01</td>\n",
              "      <td>3.50</td>\n",
              "      <td>Male</td>\n",
              "      <td>No</td>\n",
              "      <td>Sun</td>\n",
              "      <td>Dinner</td>\n",
              "      <td>3</td>\n",
              "      <td>7.00</td>\n",
              "      <td>Travis Walters</td>\n",
              "      <td>6011812112971322</td>\n",
              "      <td>Sun4458</td>\n",
              "    </tr>\n",
              "    <tr>\n",
              "      <th>3</th>\n",
              "      <td>23.68</td>\n",
              "      <td>3.31</td>\n",
              "      <td>Male</td>\n",
              "      <td>No</td>\n",
              "      <td>Sun</td>\n",
              "      <td>Dinner</td>\n",
              "      <td>2</td>\n",
              "      <td>11.84</td>\n",
              "      <td>Nathaniel Harris</td>\n",
              "      <td>4676137647685994</td>\n",
              "      <td>Sun5260</td>\n",
              "    </tr>\n",
              "    <tr>\n",
              "      <th>4</th>\n",
              "      <td>24.59</td>\n",
              "      <td>3.61</td>\n",
              "      <td>Female</td>\n",
              "      <td>No</td>\n",
              "      <td>Sun</td>\n",
              "      <td>Dinner</td>\n",
              "      <td>4</td>\n",
              "      <td>6.15</td>\n",
              "      <td>Tonya Carter</td>\n",
              "      <td>4832732618637221</td>\n",
              "      <td>Sun2251</td>\n",
              "    </tr>\n",
              "  </tbody>\n",
              "</table>\n",
              "</div>"
            ],
            "text/plain": [
              "   total_bill   tip     sex smoker  day    time  size  price_per_person  \\\n",
              "0       16.99  1.01  Female     No  Sun  Dinner     2              8.49   \n",
              "1       10.34  1.66    Male     No  Sun  Dinner     3              3.45   \n",
              "2       21.01  3.50    Male     No  Sun  Dinner     3              7.00   \n",
              "3       23.68  3.31    Male     No  Sun  Dinner     2             11.84   \n",
              "4       24.59  3.61  Female     No  Sun  Dinner     4              6.15   \n",
              "\n",
              "           Payer Name         CC Number Payment ID  \n",
              "0  Christy Cunningham  3560325168603410    Sun2959  \n",
              "1      Douglas Tucker  4478071379779230    Sun4608  \n",
              "2      Travis Walters  6011812112971322    Sun4458  \n",
              "3    Nathaniel Harris  4676137647685994    Sun5260  \n",
              "4        Tonya Carter  4832732618637221    Sun2251  "
            ]
          },
          "metadata": {
            "tags": []
          },
          "execution_count": 26
        }
      ]
    },
    {
      "cell_type": "code",
      "metadata": {
        "id": "liBA5ws1Kwjb",
        "outputId": "5b07cd91-2da8-4fc9-bfeb-2ad9565de9f2"
      },
      "source": [
        "df[\"total_bill\"]"
      ],
      "execution_count": null,
      "outputs": [
        {
          "output_type": "execute_result",
          "data": {
            "text/plain": [
              "0      16.99\n",
              "1      10.34\n",
              "2      21.01\n",
              "3      23.68\n",
              "4      24.59\n",
              "       ...  \n",
              "239    29.03\n",
              "240    27.18\n",
              "241    22.67\n",
              "242    17.82\n",
              "243    18.78\n",
              "Name: total_bill, Length: 244, dtype: float64"
            ]
          },
          "metadata": {
            "tags": []
          },
          "execution_count": 27
        }
      ]
    },
    {
      "cell_type": "code",
      "metadata": {
        "id": "adkY_0utKwjb",
        "outputId": "10832edf-c5f4-419a-add8-1e7c80374c84"
      },
      "source": [
        "type(df[\"total_bill\"])"
      ],
      "execution_count": null,
      "outputs": [
        {
          "output_type": "execute_result",
          "data": {
            "text/plain": [
              "pandas.core.series.Series"
            ]
          },
          "metadata": {
            "tags": []
          },
          "execution_count": 28
        }
      ]
    },
    {
      "cell_type": "code",
      "metadata": {
        "id": "2Z-6D7xcKwjb",
        "outputId": "2bdc00e3-edb5-4f55-8c03-697909fbee39"
      },
      "source": [
        "mycols = [\"total_bill\",\"tip\"]\n",
        "df[mycols]\n",
        "#df[[\"total_bill\",\"tip\"]]"
      ],
      "execution_count": null,
      "outputs": [
        {
          "output_type": "execute_result",
          "data": {
            "text/html": [
              "<div>\n",
              "<style scoped>\n",
              "    .dataframe tbody tr th:only-of-type {\n",
              "        vertical-align: middle;\n",
              "    }\n",
              "\n",
              "    .dataframe tbody tr th {\n",
              "        vertical-align: top;\n",
              "    }\n",
              "\n",
              "    .dataframe thead th {\n",
              "        text-align: right;\n",
              "    }\n",
              "</style>\n",
              "<table border=\"1\" class=\"dataframe\">\n",
              "  <thead>\n",
              "    <tr style=\"text-align: right;\">\n",
              "      <th></th>\n",
              "      <th>total_bill</th>\n",
              "      <th>tip</th>\n",
              "    </tr>\n",
              "  </thead>\n",
              "  <tbody>\n",
              "    <tr>\n",
              "      <th>0</th>\n",
              "      <td>16.99</td>\n",
              "      <td>1.01</td>\n",
              "    </tr>\n",
              "    <tr>\n",
              "      <th>1</th>\n",
              "      <td>10.34</td>\n",
              "      <td>1.66</td>\n",
              "    </tr>\n",
              "    <tr>\n",
              "      <th>2</th>\n",
              "      <td>21.01</td>\n",
              "      <td>3.50</td>\n",
              "    </tr>\n",
              "    <tr>\n",
              "      <th>3</th>\n",
              "      <td>23.68</td>\n",
              "      <td>3.31</td>\n",
              "    </tr>\n",
              "    <tr>\n",
              "      <th>4</th>\n",
              "      <td>24.59</td>\n",
              "      <td>3.61</td>\n",
              "    </tr>\n",
              "    <tr>\n",
              "      <th>...</th>\n",
              "      <td>...</td>\n",
              "      <td>...</td>\n",
              "    </tr>\n",
              "    <tr>\n",
              "      <th>239</th>\n",
              "      <td>29.03</td>\n",
              "      <td>5.92</td>\n",
              "    </tr>\n",
              "    <tr>\n",
              "      <th>240</th>\n",
              "      <td>27.18</td>\n",
              "      <td>2.00</td>\n",
              "    </tr>\n",
              "    <tr>\n",
              "      <th>241</th>\n",
              "      <td>22.67</td>\n",
              "      <td>2.00</td>\n",
              "    </tr>\n",
              "    <tr>\n",
              "      <th>242</th>\n",
              "      <td>17.82</td>\n",
              "      <td>1.75</td>\n",
              "    </tr>\n",
              "    <tr>\n",
              "      <th>243</th>\n",
              "      <td>18.78</td>\n",
              "      <td>3.00</td>\n",
              "    </tr>\n",
              "  </tbody>\n",
              "</table>\n",
              "<p>244 rows × 2 columns</p>\n",
              "</div>"
            ],
            "text/plain": [
              "     total_bill   tip\n",
              "0         16.99  1.01\n",
              "1         10.34  1.66\n",
              "2         21.01  3.50\n",
              "3         23.68  3.31\n",
              "4         24.59  3.61\n",
              "..          ...   ...\n",
              "239       29.03  5.92\n",
              "240       27.18  2.00\n",
              "241       22.67  2.00\n",
              "242       17.82  1.75\n",
              "243       18.78  3.00\n",
              "\n",
              "[244 rows x 2 columns]"
            ]
          },
          "metadata": {
            "tags": []
          },
          "execution_count": 29
        }
      ]
    },
    {
      "cell_type": "code",
      "metadata": {
        "id": "2LucLJAHKwjb"
      },
      "source": [
        "df[\"tip_percentage\"] = 100 * df[\"tip\"] / df[\"total_bill\"]"
      ],
      "execution_count": null,
      "outputs": []
    },
    {
      "cell_type": "code",
      "metadata": {
        "id": "kKsMGnDDKwjb",
        "outputId": "7dad5459-4c6f-484b-91ae-c43104bec654"
      },
      "source": [
        "df.head()"
      ],
      "execution_count": null,
      "outputs": [
        {
          "output_type": "execute_result",
          "data": {
            "text/html": [
              "<div>\n",
              "<style scoped>\n",
              "    .dataframe tbody tr th:only-of-type {\n",
              "        vertical-align: middle;\n",
              "    }\n",
              "\n",
              "    .dataframe tbody tr th {\n",
              "        vertical-align: top;\n",
              "    }\n",
              "\n",
              "    .dataframe thead th {\n",
              "        text-align: right;\n",
              "    }\n",
              "</style>\n",
              "<table border=\"1\" class=\"dataframe\">\n",
              "  <thead>\n",
              "    <tr style=\"text-align: right;\">\n",
              "      <th></th>\n",
              "      <th>total_bill</th>\n",
              "      <th>tip</th>\n",
              "      <th>sex</th>\n",
              "      <th>smoker</th>\n",
              "      <th>day</th>\n",
              "      <th>time</th>\n",
              "      <th>size</th>\n",
              "      <th>price_per_person</th>\n",
              "      <th>Payer Name</th>\n",
              "      <th>CC Number</th>\n",
              "      <th>Payment ID</th>\n",
              "      <th>tip_percentage</th>\n",
              "    </tr>\n",
              "  </thead>\n",
              "  <tbody>\n",
              "    <tr>\n",
              "      <th>0</th>\n",
              "      <td>16.99</td>\n",
              "      <td>1.01</td>\n",
              "      <td>Female</td>\n",
              "      <td>No</td>\n",
              "      <td>Sun</td>\n",
              "      <td>Dinner</td>\n",
              "      <td>2</td>\n",
              "      <td>8.49</td>\n",
              "      <td>Christy Cunningham</td>\n",
              "      <td>3560325168603410</td>\n",
              "      <td>Sun2959</td>\n",
              "      <td>5.944673</td>\n",
              "    </tr>\n",
              "    <tr>\n",
              "      <th>1</th>\n",
              "      <td>10.34</td>\n",
              "      <td>1.66</td>\n",
              "      <td>Male</td>\n",
              "      <td>No</td>\n",
              "      <td>Sun</td>\n",
              "      <td>Dinner</td>\n",
              "      <td>3</td>\n",
              "      <td>3.45</td>\n",
              "      <td>Douglas Tucker</td>\n",
              "      <td>4478071379779230</td>\n",
              "      <td>Sun4608</td>\n",
              "      <td>16.054159</td>\n",
              "    </tr>\n",
              "    <tr>\n",
              "      <th>2</th>\n",
              "      <td>21.01</td>\n",
              "      <td>3.50</td>\n",
              "      <td>Male</td>\n",
              "      <td>No</td>\n",
              "      <td>Sun</td>\n",
              "      <td>Dinner</td>\n",
              "      <td>3</td>\n",
              "      <td>7.00</td>\n",
              "      <td>Travis Walters</td>\n",
              "      <td>6011812112971322</td>\n",
              "      <td>Sun4458</td>\n",
              "      <td>16.658734</td>\n",
              "    </tr>\n",
              "    <tr>\n",
              "      <th>3</th>\n",
              "      <td>23.68</td>\n",
              "      <td>3.31</td>\n",
              "      <td>Male</td>\n",
              "      <td>No</td>\n",
              "      <td>Sun</td>\n",
              "      <td>Dinner</td>\n",
              "      <td>2</td>\n",
              "      <td>11.84</td>\n",
              "      <td>Nathaniel Harris</td>\n",
              "      <td>4676137647685994</td>\n",
              "      <td>Sun5260</td>\n",
              "      <td>13.978041</td>\n",
              "    </tr>\n",
              "    <tr>\n",
              "      <th>4</th>\n",
              "      <td>24.59</td>\n",
              "      <td>3.61</td>\n",
              "      <td>Female</td>\n",
              "      <td>No</td>\n",
              "      <td>Sun</td>\n",
              "      <td>Dinner</td>\n",
              "      <td>4</td>\n",
              "      <td>6.15</td>\n",
              "      <td>Tonya Carter</td>\n",
              "      <td>4832732618637221</td>\n",
              "      <td>Sun2251</td>\n",
              "      <td>14.680765</td>\n",
              "    </tr>\n",
              "  </tbody>\n",
              "</table>\n",
              "</div>"
            ],
            "text/plain": [
              "   total_bill   tip     sex smoker  day    time  size  price_per_person  \\\n",
              "0       16.99  1.01  Female     No  Sun  Dinner     2              8.49   \n",
              "1       10.34  1.66    Male     No  Sun  Dinner     3              3.45   \n",
              "2       21.01  3.50    Male     No  Sun  Dinner     3              7.00   \n",
              "3       23.68  3.31    Male     No  Sun  Dinner     2             11.84   \n",
              "4       24.59  3.61  Female     No  Sun  Dinner     4              6.15   \n",
              "\n",
              "           Payer Name         CC Number Payment ID  tip_percentage  \n",
              "0  Christy Cunningham  3560325168603410    Sun2959        5.944673  \n",
              "1      Douglas Tucker  4478071379779230    Sun4608       16.054159  \n",
              "2      Travis Walters  6011812112971322    Sun4458       16.658734  \n",
              "3    Nathaniel Harris  4676137647685994    Sun5260       13.978041  \n",
              "4        Tonya Carter  4832732618637221    Sun2251       14.680765  "
            ]
          },
          "metadata": {
            "tags": []
          },
          "execution_count": 31
        }
      ]
    },
    {
      "cell_type": "code",
      "metadata": {
        "id": "DltX1qzGKwjb"
      },
      "source": [
        "df[\"price_per_person\"] = np.round(df[\"total_bill\"] / df[\"size\"],2)"
      ],
      "execution_count": null,
      "outputs": []
    },
    {
      "cell_type": "code",
      "metadata": {
        "id": "rAlfSuCsKwjb",
        "outputId": "0eed129c-543b-406a-bc5c-72f22c25de11"
      },
      "source": [
        "df"
      ],
      "execution_count": null,
      "outputs": [
        {
          "output_type": "execute_result",
          "data": {
            "text/html": [
              "<div>\n",
              "<style scoped>\n",
              "    .dataframe tbody tr th:only-of-type {\n",
              "        vertical-align: middle;\n",
              "    }\n",
              "\n",
              "    .dataframe tbody tr th {\n",
              "        vertical-align: top;\n",
              "    }\n",
              "\n",
              "    .dataframe thead th {\n",
              "        text-align: right;\n",
              "    }\n",
              "</style>\n",
              "<table border=\"1\" class=\"dataframe\">\n",
              "  <thead>\n",
              "    <tr style=\"text-align: right;\">\n",
              "      <th></th>\n",
              "      <th>total_bill</th>\n",
              "      <th>tip</th>\n",
              "      <th>sex</th>\n",
              "      <th>smoker</th>\n",
              "      <th>day</th>\n",
              "      <th>time</th>\n",
              "      <th>size</th>\n",
              "      <th>price_per_person</th>\n",
              "      <th>Payer Name</th>\n",
              "      <th>CC Number</th>\n",
              "      <th>Payment ID</th>\n",
              "      <th>tip_percentage</th>\n",
              "    </tr>\n",
              "  </thead>\n",
              "  <tbody>\n",
              "    <tr>\n",
              "      <th>0</th>\n",
              "      <td>16.99</td>\n",
              "      <td>1.01</td>\n",
              "      <td>Female</td>\n",
              "      <td>No</td>\n",
              "      <td>Sun</td>\n",
              "      <td>Dinner</td>\n",
              "      <td>2</td>\n",
              "      <td>8.49</td>\n",
              "      <td>Christy Cunningham</td>\n",
              "      <td>3560325168603410</td>\n",
              "      <td>Sun2959</td>\n",
              "      <td>5.944673</td>\n",
              "    </tr>\n",
              "    <tr>\n",
              "      <th>1</th>\n",
              "      <td>10.34</td>\n",
              "      <td>1.66</td>\n",
              "      <td>Male</td>\n",
              "      <td>No</td>\n",
              "      <td>Sun</td>\n",
              "      <td>Dinner</td>\n",
              "      <td>3</td>\n",
              "      <td>3.45</td>\n",
              "      <td>Douglas Tucker</td>\n",
              "      <td>4478071379779230</td>\n",
              "      <td>Sun4608</td>\n",
              "      <td>16.054159</td>\n",
              "    </tr>\n",
              "    <tr>\n",
              "      <th>2</th>\n",
              "      <td>21.01</td>\n",
              "      <td>3.50</td>\n",
              "      <td>Male</td>\n",
              "      <td>No</td>\n",
              "      <td>Sun</td>\n",
              "      <td>Dinner</td>\n",
              "      <td>3</td>\n",
              "      <td>7.00</td>\n",
              "      <td>Travis Walters</td>\n",
              "      <td>6011812112971322</td>\n",
              "      <td>Sun4458</td>\n",
              "      <td>16.658734</td>\n",
              "    </tr>\n",
              "    <tr>\n",
              "      <th>3</th>\n",
              "      <td>23.68</td>\n",
              "      <td>3.31</td>\n",
              "      <td>Male</td>\n",
              "      <td>No</td>\n",
              "      <td>Sun</td>\n",
              "      <td>Dinner</td>\n",
              "      <td>2</td>\n",
              "      <td>11.84</td>\n",
              "      <td>Nathaniel Harris</td>\n",
              "      <td>4676137647685994</td>\n",
              "      <td>Sun5260</td>\n",
              "      <td>13.978041</td>\n",
              "    </tr>\n",
              "    <tr>\n",
              "      <th>4</th>\n",
              "      <td>24.59</td>\n",
              "      <td>3.61</td>\n",
              "      <td>Female</td>\n",
              "      <td>No</td>\n",
              "      <td>Sun</td>\n",
              "      <td>Dinner</td>\n",
              "      <td>4</td>\n",
              "      <td>6.15</td>\n",
              "      <td>Tonya Carter</td>\n",
              "      <td>4832732618637221</td>\n",
              "      <td>Sun2251</td>\n",
              "      <td>14.680765</td>\n",
              "    </tr>\n",
              "    <tr>\n",
              "      <th>...</th>\n",
              "      <td>...</td>\n",
              "      <td>...</td>\n",
              "      <td>...</td>\n",
              "      <td>...</td>\n",
              "      <td>...</td>\n",
              "      <td>...</td>\n",
              "      <td>...</td>\n",
              "      <td>...</td>\n",
              "      <td>...</td>\n",
              "      <td>...</td>\n",
              "      <td>...</td>\n",
              "      <td>...</td>\n",
              "    </tr>\n",
              "    <tr>\n",
              "      <th>239</th>\n",
              "      <td>29.03</td>\n",
              "      <td>5.92</td>\n",
              "      <td>Male</td>\n",
              "      <td>No</td>\n",
              "      <td>Sat</td>\n",
              "      <td>Dinner</td>\n",
              "      <td>3</td>\n",
              "      <td>9.68</td>\n",
              "      <td>Michael Avila</td>\n",
              "      <td>5296068606052842</td>\n",
              "      <td>Sat2657</td>\n",
              "      <td>20.392697</td>\n",
              "    </tr>\n",
              "    <tr>\n",
              "      <th>240</th>\n",
              "      <td>27.18</td>\n",
              "      <td>2.00</td>\n",
              "      <td>Female</td>\n",
              "      <td>Yes</td>\n",
              "      <td>Sat</td>\n",
              "      <td>Dinner</td>\n",
              "      <td>2</td>\n",
              "      <td>13.59</td>\n",
              "      <td>Monica Sanders</td>\n",
              "      <td>3506806155565404</td>\n",
              "      <td>Sat1766</td>\n",
              "      <td>7.358352</td>\n",
              "    </tr>\n",
              "    <tr>\n",
              "      <th>241</th>\n",
              "      <td>22.67</td>\n",
              "      <td>2.00</td>\n",
              "      <td>Male</td>\n",
              "      <td>Yes</td>\n",
              "      <td>Sat</td>\n",
              "      <td>Dinner</td>\n",
              "      <td>2</td>\n",
              "      <td>11.34</td>\n",
              "      <td>Keith Wong</td>\n",
              "      <td>6011891618747196</td>\n",
              "      <td>Sat3880</td>\n",
              "      <td>8.822232</td>\n",
              "    </tr>\n",
              "    <tr>\n",
              "      <th>242</th>\n",
              "      <td>17.82</td>\n",
              "      <td>1.75</td>\n",
              "      <td>Male</td>\n",
              "      <td>No</td>\n",
              "      <td>Sat</td>\n",
              "      <td>Dinner</td>\n",
              "      <td>2</td>\n",
              "      <td>8.91</td>\n",
              "      <td>Dennis Dixon</td>\n",
              "      <td>4375220550950</td>\n",
              "      <td>Sat17</td>\n",
              "      <td>9.820426</td>\n",
              "    </tr>\n",
              "    <tr>\n",
              "      <th>243</th>\n",
              "      <td>18.78</td>\n",
              "      <td>3.00</td>\n",
              "      <td>Female</td>\n",
              "      <td>No</td>\n",
              "      <td>Thur</td>\n",
              "      <td>Dinner</td>\n",
              "      <td>2</td>\n",
              "      <td>9.39</td>\n",
              "      <td>Michelle Hardin</td>\n",
              "      <td>3511451626698139</td>\n",
              "      <td>Thur672</td>\n",
              "      <td>15.974441</td>\n",
              "    </tr>\n",
              "  </tbody>\n",
              "</table>\n",
              "<p>244 rows × 12 columns</p>\n",
              "</div>"
            ],
            "text/plain": [
              "     total_bill   tip     sex smoker   day    time  size  price_per_person  \\\n",
              "0         16.99  1.01  Female     No   Sun  Dinner     2              8.49   \n",
              "1         10.34  1.66    Male     No   Sun  Dinner     3              3.45   \n",
              "2         21.01  3.50    Male     No   Sun  Dinner     3              7.00   \n",
              "3         23.68  3.31    Male     No   Sun  Dinner     2             11.84   \n",
              "4         24.59  3.61  Female     No   Sun  Dinner     4              6.15   \n",
              "..          ...   ...     ...    ...   ...     ...   ...               ...   \n",
              "239       29.03  5.92    Male     No   Sat  Dinner     3              9.68   \n",
              "240       27.18  2.00  Female    Yes   Sat  Dinner     2             13.59   \n",
              "241       22.67  2.00    Male    Yes   Sat  Dinner     2             11.34   \n",
              "242       17.82  1.75    Male     No   Sat  Dinner     2              8.91   \n",
              "243       18.78  3.00  Female     No  Thur  Dinner     2              9.39   \n",
              "\n",
              "             Payer Name         CC Number Payment ID  tip_percentage  \n",
              "0    Christy Cunningham  3560325168603410    Sun2959        5.944673  \n",
              "1        Douglas Tucker  4478071379779230    Sun4608       16.054159  \n",
              "2        Travis Walters  6011812112971322    Sun4458       16.658734  \n",
              "3      Nathaniel Harris  4676137647685994    Sun5260       13.978041  \n",
              "4          Tonya Carter  4832732618637221    Sun2251       14.680765  \n",
              "..                  ...               ...        ...             ...  \n",
              "239       Michael Avila  5296068606052842    Sat2657       20.392697  \n",
              "240      Monica Sanders  3506806155565404    Sat1766        7.358352  \n",
              "241          Keith Wong  6011891618747196    Sat3880        8.822232  \n",
              "242        Dennis Dixon     4375220550950      Sat17        9.820426  \n",
              "243     Michelle Hardin  3511451626698139    Thur672       15.974441  \n",
              "\n",
              "[244 rows x 12 columns]"
            ]
          },
          "metadata": {
            "tags": []
          },
          "execution_count": 33
        }
      ]
    },
    {
      "cell_type": "code",
      "metadata": {
        "id": "7mQh0lAJKwjc"
      },
      "source": [
        "df = df.drop(\"tip_percentage\",axis=1)"
      ],
      "execution_count": null,
      "outputs": []
    },
    {
      "cell_type": "code",
      "metadata": {
        "id": "Q_nKrGSgKwjc",
        "outputId": "68f51a68-e0e3-4401-aa7f-fb37d497726c"
      },
      "source": [
        "df.shape"
      ],
      "execution_count": null,
      "outputs": [
        {
          "output_type": "execute_result",
          "data": {
            "text/plain": [
              "(244, 11)"
            ]
          },
          "metadata": {
            "tags": []
          },
          "execution_count": 35
        }
      ]
    },
    {
      "cell_type": "code",
      "metadata": {
        "id": "E4vzBwh3Kwjc"
      },
      "source": [
        "df =  df.set_index(\"Payment ID\")"
      ],
      "execution_count": null,
      "outputs": []
    },
    {
      "cell_type": "code",
      "metadata": {
        "id": "_SI2OTl-Kwjc",
        "outputId": "bbda07e7-364c-4bf5-d3da-cc786774319e"
      },
      "source": [
        "df.head()"
      ],
      "execution_count": null,
      "outputs": [
        {
          "output_type": "execute_result",
          "data": {
            "text/html": [
              "<div>\n",
              "<style scoped>\n",
              "    .dataframe tbody tr th:only-of-type {\n",
              "        vertical-align: middle;\n",
              "    }\n",
              "\n",
              "    .dataframe tbody tr th {\n",
              "        vertical-align: top;\n",
              "    }\n",
              "\n",
              "    .dataframe thead th {\n",
              "        text-align: right;\n",
              "    }\n",
              "</style>\n",
              "<table border=\"1\" class=\"dataframe\">\n",
              "  <thead>\n",
              "    <tr style=\"text-align: right;\">\n",
              "      <th></th>\n",
              "      <th>total_bill</th>\n",
              "      <th>tip</th>\n",
              "      <th>sex</th>\n",
              "      <th>smoker</th>\n",
              "      <th>day</th>\n",
              "      <th>time</th>\n",
              "      <th>size</th>\n",
              "      <th>price_per_person</th>\n",
              "      <th>Payer Name</th>\n",
              "      <th>CC Number</th>\n",
              "    </tr>\n",
              "    <tr>\n",
              "      <th>Payment ID</th>\n",
              "      <th></th>\n",
              "      <th></th>\n",
              "      <th></th>\n",
              "      <th></th>\n",
              "      <th></th>\n",
              "      <th></th>\n",
              "      <th></th>\n",
              "      <th></th>\n",
              "      <th></th>\n",
              "      <th></th>\n",
              "    </tr>\n",
              "  </thead>\n",
              "  <tbody>\n",
              "    <tr>\n",
              "      <th>Sun2959</th>\n",
              "      <td>16.99</td>\n",
              "      <td>1.01</td>\n",
              "      <td>Female</td>\n",
              "      <td>No</td>\n",
              "      <td>Sun</td>\n",
              "      <td>Dinner</td>\n",
              "      <td>2</td>\n",
              "      <td>8.49</td>\n",
              "      <td>Christy Cunningham</td>\n",
              "      <td>3560325168603410</td>\n",
              "    </tr>\n",
              "    <tr>\n",
              "      <th>Sun4608</th>\n",
              "      <td>10.34</td>\n",
              "      <td>1.66</td>\n",
              "      <td>Male</td>\n",
              "      <td>No</td>\n",
              "      <td>Sun</td>\n",
              "      <td>Dinner</td>\n",
              "      <td>3</td>\n",
              "      <td>3.45</td>\n",
              "      <td>Douglas Tucker</td>\n",
              "      <td>4478071379779230</td>\n",
              "    </tr>\n",
              "    <tr>\n",
              "      <th>Sun4458</th>\n",
              "      <td>21.01</td>\n",
              "      <td>3.50</td>\n",
              "      <td>Male</td>\n",
              "      <td>No</td>\n",
              "      <td>Sun</td>\n",
              "      <td>Dinner</td>\n",
              "      <td>3</td>\n",
              "      <td>7.00</td>\n",
              "      <td>Travis Walters</td>\n",
              "      <td>6011812112971322</td>\n",
              "    </tr>\n",
              "    <tr>\n",
              "      <th>Sun5260</th>\n",
              "      <td>23.68</td>\n",
              "      <td>3.31</td>\n",
              "      <td>Male</td>\n",
              "      <td>No</td>\n",
              "      <td>Sun</td>\n",
              "      <td>Dinner</td>\n",
              "      <td>2</td>\n",
              "      <td>11.84</td>\n",
              "      <td>Nathaniel Harris</td>\n",
              "      <td>4676137647685994</td>\n",
              "    </tr>\n",
              "    <tr>\n",
              "      <th>Sun2251</th>\n",
              "      <td>24.59</td>\n",
              "      <td>3.61</td>\n",
              "      <td>Female</td>\n",
              "      <td>No</td>\n",
              "      <td>Sun</td>\n",
              "      <td>Dinner</td>\n",
              "      <td>4</td>\n",
              "      <td>6.15</td>\n",
              "      <td>Tonya Carter</td>\n",
              "      <td>4832732618637221</td>\n",
              "    </tr>\n",
              "  </tbody>\n",
              "</table>\n",
              "</div>"
            ],
            "text/plain": [
              "            total_bill   tip     sex smoker  day    time  size  \\\n",
              "Payment ID                                                       \n",
              "Sun2959          16.99  1.01  Female     No  Sun  Dinner     2   \n",
              "Sun4608          10.34  1.66    Male     No  Sun  Dinner     3   \n",
              "Sun4458          21.01  3.50    Male     No  Sun  Dinner     3   \n",
              "Sun5260          23.68  3.31    Male     No  Sun  Dinner     2   \n",
              "Sun2251          24.59  3.61  Female     No  Sun  Dinner     4   \n",
              "\n",
              "            price_per_person          Payer Name         CC Number  \n",
              "Payment ID                                                          \n",
              "Sun2959                 8.49  Christy Cunningham  3560325168603410  \n",
              "Sun4608                 3.45      Douglas Tucker  4478071379779230  \n",
              "Sun4458                 7.00      Travis Walters  6011812112971322  \n",
              "Sun5260                11.84    Nathaniel Harris  4676137647685994  \n",
              "Sun2251                 6.15        Tonya Carter  4832732618637221  "
            ]
          },
          "metadata": {
            "tags": []
          },
          "execution_count": 37
        }
      ]
    },
    {
      "cell_type": "code",
      "metadata": {
        "id": "3XTLdB_fKwjc",
        "outputId": "b6e932d0-40da-4253-f046-887d3bb900be"
      },
      "source": [
        "df = df.reset_index()\n",
        "df.head()"
      ],
      "execution_count": null,
      "outputs": [
        {
          "output_type": "execute_result",
          "data": {
            "text/html": [
              "<div>\n",
              "<style scoped>\n",
              "    .dataframe tbody tr th:only-of-type {\n",
              "        vertical-align: middle;\n",
              "    }\n",
              "\n",
              "    .dataframe tbody tr th {\n",
              "        vertical-align: top;\n",
              "    }\n",
              "\n",
              "    .dataframe thead th {\n",
              "        text-align: right;\n",
              "    }\n",
              "</style>\n",
              "<table border=\"1\" class=\"dataframe\">\n",
              "  <thead>\n",
              "    <tr style=\"text-align: right;\">\n",
              "      <th></th>\n",
              "      <th>Payment ID</th>\n",
              "      <th>total_bill</th>\n",
              "      <th>tip</th>\n",
              "      <th>sex</th>\n",
              "      <th>smoker</th>\n",
              "      <th>day</th>\n",
              "      <th>time</th>\n",
              "      <th>size</th>\n",
              "      <th>price_per_person</th>\n",
              "      <th>Payer Name</th>\n",
              "      <th>CC Number</th>\n",
              "    </tr>\n",
              "  </thead>\n",
              "  <tbody>\n",
              "    <tr>\n",
              "      <th>0</th>\n",
              "      <td>Sun2959</td>\n",
              "      <td>16.99</td>\n",
              "      <td>1.01</td>\n",
              "      <td>Female</td>\n",
              "      <td>No</td>\n",
              "      <td>Sun</td>\n",
              "      <td>Dinner</td>\n",
              "      <td>2</td>\n",
              "      <td>8.49</td>\n",
              "      <td>Christy Cunningham</td>\n",
              "      <td>3560325168603410</td>\n",
              "    </tr>\n",
              "    <tr>\n",
              "      <th>1</th>\n",
              "      <td>Sun4608</td>\n",
              "      <td>10.34</td>\n",
              "      <td>1.66</td>\n",
              "      <td>Male</td>\n",
              "      <td>No</td>\n",
              "      <td>Sun</td>\n",
              "      <td>Dinner</td>\n",
              "      <td>3</td>\n",
              "      <td>3.45</td>\n",
              "      <td>Douglas Tucker</td>\n",
              "      <td>4478071379779230</td>\n",
              "    </tr>\n",
              "    <tr>\n",
              "      <th>2</th>\n",
              "      <td>Sun4458</td>\n",
              "      <td>21.01</td>\n",
              "      <td>3.50</td>\n",
              "      <td>Male</td>\n",
              "      <td>No</td>\n",
              "      <td>Sun</td>\n",
              "      <td>Dinner</td>\n",
              "      <td>3</td>\n",
              "      <td>7.00</td>\n",
              "      <td>Travis Walters</td>\n",
              "      <td>6011812112971322</td>\n",
              "    </tr>\n",
              "    <tr>\n",
              "      <th>3</th>\n",
              "      <td>Sun5260</td>\n",
              "      <td>23.68</td>\n",
              "      <td>3.31</td>\n",
              "      <td>Male</td>\n",
              "      <td>No</td>\n",
              "      <td>Sun</td>\n",
              "      <td>Dinner</td>\n",
              "      <td>2</td>\n",
              "      <td>11.84</td>\n",
              "      <td>Nathaniel Harris</td>\n",
              "      <td>4676137647685994</td>\n",
              "    </tr>\n",
              "    <tr>\n",
              "      <th>4</th>\n",
              "      <td>Sun2251</td>\n",
              "      <td>24.59</td>\n",
              "      <td>3.61</td>\n",
              "      <td>Female</td>\n",
              "      <td>No</td>\n",
              "      <td>Sun</td>\n",
              "      <td>Dinner</td>\n",
              "      <td>4</td>\n",
              "      <td>6.15</td>\n",
              "      <td>Tonya Carter</td>\n",
              "      <td>4832732618637221</td>\n",
              "    </tr>\n",
              "  </tbody>\n",
              "</table>\n",
              "</div>"
            ],
            "text/plain": [
              "  Payment ID  total_bill   tip     sex smoker  day    time  size  \\\n",
              "0    Sun2959       16.99  1.01  Female     No  Sun  Dinner     2   \n",
              "1    Sun4608       10.34  1.66    Male     No  Sun  Dinner     3   \n",
              "2    Sun4458       21.01  3.50    Male     No  Sun  Dinner     3   \n",
              "3    Sun5260       23.68  3.31    Male     No  Sun  Dinner     2   \n",
              "4    Sun2251       24.59  3.61  Female     No  Sun  Dinner     4   \n",
              "\n",
              "   price_per_person          Payer Name         CC Number  \n",
              "0              8.49  Christy Cunningham  3560325168603410  \n",
              "1              3.45      Douglas Tucker  4478071379779230  \n",
              "2              7.00      Travis Walters  6011812112971322  \n",
              "3             11.84    Nathaniel Harris  4676137647685994  \n",
              "4              6.15        Tonya Carter  4832732618637221  "
            ]
          },
          "metadata": {
            "tags": []
          },
          "execution_count": 38
        }
      ]
    },
    {
      "cell_type": "code",
      "metadata": {
        "id": "SS-X_NN2Kwjc",
        "outputId": "837d9723-e1b0-44b3-dcbf-ad481654c000"
      },
      "source": [
        "df = df.set_index(\"Payment ID\")\n",
        "df.head()"
      ],
      "execution_count": null,
      "outputs": [
        {
          "output_type": "execute_result",
          "data": {
            "text/html": [
              "<div>\n",
              "<style scoped>\n",
              "    .dataframe tbody tr th:only-of-type {\n",
              "        vertical-align: middle;\n",
              "    }\n",
              "\n",
              "    .dataframe tbody tr th {\n",
              "        vertical-align: top;\n",
              "    }\n",
              "\n",
              "    .dataframe thead th {\n",
              "        text-align: right;\n",
              "    }\n",
              "</style>\n",
              "<table border=\"1\" class=\"dataframe\">\n",
              "  <thead>\n",
              "    <tr style=\"text-align: right;\">\n",
              "      <th></th>\n",
              "      <th>total_bill</th>\n",
              "      <th>tip</th>\n",
              "      <th>sex</th>\n",
              "      <th>smoker</th>\n",
              "      <th>day</th>\n",
              "      <th>time</th>\n",
              "      <th>size</th>\n",
              "      <th>price_per_person</th>\n",
              "      <th>Payer Name</th>\n",
              "      <th>CC Number</th>\n",
              "    </tr>\n",
              "    <tr>\n",
              "      <th>Payment ID</th>\n",
              "      <th></th>\n",
              "      <th></th>\n",
              "      <th></th>\n",
              "      <th></th>\n",
              "      <th></th>\n",
              "      <th></th>\n",
              "      <th></th>\n",
              "      <th></th>\n",
              "      <th></th>\n",
              "      <th></th>\n",
              "    </tr>\n",
              "  </thead>\n",
              "  <tbody>\n",
              "    <tr>\n",
              "      <th>Sun2959</th>\n",
              "      <td>16.99</td>\n",
              "      <td>1.01</td>\n",
              "      <td>Female</td>\n",
              "      <td>No</td>\n",
              "      <td>Sun</td>\n",
              "      <td>Dinner</td>\n",
              "      <td>2</td>\n",
              "      <td>8.49</td>\n",
              "      <td>Christy Cunningham</td>\n",
              "      <td>3560325168603410</td>\n",
              "    </tr>\n",
              "    <tr>\n",
              "      <th>Sun4608</th>\n",
              "      <td>10.34</td>\n",
              "      <td>1.66</td>\n",
              "      <td>Male</td>\n",
              "      <td>No</td>\n",
              "      <td>Sun</td>\n",
              "      <td>Dinner</td>\n",
              "      <td>3</td>\n",
              "      <td>3.45</td>\n",
              "      <td>Douglas Tucker</td>\n",
              "      <td>4478071379779230</td>\n",
              "    </tr>\n",
              "    <tr>\n",
              "      <th>Sun4458</th>\n",
              "      <td>21.01</td>\n",
              "      <td>3.50</td>\n",
              "      <td>Male</td>\n",
              "      <td>No</td>\n",
              "      <td>Sun</td>\n",
              "      <td>Dinner</td>\n",
              "      <td>3</td>\n",
              "      <td>7.00</td>\n",
              "      <td>Travis Walters</td>\n",
              "      <td>6011812112971322</td>\n",
              "    </tr>\n",
              "    <tr>\n",
              "      <th>Sun5260</th>\n",
              "      <td>23.68</td>\n",
              "      <td>3.31</td>\n",
              "      <td>Male</td>\n",
              "      <td>No</td>\n",
              "      <td>Sun</td>\n",
              "      <td>Dinner</td>\n",
              "      <td>2</td>\n",
              "      <td>11.84</td>\n",
              "      <td>Nathaniel Harris</td>\n",
              "      <td>4676137647685994</td>\n",
              "    </tr>\n",
              "    <tr>\n",
              "      <th>Sun2251</th>\n",
              "      <td>24.59</td>\n",
              "      <td>3.61</td>\n",
              "      <td>Female</td>\n",
              "      <td>No</td>\n",
              "      <td>Sun</td>\n",
              "      <td>Dinner</td>\n",
              "      <td>4</td>\n",
              "      <td>6.15</td>\n",
              "      <td>Tonya Carter</td>\n",
              "      <td>4832732618637221</td>\n",
              "    </tr>\n",
              "  </tbody>\n",
              "</table>\n",
              "</div>"
            ],
            "text/plain": [
              "            total_bill   tip     sex smoker  day    time  size  \\\n",
              "Payment ID                                                       \n",
              "Sun2959          16.99  1.01  Female     No  Sun  Dinner     2   \n",
              "Sun4608          10.34  1.66    Male     No  Sun  Dinner     3   \n",
              "Sun4458          21.01  3.50    Male     No  Sun  Dinner     3   \n",
              "Sun5260          23.68  3.31    Male     No  Sun  Dinner     2   \n",
              "Sun2251          24.59  3.61  Female     No  Sun  Dinner     4   \n",
              "\n",
              "            price_per_person          Payer Name         CC Number  \n",
              "Payment ID                                                          \n",
              "Sun2959                 8.49  Christy Cunningham  3560325168603410  \n",
              "Sun4608                 3.45      Douglas Tucker  4478071379779230  \n",
              "Sun4458                 7.00      Travis Walters  6011812112971322  \n",
              "Sun5260                11.84    Nathaniel Harris  4676137647685994  \n",
              "Sun2251                 6.15        Tonya Carter  4832732618637221  "
            ]
          },
          "metadata": {
            "tags": []
          },
          "execution_count": 39
        }
      ]
    },
    {
      "cell_type": "code",
      "metadata": {
        "id": "MX2MKwkVKwjc",
        "outputId": "a7027f42-7578-4ccb-f307-29ab5f407beb"
      },
      "source": [
        "df.iloc[0]"
      ],
      "execution_count": null,
      "outputs": [
        {
          "output_type": "execute_result",
          "data": {
            "text/plain": [
              "total_bill                       16.99\n",
              "tip                               1.01\n",
              "sex                             Female\n",
              "smoker                              No\n",
              "day                                Sun\n",
              "time                            Dinner\n",
              "size                                 2\n",
              "price_per_person                  8.49\n",
              "Payer Name          Christy Cunningham\n",
              "CC Number             3560325168603410\n",
              "Name: Sun2959, dtype: object"
            ]
          },
          "metadata": {
            "tags": []
          },
          "execution_count": 40
        }
      ]
    },
    {
      "cell_type": "code",
      "metadata": {
        "id": "GTSLxsTfKwjc",
        "outputId": "07b20b34-328d-4428-d358-5dcb58795139"
      },
      "source": [
        "df.loc[\"Sun2959\"]"
      ],
      "execution_count": null,
      "outputs": [
        {
          "output_type": "execute_result",
          "data": {
            "text/plain": [
              "total_bill                       16.99\n",
              "tip                               1.01\n",
              "sex                             Female\n",
              "smoker                              No\n",
              "day                                Sun\n",
              "time                            Dinner\n",
              "size                                 2\n",
              "price_per_person                  8.49\n",
              "Payer Name          Christy Cunningham\n",
              "CC Number             3560325168603410\n",
              "Name: Sun2959, dtype: object"
            ]
          },
          "metadata": {
            "tags": []
          },
          "execution_count": 41
        }
      ]
    },
    {
      "cell_type": "code",
      "metadata": {
        "id": "mfSUYBrIKwjc",
        "outputId": "453d7842-d31f-40a2-b757-0afdf608672a"
      },
      "source": [
        "df.iloc[0:4]"
      ],
      "execution_count": null,
      "outputs": [
        {
          "output_type": "execute_result",
          "data": {
            "text/html": [
              "<div>\n",
              "<style scoped>\n",
              "    .dataframe tbody tr th:only-of-type {\n",
              "        vertical-align: middle;\n",
              "    }\n",
              "\n",
              "    .dataframe tbody tr th {\n",
              "        vertical-align: top;\n",
              "    }\n",
              "\n",
              "    .dataframe thead th {\n",
              "        text-align: right;\n",
              "    }\n",
              "</style>\n",
              "<table border=\"1\" class=\"dataframe\">\n",
              "  <thead>\n",
              "    <tr style=\"text-align: right;\">\n",
              "      <th></th>\n",
              "      <th>total_bill</th>\n",
              "      <th>tip</th>\n",
              "      <th>sex</th>\n",
              "      <th>smoker</th>\n",
              "      <th>day</th>\n",
              "      <th>time</th>\n",
              "      <th>size</th>\n",
              "      <th>price_per_person</th>\n",
              "      <th>Payer Name</th>\n",
              "      <th>CC Number</th>\n",
              "    </tr>\n",
              "    <tr>\n",
              "      <th>Payment ID</th>\n",
              "      <th></th>\n",
              "      <th></th>\n",
              "      <th></th>\n",
              "      <th></th>\n",
              "      <th></th>\n",
              "      <th></th>\n",
              "      <th></th>\n",
              "      <th></th>\n",
              "      <th></th>\n",
              "      <th></th>\n",
              "    </tr>\n",
              "  </thead>\n",
              "  <tbody>\n",
              "    <tr>\n",
              "      <th>Sun2959</th>\n",
              "      <td>16.99</td>\n",
              "      <td>1.01</td>\n",
              "      <td>Female</td>\n",
              "      <td>No</td>\n",
              "      <td>Sun</td>\n",
              "      <td>Dinner</td>\n",
              "      <td>2</td>\n",
              "      <td>8.49</td>\n",
              "      <td>Christy Cunningham</td>\n",
              "      <td>3560325168603410</td>\n",
              "    </tr>\n",
              "    <tr>\n",
              "      <th>Sun4608</th>\n",
              "      <td>10.34</td>\n",
              "      <td>1.66</td>\n",
              "      <td>Male</td>\n",
              "      <td>No</td>\n",
              "      <td>Sun</td>\n",
              "      <td>Dinner</td>\n",
              "      <td>3</td>\n",
              "      <td>3.45</td>\n",
              "      <td>Douglas Tucker</td>\n",
              "      <td>4478071379779230</td>\n",
              "    </tr>\n",
              "    <tr>\n",
              "      <th>Sun4458</th>\n",
              "      <td>21.01</td>\n",
              "      <td>3.50</td>\n",
              "      <td>Male</td>\n",
              "      <td>No</td>\n",
              "      <td>Sun</td>\n",
              "      <td>Dinner</td>\n",
              "      <td>3</td>\n",
              "      <td>7.00</td>\n",
              "      <td>Travis Walters</td>\n",
              "      <td>6011812112971322</td>\n",
              "    </tr>\n",
              "    <tr>\n",
              "      <th>Sun5260</th>\n",
              "      <td>23.68</td>\n",
              "      <td>3.31</td>\n",
              "      <td>Male</td>\n",
              "      <td>No</td>\n",
              "      <td>Sun</td>\n",
              "      <td>Dinner</td>\n",
              "      <td>2</td>\n",
              "      <td>11.84</td>\n",
              "      <td>Nathaniel Harris</td>\n",
              "      <td>4676137647685994</td>\n",
              "    </tr>\n",
              "  </tbody>\n",
              "</table>\n",
              "</div>"
            ],
            "text/plain": [
              "            total_bill   tip     sex smoker  day    time  size  \\\n",
              "Payment ID                                                       \n",
              "Sun2959          16.99  1.01  Female     No  Sun  Dinner     2   \n",
              "Sun4608          10.34  1.66    Male     No  Sun  Dinner     3   \n",
              "Sun4458          21.01  3.50    Male     No  Sun  Dinner     3   \n",
              "Sun5260          23.68  3.31    Male     No  Sun  Dinner     2   \n",
              "\n",
              "            price_per_person          Payer Name         CC Number  \n",
              "Payment ID                                                          \n",
              "Sun2959                 8.49  Christy Cunningham  3560325168603410  \n",
              "Sun4608                 3.45      Douglas Tucker  4478071379779230  \n",
              "Sun4458                 7.00      Travis Walters  6011812112971322  \n",
              "Sun5260                11.84    Nathaniel Harris  4676137647685994  "
            ]
          },
          "metadata": {
            "tags": []
          },
          "execution_count": 42
        }
      ]
    },
    {
      "cell_type": "code",
      "metadata": {
        "id": "aDa6zN4DKwjc",
        "outputId": "fa03c7bf-7494-4ed5-9ea4-34173bab4e73"
      },
      "source": [
        "df.loc[[\"Sun2959\",\"Sun5260\"]]"
      ],
      "execution_count": null,
      "outputs": [
        {
          "output_type": "execute_result",
          "data": {
            "text/html": [
              "<div>\n",
              "<style scoped>\n",
              "    .dataframe tbody tr th:only-of-type {\n",
              "        vertical-align: middle;\n",
              "    }\n",
              "\n",
              "    .dataframe tbody tr th {\n",
              "        vertical-align: top;\n",
              "    }\n",
              "\n",
              "    .dataframe thead th {\n",
              "        text-align: right;\n",
              "    }\n",
              "</style>\n",
              "<table border=\"1\" class=\"dataframe\">\n",
              "  <thead>\n",
              "    <tr style=\"text-align: right;\">\n",
              "      <th></th>\n",
              "      <th>total_bill</th>\n",
              "      <th>tip</th>\n",
              "      <th>sex</th>\n",
              "      <th>smoker</th>\n",
              "      <th>day</th>\n",
              "      <th>time</th>\n",
              "      <th>size</th>\n",
              "      <th>price_per_person</th>\n",
              "      <th>Payer Name</th>\n",
              "      <th>CC Number</th>\n",
              "    </tr>\n",
              "    <tr>\n",
              "      <th>Payment ID</th>\n",
              "      <th></th>\n",
              "      <th></th>\n",
              "      <th></th>\n",
              "      <th></th>\n",
              "      <th></th>\n",
              "      <th></th>\n",
              "      <th></th>\n",
              "      <th></th>\n",
              "      <th></th>\n",
              "      <th></th>\n",
              "    </tr>\n",
              "  </thead>\n",
              "  <tbody>\n",
              "    <tr>\n",
              "      <th>Sun2959</th>\n",
              "      <td>16.99</td>\n",
              "      <td>1.01</td>\n",
              "      <td>Female</td>\n",
              "      <td>No</td>\n",
              "      <td>Sun</td>\n",
              "      <td>Dinner</td>\n",
              "      <td>2</td>\n",
              "      <td>8.49</td>\n",
              "      <td>Christy Cunningham</td>\n",
              "      <td>3560325168603410</td>\n",
              "    </tr>\n",
              "    <tr>\n",
              "      <th>Sun5260</th>\n",
              "      <td>23.68</td>\n",
              "      <td>3.31</td>\n",
              "      <td>Male</td>\n",
              "      <td>No</td>\n",
              "      <td>Sun</td>\n",
              "      <td>Dinner</td>\n",
              "      <td>2</td>\n",
              "      <td>11.84</td>\n",
              "      <td>Nathaniel Harris</td>\n",
              "      <td>4676137647685994</td>\n",
              "    </tr>\n",
              "  </tbody>\n",
              "</table>\n",
              "</div>"
            ],
            "text/plain": [
              "            total_bill   tip     sex smoker  day    time  size  \\\n",
              "Payment ID                                                       \n",
              "Sun2959          16.99  1.01  Female     No  Sun  Dinner     2   \n",
              "Sun5260          23.68  3.31    Male     No  Sun  Dinner     2   \n",
              "\n",
              "            price_per_person          Payer Name         CC Number  \n",
              "Payment ID                                                          \n",
              "Sun2959                 8.49  Christy Cunningham  3560325168603410  \n",
              "Sun5260                11.84    Nathaniel Harris  4676137647685994  "
            ]
          },
          "metadata": {
            "tags": []
          },
          "execution_count": 43
        }
      ]
    },
    {
      "cell_type": "code",
      "metadata": {
        "id": "7Qsg3oMsKwjc",
        "outputId": "63ab13b6-1683-43ba-9b3f-59ca8870e2d5"
      },
      "source": [
        "df.drop(\"Sun2959\",axis=0) #axis 0 refers row, 1 refers column"
      ],
      "execution_count": null,
      "outputs": [
        {
          "output_type": "execute_result",
          "data": {
            "text/html": [
              "<div>\n",
              "<style scoped>\n",
              "    .dataframe tbody tr th:only-of-type {\n",
              "        vertical-align: middle;\n",
              "    }\n",
              "\n",
              "    .dataframe tbody tr th {\n",
              "        vertical-align: top;\n",
              "    }\n",
              "\n",
              "    .dataframe thead th {\n",
              "        text-align: right;\n",
              "    }\n",
              "</style>\n",
              "<table border=\"1\" class=\"dataframe\">\n",
              "  <thead>\n",
              "    <tr style=\"text-align: right;\">\n",
              "      <th></th>\n",
              "      <th>total_bill</th>\n",
              "      <th>tip</th>\n",
              "      <th>sex</th>\n",
              "      <th>smoker</th>\n",
              "      <th>day</th>\n",
              "      <th>time</th>\n",
              "      <th>size</th>\n",
              "      <th>price_per_person</th>\n",
              "      <th>Payer Name</th>\n",
              "      <th>CC Number</th>\n",
              "    </tr>\n",
              "    <tr>\n",
              "      <th>Payment ID</th>\n",
              "      <th></th>\n",
              "      <th></th>\n",
              "      <th></th>\n",
              "      <th></th>\n",
              "      <th></th>\n",
              "      <th></th>\n",
              "      <th></th>\n",
              "      <th></th>\n",
              "      <th></th>\n",
              "      <th></th>\n",
              "    </tr>\n",
              "  </thead>\n",
              "  <tbody>\n",
              "    <tr>\n",
              "      <th>Sun4608</th>\n",
              "      <td>10.34</td>\n",
              "      <td>1.66</td>\n",
              "      <td>Male</td>\n",
              "      <td>No</td>\n",
              "      <td>Sun</td>\n",
              "      <td>Dinner</td>\n",
              "      <td>3</td>\n",
              "      <td>3.45</td>\n",
              "      <td>Douglas Tucker</td>\n",
              "      <td>4478071379779230</td>\n",
              "    </tr>\n",
              "    <tr>\n",
              "      <th>Sun4458</th>\n",
              "      <td>21.01</td>\n",
              "      <td>3.50</td>\n",
              "      <td>Male</td>\n",
              "      <td>No</td>\n",
              "      <td>Sun</td>\n",
              "      <td>Dinner</td>\n",
              "      <td>3</td>\n",
              "      <td>7.00</td>\n",
              "      <td>Travis Walters</td>\n",
              "      <td>6011812112971322</td>\n",
              "    </tr>\n",
              "    <tr>\n",
              "      <th>Sun5260</th>\n",
              "      <td>23.68</td>\n",
              "      <td>3.31</td>\n",
              "      <td>Male</td>\n",
              "      <td>No</td>\n",
              "      <td>Sun</td>\n",
              "      <td>Dinner</td>\n",
              "      <td>2</td>\n",
              "      <td>11.84</td>\n",
              "      <td>Nathaniel Harris</td>\n",
              "      <td>4676137647685994</td>\n",
              "    </tr>\n",
              "    <tr>\n",
              "      <th>Sun2251</th>\n",
              "      <td>24.59</td>\n",
              "      <td>3.61</td>\n",
              "      <td>Female</td>\n",
              "      <td>No</td>\n",
              "      <td>Sun</td>\n",
              "      <td>Dinner</td>\n",
              "      <td>4</td>\n",
              "      <td>6.15</td>\n",
              "      <td>Tonya Carter</td>\n",
              "      <td>4832732618637221</td>\n",
              "    </tr>\n",
              "    <tr>\n",
              "      <th>Sun9679</th>\n",
              "      <td>25.29</td>\n",
              "      <td>4.71</td>\n",
              "      <td>Male</td>\n",
              "      <td>No</td>\n",
              "      <td>Sun</td>\n",
              "      <td>Dinner</td>\n",
              "      <td>4</td>\n",
              "      <td>6.32</td>\n",
              "      <td>Erik Smith</td>\n",
              "      <td>213140353657882</td>\n",
              "    </tr>\n",
              "    <tr>\n",
              "      <th>...</th>\n",
              "      <td>...</td>\n",
              "      <td>...</td>\n",
              "      <td>...</td>\n",
              "      <td>...</td>\n",
              "      <td>...</td>\n",
              "      <td>...</td>\n",
              "      <td>...</td>\n",
              "      <td>...</td>\n",
              "      <td>...</td>\n",
              "      <td>...</td>\n",
              "    </tr>\n",
              "    <tr>\n",
              "      <th>Sat2657</th>\n",
              "      <td>29.03</td>\n",
              "      <td>5.92</td>\n",
              "      <td>Male</td>\n",
              "      <td>No</td>\n",
              "      <td>Sat</td>\n",
              "      <td>Dinner</td>\n",
              "      <td>3</td>\n",
              "      <td>9.68</td>\n",
              "      <td>Michael Avila</td>\n",
              "      <td>5296068606052842</td>\n",
              "    </tr>\n",
              "    <tr>\n",
              "      <th>Sat1766</th>\n",
              "      <td>27.18</td>\n",
              "      <td>2.00</td>\n",
              "      <td>Female</td>\n",
              "      <td>Yes</td>\n",
              "      <td>Sat</td>\n",
              "      <td>Dinner</td>\n",
              "      <td>2</td>\n",
              "      <td>13.59</td>\n",
              "      <td>Monica Sanders</td>\n",
              "      <td>3506806155565404</td>\n",
              "    </tr>\n",
              "    <tr>\n",
              "      <th>Sat3880</th>\n",
              "      <td>22.67</td>\n",
              "      <td>2.00</td>\n",
              "      <td>Male</td>\n",
              "      <td>Yes</td>\n",
              "      <td>Sat</td>\n",
              "      <td>Dinner</td>\n",
              "      <td>2</td>\n",
              "      <td>11.34</td>\n",
              "      <td>Keith Wong</td>\n",
              "      <td>6011891618747196</td>\n",
              "    </tr>\n",
              "    <tr>\n",
              "      <th>Sat17</th>\n",
              "      <td>17.82</td>\n",
              "      <td>1.75</td>\n",
              "      <td>Male</td>\n",
              "      <td>No</td>\n",
              "      <td>Sat</td>\n",
              "      <td>Dinner</td>\n",
              "      <td>2</td>\n",
              "      <td>8.91</td>\n",
              "      <td>Dennis Dixon</td>\n",
              "      <td>4375220550950</td>\n",
              "    </tr>\n",
              "    <tr>\n",
              "      <th>Thur672</th>\n",
              "      <td>18.78</td>\n",
              "      <td>3.00</td>\n",
              "      <td>Female</td>\n",
              "      <td>No</td>\n",
              "      <td>Thur</td>\n",
              "      <td>Dinner</td>\n",
              "      <td>2</td>\n",
              "      <td>9.39</td>\n",
              "      <td>Michelle Hardin</td>\n",
              "      <td>3511451626698139</td>\n",
              "    </tr>\n",
              "  </tbody>\n",
              "</table>\n",
              "<p>243 rows × 10 columns</p>\n",
              "</div>"
            ],
            "text/plain": [
              "            total_bill   tip     sex smoker   day    time  size  \\\n",
              "Payment ID                                                        \n",
              "Sun4608          10.34  1.66    Male     No   Sun  Dinner     3   \n",
              "Sun4458          21.01  3.50    Male     No   Sun  Dinner     3   \n",
              "Sun5260          23.68  3.31    Male     No   Sun  Dinner     2   \n",
              "Sun2251          24.59  3.61  Female     No   Sun  Dinner     4   \n",
              "Sun9679          25.29  4.71    Male     No   Sun  Dinner     4   \n",
              "...                ...   ...     ...    ...   ...     ...   ...   \n",
              "Sat2657          29.03  5.92    Male     No   Sat  Dinner     3   \n",
              "Sat1766          27.18  2.00  Female    Yes   Sat  Dinner     2   \n",
              "Sat3880          22.67  2.00    Male    Yes   Sat  Dinner     2   \n",
              "Sat17            17.82  1.75    Male     No   Sat  Dinner     2   \n",
              "Thur672          18.78  3.00  Female     No  Thur  Dinner     2   \n",
              "\n",
              "            price_per_person        Payer Name         CC Number  \n",
              "Payment ID                                                        \n",
              "Sun4608                 3.45    Douglas Tucker  4478071379779230  \n",
              "Sun4458                 7.00    Travis Walters  6011812112971322  \n",
              "Sun5260                11.84  Nathaniel Harris  4676137647685994  \n",
              "Sun2251                 6.15      Tonya Carter  4832732618637221  \n",
              "Sun9679                 6.32        Erik Smith   213140353657882  \n",
              "...                      ...               ...               ...  \n",
              "Sat2657                 9.68     Michael Avila  5296068606052842  \n",
              "Sat1766                13.59    Monica Sanders  3506806155565404  \n",
              "Sat3880                11.34        Keith Wong  6011891618747196  \n",
              "Sat17                   8.91      Dennis Dixon     4375220550950  \n",
              "Thur672                 9.39   Michelle Hardin  3511451626698139  \n",
              "\n",
              "[243 rows x 10 columns]"
            ]
          },
          "metadata": {
            "tags": []
          },
          "execution_count": 44
        }
      ]
    },
    {
      "cell_type": "code",
      "metadata": {
        "id": "iOm6B-H3Kwjc",
        "outputId": "75edb5f4-1654-414c-9c40-4be9a885aa22"
      },
      "source": [
        "one_row = df.iloc[0]\n",
        "one_row"
      ],
      "execution_count": null,
      "outputs": [
        {
          "output_type": "execute_result",
          "data": {
            "text/plain": [
              "total_bill                       16.99\n",
              "tip                               1.01\n",
              "sex                             Female\n",
              "smoker                              No\n",
              "day                                Sun\n",
              "time                            Dinner\n",
              "size                                 2\n",
              "price_per_person                  8.49\n",
              "Payer Name          Christy Cunningham\n",
              "CC Number             3560325168603410\n",
              "Name: Sun2959, dtype: object"
            ]
          },
          "metadata": {
            "tags": []
          },
          "execution_count": 45
        }
      ]
    },
    {
      "cell_type": "code",
      "metadata": {
        "id": "r5REApbsKwjc",
        "outputId": "20dad5a5-05e0-4994-9e07-603b8b866f26"
      },
      "source": [
        "df.append(one_row)"
      ],
      "execution_count": null,
      "outputs": [
        {
          "output_type": "execute_result",
          "data": {
            "text/html": [
              "<div>\n",
              "<style scoped>\n",
              "    .dataframe tbody tr th:only-of-type {\n",
              "        vertical-align: middle;\n",
              "    }\n",
              "\n",
              "    .dataframe tbody tr th {\n",
              "        vertical-align: top;\n",
              "    }\n",
              "\n",
              "    .dataframe thead th {\n",
              "        text-align: right;\n",
              "    }\n",
              "</style>\n",
              "<table border=\"1\" class=\"dataframe\">\n",
              "  <thead>\n",
              "    <tr style=\"text-align: right;\">\n",
              "      <th></th>\n",
              "      <th>total_bill</th>\n",
              "      <th>tip</th>\n",
              "      <th>sex</th>\n",
              "      <th>smoker</th>\n",
              "      <th>day</th>\n",
              "      <th>time</th>\n",
              "      <th>size</th>\n",
              "      <th>price_per_person</th>\n",
              "      <th>Payer Name</th>\n",
              "      <th>CC Number</th>\n",
              "    </tr>\n",
              "    <tr>\n",
              "      <th>Payment ID</th>\n",
              "      <th></th>\n",
              "      <th></th>\n",
              "      <th></th>\n",
              "      <th></th>\n",
              "      <th></th>\n",
              "      <th></th>\n",
              "      <th></th>\n",
              "      <th></th>\n",
              "      <th></th>\n",
              "      <th></th>\n",
              "    </tr>\n",
              "  </thead>\n",
              "  <tbody>\n",
              "    <tr>\n",
              "      <th>Sun2959</th>\n",
              "      <td>16.99</td>\n",
              "      <td>1.01</td>\n",
              "      <td>Female</td>\n",
              "      <td>No</td>\n",
              "      <td>Sun</td>\n",
              "      <td>Dinner</td>\n",
              "      <td>2</td>\n",
              "      <td>8.49</td>\n",
              "      <td>Christy Cunningham</td>\n",
              "      <td>3560325168603410</td>\n",
              "    </tr>\n",
              "    <tr>\n",
              "      <th>Sun4608</th>\n",
              "      <td>10.34</td>\n",
              "      <td>1.66</td>\n",
              "      <td>Male</td>\n",
              "      <td>No</td>\n",
              "      <td>Sun</td>\n",
              "      <td>Dinner</td>\n",
              "      <td>3</td>\n",
              "      <td>3.45</td>\n",
              "      <td>Douglas Tucker</td>\n",
              "      <td>4478071379779230</td>\n",
              "    </tr>\n",
              "    <tr>\n",
              "      <th>Sun4458</th>\n",
              "      <td>21.01</td>\n",
              "      <td>3.50</td>\n",
              "      <td>Male</td>\n",
              "      <td>No</td>\n",
              "      <td>Sun</td>\n",
              "      <td>Dinner</td>\n",
              "      <td>3</td>\n",
              "      <td>7.00</td>\n",
              "      <td>Travis Walters</td>\n",
              "      <td>6011812112971322</td>\n",
              "    </tr>\n",
              "    <tr>\n",
              "      <th>Sun5260</th>\n",
              "      <td>23.68</td>\n",
              "      <td>3.31</td>\n",
              "      <td>Male</td>\n",
              "      <td>No</td>\n",
              "      <td>Sun</td>\n",
              "      <td>Dinner</td>\n",
              "      <td>2</td>\n",
              "      <td>11.84</td>\n",
              "      <td>Nathaniel Harris</td>\n",
              "      <td>4676137647685994</td>\n",
              "    </tr>\n",
              "    <tr>\n",
              "      <th>Sun2251</th>\n",
              "      <td>24.59</td>\n",
              "      <td>3.61</td>\n",
              "      <td>Female</td>\n",
              "      <td>No</td>\n",
              "      <td>Sun</td>\n",
              "      <td>Dinner</td>\n",
              "      <td>4</td>\n",
              "      <td>6.15</td>\n",
              "      <td>Tonya Carter</td>\n",
              "      <td>4832732618637221</td>\n",
              "    </tr>\n",
              "    <tr>\n",
              "      <th>...</th>\n",
              "      <td>...</td>\n",
              "      <td>...</td>\n",
              "      <td>...</td>\n",
              "      <td>...</td>\n",
              "      <td>...</td>\n",
              "      <td>...</td>\n",
              "      <td>...</td>\n",
              "      <td>...</td>\n",
              "      <td>...</td>\n",
              "      <td>...</td>\n",
              "    </tr>\n",
              "    <tr>\n",
              "      <th>Sat1766</th>\n",
              "      <td>27.18</td>\n",
              "      <td>2.00</td>\n",
              "      <td>Female</td>\n",
              "      <td>Yes</td>\n",
              "      <td>Sat</td>\n",
              "      <td>Dinner</td>\n",
              "      <td>2</td>\n",
              "      <td>13.59</td>\n",
              "      <td>Monica Sanders</td>\n",
              "      <td>3506806155565404</td>\n",
              "    </tr>\n",
              "    <tr>\n",
              "      <th>Sat3880</th>\n",
              "      <td>22.67</td>\n",
              "      <td>2.00</td>\n",
              "      <td>Male</td>\n",
              "      <td>Yes</td>\n",
              "      <td>Sat</td>\n",
              "      <td>Dinner</td>\n",
              "      <td>2</td>\n",
              "      <td>11.34</td>\n",
              "      <td>Keith Wong</td>\n",
              "      <td>6011891618747196</td>\n",
              "    </tr>\n",
              "    <tr>\n",
              "      <th>Sat17</th>\n",
              "      <td>17.82</td>\n",
              "      <td>1.75</td>\n",
              "      <td>Male</td>\n",
              "      <td>No</td>\n",
              "      <td>Sat</td>\n",
              "      <td>Dinner</td>\n",
              "      <td>2</td>\n",
              "      <td>8.91</td>\n",
              "      <td>Dennis Dixon</td>\n",
              "      <td>4375220550950</td>\n",
              "    </tr>\n",
              "    <tr>\n",
              "      <th>Thur672</th>\n",
              "      <td>18.78</td>\n",
              "      <td>3.00</td>\n",
              "      <td>Female</td>\n",
              "      <td>No</td>\n",
              "      <td>Thur</td>\n",
              "      <td>Dinner</td>\n",
              "      <td>2</td>\n",
              "      <td>9.39</td>\n",
              "      <td>Michelle Hardin</td>\n",
              "      <td>3511451626698139</td>\n",
              "    </tr>\n",
              "    <tr>\n",
              "      <th>Sun2959</th>\n",
              "      <td>16.99</td>\n",
              "      <td>1.01</td>\n",
              "      <td>Female</td>\n",
              "      <td>No</td>\n",
              "      <td>Sun</td>\n",
              "      <td>Dinner</td>\n",
              "      <td>2</td>\n",
              "      <td>8.49</td>\n",
              "      <td>Christy Cunningham</td>\n",
              "      <td>3560325168603410</td>\n",
              "    </tr>\n",
              "  </tbody>\n",
              "</table>\n",
              "<p>245 rows × 10 columns</p>\n",
              "</div>"
            ],
            "text/plain": [
              "            total_bill   tip     sex smoker   day    time  size  \\\n",
              "Payment ID                                                        \n",
              "Sun2959          16.99  1.01  Female     No   Sun  Dinner     2   \n",
              "Sun4608          10.34  1.66    Male     No   Sun  Dinner     3   \n",
              "Sun4458          21.01  3.50    Male     No   Sun  Dinner     3   \n",
              "Sun5260          23.68  3.31    Male     No   Sun  Dinner     2   \n",
              "Sun2251          24.59  3.61  Female     No   Sun  Dinner     4   \n",
              "...                ...   ...     ...    ...   ...     ...   ...   \n",
              "Sat1766          27.18  2.00  Female    Yes   Sat  Dinner     2   \n",
              "Sat3880          22.67  2.00    Male    Yes   Sat  Dinner     2   \n",
              "Sat17            17.82  1.75    Male     No   Sat  Dinner     2   \n",
              "Thur672          18.78  3.00  Female     No  Thur  Dinner     2   \n",
              "Sun2959          16.99  1.01  Female     No   Sun  Dinner     2   \n",
              "\n",
              "            price_per_person          Payer Name         CC Number  \n",
              "Payment ID                                                          \n",
              "Sun2959                 8.49  Christy Cunningham  3560325168603410  \n",
              "Sun4608                 3.45      Douglas Tucker  4478071379779230  \n",
              "Sun4458                 7.00      Travis Walters  6011812112971322  \n",
              "Sun5260                11.84    Nathaniel Harris  4676137647685994  \n",
              "Sun2251                 6.15        Tonya Carter  4832732618637221  \n",
              "...                      ...                 ...               ...  \n",
              "Sat1766                13.59      Monica Sanders  3506806155565404  \n",
              "Sat3880                11.34          Keith Wong  6011891618747196  \n",
              "Sat17                   8.91        Dennis Dixon     4375220550950  \n",
              "Thur672                 9.39     Michelle Hardin  3511451626698139  \n",
              "Sun2959                 8.49  Christy Cunningham  3560325168603410  \n",
              "\n",
              "[245 rows x 10 columns]"
            ]
          },
          "metadata": {
            "tags": []
          },
          "execution_count": 46
        }
      ]
    },
    {
      "cell_type": "markdown",
      "metadata": {
        "id": "vZtqqCaWKwjc"
      },
      "source": [
        "# Conditional Filtering"
      ]
    },
    {
      "cell_type": "code",
      "metadata": {
        "id": "JNaC8lcbKwjc",
        "outputId": "9a0c7834-3dca-4be6-e3eb-a5b9e1d3dcd5"
      },
      "source": [
        "df = pd.read_csv(\"https://raw.githubusercontent.com/sunnyyashu178/DataScience-Projects/master/Datasets/tips.csv\")\n",
        "df.head()"
      ],
      "execution_count": null,
      "outputs": [
        {
          "output_type": "execute_result",
          "data": {
            "text/html": [
              "<div>\n",
              "<style scoped>\n",
              "    .dataframe tbody tr th:only-of-type {\n",
              "        vertical-align: middle;\n",
              "    }\n",
              "\n",
              "    .dataframe tbody tr th {\n",
              "        vertical-align: top;\n",
              "    }\n",
              "\n",
              "    .dataframe thead th {\n",
              "        text-align: right;\n",
              "    }\n",
              "</style>\n",
              "<table border=\"1\" class=\"dataframe\">\n",
              "  <thead>\n",
              "    <tr style=\"text-align: right;\">\n",
              "      <th></th>\n",
              "      <th>total_bill</th>\n",
              "      <th>tip</th>\n",
              "      <th>sex</th>\n",
              "      <th>smoker</th>\n",
              "      <th>day</th>\n",
              "      <th>time</th>\n",
              "      <th>size</th>\n",
              "      <th>price_per_person</th>\n",
              "      <th>Payer Name</th>\n",
              "      <th>CC Number</th>\n",
              "      <th>Payment ID</th>\n",
              "    </tr>\n",
              "  </thead>\n",
              "  <tbody>\n",
              "    <tr>\n",
              "      <th>0</th>\n",
              "      <td>16.99</td>\n",
              "      <td>1.01</td>\n",
              "      <td>Female</td>\n",
              "      <td>No</td>\n",
              "      <td>Sun</td>\n",
              "      <td>Dinner</td>\n",
              "      <td>2</td>\n",
              "      <td>8.49</td>\n",
              "      <td>Christy Cunningham</td>\n",
              "      <td>3560325168603410</td>\n",
              "      <td>Sun2959</td>\n",
              "    </tr>\n",
              "    <tr>\n",
              "      <th>1</th>\n",
              "      <td>10.34</td>\n",
              "      <td>1.66</td>\n",
              "      <td>Male</td>\n",
              "      <td>No</td>\n",
              "      <td>Sun</td>\n",
              "      <td>Dinner</td>\n",
              "      <td>3</td>\n",
              "      <td>3.45</td>\n",
              "      <td>Douglas Tucker</td>\n",
              "      <td>4478071379779230</td>\n",
              "      <td>Sun4608</td>\n",
              "    </tr>\n",
              "    <tr>\n",
              "      <th>2</th>\n",
              "      <td>21.01</td>\n",
              "      <td>3.50</td>\n",
              "      <td>Male</td>\n",
              "      <td>No</td>\n",
              "      <td>Sun</td>\n",
              "      <td>Dinner</td>\n",
              "      <td>3</td>\n",
              "      <td>7.00</td>\n",
              "      <td>Travis Walters</td>\n",
              "      <td>6011812112971322</td>\n",
              "      <td>Sun4458</td>\n",
              "    </tr>\n",
              "    <tr>\n",
              "      <th>3</th>\n",
              "      <td>23.68</td>\n",
              "      <td>3.31</td>\n",
              "      <td>Male</td>\n",
              "      <td>No</td>\n",
              "      <td>Sun</td>\n",
              "      <td>Dinner</td>\n",
              "      <td>2</td>\n",
              "      <td>11.84</td>\n",
              "      <td>Nathaniel Harris</td>\n",
              "      <td>4676137647685994</td>\n",
              "      <td>Sun5260</td>\n",
              "    </tr>\n",
              "    <tr>\n",
              "      <th>4</th>\n",
              "      <td>24.59</td>\n",
              "      <td>3.61</td>\n",
              "      <td>Female</td>\n",
              "      <td>No</td>\n",
              "      <td>Sun</td>\n",
              "      <td>Dinner</td>\n",
              "      <td>4</td>\n",
              "      <td>6.15</td>\n",
              "      <td>Tonya Carter</td>\n",
              "      <td>4832732618637221</td>\n",
              "      <td>Sun2251</td>\n",
              "    </tr>\n",
              "  </tbody>\n",
              "</table>\n",
              "</div>"
            ],
            "text/plain": [
              "   total_bill   tip     sex smoker  day    time  size  price_per_person  \\\n",
              "0       16.99  1.01  Female     No  Sun  Dinner     2              8.49   \n",
              "1       10.34  1.66    Male     No  Sun  Dinner     3              3.45   \n",
              "2       21.01  3.50    Male     No  Sun  Dinner     3              7.00   \n",
              "3       23.68  3.31    Male     No  Sun  Dinner     2             11.84   \n",
              "4       24.59  3.61  Female     No  Sun  Dinner     4              6.15   \n",
              "\n",
              "           Payer Name         CC Number Payment ID  \n",
              "0  Christy Cunningham  3560325168603410    Sun2959  \n",
              "1      Douglas Tucker  4478071379779230    Sun4608  \n",
              "2      Travis Walters  6011812112971322    Sun4458  \n",
              "3    Nathaniel Harris  4676137647685994    Sun5260  \n",
              "4        Tonya Carter  4832732618637221    Sun2251  "
            ]
          },
          "metadata": {
            "tags": []
          },
          "execution_count": 514
        }
      ]
    },
    {
      "cell_type": "code",
      "metadata": {
        "id": "8fTCtknwKwjc",
        "outputId": "6c2d9fa6-3d7c-4500-8aa7-5971d4d995d2"
      },
      "source": [
        "# it returns boolean values for the values >40\n",
        "df[\"total_bill\"] > 40 # <,>,!=,=="
      ],
      "execution_count": null,
      "outputs": [
        {
          "output_type": "execute_result",
          "data": {
            "text/plain": [
              "0      False\n",
              "1      False\n",
              "2      False\n",
              "3      False\n",
              "4      False\n",
              "       ...  \n",
              "239    False\n",
              "240    False\n",
              "241    False\n",
              "242    False\n",
              "243    False\n",
              "Name: total_bill, Length: 244, dtype: bool"
            ]
          },
          "metadata": {
            "tags": []
          },
          "execution_count": 48
        }
      ]
    },
    {
      "cell_type": "code",
      "metadata": {
        "id": "NpsMEO76Kwjc",
        "outputId": "49631363-2e5b-4998-ac66-be37519d638e"
      },
      "source": [
        "# to show the values that are >40\n",
        "df[df[\"total_bill\"]>40]"
      ],
      "execution_count": null,
      "outputs": [
        {
          "output_type": "execute_result",
          "data": {
            "text/html": [
              "<div>\n",
              "<style scoped>\n",
              "    .dataframe tbody tr th:only-of-type {\n",
              "        vertical-align: middle;\n",
              "    }\n",
              "\n",
              "    .dataframe tbody tr th {\n",
              "        vertical-align: top;\n",
              "    }\n",
              "\n",
              "    .dataframe thead th {\n",
              "        text-align: right;\n",
              "    }\n",
              "</style>\n",
              "<table border=\"1\" class=\"dataframe\">\n",
              "  <thead>\n",
              "    <tr style=\"text-align: right;\">\n",
              "      <th></th>\n",
              "      <th>total_bill</th>\n",
              "      <th>tip</th>\n",
              "      <th>sex</th>\n",
              "      <th>smoker</th>\n",
              "      <th>day</th>\n",
              "      <th>time</th>\n",
              "      <th>size</th>\n",
              "      <th>price_per_person</th>\n",
              "      <th>Payer Name</th>\n",
              "      <th>CC Number</th>\n",
              "      <th>Payment ID</th>\n",
              "    </tr>\n",
              "  </thead>\n",
              "  <tbody>\n",
              "    <tr>\n",
              "      <th>59</th>\n",
              "      <td>48.27</td>\n",
              "      <td>6.73</td>\n",
              "      <td>Male</td>\n",
              "      <td>No</td>\n",
              "      <td>Sat</td>\n",
              "      <td>Dinner</td>\n",
              "      <td>4</td>\n",
              "      <td>12.07</td>\n",
              "      <td>Brian Ortiz</td>\n",
              "      <td>6596453823950595</td>\n",
              "      <td>Sat8139</td>\n",
              "    </tr>\n",
              "    <tr>\n",
              "      <th>95</th>\n",
              "      <td>40.17</td>\n",
              "      <td>4.73</td>\n",
              "      <td>Male</td>\n",
              "      <td>Yes</td>\n",
              "      <td>Fri</td>\n",
              "      <td>Dinner</td>\n",
              "      <td>4</td>\n",
              "      <td>10.04</td>\n",
              "      <td>Aaron Bentley</td>\n",
              "      <td>180026611638690</td>\n",
              "      <td>Fri9628</td>\n",
              "    </tr>\n",
              "    <tr>\n",
              "      <th>102</th>\n",
              "      <td>44.30</td>\n",
              "      <td>2.50</td>\n",
              "      <td>Female</td>\n",
              "      <td>Yes</td>\n",
              "      <td>Sat</td>\n",
              "      <td>Dinner</td>\n",
              "      <td>3</td>\n",
              "      <td>14.77</td>\n",
              "      <td>Heather Cohen</td>\n",
              "      <td>379771118886604</td>\n",
              "      <td>Sat6240</td>\n",
              "    </tr>\n",
              "    <tr>\n",
              "      <th>142</th>\n",
              "      <td>41.19</td>\n",
              "      <td>5.00</td>\n",
              "      <td>Male</td>\n",
              "      <td>No</td>\n",
              "      <td>Thur</td>\n",
              "      <td>Lunch</td>\n",
              "      <td>5</td>\n",
              "      <td>8.24</td>\n",
              "      <td>Eric Andrews</td>\n",
              "      <td>4356531761046453</td>\n",
              "      <td>Thur3621</td>\n",
              "    </tr>\n",
              "    <tr>\n",
              "      <th>156</th>\n",
              "      <td>48.17</td>\n",
              "      <td>5.00</td>\n",
              "      <td>Male</td>\n",
              "      <td>No</td>\n",
              "      <td>Sun</td>\n",
              "      <td>Dinner</td>\n",
              "      <td>6</td>\n",
              "      <td>8.03</td>\n",
              "      <td>Ryan Gonzales</td>\n",
              "      <td>3523151482063321</td>\n",
              "      <td>Sun7518</td>\n",
              "    </tr>\n",
              "    <tr>\n",
              "      <th>170</th>\n",
              "      <td>50.81</td>\n",
              "      <td>10.00</td>\n",
              "      <td>Male</td>\n",
              "      <td>Yes</td>\n",
              "      <td>Sat</td>\n",
              "      <td>Dinner</td>\n",
              "      <td>3</td>\n",
              "      <td>16.94</td>\n",
              "      <td>Gregory Clark</td>\n",
              "      <td>5473850968388236</td>\n",
              "      <td>Sat1954</td>\n",
              "    </tr>\n",
              "    <tr>\n",
              "      <th>182</th>\n",
              "      <td>45.35</td>\n",
              "      <td>3.50</td>\n",
              "      <td>Male</td>\n",
              "      <td>Yes</td>\n",
              "      <td>Sun</td>\n",
              "      <td>Dinner</td>\n",
              "      <td>3</td>\n",
              "      <td>15.12</td>\n",
              "      <td>Jose Parsons</td>\n",
              "      <td>4112207559459910</td>\n",
              "      <td>Sun2337</td>\n",
              "    </tr>\n",
              "    <tr>\n",
              "      <th>184</th>\n",
              "      <td>40.55</td>\n",
              "      <td>3.00</td>\n",
              "      <td>Male</td>\n",
              "      <td>Yes</td>\n",
              "      <td>Sun</td>\n",
              "      <td>Dinner</td>\n",
              "      <td>2</td>\n",
              "      <td>20.27</td>\n",
              "      <td>Stephen Cox</td>\n",
              "      <td>3547798222044029</td>\n",
              "      <td>Sun5140</td>\n",
              "    </tr>\n",
              "    <tr>\n",
              "      <th>197</th>\n",
              "      <td>43.11</td>\n",
              "      <td>5.00</td>\n",
              "      <td>Female</td>\n",
              "      <td>Yes</td>\n",
              "      <td>Thur</td>\n",
              "      <td>Lunch</td>\n",
              "      <td>4</td>\n",
              "      <td>10.78</td>\n",
              "      <td>Brooke Soto</td>\n",
              "      <td>5544902205760175</td>\n",
              "      <td>Thur9313</td>\n",
              "    </tr>\n",
              "    <tr>\n",
              "      <th>212</th>\n",
              "      <td>48.33</td>\n",
              "      <td>9.00</td>\n",
              "      <td>Male</td>\n",
              "      <td>No</td>\n",
              "      <td>Sat</td>\n",
              "      <td>Dinner</td>\n",
              "      <td>4</td>\n",
              "      <td>12.08</td>\n",
              "      <td>Alex Williamson</td>\n",
              "      <td>676218815212</td>\n",
              "      <td>Sat4590</td>\n",
              "    </tr>\n",
              "  </tbody>\n",
              "</table>\n",
              "</div>"
            ],
            "text/plain": [
              "     total_bill    tip     sex smoker   day    time  size  price_per_person  \\\n",
              "59        48.27   6.73    Male     No   Sat  Dinner     4             12.07   \n",
              "95        40.17   4.73    Male    Yes   Fri  Dinner     4             10.04   \n",
              "102       44.30   2.50  Female    Yes   Sat  Dinner     3             14.77   \n",
              "142       41.19   5.00    Male     No  Thur   Lunch     5              8.24   \n",
              "156       48.17   5.00    Male     No   Sun  Dinner     6              8.03   \n",
              "170       50.81  10.00    Male    Yes   Sat  Dinner     3             16.94   \n",
              "182       45.35   3.50    Male    Yes   Sun  Dinner     3             15.12   \n",
              "184       40.55   3.00    Male    Yes   Sun  Dinner     2             20.27   \n",
              "197       43.11   5.00  Female    Yes  Thur   Lunch     4             10.78   \n",
              "212       48.33   9.00    Male     No   Sat  Dinner     4             12.08   \n",
              "\n",
              "          Payer Name         CC Number Payment ID  \n",
              "59       Brian Ortiz  6596453823950595    Sat8139  \n",
              "95     Aaron Bentley   180026611638690    Fri9628  \n",
              "102    Heather Cohen   379771118886604    Sat6240  \n",
              "142     Eric Andrews  4356531761046453   Thur3621  \n",
              "156    Ryan Gonzales  3523151482063321    Sun7518  \n",
              "170    Gregory Clark  5473850968388236    Sat1954  \n",
              "182     Jose Parsons  4112207559459910    Sun2337  \n",
              "184      Stephen Cox  3547798222044029    Sun5140  \n",
              "197      Brooke Soto  5544902205760175   Thur9313  \n",
              "212  Alex Williamson      676218815212    Sat4590  "
            ]
          },
          "metadata": {
            "tags": []
          },
          "execution_count": 49
        }
      ]
    },
    {
      "cell_type": "code",
      "metadata": {
        "id": "L64gMUF_Kwjc",
        "outputId": "33cd2d13-f906-4f6c-de36-e9b897969e23"
      },
      "source": [
        "df[df[\"sex\"] == \"Male\"]"
      ],
      "execution_count": null,
      "outputs": [
        {
          "output_type": "execute_result",
          "data": {
            "text/html": [
              "<div>\n",
              "<style scoped>\n",
              "    .dataframe tbody tr th:only-of-type {\n",
              "        vertical-align: middle;\n",
              "    }\n",
              "\n",
              "    .dataframe tbody tr th {\n",
              "        vertical-align: top;\n",
              "    }\n",
              "\n",
              "    .dataframe thead th {\n",
              "        text-align: right;\n",
              "    }\n",
              "</style>\n",
              "<table border=\"1\" class=\"dataframe\">\n",
              "  <thead>\n",
              "    <tr style=\"text-align: right;\">\n",
              "      <th></th>\n",
              "      <th>total_bill</th>\n",
              "      <th>tip</th>\n",
              "      <th>sex</th>\n",
              "      <th>smoker</th>\n",
              "      <th>day</th>\n",
              "      <th>time</th>\n",
              "      <th>size</th>\n",
              "      <th>price_per_person</th>\n",
              "      <th>Payer Name</th>\n",
              "      <th>CC Number</th>\n",
              "      <th>Payment ID</th>\n",
              "    </tr>\n",
              "  </thead>\n",
              "  <tbody>\n",
              "    <tr>\n",
              "      <th>1</th>\n",
              "      <td>10.34</td>\n",
              "      <td>1.66</td>\n",
              "      <td>Male</td>\n",
              "      <td>No</td>\n",
              "      <td>Sun</td>\n",
              "      <td>Dinner</td>\n",
              "      <td>3</td>\n",
              "      <td>3.45</td>\n",
              "      <td>Douglas Tucker</td>\n",
              "      <td>4478071379779230</td>\n",
              "      <td>Sun4608</td>\n",
              "    </tr>\n",
              "    <tr>\n",
              "      <th>2</th>\n",
              "      <td>21.01</td>\n",
              "      <td>3.50</td>\n",
              "      <td>Male</td>\n",
              "      <td>No</td>\n",
              "      <td>Sun</td>\n",
              "      <td>Dinner</td>\n",
              "      <td>3</td>\n",
              "      <td>7.00</td>\n",
              "      <td>Travis Walters</td>\n",
              "      <td>6011812112971322</td>\n",
              "      <td>Sun4458</td>\n",
              "    </tr>\n",
              "    <tr>\n",
              "      <th>3</th>\n",
              "      <td>23.68</td>\n",
              "      <td>3.31</td>\n",
              "      <td>Male</td>\n",
              "      <td>No</td>\n",
              "      <td>Sun</td>\n",
              "      <td>Dinner</td>\n",
              "      <td>2</td>\n",
              "      <td>11.84</td>\n",
              "      <td>Nathaniel Harris</td>\n",
              "      <td>4676137647685994</td>\n",
              "      <td>Sun5260</td>\n",
              "    </tr>\n",
              "    <tr>\n",
              "      <th>5</th>\n",
              "      <td>25.29</td>\n",
              "      <td>4.71</td>\n",
              "      <td>Male</td>\n",
              "      <td>No</td>\n",
              "      <td>Sun</td>\n",
              "      <td>Dinner</td>\n",
              "      <td>4</td>\n",
              "      <td>6.32</td>\n",
              "      <td>Erik Smith</td>\n",
              "      <td>213140353657882</td>\n",
              "      <td>Sun9679</td>\n",
              "    </tr>\n",
              "    <tr>\n",
              "      <th>6</th>\n",
              "      <td>8.77</td>\n",
              "      <td>2.00</td>\n",
              "      <td>Male</td>\n",
              "      <td>No</td>\n",
              "      <td>Sun</td>\n",
              "      <td>Dinner</td>\n",
              "      <td>2</td>\n",
              "      <td>4.38</td>\n",
              "      <td>Kristopher Johnson</td>\n",
              "      <td>2223727524230344</td>\n",
              "      <td>Sun5985</td>\n",
              "    </tr>\n",
              "    <tr>\n",
              "      <th>...</th>\n",
              "      <td>...</td>\n",
              "      <td>...</td>\n",
              "      <td>...</td>\n",
              "      <td>...</td>\n",
              "      <td>...</td>\n",
              "      <td>...</td>\n",
              "      <td>...</td>\n",
              "      <td>...</td>\n",
              "      <td>...</td>\n",
              "      <td>...</td>\n",
              "      <td>...</td>\n",
              "    </tr>\n",
              "    <tr>\n",
              "      <th>236</th>\n",
              "      <td>12.60</td>\n",
              "      <td>1.00</td>\n",
              "      <td>Male</td>\n",
              "      <td>Yes</td>\n",
              "      <td>Sat</td>\n",
              "      <td>Dinner</td>\n",
              "      <td>2</td>\n",
              "      <td>6.30</td>\n",
              "      <td>Matthew Myers</td>\n",
              "      <td>3543676378973965</td>\n",
              "      <td>Sat5032</td>\n",
              "    </tr>\n",
              "    <tr>\n",
              "      <th>237</th>\n",
              "      <td>32.83</td>\n",
              "      <td>1.17</td>\n",
              "      <td>Male</td>\n",
              "      <td>Yes</td>\n",
              "      <td>Sat</td>\n",
              "      <td>Dinner</td>\n",
              "      <td>2</td>\n",
              "      <td>16.42</td>\n",
              "      <td>Thomas Brown</td>\n",
              "      <td>4284722681265508</td>\n",
              "      <td>Sat2929</td>\n",
              "    </tr>\n",
              "    <tr>\n",
              "      <th>239</th>\n",
              "      <td>29.03</td>\n",
              "      <td>5.92</td>\n",
              "      <td>Male</td>\n",
              "      <td>No</td>\n",
              "      <td>Sat</td>\n",
              "      <td>Dinner</td>\n",
              "      <td>3</td>\n",
              "      <td>9.68</td>\n",
              "      <td>Michael Avila</td>\n",
              "      <td>5296068606052842</td>\n",
              "      <td>Sat2657</td>\n",
              "    </tr>\n",
              "    <tr>\n",
              "      <th>241</th>\n",
              "      <td>22.67</td>\n",
              "      <td>2.00</td>\n",
              "      <td>Male</td>\n",
              "      <td>Yes</td>\n",
              "      <td>Sat</td>\n",
              "      <td>Dinner</td>\n",
              "      <td>2</td>\n",
              "      <td>11.34</td>\n",
              "      <td>Keith Wong</td>\n",
              "      <td>6011891618747196</td>\n",
              "      <td>Sat3880</td>\n",
              "    </tr>\n",
              "    <tr>\n",
              "      <th>242</th>\n",
              "      <td>17.82</td>\n",
              "      <td>1.75</td>\n",
              "      <td>Male</td>\n",
              "      <td>No</td>\n",
              "      <td>Sat</td>\n",
              "      <td>Dinner</td>\n",
              "      <td>2</td>\n",
              "      <td>8.91</td>\n",
              "      <td>Dennis Dixon</td>\n",
              "      <td>4375220550950</td>\n",
              "      <td>Sat17</td>\n",
              "    </tr>\n",
              "  </tbody>\n",
              "</table>\n",
              "<p>157 rows × 11 columns</p>\n",
              "</div>"
            ],
            "text/plain": [
              "     total_bill   tip   sex smoker  day    time  size  price_per_person  \\\n",
              "1         10.34  1.66  Male     No  Sun  Dinner     3              3.45   \n",
              "2         21.01  3.50  Male     No  Sun  Dinner     3              7.00   \n",
              "3         23.68  3.31  Male     No  Sun  Dinner     2             11.84   \n",
              "5         25.29  4.71  Male     No  Sun  Dinner     4              6.32   \n",
              "6          8.77  2.00  Male     No  Sun  Dinner     2              4.38   \n",
              "..          ...   ...   ...    ...  ...     ...   ...               ...   \n",
              "236       12.60  1.00  Male    Yes  Sat  Dinner     2              6.30   \n",
              "237       32.83  1.17  Male    Yes  Sat  Dinner     2             16.42   \n",
              "239       29.03  5.92  Male     No  Sat  Dinner     3              9.68   \n",
              "241       22.67  2.00  Male    Yes  Sat  Dinner     2             11.34   \n",
              "242       17.82  1.75  Male     No  Sat  Dinner     2              8.91   \n",
              "\n",
              "             Payer Name         CC Number Payment ID  \n",
              "1        Douglas Tucker  4478071379779230    Sun4608  \n",
              "2        Travis Walters  6011812112971322    Sun4458  \n",
              "3      Nathaniel Harris  4676137647685994    Sun5260  \n",
              "5            Erik Smith   213140353657882    Sun9679  \n",
              "6    Kristopher Johnson  2223727524230344    Sun5985  \n",
              "..                  ...               ...        ...  \n",
              "236       Matthew Myers  3543676378973965    Sat5032  \n",
              "237        Thomas Brown  4284722681265508    Sat2929  \n",
              "239       Michael Avila  5296068606052842    Sat2657  \n",
              "241          Keith Wong  6011891618747196    Sat3880  \n",
              "242        Dennis Dixon     4375220550950      Sat17  \n",
              "\n",
              "[157 rows x 11 columns]"
            ]
          },
          "metadata": {
            "tags": []
          },
          "execution_count": 50
        }
      ]
    },
    {
      "cell_type": "code",
      "metadata": {
        "id": "zXS8DW8IKwjd"
      },
      "source": [
        "# Multiple conditions\n",
        "# AND & -----> BOTH COND NEED TO BE TRUE\n",
        "# OR | ------> EITHER COND IS TRUE"
      ],
      "execution_count": null,
      "outputs": []
    },
    {
      "cell_type": "code",
      "metadata": {
        "id": "MyjuGP0sKwjd"
      },
      "source": [
        "male_bill = df[(df[\"total_bill\"] > 30) & (df[\"sex\"] == \"Male\")]\n",
        "female_bill = df[(df[\"total_bill\"] > 30) & (df[\"sex\"] == \"Female\")]"
      ],
      "execution_count": null,
      "outputs": []
    },
    {
      "cell_type": "code",
      "metadata": {
        "id": "0JLUTEpvKwjd",
        "outputId": "4961eb4a-dcda-4c70-c06c-69c4c6f82ee2"
      },
      "source": [
        "male_bill[\"total_bill\"].mean()"
      ],
      "execution_count": null,
      "outputs": [
        {
          "output_type": "execute_result",
          "data": {
            "text/plain": [
              "37.4884"
            ]
          },
          "metadata": {
            "tags": []
          },
          "execution_count": 53
        }
      ]
    },
    {
      "cell_type": "code",
      "metadata": {
        "id": "BFX5qYaLKwjd",
        "outputId": "d88b7ede-012f-41a9-f7cf-f6b5b6119241"
      },
      "source": [
        "female_bill[\"total_bill\"].mean()"
      ],
      "execution_count": null,
      "outputs": [
        {
          "output_type": "execute_result",
          "data": {
            "text/plain": [
              "36.89714285714285"
            ]
          },
          "metadata": {
            "tags": []
          },
          "execution_count": 54
        }
      ]
    },
    {
      "cell_type": "code",
      "metadata": {
        "id": "3pB0egK-Kwjd"
      },
      "source": [
        "#df[(df[\"day\"] == \"Sun\") | (df[\"day\"]==\"sat\") | (df[\"day\"]==\"Fri\")]"
      ],
      "execution_count": null,
      "outputs": []
    },
    {
      "cell_type": "code",
      "metadata": {
        "id": "fzhKjoy2Kwjd",
        "outputId": "9adbeecc-d514-4844-f645-8df186662c9a"
      },
      "source": [
        "options = [\"Sat\",\"Sun\"]\n",
        "df[df[\"day\"].isin(options)]"
      ],
      "execution_count": null,
      "outputs": [
        {
          "output_type": "execute_result",
          "data": {
            "text/html": [
              "<div>\n",
              "<style scoped>\n",
              "    .dataframe tbody tr th:only-of-type {\n",
              "        vertical-align: middle;\n",
              "    }\n",
              "\n",
              "    .dataframe tbody tr th {\n",
              "        vertical-align: top;\n",
              "    }\n",
              "\n",
              "    .dataframe thead th {\n",
              "        text-align: right;\n",
              "    }\n",
              "</style>\n",
              "<table border=\"1\" class=\"dataframe\">\n",
              "  <thead>\n",
              "    <tr style=\"text-align: right;\">\n",
              "      <th></th>\n",
              "      <th>total_bill</th>\n",
              "      <th>tip</th>\n",
              "      <th>sex</th>\n",
              "      <th>smoker</th>\n",
              "      <th>day</th>\n",
              "      <th>time</th>\n",
              "      <th>size</th>\n",
              "      <th>price_per_person</th>\n",
              "      <th>Payer Name</th>\n",
              "      <th>CC Number</th>\n",
              "      <th>Payment ID</th>\n",
              "    </tr>\n",
              "  </thead>\n",
              "  <tbody>\n",
              "    <tr>\n",
              "      <th>0</th>\n",
              "      <td>16.99</td>\n",
              "      <td>1.01</td>\n",
              "      <td>Female</td>\n",
              "      <td>No</td>\n",
              "      <td>Sun</td>\n",
              "      <td>Dinner</td>\n",
              "      <td>2</td>\n",
              "      <td>8.49</td>\n",
              "      <td>Christy Cunningham</td>\n",
              "      <td>3560325168603410</td>\n",
              "      <td>Sun2959</td>\n",
              "    </tr>\n",
              "    <tr>\n",
              "      <th>1</th>\n",
              "      <td>10.34</td>\n",
              "      <td>1.66</td>\n",
              "      <td>Male</td>\n",
              "      <td>No</td>\n",
              "      <td>Sun</td>\n",
              "      <td>Dinner</td>\n",
              "      <td>3</td>\n",
              "      <td>3.45</td>\n",
              "      <td>Douglas Tucker</td>\n",
              "      <td>4478071379779230</td>\n",
              "      <td>Sun4608</td>\n",
              "    </tr>\n",
              "    <tr>\n",
              "      <th>2</th>\n",
              "      <td>21.01</td>\n",
              "      <td>3.50</td>\n",
              "      <td>Male</td>\n",
              "      <td>No</td>\n",
              "      <td>Sun</td>\n",
              "      <td>Dinner</td>\n",
              "      <td>3</td>\n",
              "      <td>7.00</td>\n",
              "      <td>Travis Walters</td>\n",
              "      <td>6011812112971322</td>\n",
              "      <td>Sun4458</td>\n",
              "    </tr>\n",
              "    <tr>\n",
              "      <th>3</th>\n",
              "      <td>23.68</td>\n",
              "      <td>3.31</td>\n",
              "      <td>Male</td>\n",
              "      <td>No</td>\n",
              "      <td>Sun</td>\n",
              "      <td>Dinner</td>\n",
              "      <td>2</td>\n",
              "      <td>11.84</td>\n",
              "      <td>Nathaniel Harris</td>\n",
              "      <td>4676137647685994</td>\n",
              "      <td>Sun5260</td>\n",
              "    </tr>\n",
              "    <tr>\n",
              "      <th>4</th>\n",
              "      <td>24.59</td>\n",
              "      <td>3.61</td>\n",
              "      <td>Female</td>\n",
              "      <td>No</td>\n",
              "      <td>Sun</td>\n",
              "      <td>Dinner</td>\n",
              "      <td>4</td>\n",
              "      <td>6.15</td>\n",
              "      <td>Tonya Carter</td>\n",
              "      <td>4832732618637221</td>\n",
              "      <td>Sun2251</td>\n",
              "    </tr>\n",
              "    <tr>\n",
              "      <th>...</th>\n",
              "      <td>...</td>\n",
              "      <td>...</td>\n",
              "      <td>...</td>\n",
              "      <td>...</td>\n",
              "      <td>...</td>\n",
              "      <td>...</td>\n",
              "      <td>...</td>\n",
              "      <td>...</td>\n",
              "      <td>...</td>\n",
              "      <td>...</td>\n",
              "      <td>...</td>\n",
              "    </tr>\n",
              "    <tr>\n",
              "      <th>238</th>\n",
              "      <td>35.83</td>\n",
              "      <td>4.67</td>\n",
              "      <td>Female</td>\n",
              "      <td>No</td>\n",
              "      <td>Sat</td>\n",
              "      <td>Dinner</td>\n",
              "      <td>3</td>\n",
              "      <td>11.94</td>\n",
              "      <td>Kimberly Crane</td>\n",
              "      <td>676184013727</td>\n",
              "      <td>Sat9777</td>\n",
              "    </tr>\n",
              "    <tr>\n",
              "      <th>239</th>\n",
              "      <td>29.03</td>\n",
              "      <td>5.92</td>\n",
              "      <td>Male</td>\n",
              "      <td>No</td>\n",
              "      <td>Sat</td>\n",
              "      <td>Dinner</td>\n",
              "      <td>3</td>\n",
              "      <td>9.68</td>\n",
              "      <td>Michael Avila</td>\n",
              "      <td>5296068606052842</td>\n",
              "      <td>Sat2657</td>\n",
              "    </tr>\n",
              "    <tr>\n",
              "      <th>240</th>\n",
              "      <td>27.18</td>\n",
              "      <td>2.00</td>\n",
              "      <td>Female</td>\n",
              "      <td>Yes</td>\n",
              "      <td>Sat</td>\n",
              "      <td>Dinner</td>\n",
              "      <td>2</td>\n",
              "      <td>13.59</td>\n",
              "      <td>Monica Sanders</td>\n",
              "      <td>3506806155565404</td>\n",
              "      <td>Sat1766</td>\n",
              "    </tr>\n",
              "    <tr>\n",
              "      <th>241</th>\n",
              "      <td>22.67</td>\n",
              "      <td>2.00</td>\n",
              "      <td>Male</td>\n",
              "      <td>Yes</td>\n",
              "      <td>Sat</td>\n",
              "      <td>Dinner</td>\n",
              "      <td>2</td>\n",
              "      <td>11.34</td>\n",
              "      <td>Keith Wong</td>\n",
              "      <td>6011891618747196</td>\n",
              "      <td>Sat3880</td>\n",
              "    </tr>\n",
              "    <tr>\n",
              "      <th>242</th>\n",
              "      <td>17.82</td>\n",
              "      <td>1.75</td>\n",
              "      <td>Male</td>\n",
              "      <td>No</td>\n",
              "      <td>Sat</td>\n",
              "      <td>Dinner</td>\n",
              "      <td>2</td>\n",
              "      <td>8.91</td>\n",
              "      <td>Dennis Dixon</td>\n",
              "      <td>4375220550950</td>\n",
              "      <td>Sat17</td>\n",
              "    </tr>\n",
              "  </tbody>\n",
              "</table>\n",
              "<p>163 rows × 11 columns</p>\n",
              "</div>"
            ],
            "text/plain": [
              "     total_bill   tip     sex smoker  day    time  size  price_per_person  \\\n",
              "0         16.99  1.01  Female     No  Sun  Dinner     2              8.49   \n",
              "1         10.34  1.66    Male     No  Sun  Dinner     3              3.45   \n",
              "2         21.01  3.50    Male     No  Sun  Dinner     3              7.00   \n",
              "3         23.68  3.31    Male     No  Sun  Dinner     2             11.84   \n",
              "4         24.59  3.61  Female     No  Sun  Dinner     4              6.15   \n",
              "..          ...   ...     ...    ...  ...     ...   ...               ...   \n",
              "238       35.83  4.67  Female     No  Sat  Dinner     3             11.94   \n",
              "239       29.03  5.92    Male     No  Sat  Dinner     3              9.68   \n",
              "240       27.18  2.00  Female    Yes  Sat  Dinner     2             13.59   \n",
              "241       22.67  2.00    Male    Yes  Sat  Dinner     2             11.34   \n",
              "242       17.82  1.75    Male     No  Sat  Dinner     2              8.91   \n",
              "\n",
              "             Payer Name         CC Number Payment ID  \n",
              "0    Christy Cunningham  3560325168603410    Sun2959  \n",
              "1        Douglas Tucker  4478071379779230    Sun4608  \n",
              "2        Travis Walters  6011812112971322    Sun4458  \n",
              "3      Nathaniel Harris  4676137647685994    Sun5260  \n",
              "4          Tonya Carter  4832732618637221    Sun2251  \n",
              "..                  ...               ...        ...  \n",
              "238      Kimberly Crane      676184013727    Sat9777  \n",
              "239       Michael Avila  5296068606052842    Sat2657  \n",
              "240      Monica Sanders  3506806155565404    Sat1766  \n",
              "241          Keith Wong  6011891618747196    Sat3880  \n",
              "242        Dennis Dixon     4375220550950      Sat17  \n",
              "\n",
              "[163 rows x 11 columns]"
            ]
          },
          "metadata": {
            "tags": []
          },
          "execution_count": 56
        }
      ]
    },
    {
      "cell_type": "markdown",
      "metadata": {
        "id": "ssi8La6XKwjd"
      },
      "source": [
        "# Using .apply() on single column"
      ]
    },
    {
      "cell_type": "code",
      "metadata": {
        "id": "FT6e-AiJKwjd",
        "outputId": "aa367015-a109-41d2-9f57-29e5c31ec047"
      },
      "source": [
        "df.head()"
      ],
      "execution_count": null,
      "outputs": [
        {
          "output_type": "execute_result",
          "data": {
            "text/html": [
              "<div>\n",
              "<style scoped>\n",
              "    .dataframe tbody tr th:only-of-type {\n",
              "        vertical-align: middle;\n",
              "    }\n",
              "\n",
              "    .dataframe tbody tr th {\n",
              "        vertical-align: top;\n",
              "    }\n",
              "\n",
              "    .dataframe thead th {\n",
              "        text-align: right;\n",
              "    }\n",
              "</style>\n",
              "<table border=\"1\" class=\"dataframe\">\n",
              "  <thead>\n",
              "    <tr style=\"text-align: right;\">\n",
              "      <th></th>\n",
              "      <th>total_bill</th>\n",
              "      <th>tip</th>\n",
              "      <th>sex</th>\n",
              "      <th>smoker</th>\n",
              "      <th>day</th>\n",
              "      <th>time</th>\n",
              "      <th>size</th>\n",
              "      <th>price_per_person</th>\n",
              "      <th>Payer Name</th>\n",
              "      <th>CC Number</th>\n",
              "      <th>Payment ID</th>\n",
              "    </tr>\n",
              "  </thead>\n",
              "  <tbody>\n",
              "    <tr>\n",
              "      <th>0</th>\n",
              "      <td>16.99</td>\n",
              "      <td>1.01</td>\n",
              "      <td>Female</td>\n",
              "      <td>No</td>\n",
              "      <td>Sun</td>\n",
              "      <td>Dinner</td>\n",
              "      <td>2</td>\n",
              "      <td>8.49</td>\n",
              "      <td>Christy Cunningham</td>\n",
              "      <td>3560325168603410</td>\n",
              "      <td>Sun2959</td>\n",
              "    </tr>\n",
              "    <tr>\n",
              "      <th>1</th>\n",
              "      <td>10.34</td>\n",
              "      <td>1.66</td>\n",
              "      <td>Male</td>\n",
              "      <td>No</td>\n",
              "      <td>Sun</td>\n",
              "      <td>Dinner</td>\n",
              "      <td>3</td>\n",
              "      <td>3.45</td>\n",
              "      <td>Douglas Tucker</td>\n",
              "      <td>4478071379779230</td>\n",
              "      <td>Sun4608</td>\n",
              "    </tr>\n",
              "    <tr>\n",
              "      <th>2</th>\n",
              "      <td>21.01</td>\n",
              "      <td>3.50</td>\n",
              "      <td>Male</td>\n",
              "      <td>No</td>\n",
              "      <td>Sun</td>\n",
              "      <td>Dinner</td>\n",
              "      <td>3</td>\n",
              "      <td>7.00</td>\n",
              "      <td>Travis Walters</td>\n",
              "      <td>6011812112971322</td>\n",
              "      <td>Sun4458</td>\n",
              "    </tr>\n",
              "    <tr>\n",
              "      <th>3</th>\n",
              "      <td>23.68</td>\n",
              "      <td>3.31</td>\n",
              "      <td>Male</td>\n",
              "      <td>No</td>\n",
              "      <td>Sun</td>\n",
              "      <td>Dinner</td>\n",
              "      <td>2</td>\n",
              "      <td>11.84</td>\n",
              "      <td>Nathaniel Harris</td>\n",
              "      <td>4676137647685994</td>\n",
              "      <td>Sun5260</td>\n",
              "    </tr>\n",
              "    <tr>\n",
              "      <th>4</th>\n",
              "      <td>24.59</td>\n",
              "      <td>3.61</td>\n",
              "      <td>Female</td>\n",
              "      <td>No</td>\n",
              "      <td>Sun</td>\n",
              "      <td>Dinner</td>\n",
              "      <td>4</td>\n",
              "      <td>6.15</td>\n",
              "      <td>Tonya Carter</td>\n",
              "      <td>4832732618637221</td>\n",
              "      <td>Sun2251</td>\n",
              "    </tr>\n",
              "  </tbody>\n",
              "</table>\n",
              "</div>"
            ],
            "text/plain": [
              "   total_bill   tip     sex smoker  day    time  size  price_per_person  \\\n",
              "0       16.99  1.01  Female     No  Sun  Dinner     2              8.49   \n",
              "1       10.34  1.66    Male     No  Sun  Dinner     3              3.45   \n",
              "2       21.01  3.50    Male     No  Sun  Dinner     3              7.00   \n",
              "3       23.68  3.31    Male     No  Sun  Dinner     2             11.84   \n",
              "4       24.59  3.61  Female     No  Sun  Dinner     4              6.15   \n",
              "\n",
              "           Payer Name         CC Number Payment ID  \n",
              "0  Christy Cunningham  3560325168603410    Sun2959  \n",
              "1      Douglas Tucker  4478071379779230    Sun4608  \n",
              "2      Travis Walters  6011812112971322    Sun4458  \n",
              "3    Nathaniel Harris  4676137647685994    Sun5260  \n",
              "4        Tonya Carter  4832732618637221    Sun2251  "
            ]
          },
          "metadata": {
            "tags": []
          },
          "execution_count": 57
        }
      ]
    },
    {
      "cell_type": "code",
      "metadata": {
        "id": "Sa3YN7Y8Kwjd"
      },
      "source": [
        "# Grabing last 4 numbers of \"CC Number\""
      ],
      "execution_count": null,
      "outputs": []
    },
    {
      "cell_type": "code",
      "metadata": {
        "id": "8c64OCwsKwjd",
        "outputId": "aca2ebe2-ddbc-4ca3-c196-3e43b5ff4fda"
      },
      "source": [
        "str(12345678912)[-4:]"
      ],
      "execution_count": null,
      "outputs": [
        {
          "output_type": "execute_result",
          "data": {
            "text/plain": [
              "'8912'"
            ]
          },
          "metadata": {
            "tags": []
          },
          "execution_count": 59
        }
      ]
    },
    {
      "cell_type": "code",
      "metadata": {
        "id": "Y7pKk-M2Kwjd"
      },
      "source": [
        "def last_four(num):\n",
        "    return str(num)[-4:]"
      ],
      "execution_count": null,
      "outputs": []
    },
    {
      "cell_type": "code",
      "metadata": {
        "id": "SVqqsdEFKwjd",
        "outputId": "8693cb62-9721-41bd-bd60-f69d25d59b84"
      },
      "source": [
        "last_four(1234656789)"
      ],
      "execution_count": null,
      "outputs": [
        {
          "output_type": "execute_result",
          "data": {
            "text/plain": [
              "'6789'"
            ]
          },
          "metadata": {
            "tags": []
          },
          "execution_count": 61
        }
      ]
    },
    {
      "cell_type": "code",
      "metadata": {
        "id": "Rhqq9NZxKwjd",
        "outputId": "ca593b8c-8b26-4956-e41f-7cd8c5f8f003"
      },
      "source": [
        "df[\"last_four_num\"] = df[\"CC Number\"].apply(last_four)\n",
        "df[\"last_four_num\"]"
      ],
      "execution_count": null,
      "outputs": [
        {
          "output_type": "execute_result",
          "data": {
            "text/plain": [
              "0      3410\n",
              "1      9230\n",
              "2      1322\n",
              "3      5994\n",
              "4      7221\n",
              "       ... \n",
              "239    2842\n",
              "240    5404\n",
              "241    7196\n",
              "242    0950\n",
              "243    8139\n",
              "Name: last_four_num, Length: 244, dtype: object"
            ]
          },
          "metadata": {
            "tags": []
          },
          "execution_count": 62
        }
      ]
    },
    {
      "cell_type": "code",
      "metadata": {
        "id": "7czIfOvJKwjd",
        "outputId": "753acf7f-ba2e-49d5-a404-2f0a470be11c"
      },
      "source": [
        "# Apply function \"total_bill\" to display $ symbol\n",
        "df[\"total_bill\"].mean()"
      ],
      "execution_count": null,
      "outputs": [
        {
          "output_type": "execute_result",
          "data": {
            "text/plain": [
              "19.785942622950824"
            ]
          },
          "metadata": {
            "tags": []
          },
          "execution_count": 63
        }
      ]
    },
    {
      "cell_type": "code",
      "metadata": {
        "id": "-EVze-zmKwjd"
      },
      "source": [
        "def yelp(price):\n",
        "    if price<10:\n",
        "        return \"$\"\n",
        "    elif price>=10 and price <30:\n",
        "        return \"$$\"\n",
        "    else:\n",
        "        return \"$$$\""
      ],
      "execution_count": null,
      "outputs": []
    },
    {
      "cell_type": "code",
      "metadata": {
        "id": "TNeKDmTiKwjd",
        "outputId": "e621cd50-5e11-41b9-d462-3a3396afc7a3"
      },
      "source": [
        "df[\"yelp\"] = df[\"total_bill\"].apply(yelp)\n",
        "df[\"yelp\"]"
      ],
      "execution_count": null,
      "outputs": [
        {
          "output_type": "execute_result",
          "data": {
            "text/plain": [
              "0      $$\n",
              "1      $$\n",
              "2      $$\n",
              "3      $$\n",
              "4      $$\n",
              "       ..\n",
              "239    $$\n",
              "240    $$\n",
              "241    $$\n",
              "242    $$\n",
              "243    $$\n",
              "Name: yelp, Length: 244, dtype: object"
            ]
          },
          "metadata": {
            "tags": []
          },
          "execution_count": 65
        }
      ]
    },
    {
      "cell_type": "markdown",
      "metadata": {
        "id": "y-b6ojqFKwjd"
      },
      "source": [
        "# Using .apply() on Multiple columns"
      ]
    },
    {
      "cell_type": "code",
      "metadata": {
        "id": "cOghzJkPKwjd",
        "outputId": "d63a9960-61f8-4f31-f5a5-fae5c6feab34"
      },
      "source": [
        "# Example on lambda\n",
        "#def simple(num):\n",
        "    #return num*2\n",
        "num = lambda num : num*2\n",
        "num(4)"
      ],
      "execution_count": null,
      "outputs": [
        {
          "output_type": "execute_result",
          "data": {
            "text/plain": [
              "8"
            ]
          },
          "metadata": {
            "tags": []
          },
          "execution_count": 66
        }
      ]
    },
    {
      "cell_type": "code",
      "metadata": {
        "id": "Eu50BgRKKwjd",
        "outputId": "fe3cb635-bf1c-4776-851e-e502b49c6e44"
      },
      "source": [
        "df[\"total_bill\"].apply(lambda bill:bill*2)"
      ],
      "execution_count": null,
      "outputs": [
        {
          "output_type": "execute_result",
          "data": {
            "text/plain": [
              "0      33.98\n",
              "1      20.68\n",
              "2      42.02\n",
              "3      47.36\n",
              "4      49.18\n",
              "       ...  \n",
              "239    58.06\n",
              "240    54.36\n",
              "241    45.34\n",
              "242    35.64\n",
              "243    37.56\n",
              "Name: total_bill, Length: 244, dtype: float64"
            ]
          },
          "metadata": {
            "tags": []
          },
          "execution_count": 67
        }
      ]
    },
    {
      "cell_type": "code",
      "metadata": {
        "id": "WAjV3Q33Kwjd"
      },
      "source": [
        "# Function to retrun \"Generous\" if tip/total_bill > 0.25(25%), otherwise retun \"other\"\n",
        "def quality(total_bill,tip):\n",
        "    if tip/total_bill >0.25:\n",
        "        return \"Generous\"\n",
        "    else:\n",
        "        return \"Other\""
      ],
      "execution_count": null,
      "outputs": []
    },
    {
      "cell_type": "code",
      "metadata": {
        "id": "K-570xuuKwjd",
        "outputId": "d25ecca3-a717-4ffb-91ac-8cc56367322d"
      },
      "source": [
        "quality(16.99,1.01)"
      ],
      "execution_count": null,
      "outputs": [
        {
          "output_type": "execute_result",
          "data": {
            "text/plain": [
              "'Other'"
            ]
          },
          "metadata": {
            "tags": []
          },
          "execution_count": 69
        }
      ]
    },
    {
      "cell_type": "code",
      "metadata": {
        "id": "7opdT3aYKwjd"
      },
      "source": [
        "df[\"quality\"] = df[[\"total_bill\",\"tip\"]].apply(lambda df:quality(df[\"total_bill\"],df[\"tip\"]),axis=1)"
      ],
      "execution_count": null,
      "outputs": []
    },
    {
      "cell_type": "code",
      "metadata": {
        "id": "94HpduwHKwjd"
      },
      "source": [
        "# np.vectorized(function) typically performs fast compared to .apply()\n",
        "df[\"quality\"] = np.vectorize(quality)(df[\"total_bill\"],df[\"tip\"])"
      ],
      "execution_count": null,
      "outputs": []
    },
    {
      "cell_type": "code",
      "metadata": {
        "id": "tn98EvpTKwjd",
        "outputId": "023f4e5b-8643-44d1-fb79-8e1f246b09dd"
      },
      "source": [
        "df.head()"
      ],
      "execution_count": null,
      "outputs": [
        {
          "output_type": "execute_result",
          "data": {
            "text/html": [
              "<div>\n",
              "<style scoped>\n",
              "    .dataframe tbody tr th:only-of-type {\n",
              "        vertical-align: middle;\n",
              "    }\n",
              "\n",
              "    .dataframe tbody tr th {\n",
              "        vertical-align: top;\n",
              "    }\n",
              "\n",
              "    .dataframe thead th {\n",
              "        text-align: right;\n",
              "    }\n",
              "</style>\n",
              "<table border=\"1\" class=\"dataframe\">\n",
              "  <thead>\n",
              "    <tr style=\"text-align: right;\">\n",
              "      <th></th>\n",
              "      <th>total_bill</th>\n",
              "      <th>tip</th>\n",
              "      <th>sex</th>\n",
              "      <th>smoker</th>\n",
              "      <th>day</th>\n",
              "      <th>time</th>\n",
              "      <th>size</th>\n",
              "      <th>price_per_person</th>\n",
              "      <th>Payer Name</th>\n",
              "      <th>CC Number</th>\n",
              "      <th>Payment ID</th>\n",
              "      <th>last_four_num</th>\n",
              "      <th>yelp</th>\n",
              "      <th>quality</th>\n",
              "    </tr>\n",
              "  </thead>\n",
              "  <tbody>\n",
              "    <tr>\n",
              "      <th>0</th>\n",
              "      <td>16.99</td>\n",
              "      <td>1.01</td>\n",
              "      <td>Female</td>\n",
              "      <td>No</td>\n",
              "      <td>Sun</td>\n",
              "      <td>Dinner</td>\n",
              "      <td>2</td>\n",
              "      <td>8.49</td>\n",
              "      <td>Christy Cunningham</td>\n",
              "      <td>3560325168603410</td>\n",
              "      <td>Sun2959</td>\n",
              "      <td>3410</td>\n",
              "      <td>$$</td>\n",
              "      <td>Other</td>\n",
              "    </tr>\n",
              "    <tr>\n",
              "      <th>1</th>\n",
              "      <td>10.34</td>\n",
              "      <td>1.66</td>\n",
              "      <td>Male</td>\n",
              "      <td>No</td>\n",
              "      <td>Sun</td>\n",
              "      <td>Dinner</td>\n",
              "      <td>3</td>\n",
              "      <td>3.45</td>\n",
              "      <td>Douglas Tucker</td>\n",
              "      <td>4478071379779230</td>\n",
              "      <td>Sun4608</td>\n",
              "      <td>9230</td>\n",
              "      <td>$$</td>\n",
              "      <td>Other</td>\n",
              "    </tr>\n",
              "    <tr>\n",
              "      <th>2</th>\n",
              "      <td>21.01</td>\n",
              "      <td>3.50</td>\n",
              "      <td>Male</td>\n",
              "      <td>No</td>\n",
              "      <td>Sun</td>\n",
              "      <td>Dinner</td>\n",
              "      <td>3</td>\n",
              "      <td>7.00</td>\n",
              "      <td>Travis Walters</td>\n",
              "      <td>6011812112971322</td>\n",
              "      <td>Sun4458</td>\n",
              "      <td>1322</td>\n",
              "      <td>$$</td>\n",
              "      <td>Other</td>\n",
              "    </tr>\n",
              "    <tr>\n",
              "      <th>3</th>\n",
              "      <td>23.68</td>\n",
              "      <td>3.31</td>\n",
              "      <td>Male</td>\n",
              "      <td>No</td>\n",
              "      <td>Sun</td>\n",
              "      <td>Dinner</td>\n",
              "      <td>2</td>\n",
              "      <td>11.84</td>\n",
              "      <td>Nathaniel Harris</td>\n",
              "      <td>4676137647685994</td>\n",
              "      <td>Sun5260</td>\n",
              "      <td>5994</td>\n",
              "      <td>$$</td>\n",
              "      <td>Other</td>\n",
              "    </tr>\n",
              "    <tr>\n",
              "      <th>4</th>\n",
              "      <td>24.59</td>\n",
              "      <td>3.61</td>\n",
              "      <td>Female</td>\n",
              "      <td>No</td>\n",
              "      <td>Sun</td>\n",
              "      <td>Dinner</td>\n",
              "      <td>4</td>\n",
              "      <td>6.15</td>\n",
              "      <td>Tonya Carter</td>\n",
              "      <td>4832732618637221</td>\n",
              "      <td>Sun2251</td>\n",
              "      <td>7221</td>\n",
              "      <td>$$</td>\n",
              "      <td>Other</td>\n",
              "    </tr>\n",
              "  </tbody>\n",
              "</table>\n",
              "</div>"
            ],
            "text/plain": [
              "   total_bill   tip     sex smoker  day    time  size  price_per_person  \\\n",
              "0       16.99  1.01  Female     No  Sun  Dinner     2              8.49   \n",
              "1       10.34  1.66    Male     No  Sun  Dinner     3              3.45   \n",
              "2       21.01  3.50    Male     No  Sun  Dinner     3              7.00   \n",
              "3       23.68  3.31    Male     No  Sun  Dinner     2             11.84   \n",
              "4       24.59  3.61  Female     No  Sun  Dinner     4              6.15   \n",
              "\n",
              "           Payer Name         CC Number Payment ID last_four_num yelp quality  \n",
              "0  Christy Cunningham  3560325168603410    Sun2959          3410   $$   Other  \n",
              "1      Douglas Tucker  4478071379779230    Sun4608          9230   $$   Other  \n",
              "2      Travis Walters  6011812112971322    Sun4458          1322   $$   Other  \n",
              "3    Nathaniel Harris  4676137647685994    Sun5260          5994   $$   Other  \n",
              "4        Tonya Carter  4832732618637221    Sun2251          7221   $$   Other  "
            ]
          },
          "metadata": {
            "tags": []
          },
          "execution_count": 72
        }
      ]
    },
    {
      "cell_type": "code",
      "metadata": {
        "id": "V7RAYq3_Kwje"
      },
      "source": [
        "# checking , which one is faster? .apply() or np.vectorize(function)\n",
        "import timeit"
      ],
      "execution_count": null,
      "outputs": []
    },
    {
      "cell_type": "code",
      "metadata": {
        "id": "kmRQlybDKwje"
      },
      "source": [
        "# The setup code only executes for one time\n",
        "setup = '''\n",
        "import numpy as np\n",
        "import pandas as pd\n",
        "df=pd.read_csv(\"tips.csv\")\n",
        "def quality(total_bill,tip):\n",
        "    if tip/total_bill >0.25:\n",
        "        return \"Generous\"\n",
        "    else:\n",
        "        return \"Other\" '''"
      ],
      "execution_count": null,
      "outputs": []
    },
    {
      "cell_type": "code",
      "metadata": {
        "id": "LROGXUouKwje"
      },
      "source": [
        "stmt_one = '''\n",
        "df[\"quality\"] = df[[\"total_bill\",\"tip\"]].apply(lambda df:quality(df[\"total_bill\"],df[\"tip\"]),axis=1)'''\n",
        "\n",
        "stmt_two = '''\n",
        "df[\"quality\"] = np.vectorize(quality)(df[\"total_bill\"],df[\"tip\"])'''"
      ],
      "execution_count": null,
      "outputs": []
    },
    {
      "cell_type": "code",
      "metadata": {
        "id": "OD-xkm1vKwje",
        "outputId": "3773a18e-769d-401e-b65b-6b249c273a8e"
      },
      "source": [
        "timeit.timeit(setup=setup,stmt=stmt_one,number=1000)"
      ],
      "execution_count": null,
      "outputs": [
        {
          "output_type": "execute_result",
          "data": {
            "text/plain": [
              "17.226111299999996"
            ]
          },
          "metadata": {
            "tags": []
          },
          "execution_count": 76
        }
      ]
    },
    {
      "cell_type": "code",
      "metadata": {
        "id": "pPa4hq_xKwje",
        "outputId": "a6489fc7-d614-4f48-d4a6-b4b383a32563"
      },
      "source": [
        "timeit.timeit(setup=setup,stmt=stmt_two,number=1000)"
      ],
      "execution_count": null,
      "outputs": [
        {
          "output_type": "execute_result",
          "data": {
            "text/plain": [
              "0.7398308"
            ]
          },
          "metadata": {
            "tags": []
          },
          "execution_count": 77
        }
      ]
    },
    {
      "cell_type": "markdown",
      "metadata": {
        "id": "X0F3vLz6Kwje"
      },
      "source": [
        "# Statistical informtion and sorting"
      ]
    },
    {
      "cell_type": "code",
      "metadata": {
        "id": "G0DxFS2LKwje"
      },
      "source": [
        "df = pd.read_csv(\"https://raw.githubusercontent.com/sunnyyashu178/DataScience-Projects/master/Datasets/tips.csv\")"
      ],
      "execution_count": null,
      "outputs": []
    },
    {
      "cell_type": "code",
      "metadata": {
        "id": "LExPnZaeKwje",
        "outputId": "58d5c8ce-d5fc-48d2-adf8-6e86302723f7"
      },
      "source": [
        "df.describe()"
      ],
      "execution_count": null,
      "outputs": [
        {
          "output_type": "execute_result",
          "data": {
            "text/html": [
              "<div>\n",
              "<style scoped>\n",
              "    .dataframe tbody tr th:only-of-type {\n",
              "        vertical-align: middle;\n",
              "    }\n",
              "\n",
              "    .dataframe tbody tr th {\n",
              "        vertical-align: top;\n",
              "    }\n",
              "\n",
              "    .dataframe thead th {\n",
              "        text-align: right;\n",
              "    }\n",
              "</style>\n",
              "<table border=\"1\" class=\"dataframe\">\n",
              "  <thead>\n",
              "    <tr style=\"text-align: right;\">\n",
              "      <th></th>\n",
              "      <th>total_bill</th>\n",
              "      <th>tip</th>\n",
              "      <th>size</th>\n",
              "      <th>price_per_person</th>\n",
              "      <th>CC Number</th>\n",
              "    </tr>\n",
              "  </thead>\n",
              "  <tbody>\n",
              "    <tr>\n",
              "      <th>count</th>\n",
              "      <td>244.000000</td>\n",
              "      <td>244.000000</td>\n",
              "      <td>244.000000</td>\n",
              "      <td>244.000000</td>\n",
              "      <td>2.440000e+02</td>\n",
              "    </tr>\n",
              "    <tr>\n",
              "      <th>mean</th>\n",
              "      <td>19.785943</td>\n",
              "      <td>2.998279</td>\n",
              "      <td>2.569672</td>\n",
              "      <td>7.888197</td>\n",
              "      <td>2.563496e+15</td>\n",
              "    </tr>\n",
              "    <tr>\n",
              "      <th>std</th>\n",
              "      <td>8.902412</td>\n",
              "      <td>1.383638</td>\n",
              "      <td>0.951100</td>\n",
              "      <td>2.914234</td>\n",
              "      <td>2.369340e+15</td>\n",
              "    </tr>\n",
              "    <tr>\n",
              "      <th>min</th>\n",
              "      <td>3.070000</td>\n",
              "      <td>1.000000</td>\n",
              "      <td>1.000000</td>\n",
              "      <td>2.880000</td>\n",
              "      <td>6.040679e+10</td>\n",
              "    </tr>\n",
              "    <tr>\n",
              "      <th>25%</th>\n",
              "      <td>13.347500</td>\n",
              "      <td>2.000000</td>\n",
              "      <td>2.000000</td>\n",
              "      <td>5.800000</td>\n",
              "      <td>3.040731e+13</td>\n",
              "    </tr>\n",
              "    <tr>\n",
              "      <th>50%</th>\n",
              "      <td>17.795000</td>\n",
              "      <td>2.900000</td>\n",
              "      <td>2.000000</td>\n",
              "      <td>7.255000</td>\n",
              "      <td>3.525318e+15</td>\n",
              "    </tr>\n",
              "    <tr>\n",
              "      <th>75%</th>\n",
              "      <td>24.127500</td>\n",
              "      <td>3.562500</td>\n",
              "      <td>3.000000</td>\n",
              "      <td>9.390000</td>\n",
              "      <td>4.553675e+15</td>\n",
              "    </tr>\n",
              "    <tr>\n",
              "      <th>max</th>\n",
              "      <td>50.810000</td>\n",
              "      <td>10.000000</td>\n",
              "      <td>6.000000</td>\n",
              "      <td>20.270000</td>\n",
              "      <td>6.596454e+15</td>\n",
              "    </tr>\n",
              "  </tbody>\n",
              "</table>\n",
              "</div>"
            ],
            "text/plain": [
              "       total_bill         tip        size  price_per_person     CC Number\n",
              "count  244.000000  244.000000  244.000000        244.000000  2.440000e+02\n",
              "mean    19.785943    2.998279    2.569672          7.888197  2.563496e+15\n",
              "std      8.902412    1.383638    0.951100          2.914234  2.369340e+15\n",
              "min      3.070000    1.000000    1.000000          2.880000  6.040679e+10\n",
              "25%     13.347500    2.000000    2.000000          5.800000  3.040731e+13\n",
              "50%     17.795000    2.900000    2.000000          7.255000  3.525318e+15\n",
              "75%     24.127500    3.562500    3.000000          9.390000  4.553675e+15\n",
              "max     50.810000   10.000000    6.000000         20.270000  6.596454e+15"
            ]
          },
          "metadata": {
            "tags": []
          },
          "execution_count": 79
        }
      ]
    },
    {
      "cell_type": "code",
      "metadata": {
        "id": "Hhlx2w3aKwje",
        "outputId": "ee22422a-5087-450c-bd3e-5427e980d737"
      },
      "source": [
        "df.sort_values(\"tip\",ascending=False)"
      ],
      "execution_count": null,
      "outputs": [
        {
          "output_type": "execute_result",
          "data": {
            "text/html": [
              "<div>\n",
              "<style scoped>\n",
              "    .dataframe tbody tr th:only-of-type {\n",
              "        vertical-align: middle;\n",
              "    }\n",
              "\n",
              "    .dataframe tbody tr th {\n",
              "        vertical-align: top;\n",
              "    }\n",
              "\n",
              "    .dataframe thead th {\n",
              "        text-align: right;\n",
              "    }\n",
              "</style>\n",
              "<table border=\"1\" class=\"dataframe\">\n",
              "  <thead>\n",
              "    <tr style=\"text-align: right;\">\n",
              "      <th></th>\n",
              "      <th>total_bill</th>\n",
              "      <th>tip</th>\n",
              "      <th>sex</th>\n",
              "      <th>smoker</th>\n",
              "      <th>day</th>\n",
              "      <th>time</th>\n",
              "      <th>size</th>\n",
              "      <th>price_per_person</th>\n",
              "      <th>Payer Name</th>\n",
              "      <th>CC Number</th>\n",
              "      <th>Payment ID</th>\n",
              "    </tr>\n",
              "  </thead>\n",
              "  <tbody>\n",
              "    <tr>\n",
              "      <th>170</th>\n",
              "      <td>50.81</td>\n",
              "      <td>10.00</td>\n",
              "      <td>Male</td>\n",
              "      <td>Yes</td>\n",
              "      <td>Sat</td>\n",
              "      <td>Dinner</td>\n",
              "      <td>3</td>\n",
              "      <td>16.94</td>\n",
              "      <td>Gregory Clark</td>\n",
              "      <td>5473850968388236</td>\n",
              "      <td>Sat1954</td>\n",
              "    </tr>\n",
              "    <tr>\n",
              "      <th>212</th>\n",
              "      <td>48.33</td>\n",
              "      <td>9.00</td>\n",
              "      <td>Male</td>\n",
              "      <td>No</td>\n",
              "      <td>Sat</td>\n",
              "      <td>Dinner</td>\n",
              "      <td>4</td>\n",
              "      <td>12.08</td>\n",
              "      <td>Alex Williamson</td>\n",
              "      <td>676218815212</td>\n",
              "      <td>Sat4590</td>\n",
              "    </tr>\n",
              "    <tr>\n",
              "      <th>23</th>\n",
              "      <td>39.42</td>\n",
              "      <td>7.58</td>\n",
              "      <td>Male</td>\n",
              "      <td>No</td>\n",
              "      <td>Sat</td>\n",
              "      <td>Dinner</td>\n",
              "      <td>4</td>\n",
              "      <td>9.86</td>\n",
              "      <td>Lance Peterson</td>\n",
              "      <td>3542584061609808</td>\n",
              "      <td>Sat239</td>\n",
              "    </tr>\n",
              "    <tr>\n",
              "      <th>59</th>\n",
              "      <td>48.27</td>\n",
              "      <td>6.73</td>\n",
              "      <td>Male</td>\n",
              "      <td>No</td>\n",
              "      <td>Sat</td>\n",
              "      <td>Dinner</td>\n",
              "      <td>4</td>\n",
              "      <td>12.07</td>\n",
              "      <td>Brian Ortiz</td>\n",
              "      <td>6596453823950595</td>\n",
              "      <td>Sat8139</td>\n",
              "    </tr>\n",
              "    <tr>\n",
              "      <th>141</th>\n",
              "      <td>34.30</td>\n",
              "      <td>6.70</td>\n",
              "      <td>Male</td>\n",
              "      <td>No</td>\n",
              "      <td>Thur</td>\n",
              "      <td>Lunch</td>\n",
              "      <td>6</td>\n",
              "      <td>5.72</td>\n",
              "      <td>Steven Carlson</td>\n",
              "      <td>3526515703718508</td>\n",
              "      <td>Thur1025</td>\n",
              "    </tr>\n",
              "    <tr>\n",
              "      <th>...</th>\n",
              "      <td>...</td>\n",
              "      <td>...</td>\n",
              "      <td>...</td>\n",
              "      <td>...</td>\n",
              "      <td>...</td>\n",
              "      <td>...</td>\n",
              "      <td>...</td>\n",
              "      <td>...</td>\n",
              "      <td>...</td>\n",
              "      <td>...</td>\n",
              "      <td>...</td>\n",
              "    </tr>\n",
              "    <tr>\n",
              "      <th>0</th>\n",
              "      <td>16.99</td>\n",
              "      <td>1.01</td>\n",
              "      <td>Female</td>\n",
              "      <td>No</td>\n",
              "      <td>Sun</td>\n",
              "      <td>Dinner</td>\n",
              "      <td>2</td>\n",
              "      <td>8.49</td>\n",
              "      <td>Christy Cunningham</td>\n",
              "      <td>3560325168603410</td>\n",
              "      <td>Sun2959</td>\n",
              "    </tr>\n",
              "    <tr>\n",
              "      <th>236</th>\n",
              "      <td>12.60</td>\n",
              "      <td>1.00</td>\n",
              "      <td>Male</td>\n",
              "      <td>Yes</td>\n",
              "      <td>Sat</td>\n",
              "      <td>Dinner</td>\n",
              "      <td>2</td>\n",
              "      <td>6.30</td>\n",
              "      <td>Matthew Myers</td>\n",
              "      <td>3543676378973965</td>\n",
              "      <td>Sat5032</td>\n",
              "    </tr>\n",
              "    <tr>\n",
              "      <th>111</th>\n",
              "      <td>7.25</td>\n",
              "      <td>1.00</td>\n",
              "      <td>Female</td>\n",
              "      <td>No</td>\n",
              "      <td>Sat</td>\n",
              "      <td>Dinner</td>\n",
              "      <td>1</td>\n",
              "      <td>7.25</td>\n",
              "      <td>Terri Jones</td>\n",
              "      <td>3559221007826887</td>\n",
              "      <td>Sat4801</td>\n",
              "    </tr>\n",
              "    <tr>\n",
              "      <th>67</th>\n",
              "      <td>3.07</td>\n",
              "      <td>1.00</td>\n",
              "      <td>Female</td>\n",
              "      <td>Yes</td>\n",
              "      <td>Sat</td>\n",
              "      <td>Dinner</td>\n",
              "      <td>1</td>\n",
              "      <td>3.07</td>\n",
              "      <td>Tiffany Brock</td>\n",
              "      <td>4359488526995267</td>\n",
              "      <td>Sat3455</td>\n",
              "    </tr>\n",
              "    <tr>\n",
              "      <th>92</th>\n",
              "      <td>5.75</td>\n",
              "      <td>1.00</td>\n",
              "      <td>Female</td>\n",
              "      <td>Yes</td>\n",
              "      <td>Fri</td>\n",
              "      <td>Dinner</td>\n",
              "      <td>2</td>\n",
              "      <td>2.88</td>\n",
              "      <td>Leah Ramirez</td>\n",
              "      <td>3508911676966392</td>\n",
              "      <td>Fri3780</td>\n",
              "    </tr>\n",
              "  </tbody>\n",
              "</table>\n",
              "<p>244 rows × 11 columns</p>\n",
              "</div>"
            ],
            "text/plain": [
              "     total_bill    tip     sex smoker   day    time  size  price_per_person  \\\n",
              "170       50.81  10.00    Male    Yes   Sat  Dinner     3             16.94   \n",
              "212       48.33   9.00    Male     No   Sat  Dinner     4             12.08   \n",
              "23        39.42   7.58    Male     No   Sat  Dinner     4              9.86   \n",
              "59        48.27   6.73    Male     No   Sat  Dinner     4             12.07   \n",
              "141       34.30   6.70    Male     No  Thur   Lunch     6              5.72   \n",
              "..          ...    ...     ...    ...   ...     ...   ...               ...   \n",
              "0         16.99   1.01  Female     No   Sun  Dinner     2              8.49   \n",
              "236       12.60   1.00    Male    Yes   Sat  Dinner     2              6.30   \n",
              "111        7.25   1.00  Female     No   Sat  Dinner     1              7.25   \n",
              "67         3.07   1.00  Female    Yes   Sat  Dinner     1              3.07   \n",
              "92         5.75   1.00  Female    Yes   Fri  Dinner     2              2.88   \n",
              "\n",
              "             Payer Name         CC Number Payment ID  \n",
              "170       Gregory Clark  5473850968388236    Sat1954  \n",
              "212     Alex Williamson      676218815212    Sat4590  \n",
              "23       Lance Peterson  3542584061609808     Sat239  \n",
              "59          Brian Ortiz  6596453823950595    Sat8139  \n",
              "141      Steven Carlson  3526515703718508   Thur1025  \n",
              "..                  ...               ...        ...  \n",
              "0    Christy Cunningham  3560325168603410    Sun2959  \n",
              "236       Matthew Myers  3543676378973965    Sat5032  \n",
              "111         Terri Jones  3559221007826887    Sat4801  \n",
              "67        Tiffany Brock  4359488526995267    Sat3455  \n",
              "92         Leah Ramirez  3508911676966392    Fri3780  \n",
              "\n",
              "[244 rows x 11 columns]"
            ]
          },
          "metadata": {
            "tags": []
          },
          "execution_count": 80
        }
      ]
    },
    {
      "cell_type": "code",
      "metadata": {
        "id": "cjIb5LNPKwje",
        "outputId": "047ba5ab-3a88-4a73-bacf-1b0cfb998bb9"
      },
      "source": [
        "df.sort_values([\"tip\",\"size\"])"
      ],
      "execution_count": null,
      "outputs": [
        {
          "output_type": "execute_result",
          "data": {
            "text/html": [
              "<div>\n",
              "<style scoped>\n",
              "    .dataframe tbody tr th:only-of-type {\n",
              "        vertical-align: middle;\n",
              "    }\n",
              "\n",
              "    .dataframe tbody tr th {\n",
              "        vertical-align: top;\n",
              "    }\n",
              "\n",
              "    .dataframe thead th {\n",
              "        text-align: right;\n",
              "    }\n",
              "</style>\n",
              "<table border=\"1\" class=\"dataframe\">\n",
              "  <thead>\n",
              "    <tr style=\"text-align: right;\">\n",
              "      <th></th>\n",
              "      <th>total_bill</th>\n",
              "      <th>tip</th>\n",
              "      <th>sex</th>\n",
              "      <th>smoker</th>\n",
              "      <th>day</th>\n",
              "      <th>time</th>\n",
              "      <th>size</th>\n",
              "      <th>price_per_person</th>\n",
              "      <th>Payer Name</th>\n",
              "      <th>CC Number</th>\n",
              "      <th>Payment ID</th>\n",
              "    </tr>\n",
              "  </thead>\n",
              "  <tbody>\n",
              "    <tr>\n",
              "      <th>67</th>\n",
              "      <td>3.07</td>\n",
              "      <td>1.00</td>\n",
              "      <td>Female</td>\n",
              "      <td>Yes</td>\n",
              "      <td>Sat</td>\n",
              "      <td>Dinner</td>\n",
              "      <td>1</td>\n",
              "      <td>3.07</td>\n",
              "      <td>Tiffany Brock</td>\n",
              "      <td>4359488526995267</td>\n",
              "      <td>Sat3455</td>\n",
              "    </tr>\n",
              "    <tr>\n",
              "      <th>111</th>\n",
              "      <td>7.25</td>\n",
              "      <td>1.00</td>\n",
              "      <td>Female</td>\n",
              "      <td>No</td>\n",
              "      <td>Sat</td>\n",
              "      <td>Dinner</td>\n",
              "      <td>1</td>\n",
              "      <td>7.25</td>\n",
              "      <td>Terri Jones</td>\n",
              "      <td>3559221007826887</td>\n",
              "      <td>Sat4801</td>\n",
              "    </tr>\n",
              "    <tr>\n",
              "      <th>92</th>\n",
              "      <td>5.75</td>\n",
              "      <td>1.00</td>\n",
              "      <td>Female</td>\n",
              "      <td>Yes</td>\n",
              "      <td>Fri</td>\n",
              "      <td>Dinner</td>\n",
              "      <td>2</td>\n",
              "      <td>2.88</td>\n",
              "      <td>Leah Ramirez</td>\n",
              "      <td>3508911676966392</td>\n",
              "      <td>Fri3780</td>\n",
              "    </tr>\n",
              "    <tr>\n",
              "      <th>236</th>\n",
              "      <td>12.60</td>\n",
              "      <td>1.00</td>\n",
              "      <td>Male</td>\n",
              "      <td>Yes</td>\n",
              "      <td>Sat</td>\n",
              "      <td>Dinner</td>\n",
              "      <td>2</td>\n",
              "      <td>6.30</td>\n",
              "      <td>Matthew Myers</td>\n",
              "      <td>3543676378973965</td>\n",
              "      <td>Sat5032</td>\n",
              "    </tr>\n",
              "    <tr>\n",
              "      <th>0</th>\n",
              "      <td>16.99</td>\n",
              "      <td>1.01</td>\n",
              "      <td>Female</td>\n",
              "      <td>No</td>\n",
              "      <td>Sun</td>\n",
              "      <td>Dinner</td>\n",
              "      <td>2</td>\n",
              "      <td>8.49</td>\n",
              "      <td>Christy Cunningham</td>\n",
              "      <td>3560325168603410</td>\n",
              "      <td>Sun2959</td>\n",
              "    </tr>\n",
              "    <tr>\n",
              "      <th>...</th>\n",
              "      <td>...</td>\n",
              "      <td>...</td>\n",
              "      <td>...</td>\n",
              "      <td>...</td>\n",
              "      <td>...</td>\n",
              "      <td>...</td>\n",
              "      <td>...</td>\n",
              "      <td>...</td>\n",
              "      <td>...</td>\n",
              "      <td>...</td>\n",
              "      <td>...</td>\n",
              "    </tr>\n",
              "    <tr>\n",
              "      <th>141</th>\n",
              "      <td>34.30</td>\n",
              "      <td>6.70</td>\n",
              "      <td>Male</td>\n",
              "      <td>No</td>\n",
              "      <td>Thur</td>\n",
              "      <td>Lunch</td>\n",
              "      <td>6</td>\n",
              "      <td>5.72</td>\n",
              "      <td>Steven Carlson</td>\n",
              "      <td>3526515703718508</td>\n",
              "      <td>Thur1025</td>\n",
              "    </tr>\n",
              "    <tr>\n",
              "      <th>59</th>\n",
              "      <td>48.27</td>\n",
              "      <td>6.73</td>\n",
              "      <td>Male</td>\n",
              "      <td>No</td>\n",
              "      <td>Sat</td>\n",
              "      <td>Dinner</td>\n",
              "      <td>4</td>\n",
              "      <td>12.07</td>\n",
              "      <td>Brian Ortiz</td>\n",
              "      <td>6596453823950595</td>\n",
              "      <td>Sat8139</td>\n",
              "    </tr>\n",
              "    <tr>\n",
              "      <th>23</th>\n",
              "      <td>39.42</td>\n",
              "      <td>7.58</td>\n",
              "      <td>Male</td>\n",
              "      <td>No</td>\n",
              "      <td>Sat</td>\n",
              "      <td>Dinner</td>\n",
              "      <td>4</td>\n",
              "      <td>9.86</td>\n",
              "      <td>Lance Peterson</td>\n",
              "      <td>3542584061609808</td>\n",
              "      <td>Sat239</td>\n",
              "    </tr>\n",
              "    <tr>\n",
              "      <th>212</th>\n",
              "      <td>48.33</td>\n",
              "      <td>9.00</td>\n",
              "      <td>Male</td>\n",
              "      <td>No</td>\n",
              "      <td>Sat</td>\n",
              "      <td>Dinner</td>\n",
              "      <td>4</td>\n",
              "      <td>12.08</td>\n",
              "      <td>Alex Williamson</td>\n",
              "      <td>676218815212</td>\n",
              "      <td>Sat4590</td>\n",
              "    </tr>\n",
              "    <tr>\n",
              "      <th>170</th>\n",
              "      <td>50.81</td>\n",
              "      <td>10.00</td>\n",
              "      <td>Male</td>\n",
              "      <td>Yes</td>\n",
              "      <td>Sat</td>\n",
              "      <td>Dinner</td>\n",
              "      <td>3</td>\n",
              "      <td>16.94</td>\n",
              "      <td>Gregory Clark</td>\n",
              "      <td>5473850968388236</td>\n",
              "      <td>Sat1954</td>\n",
              "    </tr>\n",
              "  </tbody>\n",
              "</table>\n",
              "<p>244 rows × 11 columns</p>\n",
              "</div>"
            ],
            "text/plain": [
              "     total_bill    tip     sex smoker   day    time  size  price_per_person  \\\n",
              "67         3.07   1.00  Female    Yes   Sat  Dinner     1              3.07   \n",
              "111        7.25   1.00  Female     No   Sat  Dinner     1              7.25   \n",
              "92         5.75   1.00  Female    Yes   Fri  Dinner     2              2.88   \n",
              "236       12.60   1.00    Male    Yes   Sat  Dinner     2              6.30   \n",
              "0         16.99   1.01  Female     No   Sun  Dinner     2              8.49   \n",
              "..          ...    ...     ...    ...   ...     ...   ...               ...   \n",
              "141       34.30   6.70    Male     No  Thur   Lunch     6              5.72   \n",
              "59        48.27   6.73    Male     No   Sat  Dinner     4             12.07   \n",
              "23        39.42   7.58    Male     No   Sat  Dinner     4              9.86   \n",
              "212       48.33   9.00    Male     No   Sat  Dinner     4             12.08   \n",
              "170       50.81  10.00    Male    Yes   Sat  Dinner     3             16.94   \n",
              "\n",
              "             Payer Name         CC Number Payment ID  \n",
              "67        Tiffany Brock  4359488526995267    Sat3455  \n",
              "111         Terri Jones  3559221007826887    Sat4801  \n",
              "92         Leah Ramirez  3508911676966392    Fri3780  \n",
              "236       Matthew Myers  3543676378973965    Sat5032  \n",
              "0    Christy Cunningham  3560325168603410    Sun2959  \n",
              "..                  ...               ...        ...  \n",
              "141      Steven Carlson  3526515703718508   Thur1025  \n",
              "59          Brian Ortiz  6596453823950595    Sat8139  \n",
              "23       Lance Peterson  3542584061609808     Sat239  \n",
              "212     Alex Williamson      676218815212    Sat4590  \n",
              "170       Gregory Clark  5473850968388236    Sat1954  \n",
              "\n",
              "[244 rows x 11 columns]"
            ]
          },
          "metadata": {
            "tags": []
          },
          "execution_count": 81
        }
      ]
    },
    {
      "cell_type": "code",
      "metadata": {
        "id": "rfAI3SyBKwje",
        "outputId": "5154b87b-9f74-4cbb-e3d9-a163d803551e"
      },
      "source": [
        "df[\"total_bill\"].max()"
      ],
      "execution_count": null,
      "outputs": [
        {
          "output_type": "execute_result",
          "data": {
            "text/plain": [
              "50.81"
            ]
          },
          "metadata": {
            "tags": []
          },
          "execution_count": 82
        }
      ]
    },
    {
      "cell_type": "code",
      "metadata": {
        "id": "vtDbEGbQKwje",
        "outputId": "a7595bfe-af4e-4da4-aba1-743acbc0c965"
      },
      "source": [
        "df[\"total_bill\"].argmax() \n",
        "# or you can use df[\"total_bill\"].idxmax()"
      ],
      "execution_count": null,
      "outputs": [
        {
          "output_type": "execute_result",
          "data": {
            "text/plain": [
              "170"
            ]
          },
          "metadata": {
            "tags": []
          },
          "execution_count": 83
        }
      ]
    },
    {
      "cell_type": "code",
      "metadata": {
        "id": "BNm-m3tnKwje",
        "outputId": "8bc87fb0-07c8-45cf-e961-c4cb5e6d8d04"
      },
      "source": [
        "df.iloc[170]"
      ],
      "execution_count": null,
      "outputs": [
        {
          "output_type": "execute_result",
          "data": {
            "text/plain": [
              "total_bill                     50.81\n",
              "tip                               10\n",
              "sex                             Male\n",
              "smoker                           Yes\n",
              "day                              Sat\n",
              "time                          Dinner\n",
              "size                               3\n",
              "price_per_person               16.94\n",
              "Payer Name             Gregory Clark\n",
              "CC Number           5473850968388236\n",
              "Payment ID                   Sat1954\n",
              "Name: 170, dtype: object"
            ]
          },
          "metadata": {
            "tags": []
          },
          "execution_count": 84
        }
      ]
    },
    {
      "cell_type": "code",
      "metadata": {
        "id": "-pQWyjSkKwje",
        "outputId": "31bfc8d8-1746-4785-ad02-39a2aab2194e"
      },
      "source": [
        "# total_bill minimum values\n",
        "df[\"total_bill\"].min()"
      ],
      "execution_count": null,
      "outputs": [
        {
          "output_type": "execute_result",
          "data": {
            "text/plain": [
              "3.07"
            ]
          },
          "metadata": {
            "tags": []
          },
          "execution_count": 85
        }
      ]
    },
    {
      "cell_type": "code",
      "metadata": {
        "id": "KbPMjzblKwje",
        "outputId": "ee848cbd-66fd-4265-ea24-765d2764bf98"
      },
      "source": [
        "# Index of total_bill minimum value \n",
        "df[\"total_bill\"].idxmin()"
      ],
      "execution_count": null,
      "outputs": [
        {
          "output_type": "execute_result",
          "data": {
            "text/plain": [
              "67"
            ]
          },
          "metadata": {
            "tags": []
          },
          "execution_count": 86
        }
      ]
    },
    {
      "cell_type": "code",
      "metadata": {
        "id": "m2glFrW_Kwje",
        "outputId": "1ad149cc-596f-4ab7-d3da-93a4883b4d4b"
      },
      "source": [
        "df.iloc[67]"
      ],
      "execution_count": null,
      "outputs": [
        {
          "output_type": "execute_result",
          "data": {
            "text/plain": [
              "total_bill                      3.07\n",
              "tip                                1\n",
              "sex                           Female\n",
              "smoker                           Yes\n",
              "day                              Sat\n",
              "time                          Dinner\n",
              "size                               1\n",
              "price_per_person                3.07\n",
              "Payer Name             Tiffany Brock\n",
              "CC Number           4359488526995267\n",
              "Payment ID                   Sat3455\n",
              "Name: 67, dtype: object"
            ]
          },
          "metadata": {
            "tags": []
          },
          "execution_count": 87
        }
      ]
    },
    {
      "cell_type": "code",
      "metadata": {
        "id": "Oemw8HsyKwje",
        "outputId": "7c863644-f5be-423e-be01-373d5e5054db"
      },
      "source": [
        "# checking correlation between variables\n",
        "df.corr()"
      ],
      "execution_count": null,
      "outputs": [
        {
          "output_type": "execute_result",
          "data": {
            "text/html": [
              "<div>\n",
              "<style scoped>\n",
              "    .dataframe tbody tr th:only-of-type {\n",
              "        vertical-align: middle;\n",
              "    }\n",
              "\n",
              "    .dataframe tbody tr th {\n",
              "        vertical-align: top;\n",
              "    }\n",
              "\n",
              "    .dataframe thead th {\n",
              "        text-align: right;\n",
              "    }\n",
              "</style>\n",
              "<table border=\"1\" class=\"dataframe\">\n",
              "  <thead>\n",
              "    <tr style=\"text-align: right;\">\n",
              "      <th></th>\n",
              "      <th>total_bill</th>\n",
              "      <th>tip</th>\n",
              "      <th>size</th>\n",
              "      <th>price_per_person</th>\n",
              "      <th>CC Number</th>\n",
              "    </tr>\n",
              "  </thead>\n",
              "  <tbody>\n",
              "    <tr>\n",
              "      <th>total_bill</th>\n",
              "      <td>1.000000</td>\n",
              "      <td>0.675734</td>\n",
              "      <td>0.598315</td>\n",
              "      <td>0.647554</td>\n",
              "      <td>0.104576</td>\n",
              "    </tr>\n",
              "    <tr>\n",
              "      <th>tip</th>\n",
              "      <td>0.675734</td>\n",
              "      <td>1.000000</td>\n",
              "      <td>0.489299</td>\n",
              "      <td>0.347405</td>\n",
              "      <td>0.110857</td>\n",
              "    </tr>\n",
              "    <tr>\n",
              "      <th>size</th>\n",
              "      <td>0.598315</td>\n",
              "      <td>0.489299</td>\n",
              "      <td>1.000000</td>\n",
              "      <td>-0.175359</td>\n",
              "      <td>-0.030239</td>\n",
              "    </tr>\n",
              "    <tr>\n",
              "      <th>price_per_person</th>\n",
              "      <td>0.647554</td>\n",
              "      <td>0.347405</td>\n",
              "      <td>-0.175359</td>\n",
              "      <td>1.000000</td>\n",
              "      <td>0.135240</td>\n",
              "    </tr>\n",
              "    <tr>\n",
              "      <th>CC Number</th>\n",
              "      <td>0.104576</td>\n",
              "      <td>0.110857</td>\n",
              "      <td>-0.030239</td>\n",
              "      <td>0.135240</td>\n",
              "      <td>1.000000</td>\n",
              "    </tr>\n",
              "  </tbody>\n",
              "</table>\n",
              "</div>"
            ],
            "text/plain": [
              "                  total_bill       tip      size  price_per_person  CC Number\n",
              "total_bill          1.000000  0.675734  0.598315          0.647554   0.104576\n",
              "tip                 0.675734  1.000000  0.489299          0.347405   0.110857\n",
              "size                0.598315  0.489299  1.000000         -0.175359  -0.030239\n",
              "price_per_person    0.647554  0.347405 -0.175359          1.000000   0.135240\n",
              "CC Number           0.104576  0.110857 -0.030239          0.135240   1.000000"
            ]
          },
          "metadata": {
            "tags": []
          },
          "execution_count": 88
        }
      ]
    },
    {
      "cell_type": "code",
      "metadata": {
        "id": "eQTv1gddKwje",
        "outputId": "4b1087d9-56db-4b94-8458-5a3538641b6e"
      },
      "source": [
        "#  to check how many counts of male and female\n",
        "df[\"sex\"].value_counts()"
      ],
      "execution_count": null,
      "outputs": [
        {
          "output_type": "execute_result",
          "data": {
            "text/plain": [
              "Male      157\n",
              "Female     87\n",
              "Name: sex, dtype: int64"
            ]
          },
          "metadata": {
            "tags": []
          },
          "execution_count": 89
        }
      ]
    },
    {
      "cell_type": "code",
      "metadata": {
        "id": "92ys1vo2Kwjf",
        "outputId": "005b71c7-a3fd-4727-8ff7-fd491297fbc2"
      },
      "source": [
        "# Returns unique values\n",
        "df[\"day\"].unique()"
      ],
      "execution_count": null,
      "outputs": [
        {
          "output_type": "execute_result",
          "data": {
            "text/plain": [
              "array(['Sun', 'Sat', 'Thur', 'Fri'], dtype=object)"
            ]
          },
          "metadata": {
            "tags": []
          },
          "execution_count": 90
        }
      ]
    },
    {
      "cell_type": "code",
      "metadata": {
        "id": "uRGK-VHaKwjf",
        "outputId": "2dceffeb-1a14-4980-a2b8-d39e7137b08b"
      },
      "source": [
        "# Length of unique values\n",
        "df[\"day\"].nunique()"
      ],
      "execution_count": null,
      "outputs": [
        {
          "output_type": "execute_result",
          "data": {
            "text/plain": [
              "4"
            ]
          },
          "metadata": {
            "tags": []
          },
          "execution_count": 91
        }
      ]
    },
    {
      "cell_type": "code",
      "metadata": {
        "id": "S7_vkvjFKwjf",
        "outputId": "89c8e551-0334-4c89-e80a-2f622c19923b"
      },
      "source": [
        "# value_counts() is a function used to get a series containing counts of unique values\n",
        "df[\"day\"].value_counts()"
      ],
      "execution_count": null,
      "outputs": [
        {
          "output_type": "execute_result",
          "data": {
            "text/plain": [
              "Sat     87\n",
              "Sun     76\n",
              "Thur    62\n",
              "Fri     19\n",
              "Name: day, dtype: int64"
            ]
          },
          "metadata": {
            "tags": []
          },
          "execution_count": 92
        }
      ]
    },
    {
      "cell_type": "code",
      "metadata": {
        "id": "u8YpY4__Kwjf",
        "outputId": "912e3eaa-1ae4-4c05-e356-272f0c1a9dd6"
      },
      "source": [
        "# Replace male as 1 and Female as 0 and Male as 1 using .repalce()\n",
        "df[\"sex\"].replace([\"Female\",\"Male\"],[0,1])"
      ],
      "execution_count": null,
      "outputs": [
        {
          "output_type": "execute_result",
          "data": {
            "text/plain": [
              "0      0\n",
              "1      1\n",
              "2      1\n",
              "3      1\n",
              "4      0\n",
              "      ..\n",
              "239    1\n",
              "240    0\n",
              "241    1\n",
              "242    1\n",
              "243    0\n",
              "Name: sex, Length: 244, dtype: int64"
            ]
          },
          "metadata": {
            "tags": []
          },
          "execution_count": 93
        }
      ]
    },
    {
      "cell_type": "code",
      "metadata": {
        "id": "8RVlAen9Kwjf",
        "outputId": "8159846a-a14e-4710-d1cb-026c0344902f"
      },
      "source": [
        "# Replace male as 1 and female as 0 using .map()\n",
        "df[\"sex\"].map({\"Female\":0,\"Male\":1})"
      ],
      "execution_count": null,
      "outputs": [
        {
          "output_type": "execute_result",
          "data": {
            "text/plain": [
              "0      0\n",
              "1      1\n",
              "2      1\n",
              "3      1\n",
              "4      0\n",
              "      ..\n",
              "239    1\n",
              "240    0\n",
              "241    1\n",
              "242    1\n",
              "243    0\n",
              "Name: sex, Length: 244, dtype: int64"
            ]
          },
          "metadata": {
            "tags": []
          },
          "execution_count": 94
        }
      ]
    },
    {
      "cell_type": "code",
      "metadata": {
        "id": "79wOmPIDKwjf",
        "outputId": "f455104d-6958-421b-84a4-69e55333dc1b"
      },
      "source": [
        "# To get duplicate values\n",
        "df.duplicated()"
      ],
      "execution_count": null,
      "outputs": [
        {
          "output_type": "execute_result",
          "data": {
            "text/plain": [
              "0      False\n",
              "1      False\n",
              "2      False\n",
              "3      False\n",
              "4      False\n",
              "       ...  \n",
              "239    False\n",
              "240    False\n",
              "241    False\n",
              "242    False\n",
              "243    False\n",
              "Length: 244, dtype: bool"
            ]
          },
          "metadata": {
            "tags": []
          },
          "execution_count": 95
        }
      ]
    },
    {
      "cell_type": "code",
      "metadata": {
        "id": "oKjaXqQmKwjf",
        "outputId": "7919c6eb-8de5-4e74-f1f7-dc8393c714b0"
      },
      "source": [
        "# Simple example to use .duplicated()\n",
        "simple_df = pd.DataFrame([1,2,2,2],[\"a\",\"b\",\"c\",\"d\"])\n",
        "simple_df"
      ],
      "execution_count": null,
      "outputs": [
        {
          "output_type": "execute_result",
          "data": {
            "text/html": [
              "<div>\n",
              "<style scoped>\n",
              "    .dataframe tbody tr th:only-of-type {\n",
              "        vertical-align: middle;\n",
              "    }\n",
              "\n",
              "    .dataframe tbody tr th {\n",
              "        vertical-align: top;\n",
              "    }\n",
              "\n",
              "    .dataframe thead th {\n",
              "        text-align: right;\n",
              "    }\n",
              "</style>\n",
              "<table border=\"1\" class=\"dataframe\">\n",
              "  <thead>\n",
              "    <tr style=\"text-align: right;\">\n",
              "      <th></th>\n",
              "      <th>0</th>\n",
              "    </tr>\n",
              "  </thead>\n",
              "  <tbody>\n",
              "    <tr>\n",
              "      <th>a</th>\n",
              "      <td>1</td>\n",
              "    </tr>\n",
              "    <tr>\n",
              "      <th>b</th>\n",
              "      <td>2</td>\n",
              "    </tr>\n",
              "    <tr>\n",
              "      <th>c</th>\n",
              "      <td>2</td>\n",
              "    </tr>\n",
              "    <tr>\n",
              "      <th>d</th>\n",
              "      <td>2</td>\n",
              "    </tr>\n",
              "  </tbody>\n",
              "</table>\n",
              "</div>"
            ],
            "text/plain": [
              "   0\n",
              "a  1\n",
              "b  2\n",
              "c  2\n",
              "d  2"
            ]
          },
          "metadata": {
            "tags": []
          },
          "execution_count": 96
        }
      ]
    },
    {
      "cell_type": "code",
      "metadata": {
        "id": "L2jBehGNKwjf",
        "outputId": "aaf8a6d1-6b5c-4442-8075-2454d25eafbc"
      },
      "source": [
        "simple_df.duplicated()"
      ],
      "execution_count": null,
      "outputs": [
        {
          "output_type": "execute_result",
          "data": {
            "text/plain": [
              "a    False\n",
              "b    False\n",
              "c     True\n",
              "d     True\n",
              "dtype: bool"
            ]
          },
          "metadata": {
            "tags": []
          },
          "execution_count": 97
        }
      ]
    },
    {
      "cell_type": "code",
      "metadata": {
        "id": "g9uT6N6TKwjf",
        "outputId": "6aa5da67-c382-4330-db48-d56a91eddc4b"
      },
      "source": [
        "# To drop duplicates\n",
        "simple_df.drop_duplicates()"
      ],
      "execution_count": null,
      "outputs": [
        {
          "output_type": "execute_result",
          "data": {
            "text/html": [
              "<div>\n",
              "<style scoped>\n",
              "    .dataframe tbody tr th:only-of-type {\n",
              "        vertical-align: middle;\n",
              "    }\n",
              "\n",
              "    .dataframe tbody tr th {\n",
              "        vertical-align: top;\n",
              "    }\n",
              "\n",
              "    .dataframe thead th {\n",
              "        text-align: right;\n",
              "    }\n",
              "</style>\n",
              "<table border=\"1\" class=\"dataframe\">\n",
              "  <thead>\n",
              "    <tr style=\"text-align: right;\">\n",
              "      <th></th>\n",
              "      <th>0</th>\n",
              "    </tr>\n",
              "  </thead>\n",
              "  <tbody>\n",
              "    <tr>\n",
              "      <th>a</th>\n",
              "      <td>1</td>\n",
              "    </tr>\n",
              "    <tr>\n",
              "      <th>b</th>\n",
              "      <td>2</td>\n",
              "    </tr>\n",
              "  </tbody>\n",
              "</table>\n",
              "</div>"
            ],
            "text/plain": [
              "   0\n",
              "a  1\n",
              "b  2"
            ]
          },
          "metadata": {
            "tags": []
          },
          "execution_count": 98
        }
      ]
    },
    {
      "cell_type": "code",
      "metadata": {
        "id": "kUpp0qAMKwjf",
        "outputId": "b01ffa6f-679a-4143-dfeb-5d5f53dcb221"
      },
      "source": [
        "# it returns the total_bill values between 10 and 20\n",
        "df[df[\"total_bill\"].between(10,20,inclusive=True)]"
      ],
      "execution_count": null,
      "outputs": [
        {
          "output_type": "execute_result",
          "data": {
            "text/html": [
              "<div>\n",
              "<style scoped>\n",
              "    .dataframe tbody tr th:only-of-type {\n",
              "        vertical-align: middle;\n",
              "    }\n",
              "\n",
              "    .dataframe tbody tr th {\n",
              "        vertical-align: top;\n",
              "    }\n",
              "\n",
              "    .dataframe thead th {\n",
              "        text-align: right;\n",
              "    }\n",
              "</style>\n",
              "<table border=\"1\" class=\"dataframe\">\n",
              "  <thead>\n",
              "    <tr style=\"text-align: right;\">\n",
              "      <th></th>\n",
              "      <th>total_bill</th>\n",
              "      <th>tip</th>\n",
              "      <th>sex</th>\n",
              "      <th>smoker</th>\n",
              "      <th>day</th>\n",
              "      <th>time</th>\n",
              "      <th>size</th>\n",
              "      <th>price_per_person</th>\n",
              "      <th>Payer Name</th>\n",
              "      <th>CC Number</th>\n",
              "      <th>Payment ID</th>\n",
              "    </tr>\n",
              "  </thead>\n",
              "  <tbody>\n",
              "    <tr>\n",
              "      <th>0</th>\n",
              "      <td>16.99</td>\n",
              "      <td>1.01</td>\n",
              "      <td>Female</td>\n",
              "      <td>No</td>\n",
              "      <td>Sun</td>\n",
              "      <td>Dinner</td>\n",
              "      <td>2</td>\n",
              "      <td>8.49</td>\n",
              "      <td>Christy Cunningham</td>\n",
              "      <td>3560325168603410</td>\n",
              "      <td>Sun2959</td>\n",
              "    </tr>\n",
              "    <tr>\n",
              "      <th>1</th>\n",
              "      <td>10.34</td>\n",
              "      <td>1.66</td>\n",
              "      <td>Male</td>\n",
              "      <td>No</td>\n",
              "      <td>Sun</td>\n",
              "      <td>Dinner</td>\n",
              "      <td>3</td>\n",
              "      <td>3.45</td>\n",
              "      <td>Douglas Tucker</td>\n",
              "      <td>4478071379779230</td>\n",
              "      <td>Sun4608</td>\n",
              "    </tr>\n",
              "    <tr>\n",
              "      <th>8</th>\n",
              "      <td>15.04</td>\n",
              "      <td>1.96</td>\n",
              "      <td>Male</td>\n",
              "      <td>No</td>\n",
              "      <td>Sun</td>\n",
              "      <td>Dinner</td>\n",
              "      <td>2</td>\n",
              "      <td>7.52</td>\n",
              "      <td>Joseph Mcdonald</td>\n",
              "      <td>3522866365840377</td>\n",
              "      <td>Sun6820</td>\n",
              "    </tr>\n",
              "    <tr>\n",
              "      <th>9</th>\n",
              "      <td>14.78</td>\n",
              "      <td>3.23</td>\n",
              "      <td>Male</td>\n",
              "      <td>No</td>\n",
              "      <td>Sun</td>\n",
              "      <td>Dinner</td>\n",
              "      <td>2</td>\n",
              "      <td>7.39</td>\n",
              "      <td>Jerome Abbott</td>\n",
              "      <td>3532124519049786</td>\n",
              "      <td>Sun3775</td>\n",
              "    </tr>\n",
              "    <tr>\n",
              "      <th>10</th>\n",
              "      <td>10.27</td>\n",
              "      <td>1.71</td>\n",
              "      <td>Male</td>\n",
              "      <td>No</td>\n",
              "      <td>Sun</td>\n",
              "      <td>Dinner</td>\n",
              "      <td>2</td>\n",
              "      <td>5.14</td>\n",
              "      <td>William Riley</td>\n",
              "      <td>566287581219</td>\n",
              "      <td>Sun2546</td>\n",
              "    </tr>\n",
              "    <tr>\n",
              "      <th>...</th>\n",
              "      <td>...</td>\n",
              "      <td>...</td>\n",
              "      <td>...</td>\n",
              "      <td>...</td>\n",
              "      <td>...</td>\n",
              "      <td>...</td>\n",
              "      <td>...</td>\n",
              "      <td>...</td>\n",
              "      <td>...</td>\n",
              "      <td>...</td>\n",
              "      <td>...</td>\n",
              "    </tr>\n",
              "    <tr>\n",
              "      <th>234</th>\n",
              "      <td>15.53</td>\n",
              "      <td>3.00</td>\n",
              "      <td>Male</td>\n",
              "      <td>Yes</td>\n",
              "      <td>Sat</td>\n",
              "      <td>Dinner</td>\n",
              "      <td>2</td>\n",
              "      <td>7.76</td>\n",
              "      <td>Tracy Douglas</td>\n",
              "      <td>4097938155941930</td>\n",
              "      <td>Sat7220</td>\n",
              "    </tr>\n",
              "    <tr>\n",
              "      <th>235</th>\n",
              "      <td>10.07</td>\n",
              "      <td>1.25</td>\n",
              "      <td>Male</td>\n",
              "      <td>No</td>\n",
              "      <td>Sat</td>\n",
              "      <td>Dinner</td>\n",
              "      <td>2</td>\n",
              "      <td>5.04</td>\n",
              "      <td>Sean Gonzalez</td>\n",
              "      <td>3534021246117605</td>\n",
              "      <td>Sat4615</td>\n",
              "    </tr>\n",
              "    <tr>\n",
              "      <th>236</th>\n",
              "      <td>12.60</td>\n",
              "      <td>1.00</td>\n",
              "      <td>Male</td>\n",
              "      <td>Yes</td>\n",
              "      <td>Sat</td>\n",
              "      <td>Dinner</td>\n",
              "      <td>2</td>\n",
              "      <td>6.30</td>\n",
              "      <td>Matthew Myers</td>\n",
              "      <td>3543676378973965</td>\n",
              "      <td>Sat5032</td>\n",
              "    </tr>\n",
              "    <tr>\n",
              "      <th>242</th>\n",
              "      <td>17.82</td>\n",
              "      <td>1.75</td>\n",
              "      <td>Male</td>\n",
              "      <td>No</td>\n",
              "      <td>Sat</td>\n",
              "      <td>Dinner</td>\n",
              "      <td>2</td>\n",
              "      <td>8.91</td>\n",
              "      <td>Dennis Dixon</td>\n",
              "      <td>4375220550950</td>\n",
              "      <td>Sat17</td>\n",
              "    </tr>\n",
              "    <tr>\n",
              "      <th>243</th>\n",
              "      <td>18.78</td>\n",
              "      <td>3.00</td>\n",
              "      <td>Female</td>\n",
              "      <td>No</td>\n",
              "      <td>Thur</td>\n",
              "      <td>Dinner</td>\n",
              "      <td>2</td>\n",
              "      <td>9.39</td>\n",
              "      <td>Michelle Hardin</td>\n",
              "      <td>3511451626698139</td>\n",
              "      <td>Thur672</td>\n",
              "    </tr>\n",
              "  </tbody>\n",
              "</table>\n",
              "<p>130 rows × 11 columns</p>\n",
              "</div>"
            ],
            "text/plain": [
              "     total_bill   tip     sex smoker   day    time  size  price_per_person  \\\n",
              "0         16.99  1.01  Female     No   Sun  Dinner     2              8.49   \n",
              "1         10.34  1.66    Male     No   Sun  Dinner     3              3.45   \n",
              "8         15.04  1.96    Male     No   Sun  Dinner     2              7.52   \n",
              "9         14.78  3.23    Male     No   Sun  Dinner     2              7.39   \n",
              "10        10.27  1.71    Male     No   Sun  Dinner     2              5.14   \n",
              "..          ...   ...     ...    ...   ...     ...   ...               ...   \n",
              "234       15.53  3.00    Male    Yes   Sat  Dinner     2              7.76   \n",
              "235       10.07  1.25    Male     No   Sat  Dinner     2              5.04   \n",
              "236       12.60  1.00    Male    Yes   Sat  Dinner     2              6.30   \n",
              "242       17.82  1.75    Male     No   Sat  Dinner     2              8.91   \n",
              "243       18.78  3.00  Female     No  Thur  Dinner     2              9.39   \n",
              "\n",
              "             Payer Name         CC Number Payment ID  \n",
              "0    Christy Cunningham  3560325168603410    Sun2959  \n",
              "1        Douglas Tucker  4478071379779230    Sun4608  \n",
              "8       Joseph Mcdonald  3522866365840377    Sun6820  \n",
              "9         Jerome Abbott  3532124519049786    Sun3775  \n",
              "10        William Riley      566287581219    Sun2546  \n",
              "..                  ...               ...        ...  \n",
              "234       Tracy Douglas  4097938155941930    Sat7220  \n",
              "235       Sean Gonzalez  3534021246117605    Sat4615  \n",
              "236       Matthew Myers  3543676378973965    Sat5032  \n",
              "242        Dennis Dixon     4375220550950      Sat17  \n",
              "243     Michelle Hardin  3511451626698139    Thur672  \n",
              "\n",
              "[130 rows x 11 columns]"
            ]
          },
          "metadata": {
            "tags": []
          },
          "execution_count": 99
        }
      ]
    },
    {
      "cell_type": "code",
      "metadata": {
        "id": "NHUO5GVhKwjf",
        "outputId": "93e73729-b3e1-4703-e347-ae9eb07d8637"
      },
      "source": [
        "# It returns top 2 rows based on tip values\n",
        "df.nlargest(2,\"tip\")"
      ],
      "execution_count": null,
      "outputs": [
        {
          "output_type": "execute_result",
          "data": {
            "text/html": [
              "<div>\n",
              "<style scoped>\n",
              "    .dataframe tbody tr th:only-of-type {\n",
              "        vertical-align: middle;\n",
              "    }\n",
              "\n",
              "    .dataframe tbody tr th {\n",
              "        vertical-align: top;\n",
              "    }\n",
              "\n",
              "    .dataframe thead th {\n",
              "        text-align: right;\n",
              "    }\n",
              "</style>\n",
              "<table border=\"1\" class=\"dataframe\">\n",
              "  <thead>\n",
              "    <tr style=\"text-align: right;\">\n",
              "      <th></th>\n",
              "      <th>total_bill</th>\n",
              "      <th>tip</th>\n",
              "      <th>sex</th>\n",
              "      <th>smoker</th>\n",
              "      <th>day</th>\n",
              "      <th>time</th>\n",
              "      <th>size</th>\n",
              "      <th>price_per_person</th>\n",
              "      <th>Payer Name</th>\n",
              "      <th>CC Number</th>\n",
              "      <th>Payment ID</th>\n",
              "    </tr>\n",
              "  </thead>\n",
              "  <tbody>\n",
              "    <tr>\n",
              "      <th>170</th>\n",
              "      <td>50.81</td>\n",
              "      <td>10.0</td>\n",
              "      <td>Male</td>\n",
              "      <td>Yes</td>\n",
              "      <td>Sat</td>\n",
              "      <td>Dinner</td>\n",
              "      <td>3</td>\n",
              "      <td>16.94</td>\n",
              "      <td>Gregory Clark</td>\n",
              "      <td>5473850968388236</td>\n",
              "      <td>Sat1954</td>\n",
              "    </tr>\n",
              "    <tr>\n",
              "      <th>212</th>\n",
              "      <td>48.33</td>\n",
              "      <td>9.0</td>\n",
              "      <td>Male</td>\n",
              "      <td>No</td>\n",
              "      <td>Sat</td>\n",
              "      <td>Dinner</td>\n",
              "      <td>4</td>\n",
              "      <td>12.08</td>\n",
              "      <td>Alex Williamson</td>\n",
              "      <td>676218815212</td>\n",
              "      <td>Sat4590</td>\n",
              "    </tr>\n",
              "  </tbody>\n",
              "</table>\n",
              "</div>"
            ],
            "text/plain": [
              "     total_bill   tip   sex smoker  day    time  size  price_per_person  \\\n",
              "170       50.81  10.0  Male    Yes  Sat  Dinner     3             16.94   \n",
              "212       48.33   9.0  Male     No  Sat  Dinner     4             12.08   \n",
              "\n",
              "          Payer Name         CC Number Payment ID  \n",
              "170    Gregory Clark  5473850968388236    Sat1954  \n",
              "212  Alex Williamson      676218815212    Sat4590  "
            ]
          },
          "metadata": {
            "tags": []
          },
          "execution_count": 100
        }
      ]
    },
    {
      "cell_type": "code",
      "metadata": {
        "id": "bgYffe7gKwjf",
        "outputId": "fb148bf8-5f83-498f-849a-8a5007f932ef"
      },
      "source": [
        "df.sort_values(\"tip\",ascending=False).iloc[0:2]"
      ],
      "execution_count": null,
      "outputs": [
        {
          "output_type": "execute_result",
          "data": {
            "text/html": [
              "<div>\n",
              "<style scoped>\n",
              "    .dataframe tbody tr th:only-of-type {\n",
              "        vertical-align: middle;\n",
              "    }\n",
              "\n",
              "    .dataframe tbody tr th {\n",
              "        vertical-align: top;\n",
              "    }\n",
              "\n",
              "    .dataframe thead th {\n",
              "        text-align: right;\n",
              "    }\n",
              "</style>\n",
              "<table border=\"1\" class=\"dataframe\">\n",
              "  <thead>\n",
              "    <tr style=\"text-align: right;\">\n",
              "      <th></th>\n",
              "      <th>total_bill</th>\n",
              "      <th>tip</th>\n",
              "      <th>sex</th>\n",
              "      <th>smoker</th>\n",
              "      <th>day</th>\n",
              "      <th>time</th>\n",
              "      <th>size</th>\n",
              "      <th>price_per_person</th>\n",
              "      <th>Payer Name</th>\n",
              "      <th>CC Number</th>\n",
              "      <th>Payment ID</th>\n",
              "    </tr>\n",
              "  </thead>\n",
              "  <tbody>\n",
              "    <tr>\n",
              "      <th>170</th>\n",
              "      <td>50.81</td>\n",
              "      <td>10.0</td>\n",
              "      <td>Male</td>\n",
              "      <td>Yes</td>\n",
              "      <td>Sat</td>\n",
              "      <td>Dinner</td>\n",
              "      <td>3</td>\n",
              "      <td>16.94</td>\n",
              "      <td>Gregory Clark</td>\n",
              "      <td>5473850968388236</td>\n",
              "      <td>Sat1954</td>\n",
              "    </tr>\n",
              "    <tr>\n",
              "      <th>212</th>\n",
              "      <td>48.33</td>\n",
              "      <td>9.0</td>\n",
              "      <td>Male</td>\n",
              "      <td>No</td>\n",
              "      <td>Sat</td>\n",
              "      <td>Dinner</td>\n",
              "      <td>4</td>\n",
              "      <td>12.08</td>\n",
              "      <td>Alex Williamson</td>\n",
              "      <td>676218815212</td>\n",
              "      <td>Sat4590</td>\n",
              "    </tr>\n",
              "  </tbody>\n",
              "</table>\n",
              "</div>"
            ],
            "text/plain": [
              "     total_bill   tip   sex smoker  day    time  size  price_per_person  \\\n",
              "170       50.81  10.0  Male    Yes  Sat  Dinner     3             16.94   \n",
              "212       48.33   9.0  Male     No  Sat  Dinner     4             12.08   \n",
              "\n",
              "          Payer Name         CC Number Payment ID  \n",
              "170    Gregory Clark  5473850968388236    Sat1954  \n",
              "212  Alex Williamson      676218815212    Sat4590  "
            ]
          },
          "metadata": {
            "tags": []
          },
          "execution_count": 101
        }
      ]
    },
    {
      "cell_type": "code",
      "metadata": {
        "id": "gHZMkTWoKwjf",
        "outputId": "ed3c28dc-5d3b-40c9-cf41-7d0d13698615"
      },
      "source": [
        "# It returns top 2 rows who paid less tip\n",
        "df.nsmallest(2,\"tip\")"
      ],
      "execution_count": null,
      "outputs": [
        {
          "output_type": "execute_result",
          "data": {
            "text/html": [
              "<div>\n",
              "<style scoped>\n",
              "    .dataframe tbody tr th:only-of-type {\n",
              "        vertical-align: middle;\n",
              "    }\n",
              "\n",
              "    .dataframe tbody tr th {\n",
              "        vertical-align: top;\n",
              "    }\n",
              "\n",
              "    .dataframe thead th {\n",
              "        text-align: right;\n",
              "    }\n",
              "</style>\n",
              "<table border=\"1\" class=\"dataframe\">\n",
              "  <thead>\n",
              "    <tr style=\"text-align: right;\">\n",
              "      <th></th>\n",
              "      <th>total_bill</th>\n",
              "      <th>tip</th>\n",
              "      <th>sex</th>\n",
              "      <th>smoker</th>\n",
              "      <th>day</th>\n",
              "      <th>time</th>\n",
              "      <th>size</th>\n",
              "      <th>price_per_person</th>\n",
              "      <th>Payer Name</th>\n",
              "      <th>CC Number</th>\n",
              "      <th>Payment ID</th>\n",
              "    </tr>\n",
              "  </thead>\n",
              "  <tbody>\n",
              "    <tr>\n",
              "      <th>67</th>\n",
              "      <td>3.07</td>\n",
              "      <td>1.0</td>\n",
              "      <td>Female</td>\n",
              "      <td>Yes</td>\n",
              "      <td>Sat</td>\n",
              "      <td>Dinner</td>\n",
              "      <td>1</td>\n",
              "      <td>3.07</td>\n",
              "      <td>Tiffany Brock</td>\n",
              "      <td>4359488526995267</td>\n",
              "      <td>Sat3455</td>\n",
              "    </tr>\n",
              "    <tr>\n",
              "      <th>92</th>\n",
              "      <td>5.75</td>\n",
              "      <td>1.0</td>\n",
              "      <td>Female</td>\n",
              "      <td>Yes</td>\n",
              "      <td>Fri</td>\n",
              "      <td>Dinner</td>\n",
              "      <td>2</td>\n",
              "      <td>2.88</td>\n",
              "      <td>Leah Ramirez</td>\n",
              "      <td>3508911676966392</td>\n",
              "      <td>Fri3780</td>\n",
              "    </tr>\n",
              "  </tbody>\n",
              "</table>\n",
              "</div>"
            ],
            "text/plain": [
              "    total_bill  tip     sex smoker  day    time  size  price_per_person  \\\n",
              "67        3.07  1.0  Female    Yes  Sat  Dinner     1              3.07   \n",
              "92        5.75  1.0  Female    Yes  Fri  Dinner     2              2.88   \n",
              "\n",
              "       Payer Name         CC Number Payment ID  \n",
              "67  Tiffany Brock  4359488526995267    Sat3455  \n",
              "92   Leah Ramirez  3508911676966392    Fri3780  "
            ]
          },
          "metadata": {
            "tags": []
          },
          "execution_count": 102
        }
      ]
    },
    {
      "cell_type": "code",
      "metadata": {
        "id": "-F7qQXFCKwjf",
        "outputId": "c1ba0884-2a28-48b2-c8e1-fcd07afc565d"
      },
      "source": [
        "df.sort_values(\"tip\",ascending=True).iloc[0:2]"
      ],
      "execution_count": null,
      "outputs": [
        {
          "output_type": "execute_result",
          "data": {
            "text/html": [
              "<div>\n",
              "<style scoped>\n",
              "    .dataframe tbody tr th:only-of-type {\n",
              "        vertical-align: middle;\n",
              "    }\n",
              "\n",
              "    .dataframe tbody tr th {\n",
              "        vertical-align: top;\n",
              "    }\n",
              "\n",
              "    .dataframe thead th {\n",
              "        text-align: right;\n",
              "    }\n",
              "</style>\n",
              "<table border=\"1\" class=\"dataframe\">\n",
              "  <thead>\n",
              "    <tr style=\"text-align: right;\">\n",
              "      <th></th>\n",
              "      <th>total_bill</th>\n",
              "      <th>tip</th>\n",
              "      <th>sex</th>\n",
              "      <th>smoker</th>\n",
              "      <th>day</th>\n",
              "      <th>time</th>\n",
              "      <th>size</th>\n",
              "      <th>price_per_person</th>\n",
              "      <th>Payer Name</th>\n",
              "      <th>CC Number</th>\n",
              "      <th>Payment ID</th>\n",
              "    </tr>\n",
              "  </thead>\n",
              "  <tbody>\n",
              "    <tr>\n",
              "      <th>67</th>\n",
              "      <td>3.07</td>\n",
              "      <td>1.0</td>\n",
              "      <td>Female</td>\n",
              "      <td>Yes</td>\n",
              "      <td>Sat</td>\n",
              "      <td>Dinner</td>\n",
              "      <td>1</td>\n",
              "      <td>3.07</td>\n",
              "      <td>Tiffany Brock</td>\n",
              "      <td>4359488526995267</td>\n",
              "      <td>Sat3455</td>\n",
              "    </tr>\n",
              "    <tr>\n",
              "      <th>236</th>\n",
              "      <td>12.60</td>\n",
              "      <td>1.0</td>\n",
              "      <td>Male</td>\n",
              "      <td>Yes</td>\n",
              "      <td>Sat</td>\n",
              "      <td>Dinner</td>\n",
              "      <td>2</td>\n",
              "      <td>6.30</td>\n",
              "      <td>Matthew Myers</td>\n",
              "      <td>3543676378973965</td>\n",
              "      <td>Sat5032</td>\n",
              "    </tr>\n",
              "  </tbody>\n",
              "</table>\n",
              "</div>"
            ],
            "text/plain": [
              "     total_bill  tip     sex smoker  day    time  size  price_per_person  \\\n",
              "67         3.07  1.0  Female    Yes  Sat  Dinner     1              3.07   \n",
              "236       12.60  1.0    Male    Yes  Sat  Dinner     2              6.30   \n",
              "\n",
              "        Payer Name         CC Number Payment ID  \n",
              "67   Tiffany Brock  4359488526995267    Sat3455  \n",
              "236  Matthew Myers  3543676378973965    Sat5032  "
            ]
          },
          "metadata": {
            "tags": []
          },
          "execution_count": 103
        }
      ]
    },
    {
      "cell_type": "code",
      "metadata": {
        "id": "4lUTBRG7Kwjf",
        "outputId": "1e84be6d-985e-41f2-8c9a-7c280c228117"
      },
      "source": [
        "# It returns 5 random rows\n",
        "df.sample(5)"
      ],
      "execution_count": null,
      "outputs": [
        {
          "output_type": "execute_result",
          "data": {
            "text/html": [
              "<div>\n",
              "<style scoped>\n",
              "    .dataframe tbody tr th:only-of-type {\n",
              "        vertical-align: middle;\n",
              "    }\n",
              "\n",
              "    .dataframe tbody tr th {\n",
              "        vertical-align: top;\n",
              "    }\n",
              "\n",
              "    .dataframe thead th {\n",
              "        text-align: right;\n",
              "    }\n",
              "</style>\n",
              "<table border=\"1\" class=\"dataframe\">\n",
              "  <thead>\n",
              "    <tr style=\"text-align: right;\">\n",
              "      <th></th>\n",
              "      <th>total_bill</th>\n",
              "      <th>tip</th>\n",
              "      <th>sex</th>\n",
              "      <th>smoker</th>\n",
              "      <th>day</th>\n",
              "      <th>time</th>\n",
              "      <th>size</th>\n",
              "      <th>price_per_person</th>\n",
              "      <th>Payer Name</th>\n",
              "      <th>CC Number</th>\n",
              "      <th>Payment ID</th>\n",
              "    </tr>\n",
              "  </thead>\n",
              "  <tbody>\n",
              "    <tr>\n",
              "      <th>169</th>\n",
              "      <td>10.63</td>\n",
              "      <td>2.00</td>\n",
              "      <td>Female</td>\n",
              "      <td>Yes</td>\n",
              "      <td>Sat</td>\n",
              "      <td>Dinner</td>\n",
              "      <td>2</td>\n",
              "      <td>5.32</td>\n",
              "      <td>Amy Hill</td>\n",
              "      <td>3536332481454019</td>\n",
              "      <td>Sat1788</td>\n",
              "    </tr>\n",
              "    <tr>\n",
              "      <th>161</th>\n",
              "      <td>12.66</td>\n",
              "      <td>2.50</td>\n",
              "      <td>Male</td>\n",
              "      <td>No</td>\n",
              "      <td>Sun</td>\n",
              "      <td>Dinner</td>\n",
              "      <td>2</td>\n",
              "      <td>6.33</td>\n",
              "      <td>Brandon Oconnor</td>\n",
              "      <td>4406882156920533</td>\n",
              "      <td>Sun5879</td>\n",
              "    </tr>\n",
              "    <tr>\n",
              "      <th>69</th>\n",
              "      <td>15.01</td>\n",
              "      <td>2.09</td>\n",
              "      <td>Male</td>\n",
              "      <td>Yes</td>\n",
              "      <td>Sat</td>\n",
              "      <td>Dinner</td>\n",
              "      <td>2</td>\n",
              "      <td>7.50</td>\n",
              "      <td>Adam Hall</td>\n",
              "      <td>4700924377057571</td>\n",
              "      <td>Sat855</td>\n",
              "    </tr>\n",
              "    <tr>\n",
              "      <th>222</th>\n",
              "      <td>8.58</td>\n",
              "      <td>1.92</td>\n",
              "      <td>Male</td>\n",
              "      <td>Yes</td>\n",
              "      <td>Fri</td>\n",
              "      <td>Lunch</td>\n",
              "      <td>1</td>\n",
              "      <td>8.58</td>\n",
              "      <td>Jason Lawrence</td>\n",
              "      <td>3505302934650403</td>\n",
              "      <td>Fri6624</td>\n",
              "    </tr>\n",
              "    <tr>\n",
              "      <th>93</th>\n",
              "      <td>16.32</td>\n",
              "      <td>4.30</td>\n",
              "      <td>Female</td>\n",
              "      <td>Yes</td>\n",
              "      <td>Fri</td>\n",
              "      <td>Dinner</td>\n",
              "      <td>2</td>\n",
              "      <td>8.16</td>\n",
              "      <td>Natalie Nguyen</td>\n",
              "      <td>5181236182893396</td>\n",
              "      <td>Fri6963</td>\n",
              "    </tr>\n",
              "  </tbody>\n",
              "</table>\n",
              "</div>"
            ],
            "text/plain": [
              "     total_bill   tip     sex smoker  day    time  size  price_per_person  \\\n",
              "169       10.63  2.00  Female    Yes  Sat  Dinner     2              5.32   \n",
              "161       12.66  2.50    Male     No  Sun  Dinner     2              6.33   \n",
              "69        15.01  2.09    Male    Yes  Sat  Dinner     2              7.50   \n",
              "222        8.58  1.92    Male    Yes  Fri   Lunch     1              8.58   \n",
              "93        16.32  4.30  Female    Yes  Fri  Dinner     2              8.16   \n",
              "\n",
              "          Payer Name         CC Number Payment ID  \n",
              "169         Amy Hill  3536332481454019    Sat1788  \n",
              "161  Brandon Oconnor  4406882156920533    Sun5879  \n",
              "69         Adam Hall  4700924377057571     Sat855  \n",
              "222   Jason Lawrence  3505302934650403    Fri6624  \n",
              "93    Natalie Nguyen  5181236182893396    Fri6963  "
            ]
          },
          "metadata": {
            "tags": []
          },
          "execution_count": 104
        }
      ]
    },
    {
      "cell_type": "code",
      "metadata": {
        "id": "I8xfElDzKwjf",
        "outputId": "7b5b663f-e37b-456d-e60c-a9a01cca5705"
      },
      "source": [
        "# It returns 10% random sample data\n",
        "df.sample(frac=0.1)"
      ],
      "execution_count": null,
      "outputs": [
        {
          "output_type": "execute_result",
          "data": {
            "text/html": [
              "<div>\n",
              "<style scoped>\n",
              "    .dataframe tbody tr th:only-of-type {\n",
              "        vertical-align: middle;\n",
              "    }\n",
              "\n",
              "    .dataframe tbody tr th {\n",
              "        vertical-align: top;\n",
              "    }\n",
              "\n",
              "    .dataframe thead th {\n",
              "        text-align: right;\n",
              "    }\n",
              "</style>\n",
              "<table border=\"1\" class=\"dataframe\">\n",
              "  <thead>\n",
              "    <tr style=\"text-align: right;\">\n",
              "      <th></th>\n",
              "      <th>total_bill</th>\n",
              "      <th>tip</th>\n",
              "      <th>sex</th>\n",
              "      <th>smoker</th>\n",
              "      <th>day</th>\n",
              "      <th>time</th>\n",
              "      <th>size</th>\n",
              "      <th>price_per_person</th>\n",
              "      <th>Payer Name</th>\n",
              "      <th>CC Number</th>\n",
              "      <th>Payment ID</th>\n",
              "    </tr>\n",
              "  </thead>\n",
              "  <tbody>\n",
              "    <tr>\n",
              "      <th>32</th>\n",
              "      <td>15.06</td>\n",
              "      <td>3.00</td>\n",
              "      <td>Female</td>\n",
              "      <td>No</td>\n",
              "      <td>Sat</td>\n",
              "      <td>Dinner</td>\n",
              "      <td>2</td>\n",
              "      <td>7.53</td>\n",
              "      <td>Amanda Wilson</td>\n",
              "      <td>213186304291560</td>\n",
              "      <td>Sat1327</td>\n",
              "    </tr>\n",
              "    <tr>\n",
              "      <th>215</th>\n",
              "      <td>12.90</td>\n",
              "      <td>1.10</td>\n",
              "      <td>Female</td>\n",
              "      <td>Yes</td>\n",
              "      <td>Sat</td>\n",
              "      <td>Dinner</td>\n",
              "      <td>2</td>\n",
              "      <td>6.45</td>\n",
              "      <td>Jessica Owen</td>\n",
              "      <td>4726904879471</td>\n",
              "      <td>Sat6983</td>\n",
              "    </tr>\n",
              "    <tr>\n",
              "      <th>213</th>\n",
              "      <td>13.27</td>\n",
              "      <td>2.50</td>\n",
              "      <td>Female</td>\n",
              "      <td>Yes</td>\n",
              "      <td>Sat</td>\n",
              "      <td>Dinner</td>\n",
              "      <td>2</td>\n",
              "      <td>6.64</td>\n",
              "      <td>Robin Andersen</td>\n",
              "      <td>580140531089</td>\n",
              "      <td>Sat1374</td>\n",
              "    </tr>\n",
              "    <tr>\n",
              "      <th>106</th>\n",
              "      <td>20.49</td>\n",
              "      <td>4.06</td>\n",
              "      <td>Male</td>\n",
              "      <td>Yes</td>\n",
              "      <td>Sat</td>\n",
              "      <td>Dinner</td>\n",
              "      <td>2</td>\n",
              "      <td>10.24</td>\n",
              "      <td>Karl Mcdaniel</td>\n",
              "      <td>180024452771522</td>\n",
              "      <td>Sat7865</td>\n",
              "    </tr>\n",
              "    <tr>\n",
              "      <th>143</th>\n",
              "      <td>27.05</td>\n",
              "      <td>5.00</td>\n",
              "      <td>Female</td>\n",
              "      <td>No</td>\n",
              "      <td>Thur</td>\n",
              "      <td>Lunch</td>\n",
              "      <td>6</td>\n",
              "      <td>4.51</td>\n",
              "      <td>Regina Jones</td>\n",
              "      <td>4311048695487</td>\n",
              "      <td>Thur6179</td>\n",
              "    </tr>\n",
              "    <tr>\n",
              "      <th>98</th>\n",
              "      <td>21.01</td>\n",
              "      <td>3.00</td>\n",
              "      <td>Male</td>\n",
              "      <td>Yes</td>\n",
              "      <td>Fri</td>\n",
              "      <td>Dinner</td>\n",
              "      <td>2</td>\n",
              "      <td>10.50</td>\n",
              "      <td>Michael Li</td>\n",
              "      <td>4831801127457917</td>\n",
              "      <td>Fri144</td>\n",
              "    </tr>\n",
              "    <tr>\n",
              "      <th>4</th>\n",
              "      <td>24.59</td>\n",
              "      <td>3.61</td>\n",
              "      <td>Female</td>\n",
              "      <td>No</td>\n",
              "      <td>Sun</td>\n",
              "      <td>Dinner</td>\n",
              "      <td>4</td>\n",
              "      <td>6.15</td>\n",
              "      <td>Tonya Carter</td>\n",
              "      <td>4832732618637221</td>\n",
              "      <td>Sun2251</td>\n",
              "    </tr>\n",
              "    <tr>\n",
              "      <th>34</th>\n",
              "      <td>17.78</td>\n",
              "      <td>3.27</td>\n",
              "      <td>Male</td>\n",
              "      <td>No</td>\n",
              "      <td>Sat</td>\n",
              "      <td>Dinner</td>\n",
              "      <td>2</td>\n",
              "      <td>8.89</td>\n",
              "      <td>Jacob Castillo</td>\n",
              "      <td>3551492000704805</td>\n",
              "      <td>Sat8124</td>\n",
              "    </tr>\n",
              "    <tr>\n",
              "      <th>18</th>\n",
              "      <td>16.97</td>\n",
              "      <td>3.50</td>\n",
              "      <td>Female</td>\n",
              "      <td>No</td>\n",
              "      <td>Sun</td>\n",
              "      <td>Dinner</td>\n",
              "      <td>3</td>\n",
              "      <td>5.66</td>\n",
              "      <td>Laura Martinez</td>\n",
              "      <td>30422275171379</td>\n",
              "      <td>Sun2789</td>\n",
              "    </tr>\n",
              "    <tr>\n",
              "      <th>138</th>\n",
              "      <td>16.00</td>\n",
              "      <td>2.00</td>\n",
              "      <td>Male</td>\n",
              "      <td>Yes</td>\n",
              "      <td>Thur</td>\n",
              "      <td>Lunch</td>\n",
              "      <td>2</td>\n",
              "      <td>8.00</td>\n",
              "      <td>Jason Burgess</td>\n",
              "      <td>3561461821942363</td>\n",
              "      <td>Thur2710</td>\n",
              "    </tr>\n",
              "    <tr>\n",
              "      <th>127</th>\n",
              "      <td>14.52</td>\n",
              "      <td>2.00</td>\n",
              "      <td>Female</td>\n",
              "      <td>No</td>\n",
              "      <td>Thur</td>\n",
              "      <td>Lunch</td>\n",
              "      <td>2</td>\n",
              "      <td>7.26</td>\n",
              "      <td>Jessica Simmons</td>\n",
              "      <td>213102478792200</td>\n",
              "      <td>Thur1512</td>\n",
              "    </tr>\n",
              "    <tr>\n",
              "      <th>2</th>\n",
              "      <td>21.01</td>\n",
              "      <td>3.50</td>\n",
              "      <td>Male</td>\n",
              "      <td>No</td>\n",
              "      <td>Sun</td>\n",
              "      <td>Dinner</td>\n",
              "      <td>3</td>\n",
              "      <td>7.00</td>\n",
              "      <td>Travis Walters</td>\n",
              "      <td>6011812112971322</td>\n",
              "      <td>Sun4458</td>\n",
              "    </tr>\n",
              "    <tr>\n",
              "      <th>182</th>\n",
              "      <td>45.35</td>\n",
              "      <td>3.50</td>\n",
              "      <td>Male</td>\n",
              "      <td>Yes</td>\n",
              "      <td>Sun</td>\n",
              "      <td>Dinner</td>\n",
              "      <td>3</td>\n",
              "      <td>15.12</td>\n",
              "      <td>Jose Parsons</td>\n",
              "      <td>4112207559459910</td>\n",
              "      <td>Sun2337</td>\n",
              "    </tr>\n",
              "    <tr>\n",
              "      <th>219</th>\n",
              "      <td>30.14</td>\n",
              "      <td>3.09</td>\n",
              "      <td>Female</td>\n",
              "      <td>Yes</td>\n",
              "      <td>Sat</td>\n",
              "      <td>Dinner</td>\n",
              "      <td>4</td>\n",
              "      <td>7.54</td>\n",
              "      <td>Shelby House</td>\n",
              "      <td>502097403252</td>\n",
              "      <td>Sat8863</td>\n",
              "    </tr>\n",
              "    <tr>\n",
              "      <th>201</th>\n",
              "      <td>12.74</td>\n",
              "      <td>2.01</td>\n",
              "      <td>Female</td>\n",
              "      <td>Yes</td>\n",
              "      <td>Thur</td>\n",
              "      <td>Lunch</td>\n",
              "      <td>2</td>\n",
              "      <td>6.37</td>\n",
              "      <td>Abigail Parks</td>\n",
              "      <td>3586645396220590</td>\n",
              "      <td>Thur2544</td>\n",
              "    </tr>\n",
              "    <tr>\n",
              "      <th>39</th>\n",
              "      <td>31.27</td>\n",
              "      <td>5.00</td>\n",
              "      <td>Male</td>\n",
              "      <td>No</td>\n",
              "      <td>Sat</td>\n",
              "      <td>Dinner</td>\n",
              "      <td>3</td>\n",
              "      <td>10.42</td>\n",
              "      <td>Mr. Brandon Berry</td>\n",
              "      <td>6011525851069856</td>\n",
              "      <td>Sat6373</td>\n",
              "    </tr>\n",
              "    <tr>\n",
              "      <th>123</th>\n",
              "      <td>15.95</td>\n",
              "      <td>2.00</td>\n",
              "      <td>Male</td>\n",
              "      <td>No</td>\n",
              "      <td>Thur</td>\n",
              "      <td>Lunch</td>\n",
              "      <td>2</td>\n",
              "      <td>7.98</td>\n",
              "      <td>Christopher Lang</td>\n",
              "      <td>4820629318698319</td>\n",
              "      <td>Thur1992</td>\n",
              "    </tr>\n",
              "    <tr>\n",
              "      <th>58</th>\n",
              "      <td>11.24</td>\n",
              "      <td>1.76</td>\n",
              "      <td>Male</td>\n",
              "      <td>Yes</td>\n",
              "      <td>Sat</td>\n",
              "      <td>Dinner</td>\n",
              "      <td>2</td>\n",
              "      <td>5.62</td>\n",
              "      <td>Troy Guerrero</td>\n",
              "      <td>3560782621035582</td>\n",
              "      <td>Sat6683</td>\n",
              "    </tr>\n",
              "    <tr>\n",
              "      <th>62</th>\n",
              "      <td>11.02</td>\n",
              "      <td>1.98</td>\n",
              "      <td>Male</td>\n",
              "      <td>Yes</td>\n",
              "      <td>Sat</td>\n",
              "      <td>Dinner</td>\n",
              "      <td>2</td>\n",
              "      <td>5.51</td>\n",
              "      <td>Joseph Hart</td>\n",
              "      <td>180046232326178</td>\n",
              "      <td>Sat2265</td>\n",
              "    </tr>\n",
              "    <tr>\n",
              "      <th>161</th>\n",
              "      <td>12.66</td>\n",
              "      <td>2.50</td>\n",
              "      <td>Male</td>\n",
              "      <td>No</td>\n",
              "      <td>Sun</td>\n",
              "      <td>Dinner</td>\n",
              "      <td>2</td>\n",
              "      <td>6.33</td>\n",
              "      <td>Brandon Oconnor</td>\n",
              "      <td>4406882156920533</td>\n",
              "      <td>Sun5879</td>\n",
              "    </tr>\n",
              "    <tr>\n",
              "      <th>177</th>\n",
              "      <td>14.48</td>\n",
              "      <td>2.00</td>\n",
              "      <td>Male</td>\n",
              "      <td>Yes</td>\n",
              "      <td>Sun</td>\n",
              "      <td>Dinner</td>\n",
              "      <td>2</td>\n",
              "      <td>7.24</td>\n",
              "      <td>John Dudley</td>\n",
              "      <td>4565183162071073</td>\n",
              "      <td>Sun6203</td>\n",
              "    </tr>\n",
              "    <tr>\n",
              "      <th>190</th>\n",
              "      <td>15.69</td>\n",
              "      <td>1.50</td>\n",
              "      <td>Male</td>\n",
              "      <td>Yes</td>\n",
              "      <td>Sun</td>\n",
              "      <td>Dinner</td>\n",
              "      <td>2</td>\n",
              "      <td>7.84</td>\n",
              "      <td>Riley Barnes</td>\n",
              "      <td>180053549128800</td>\n",
              "      <td>Sun5104</td>\n",
              "    </tr>\n",
              "    <tr>\n",
              "      <th>225</th>\n",
              "      <td>16.27</td>\n",
              "      <td>2.50</td>\n",
              "      <td>Female</td>\n",
              "      <td>Yes</td>\n",
              "      <td>Fri</td>\n",
              "      <td>Lunch</td>\n",
              "      <td>2</td>\n",
              "      <td>8.14</td>\n",
              "      <td>Whitney Arnold</td>\n",
              "      <td>3579111947217428</td>\n",
              "      <td>Fri6665</td>\n",
              "    </tr>\n",
              "    <tr>\n",
              "      <th>111</th>\n",
              "      <td>7.25</td>\n",
              "      <td>1.00</td>\n",
              "      <td>Female</td>\n",
              "      <td>No</td>\n",
              "      <td>Sat</td>\n",
              "      <td>Dinner</td>\n",
              "      <td>1</td>\n",
              "      <td>7.25</td>\n",
              "      <td>Terri Jones</td>\n",
              "      <td>3559221007826887</td>\n",
              "      <td>Sat4801</td>\n",
              "    </tr>\n",
              "  </tbody>\n",
              "</table>\n",
              "</div>"
            ],
            "text/plain": [
              "     total_bill   tip     sex smoker   day    time  size  price_per_person  \\\n",
              "32        15.06  3.00  Female     No   Sat  Dinner     2              7.53   \n",
              "215       12.90  1.10  Female    Yes   Sat  Dinner     2              6.45   \n",
              "213       13.27  2.50  Female    Yes   Sat  Dinner     2              6.64   \n",
              "106       20.49  4.06    Male    Yes   Sat  Dinner     2             10.24   \n",
              "143       27.05  5.00  Female     No  Thur   Lunch     6              4.51   \n",
              "98        21.01  3.00    Male    Yes   Fri  Dinner     2             10.50   \n",
              "4         24.59  3.61  Female     No   Sun  Dinner     4              6.15   \n",
              "34        17.78  3.27    Male     No   Sat  Dinner     2              8.89   \n",
              "18        16.97  3.50  Female     No   Sun  Dinner     3              5.66   \n",
              "138       16.00  2.00    Male    Yes  Thur   Lunch     2              8.00   \n",
              "127       14.52  2.00  Female     No  Thur   Lunch     2              7.26   \n",
              "2         21.01  3.50    Male     No   Sun  Dinner     3              7.00   \n",
              "182       45.35  3.50    Male    Yes   Sun  Dinner     3             15.12   \n",
              "219       30.14  3.09  Female    Yes   Sat  Dinner     4              7.54   \n",
              "201       12.74  2.01  Female    Yes  Thur   Lunch     2              6.37   \n",
              "39        31.27  5.00    Male     No   Sat  Dinner     3             10.42   \n",
              "123       15.95  2.00    Male     No  Thur   Lunch     2              7.98   \n",
              "58        11.24  1.76    Male    Yes   Sat  Dinner     2              5.62   \n",
              "62        11.02  1.98    Male    Yes   Sat  Dinner     2              5.51   \n",
              "161       12.66  2.50    Male     No   Sun  Dinner     2              6.33   \n",
              "177       14.48  2.00    Male    Yes   Sun  Dinner     2              7.24   \n",
              "190       15.69  1.50    Male    Yes   Sun  Dinner     2              7.84   \n",
              "225       16.27  2.50  Female    Yes   Fri   Lunch     2              8.14   \n",
              "111        7.25  1.00  Female     No   Sat  Dinner     1              7.25   \n",
              "\n",
              "            Payer Name         CC Number Payment ID  \n",
              "32       Amanda Wilson   213186304291560    Sat1327  \n",
              "215       Jessica Owen     4726904879471    Sat6983  \n",
              "213     Robin Andersen      580140531089    Sat1374  \n",
              "106      Karl Mcdaniel   180024452771522    Sat7865  \n",
              "143       Regina Jones     4311048695487   Thur6179  \n",
              "98          Michael Li  4831801127457917     Fri144  \n",
              "4         Tonya Carter  4832732618637221    Sun2251  \n",
              "34      Jacob Castillo  3551492000704805    Sat8124  \n",
              "18      Laura Martinez    30422275171379    Sun2789  \n",
              "138      Jason Burgess  3561461821942363   Thur2710  \n",
              "127    Jessica Simmons   213102478792200   Thur1512  \n",
              "2       Travis Walters  6011812112971322    Sun4458  \n",
              "182       Jose Parsons  4112207559459910    Sun2337  \n",
              "219       Shelby House      502097403252    Sat8863  \n",
              "201      Abigail Parks  3586645396220590   Thur2544  \n",
              "39   Mr. Brandon Berry  6011525851069856    Sat6373  \n",
              "123   Christopher Lang  4820629318698319   Thur1992  \n",
              "58       Troy Guerrero  3560782621035582    Sat6683  \n",
              "62         Joseph Hart   180046232326178    Sat2265  \n",
              "161    Brandon Oconnor  4406882156920533    Sun5879  \n",
              "177        John Dudley  4565183162071073    Sun6203  \n",
              "190       Riley Barnes   180053549128800    Sun5104  \n",
              "225     Whitney Arnold  3579111947217428    Fri6665  \n",
              "111        Terri Jones  3559221007826887    Sat4801  "
            ]
          },
          "metadata": {
            "tags": []
          },
          "execution_count": 105
        }
      ]
    },
    {
      "cell_type": "markdown",
      "metadata": {
        "id": "FQ_Z3XnuKwjg"
      },
      "source": [
        "# Missing Data\n",
        "Its quite hard to fill the missing values, it's totally based on the data set"
      ]
    },
    {
      "cell_type": "code",
      "metadata": {
        "id": "3LiUyEtAKwjg",
        "outputId": "d53757bf-6ca8-4b03-b80a-f02a8b971f22"
      },
      "source": [
        "# null values in pandas older versions\n",
        "np.nan"
      ],
      "execution_count": null,
      "outputs": [
        {
          "output_type": "execute_result",
          "data": {
            "text/plain": [
              "nan"
            ]
          },
          "metadata": {
            "tags": []
          },
          "execution_count": 106
        }
      ]
    },
    {
      "cell_type": "code",
      "metadata": {
        "id": "i_9dqY5hKwjg",
        "outputId": "35f7d9f0-85c6-445c-8593-38f40c44bf66"
      },
      "source": [
        "# null values in pandas newer versions\n",
        "pd.NA"
      ],
      "execution_count": null,
      "outputs": [
        {
          "output_type": "execute_result",
          "data": {
            "text/plain": [
              "<NA>"
            ]
          },
          "metadata": {
            "tags": []
          },
          "execution_count": 107
        }
      ]
    },
    {
      "cell_type": "code",
      "metadata": {
        "id": "uktxS5P0Kwjg",
        "outputId": "df38f743-926d-4d79-cfc0-bafae36141bc"
      },
      "source": [
        "#pd.NaT to imply the value missing should be a timestamp\n",
        "pd.NaT"
      ],
      "execution_count": null,
      "outputs": [
        {
          "output_type": "execute_result",
          "data": {
            "text/plain": [
              "NaT"
            ]
          },
          "metadata": {
            "tags": []
          },
          "execution_count": 108
        }
      ]
    },
    {
      "cell_type": "code",
      "metadata": {
        "id": "NdTq3VtDKwjg",
        "outputId": "824572c0-26e4-45dc-96d9-f35182d154db"
      },
      "source": [
        "# wedont know what values are missing there, so it returns False\n",
        "np.nan == np.nan"
      ],
      "execution_count": null,
      "outputs": [
        {
          "output_type": "execute_result",
          "data": {
            "text/plain": [
              "False"
            ]
          },
          "metadata": {
            "tags": []
          },
          "execution_count": 109
        }
      ]
    },
    {
      "cell_type": "code",
      "metadata": {
        "id": "WCPm9H1vKwjg",
        "outputId": "f8848df7-29e3-4fbf-9176-c929826bdf16"
      },
      "source": [
        "# if you are checking some value to be null or not, yes our values are null, so it returns True\n",
        "np.nan is np.nan"
      ],
      "execution_count": null,
      "outputs": [
        {
          "output_type": "execute_result",
          "data": {
            "text/plain": [
              "True"
            ]
          },
          "metadata": {
            "tags": []
          },
          "execution_count": 110
        }
      ]
    },
    {
      "cell_type": "code",
      "metadata": {
        "id": "aznlNMBhKwjg"
      },
      "source": [
        "df = pd.read_csv(\"https://raw.githubusercontent.com/sunnyyashu178/DataScience-Projects/master/Datasets/movie_scores.csv\")"
      ],
      "execution_count": null,
      "outputs": []
    },
    {
      "cell_type": "code",
      "metadata": {
        "id": "7vgvzVkaKwjg",
        "outputId": "a46004fa-8ae0-4615-c153-87341326836b"
      },
      "source": [
        "df.head()"
      ],
      "execution_count": null,
      "outputs": [
        {
          "output_type": "execute_result",
          "data": {
            "text/html": [
              "<div>\n",
              "<style scoped>\n",
              "    .dataframe tbody tr th:only-of-type {\n",
              "        vertical-align: middle;\n",
              "    }\n",
              "\n",
              "    .dataframe tbody tr th {\n",
              "        vertical-align: top;\n",
              "    }\n",
              "\n",
              "    .dataframe thead th {\n",
              "        text-align: right;\n",
              "    }\n",
              "</style>\n",
              "<table border=\"1\" class=\"dataframe\">\n",
              "  <thead>\n",
              "    <tr style=\"text-align: right;\">\n",
              "      <th></th>\n",
              "      <th>first_name</th>\n",
              "      <th>last_name</th>\n",
              "      <th>age</th>\n",
              "      <th>sex</th>\n",
              "      <th>pre_movie_score</th>\n",
              "      <th>post_movie_score</th>\n",
              "    </tr>\n",
              "  </thead>\n",
              "  <tbody>\n",
              "    <tr>\n",
              "      <th>0</th>\n",
              "      <td>Tom</td>\n",
              "      <td>Hanks</td>\n",
              "      <td>63.0</td>\n",
              "      <td>m</td>\n",
              "      <td>8.0</td>\n",
              "      <td>10.0</td>\n",
              "    </tr>\n",
              "    <tr>\n",
              "      <th>1</th>\n",
              "      <td>NaN</td>\n",
              "      <td>NaN</td>\n",
              "      <td>NaN</td>\n",
              "      <td>NaN</td>\n",
              "      <td>NaN</td>\n",
              "      <td>NaN</td>\n",
              "    </tr>\n",
              "    <tr>\n",
              "      <th>2</th>\n",
              "      <td>Hugh</td>\n",
              "      <td>Jackman</td>\n",
              "      <td>51.0</td>\n",
              "      <td>m</td>\n",
              "      <td>NaN</td>\n",
              "      <td>NaN</td>\n",
              "    </tr>\n",
              "    <tr>\n",
              "      <th>3</th>\n",
              "      <td>Oprah</td>\n",
              "      <td>Winfrey</td>\n",
              "      <td>66.0</td>\n",
              "      <td>f</td>\n",
              "      <td>6.0</td>\n",
              "      <td>8.0</td>\n",
              "    </tr>\n",
              "    <tr>\n",
              "      <th>4</th>\n",
              "      <td>Emma</td>\n",
              "      <td>Stone</td>\n",
              "      <td>31.0</td>\n",
              "      <td>f</td>\n",
              "      <td>7.0</td>\n",
              "      <td>9.0</td>\n",
              "    </tr>\n",
              "  </tbody>\n",
              "</table>\n",
              "</div>"
            ],
            "text/plain": [
              "  first_name last_name   age  sex  pre_movie_score  post_movie_score\n",
              "0        Tom     Hanks  63.0    m              8.0              10.0\n",
              "1        NaN       NaN   NaN  NaN              NaN               NaN\n",
              "2       Hugh   Jackman  51.0    m              NaN               NaN\n",
              "3      Oprah   Winfrey  66.0    f              6.0               8.0\n",
              "4       Emma     Stone  31.0    f              7.0               9.0"
            ]
          },
          "metadata": {
            "tags": []
          },
          "execution_count": 517
        }
      ]
    },
    {
      "cell_type": "code",
      "metadata": {
        "id": "291J-i4HKwjg",
        "outputId": "6c173e62-8cf2-4438-b313-1590bc2a47df"
      },
      "source": [
        "len(df)"
      ],
      "execution_count": null,
      "outputs": [
        {
          "output_type": "execute_result",
          "data": {
            "text/plain": [
              "5"
            ]
          },
          "metadata": {
            "tags": []
          },
          "execution_count": 113
        }
      ]
    },
    {
      "cell_type": "code",
      "metadata": {
        "id": "t53MIouzKwjg",
        "outputId": "f4c56427-4679-45e6-9f61-f301d6c501b9"
      },
      "source": [
        "#It simply returns boolean values\n",
        "df.isnull()"
      ],
      "execution_count": null,
      "outputs": [
        {
          "output_type": "execute_result",
          "data": {
            "text/html": [
              "<div>\n",
              "<style scoped>\n",
              "    .dataframe tbody tr th:only-of-type {\n",
              "        vertical-align: middle;\n",
              "    }\n",
              "\n",
              "    .dataframe tbody tr th {\n",
              "        vertical-align: top;\n",
              "    }\n",
              "\n",
              "    .dataframe thead th {\n",
              "        text-align: right;\n",
              "    }\n",
              "</style>\n",
              "<table border=\"1\" class=\"dataframe\">\n",
              "  <thead>\n",
              "    <tr style=\"text-align: right;\">\n",
              "      <th></th>\n",
              "      <th>first_name</th>\n",
              "      <th>last_name</th>\n",
              "      <th>age</th>\n",
              "      <th>sex</th>\n",
              "      <th>pre_movie_score</th>\n",
              "      <th>post_movie_score</th>\n",
              "    </tr>\n",
              "  </thead>\n",
              "  <tbody>\n",
              "    <tr>\n",
              "      <th>0</th>\n",
              "      <td>False</td>\n",
              "      <td>False</td>\n",
              "      <td>False</td>\n",
              "      <td>False</td>\n",
              "      <td>False</td>\n",
              "      <td>False</td>\n",
              "    </tr>\n",
              "    <tr>\n",
              "      <th>1</th>\n",
              "      <td>True</td>\n",
              "      <td>True</td>\n",
              "      <td>True</td>\n",
              "      <td>True</td>\n",
              "      <td>True</td>\n",
              "      <td>True</td>\n",
              "    </tr>\n",
              "    <tr>\n",
              "      <th>2</th>\n",
              "      <td>False</td>\n",
              "      <td>False</td>\n",
              "      <td>False</td>\n",
              "      <td>False</td>\n",
              "      <td>True</td>\n",
              "      <td>True</td>\n",
              "    </tr>\n",
              "    <tr>\n",
              "      <th>3</th>\n",
              "      <td>False</td>\n",
              "      <td>False</td>\n",
              "      <td>False</td>\n",
              "      <td>False</td>\n",
              "      <td>False</td>\n",
              "      <td>False</td>\n",
              "    </tr>\n",
              "    <tr>\n",
              "      <th>4</th>\n",
              "      <td>False</td>\n",
              "      <td>False</td>\n",
              "      <td>False</td>\n",
              "      <td>False</td>\n",
              "      <td>False</td>\n",
              "      <td>False</td>\n",
              "    </tr>\n",
              "  </tbody>\n",
              "</table>\n",
              "</div>"
            ],
            "text/plain": [
              "   first_name  last_name    age    sex  pre_movie_score  post_movie_score\n",
              "0       False      False  False  False            False             False\n",
              "1        True       True   True   True             True              True\n",
              "2       False      False  False  False             True              True\n",
              "3       False      False  False  False            False             False\n",
              "4       False      False  False  False            False             False"
            ]
          },
          "metadata": {
            "tags": []
          },
          "execution_count": 114
        }
      ]
    },
    {
      "cell_type": "code",
      "metadata": {
        "id": "BBQJwho3Kwjg",
        "outputId": "e3e25457-0eeb-4d05-cf14-d5320386b707"
      },
      "source": [
        "# It returns how many null values are there for a column\n",
        "df.isnull().sum()"
      ],
      "execution_count": null,
      "outputs": [
        {
          "output_type": "execute_result",
          "data": {
            "text/plain": [
              "first_name          1\n",
              "last_name           1\n",
              "age                 1\n",
              "sex                 1\n",
              "pre_movie_score     2\n",
              "post_movie_score    2\n",
              "dtype: int64"
            ]
          },
          "metadata": {
            "tags": []
          },
          "execution_count": 115
        }
      ]
    },
    {
      "cell_type": "code",
      "metadata": {
        "id": "6HUTudHOKwjg",
        "outputId": "41cfa213-fc41-440b-b5c4-1087f660d1a1"
      },
      "source": [
        "# It returns non-null values\n",
        "df.notnull().sum()"
      ],
      "execution_count": null,
      "outputs": [
        {
          "output_type": "execute_result",
          "data": {
            "text/plain": [
              "first_name          4\n",
              "last_name           4\n",
              "age                 4\n",
              "sex                 4\n",
              "pre_movie_score     3\n",
              "post_movie_score    3\n",
              "dtype: int64"
            ]
          },
          "metadata": {
            "tags": []
          },
          "execution_count": 116
        }
      ]
    },
    {
      "cell_type": "code",
      "metadata": {
        "id": "lbd0RIslKwjg",
        "outputId": "f2fac993-379e-4fcc-e8e5-86ede65b2d2b"
      },
      "source": [
        "df[\"pre_movie_score\"].notnull()"
      ],
      "execution_count": null,
      "outputs": [
        {
          "output_type": "execute_result",
          "data": {
            "text/plain": [
              "0     True\n",
              "1    False\n",
              "2    False\n",
              "3     True\n",
              "4     True\n",
              "Name: pre_movie_score, dtype: bool"
            ]
          },
          "metadata": {
            "tags": []
          },
          "execution_count": 117
        }
      ]
    },
    {
      "cell_type": "code",
      "metadata": {
        "id": "WXIxMJPHKwjg",
        "outputId": "0d31522d-3a2e-445c-ee3b-2672fc676c65"
      },
      "source": [
        "df[df[\"pre_movie_score\"].notnull()]"
      ],
      "execution_count": null,
      "outputs": [
        {
          "output_type": "execute_result",
          "data": {
            "text/html": [
              "<div>\n",
              "<style scoped>\n",
              "    .dataframe tbody tr th:only-of-type {\n",
              "        vertical-align: middle;\n",
              "    }\n",
              "\n",
              "    .dataframe tbody tr th {\n",
              "        vertical-align: top;\n",
              "    }\n",
              "\n",
              "    .dataframe thead th {\n",
              "        text-align: right;\n",
              "    }\n",
              "</style>\n",
              "<table border=\"1\" class=\"dataframe\">\n",
              "  <thead>\n",
              "    <tr style=\"text-align: right;\">\n",
              "      <th></th>\n",
              "      <th>first_name</th>\n",
              "      <th>last_name</th>\n",
              "      <th>age</th>\n",
              "      <th>sex</th>\n",
              "      <th>pre_movie_score</th>\n",
              "      <th>post_movie_score</th>\n",
              "    </tr>\n",
              "  </thead>\n",
              "  <tbody>\n",
              "    <tr>\n",
              "      <th>0</th>\n",
              "      <td>Tom</td>\n",
              "      <td>Hanks</td>\n",
              "      <td>63.0</td>\n",
              "      <td>m</td>\n",
              "      <td>8.0</td>\n",
              "      <td>10.0</td>\n",
              "    </tr>\n",
              "    <tr>\n",
              "      <th>3</th>\n",
              "      <td>Oprah</td>\n",
              "      <td>Winfrey</td>\n",
              "      <td>66.0</td>\n",
              "      <td>f</td>\n",
              "      <td>6.0</td>\n",
              "      <td>8.0</td>\n",
              "    </tr>\n",
              "    <tr>\n",
              "      <th>4</th>\n",
              "      <td>Emma</td>\n",
              "      <td>Stone</td>\n",
              "      <td>31.0</td>\n",
              "      <td>f</td>\n",
              "      <td>7.0</td>\n",
              "      <td>9.0</td>\n",
              "    </tr>\n",
              "  </tbody>\n",
              "</table>\n",
              "</div>"
            ],
            "text/plain": [
              "  first_name last_name   age sex  pre_movie_score  post_movie_score\n",
              "0        Tom     Hanks  63.0   m              8.0              10.0\n",
              "3      Oprah   Winfrey  66.0   f              6.0               8.0\n",
              "4       Emma     Stone  31.0   f              7.0               9.0"
            ]
          },
          "metadata": {
            "tags": []
          },
          "execution_count": 118
        }
      ]
    },
    {
      "cell_type": "code",
      "metadata": {
        "id": "w_V-lfhLKwjg",
        "outputId": "f3a5f3f0-5601-4087-cc34-7638ccfce1b2"
      },
      "source": [
        "df[(df[\"pre_movie_score\"].isnull()) & (df[\"first_name\"].notnull())]"
      ],
      "execution_count": null,
      "outputs": [
        {
          "output_type": "execute_result",
          "data": {
            "text/html": [
              "<div>\n",
              "<style scoped>\n",
              "    .dataframe tbody tr th:only-of-type {\n",
              "        vertical-align: middle;\n",
              "    }\n",
              "\n",
              "    .dataframe tbody tr th {\n",
              "        vertical-align: top;\n",
              "    }\n",
              "\n",
              "    .dataframe thead th {\n",
              "        text-align: right;\n",
              "    }\n",
              "</style>\n",
              "<table border=\"1\" class=\"dataframe\">\n",
              "  <thead>\n",
              "    <tr style=\"text-align: right;\">\n",
              "      <th></th>\n",
              "      <th>first_name</th>\n",
              "      <th>last_name</th>\n",
              "      <th>age</th>\n",
              "      <th>sex</th>\n",
              "      <th>pre_movie_score</th>\n",
              "      <th>post_movie_score</th>\n",
              "    </tr>\n",
              "  </thead>\n",
              "  <tbody>\n",
              "    <tr>\n",
              "      <th>2</th>\n",
              "      <td>Hugh</td>\n",
              "      <td>Jackman</td>\n",
              "      <td>51.0</td>\n",
              "      <td>m</td>\n",
              "      <td>NaN</td>\n",
              "      <td>NaN</td>\n",
              "    </tr>\n",
              "  </tbody>\n",
              "</table>\n",
              "</div>"
            ],
            "text/plain": [
              "  first_name last_name   age sex  pre_movie_score  post_movie_score\n",
              "2       Hugh   Jackman  51.0   m              NaN               NaN"
            ]
          },
          "metadata": {
            "tags": []
          },
          "execution_count": 119
        }
      ]
    },
    {
      "cell_type": "code",
      "metadata": {
        "id": "SPi-QJCCKwjg",
        "outputId": "548fc1d5-5f39-42f9-c12d-f6648b877340"
      },
      "source": [
        "#Drop null values\n",
        "df.dropna()"
      ],
      "execution_count": null,
      "outputs": [
        {
          "output_type": "execute_result",
          "data": {
            "text/html": [
              "<div>\n",
              "<style scoped>\n",
              "    .dataframe tbody tr th:only-of-type {\n",
              "        vertical-align: middle;\n",
              "    }\n",
              "\n",
              "    .dataframe tbody tr th {\n",
              "        vertical-align: top;\n",
              "    }\n",
              "\n",
              "    .dataframe thead th {\n",
              "        text-align: right;\n",
              "    }\n",
              "</style>\n",
              "<table border=\"1\" class=\"dataframe\">\n",
              "  <thead>\n",
              "    <tr style=\"text-align: right;\">\n",
              "      <th></th>\n",
              "      <th>first_name</th>\n",
              "      <th>last_name</th>\n",
              "      <th>age</th>\n",
              "      <th>sex</th>\n",
              "      <th>pre_movie_score</th>\n",
              "      <th>post_movie_score</th>\n",
              "    </tr>\n",
              "  </thead>\n",
              "  <tbody>\n",
              "    <tr>\n",
              "      <th>0</th>\n",
              "      <td>Tom</td>\n",
              "      <td>Hanks</td>\n",
              "      <td>63.0</td>\n",
              "      <td>m</td>\n",
              "      <td>8.0</td>\n",
              "      <td>10.0</td>\n",
              "    </tr>\n",
              "    <tr>\n",
              "      <th>3</th>\n",
              "      <td>Oprah</td>\n",
              "      <td>Winfrey</td>\n",
              "      <td>66.0</td>\n",
              "      <td>f</td>\n",
              "      <td>6.0</td>\n",
              "      <td>8.0</td>\n",
              "    </tr>\n",
              "    <tr>\n",
              "      <th>4</th>\n",
              "      <td>Emma</td>\n",
              "      <td>Stone</td>\n",
              "      <td>31.0</td>\n",
              "      <td>f</td>\n",
              "      <td>7.0</td>\n",
              "      <td>9.0</td>\n",
              "    </tr>\n",
              "  </tbody>\n",
              "</table>\n",
              "</div>"
            ],
            "text/plain": [
              "  first_name last_name   age sex  pre_movie_score  post_movie_score\n",
              "0        Tom     Hanks  63.0   m              8.0              10.0\n",
              "3      Oprah   Winfrey  66.0   f              6.0               8.0\n",
              "4       Emma     Stone  31.0   f              7.0               9.0"
            ]
          },
          "metadata": {
            "tags": []
          },
          "execution_count": 120
        }
      ]
    },
    {
      "cell_type": "code",
      "metadata": {
        "id": "nfMmyKCtKwjh",
        "outputId": "76d5c588-92e2-42cf-e9b7-6f99990461be"
      },
      "source": [
        "# using thresh = 1, it returns the rows, that atleast have one non-null vaulue, try with thresh=5  \n",
        "df.dropna(thresh=1)"
      ],
      "execution_count": null,
      "outputs": [
        {
          "output_type": "execute_result",
          "data": {
            "text/html": [
              "<div>\n",
              "<style scoped>\n",
              "    .dataframe tbody tr th:only-of-type {\n",
              "        vertical-align: middle;\n",
              "    }\n",
              "\n",
              "    .dataframe tbody tr th {\n",
              "        vertical-align: top;\n",
              "    }\n",
              "\n",
              "    .dataframe thead th {\n",
              "        text-align: right;\n",
              "    }\n",
              "</style>\n",
              "<table border=\"1\" class=\"dataframe\">\n",
              "  <thead>\n",
              "    <tr style=\"text-align: right;\">\n",
              "      <th></th>\n",
              "      <th>first_name</th>\n",
              "      <th>last_name</th>\n",
              "      <th>age</th>\n",
              "      <th>sex</th>\n",
              "      <th>pre_movie_score</th>\n",
              "      <th>post_movie_score</th>\n",
              "    </tr>\n",
              "  </thead>\n",
              "  <tbody>\n",
              "    <tr>\n",
              "      <th>0</th>\n",
              "      <td>Tom</td>\n",
              "      <td>Hanks</td>\n",
              "      <td>63.0</td>\n",
              "      <td>m</td>\n",
              "      <td>8.0</td>\n",
              "      <td>10.0</td>\n",
              "    </tr>\n",
              "    <tr>\n",
              "      <th>2</th>\n",
              "      <td>Hugh</td>\n",
              "      <td>Jackman</td>\n",
              "      <td>51.0</td>\n",
              "      <td>m</td>\n",
              "      <td>NaN</td>\n",
              "      <td>NaN</td>\n",
              "    </tr>\n",
              "    <tr>\n",
              "      <th>3</th>\n",
              "      <td>Oprah</td>\n",
              "      <td>Winfrey</td>\n",
              "      <td>66.0</td>\n",
              "      <td>f</td>\n",
              "      <td>6.0</td>\n",
              "      <td>8.0</td>\n",
              "    </tr>\n",
              "    <tr>\n",
              "      <th>4</th>\n",
              "      <td>Emma</td>\n",
              "      <td>Stone</td>\n",
              "      <td>31.0</td>\n",
              "      <td>f</td>\n",
              "      <td>7.0</td>\n",
              "      <td>9.0</td>\n",
              "    </tr>\n",
              "  </tbody>\n",
              "</table>\n",
              "</div>"
            ],
            "text/plain": [
              "  first_name last_name   age sex  pre_movie_score  post_movie_score\n",
              "0        Tom     Hanks  63.0   m              8.0              10.0\n",
              "2       Hugh   Jackman  51.0   m              NaN               NaN\n",
              "3      Oprah   Winfrey  66.0   f              6.0               8.0\n",
              "4       Emma     Stone  31.0   f              7.0               9.0"
            ]
          },
          "metadata": {
            "tags": []
          },
          "execution_count": 121
        }
      ]
    },
    {
      "cell_type": "code",
      "metadata": {
        "id": "2_4VtZLKKwjh",
        "outputId": "f4a49996-277e-4be1-d699-dc8fad77e443"
      },
      "source": [
        "df.head()"
      ],
      "execution_count": null,
      "outputs": [
        {
          "output_type": "execute_result",
          "data": {
            "text/html": [
              "<div>\n",
              "<style scoped>\n",
              "    .dataframe tbody tr th:only-of-type {\n",
              "        vertical-align: middle;\n",
              "    }\n",
              "\n",
              "    .dataframe tbody tr th {\n",
              "        vertical-align: top;\n",
              "    }\n",
              "\n",
              "    .dataframe thead th {\n",
              "        text-align: right;\n",
              "    }\n",
              "</style>\n",
              "<table border=\"1\" class=\"dataframe\">\n",
              "  <thead>\n",
              "    <tr style=\"text-align: right;\">\n",
              "      <th></th>\n",
              "      <th>first_name</th>\n",
              "      <th>last_name</th>\n",
              "      <th>age</th>\n",
              "      <th>sex</th>\n",
              "      <th>pre_movie_score</th>\n",
              "      <th>post_movie_score</th>\n",
              "    </tr>\n",
              "  </thead>\n",
              "  <tbody>\n",
              "    <tr>\n",
              "      <th>0</th>\n",
              "      <td>Tom</td>\n",
              "      <td>Hanks</td>\n",
              "      <td>63.0</td>\n",
              "      <td>m</td>\n",
              "      <td>8.0</td>\n",
              "      <td>10.0</td>\n",
              "    </tr>\n",
              "    <tr>\n",
              "      <th>1</th>\n",
              "      <td>NaN</td>\n",
              "      <td>NaN</td>\n",
              "      <td>NaN</td>\n",
              "      <td>NaN</td>\n",
              "      <td>NaN</td>\n",
              "      <td>NaN</td>\n",
              "    </tr>\n",
              "    <tr>\n",
              "      <th>2</th>\n",
              "      <td>Hugh</td>\n",
              "      <td>Jackman</td>\n",
              "      <td>51.0</td>\n",
              "      <td>m</td>\n",
              "      <td>NaN</td>\n",
              "      <td>NaN</td>\n",
              "    </tr>\n",
              "    <tr>\n",
              "      <th>3</th>\n",
              "      <td>Oprah</td>\n",
              "      <td>Winfrey</td>\n",
              "      <td>66.0</td>\n",
              "      <td>f</td>\n",
              "      <td>6.0</td>\n",
              "      <td>8.0</td>\n",
              "    </tr>\n",
              "    <tr>\n",
              "      <th>4</th>\n",
              "      <td>Emma</td>\n",
              "      <td>Stone</td>\n",
              "      <td>31.0</td>\n",
              "      <td>f</td>\n",
              "      <td>7.0</td>\n",
              "      <td>9.0</td>\n",
              "    </tr>\n",
              "  </tbody>\n",
              "</table>\n",
              "</div>"
            ],
            "text/plain": [
              "  first_name last_name   age  sex  pre_movie_score  post_movie_score\n",
              "0        Tom     Hanks  63.0    m              8.0              10.0\n",
              "1        NaN       NaN   NaN  NaN              NaN               NaN\n",
              "2       Hugh   Jackman  51.0    m              NaN               NaN\n",
              "3      Oprah   Winfrey  66.0    f              6.0               8.0\n",
              "4       Emma     Stone  31.0    f              7.0               9.0"
            ]
          },
          "metadata": {
            "tags": []
          },
          "execution_count": 122
        }
      ]
    },
    {
      "cell_type": "code",
      "metadata": {
        "id": "Yy539HbUKwjh",
        "outputId": "2040598d-90ee-4d27-eb91-c55d5c9ac1b5"
      },
      "source": [
        "# It removes all rows which contain null values\n",
        "df.dropna()"
      ],
      "execution_count": null,
      "outputs": [
        {
          "output_type": "execute_result",
          "data": {
            "text/html": [
              "<div>\n",
              "<style scoped>\n",
              "    .dataframe tbody tr th:only-of-type {\n",
              "        vertical-align: middle;\n",
              "    }\n",
              "\n",
              "    .dataframe tbody tr th {\n",
              "        vertical-align: top;\n",
              "    }\n",
              "\n",
              "    .dataframe thead th {\n",
              "        text-align: right;\n",
              "    }\n",
              "</style>\n",
              "<table border=\"1\" class=\"dataframe\">\n",
              "  <thead>\n",
              "    <tr style=\"text-align: right;\">\n",
              "      <th></th>\n",
              "      <th>first_name</th>\n",
              "      <th>last_name</th>\n",
              "      <th>age</th>\n",
              "      <th>sex</th>\n",
              "      <th>pre_movie_score</th>\n",
              "      <th>post_movie_score</th>\n",
              "    </tr>\n",
              "  </thead>\n",
              "  <tbody>\n",
              "    <tr>\n",
              "      <th>0</th>\n",
              "      <td>Tom</td>\n",
              "      <td>Hanks</td>\n",
              "      <td>63.0</td>\n",
              "      <td>m</td>\n",
              "      <td>8.0</td>\n",
              "      <td>10.0</td>\n",
              "    </tr>\n",
              "    <tr>\n",
              "      <th>3</th>\n",
              "      <td>Oprah</td>\n",
              "      <td>Winfrey</td>\n",
              "      <td>66.0</td>\n",
              "      <td>f</td>\n",
              "      <td>6.0</td>\n",
              "      <td>8.0</td>\n",
              "    </tr>\n",
              "    <tr>\n",
              "      <th>4</th>\n",
              "      <td>Emma</td>\n",
              "      <td>Stone</td>\n",
              "      <td>31.0</td>\n",
              "      <td>f</td>\n",
              "      <td>7.0</td>\n",
              "      <td>9.0</td>\n",
              "    </tr>\n",
              "  </tbody>\n",
              "</table>\n",
              "</div>"
            ],
            "text/plain": [
              "  first_name last_name   age sex  pre_movie_score  post_movie_score\n",
              "0        Tom     Hanks  63.0   m              8.0              10.0\n",
              "3      Oprah   Winfrey  66.0   f              6.0               8.0\n",
              "4       Emma     Stone  31.0   f              7.0               9.0"
            ]
          },
          "metadata": {
            "tags": []
          },
          "execution_count": 123
        }
      ]
    },
    {
      "cell_type": "code",
      "metadata": {
        "id": "yK9Xq4qJKwjh",
        "outputId": "0dcc6bb7-e0d9-45be-8d8c-4f632765cb9e"
      },
      "source": [
        "# using subset, it just removes the null values in the particular column\n",
        "df.dropna(subset=[\"last_name\"])"
      ],
      "execution_count": null,
      "outputs": [
        {
          "output_type": "execute_result",
          "data": {
            "text/html": [
              "<div>\n",
              "<style scoped>\n",
              "    .dataframe tbody tr th:only-of-type {\n",
              "        vertical-align: middle;\n",
              "    }\n",
              "\n",
              "    .dataframe tbody tr th {\n",
              "        vertical-align: top;\n",
              "    }\n",
              "\n",
              "    .dataframe thead th {\n",
              "        text-align: right;\n",
              "    }\n",
              "</style>\n",
              "<table border=\"1\" class=\"dataframe\">\n",
              "  <thead>\n",
              "    <tr style=\"text-align: right;\">\n",
              "      <th></th>\n",
              "      <th>first_name</th>\n",
              "      <th>last_name</th>\n",
              "      <th>age</th>\n",
              "      <th>sex</th>\n",
              "      <th>pre_movie_score</th>\n",
              "      <th>post_movie_score</th>\n",
              "    </tr>\n",
              "  </thead>\n",
              "  <tbody>\n",
              "    <tr>\n",
              "      <th>0</th>\n",
              "      <td>Tom</td>\n",
              "      <td>Hanks</td>\n",
              "      <td>63.0</td>\n",
              "      <td>m</td>\n",
              "      <td>8.0</td>\n",
              "      <td>10.0</td>\n",
              "    </tr>\n",
              "    <tr>\n",
              "      <th>2</th>\n",
              "      <td>Hugh</td>\n",
              "      <td>Jackman</td>\n",
              "      <td>51.0</td>\n",
              "      <td>m</td>\n",
              "      <td>NaN</td>\n",
              "      <td>NaN</td>\n",
              "    </tr>\n",
              "    <tr>\n",
              "      <th>3</th>\n",
              "      <td>Oprah</td>\n",
              "      <td>Winfrey</td>\n",
              "      <td>66.0</td>\n",
              "      <td>f</td>\n",
              "      <td>6.0</td>\n",
              "      <td>8.0</td>\n",
              "    </tr>\n",
              "    <tr>\n",
              "      <th>4</th>\n",
              "      <td>Emma</td>\n",
              "      <td>Stone</td>\n",
              "      <td>31.0</td>\n",
              "      <td>f</td>\n",
              "      <td>7.0</td>\n",
              "      <td>9.0</td>\n",
              "    </tr>\n",
              "  </tbody>\n",
              "</table>\n",
              "</div>"
            ],
            "text/plain": [
              "  first_name last_name   age sex  pre_movie_score  post_movie_score\n",
              "0        Tom     Hanks  63.0   m              8.0              10.0\n",
              "2       Hugh   Jackman  51.0   m              NaN               NaN\n",
              "3      Oprah   Winfrey  66.0   f              6.0               8.0\n",
              "4       Emma     Stone  31.0   f              7.0               9.0"
            ]
          },
          "metadata": {
            "tags": []
          },
          "execution_count": 124
        }
      ]
    },
    {
      "cell_type": "code",
      "metadata": {
        "id": "OYU36ztaKwjh",
        "outputId": "477bed91-2220-4be5-aa98-aeb469bd9f50"
      },
      "source": [
        "#.fillna() used to fill the null values, you can fill any values that depends on the dataset\n",
        "df.fillna(\"NEW VALUE!\")"
      ],
      "execution_count": null,
      "outputs": [
        {
          "output_type": "execute_result",
          "data": {
            "text/html": [
              "<div>\n",
              "<style scoped>\n",
              "    .dataframe tbody tr th:only-of-type {\n",
              "        vertical-align: middle;\n",
              "    }\n",
              "\n",
              "    .dataframe tbody tr th {\n",
              "        vertical-align: top;\n",
              "    }\n",
              "\n",
              "    .dataframe thead th {\n",
              "        text-align: right;\n",
              "    }\n",
              "</style>\n",
              "<table border=\"1\" class=\"dataframe\">\n",
              "  <thead>\n",
              "    <tr style=\"text-align: right;\">\n",
              "      <th></th>\n",
              "      <th>first_name</th>\n",
              "      <th>last_name</th>\n",
              "      <th>age</th>\n",
              "      <th>sex</th>\n",
              "      <th>pre_movie_score</th>\n",
              "      <th>post_movie_score</th>\n",
              "    </tr>\n",
              "  </thead>\n",
              "  <tbody>\n",
              "    <tr>\n",
              "      <th>0</th>\n",
              "      <td>Tom</td>\n",
              "      <td>Hanks</td>\n",
              "      <td>63</td>\n",
              "      <td>m</td>\n",
              "      <td>8</td>\n",
              "      <td>10</td>\n",
              "    </tr>\n",
              "    <tr>\n",
              "      <th>1</th>\n",
              "      <td>NEW VALUE!</td>\n",
              "      <td>NEW VALUE!</td>\n",
              "      <td>NEW VALUE!</td>\n",
              "      <td>NEW VALUE!</td>\n",
              "      <td>NEW VALUE!</td>\n",
              "      <td>NEW VALUE!</td>\n",
              "    </tr>\n",
              "    <tr>\n",
              "      <th>2</th>\n",
              "      <td>Hugh</td>\n",
              "      <td>Jackman</td>\n",
              "      <td>51</td>\n",
              "      <td>m</td>\n",
              "      <td>NEW VALUE!</td>\n",
              "      <td>NEW VALUE!</td>\n",
              "    </tr>\n",
              "    <tr>\n",
              "      <th>3</th>\n",
              "      <td>Oprah</td>\n",
              "      <td>Winfrey</td>\n",
              "      <td>66</td>\n",
              "      <td>f</td>\n",
              "      <td>6</td>\n",
              "      <td>8</td>\n",
              "    </tr>\n",
              "    <tr>\n",
              "      <th>4</th>\n",
              "      <td>Emma</td>\n",
              "      <td>Stone</td>\n",
              "      <td>31</td>\n",
              "      <td>f</td>\n",
              "      <td>7</td>\n",
              "      <td>9</td>\n",
              "    </tr>\n",
              "  </tbody>\n",
              "</table>\n",
              "</div>"
            ],
            "text/plain": [
              "   first_name   last_name         age         sex pre_movie_score  \\\n",
              "0         Tom       Hanks          63           m               8   \n",
              "1  NEW VALUE!  NEW VALUE!  NEW VALUE!  NEW VALUE!      NEW VALUE!   \n",
              "2        Hugh     Jackman          51           m      NEW VALUE!   \n",
              "3       Oprah     Winfrey          66           f               6   \n",
              "4        Emma       Stone          31           f               7   \n",
              "\n",
              "  post_movie_score  \n",
              "0               10  \n",
              "1       NEW VALUE!  \n",
              "2       NEW VALUE!  \n",
              "3                8  \n",
              "4                9  "
            ]
          },
          "metadata": {
            "tags": []
          },
          "execution_count": 125
        }
      ]
    },
    {
      "cell_type": "code",
      "metadata": {
        "id": "87l28aS6Kwjh",
        "outputId": "aeb905ee-6ffc-4844-c8f5-8f7ec3752ac3"
      },
      "source": [
        "# Filled the null values with zeros in \"pre_movie_score\" column\n",
        "df[\"pre_movie_score\"].fillna(0)"
      ],
      "execution_count": null,
      "outputs": [
        {
          "output_type": "execute_result",
          "data": {
            "text/plain": [
              "0    8.0\n",
              "1    0.0\n",
              "2    0.0\n",
              "3    6.0\n",
              "4    7.0\n",
              "Name: pre_movie_score, dtype: float64"
            ]
          },
          "metadata": {
            "tags": []
          },
          "execution_count": 126
        }
      ]
    },
    {
      "cell_type": "code",
      "metadata": {
        "id": "nyoY1zbAKwjh",
        "outputId": "2ff02749-bde2-41f6-f31e-192ceef9b019"
      },
      "source": [
        "#To fill the null values with mean,\n",
        "df[\"pre_movie_score\"].fillna(df[\"pre_movie_score\"].mean())"
      ],
      "execution_count": null,
      "outputs": [
        {
          "output_type": "execute_result",
          "data": {
            "text/plain": [
              "0    8.0\n",
              "1    7.0\n",
              "2    7.0\n",
              "3    6.0\n",
              "4    7.0\n",
              "Name: pre_movie_score, dtype: float64"
            ]
          },
          "metadata": {
            "tags": []
          },
          "execution_count": 127
        }
      ]
    },
    {
      "cell_type": "code",
      "metadata": {
        "id": "_nNrVl8iKwjh",
        "outputId": "ce17961a-a0f3-449a-b4a5-a035b8e2e957"
      },
      "source": [
        "#It doesnt works for categorical column\n",
        "df.fillna(df.mean())"
      ],
      "execution_count": null,
      "outputs": [
        {
          "output_type": "execute_result",
          "data": {
            "text/html": [
              "<div>\n",
              "<style scoped>\n",
              "    .dataframe tbody tr th:only-of-type {\n",
              "        vertical-align: middle;\n",
              "    }\n",
              "\n",
              "    .dataframe tbody tr th {\n",
              "        vertical-align: top;\n",
              "    }\n",
              "\n",
              "    .dataframe thead th {\n",
              "        text-align: right;\n",
              "    }\n",
              "</style>\n",
              "<table border=\"1\" class=\"dataframe\">\n",
              "  <thead>\n",
              "    <tr style=\"text-align: right;\">\n",
              "      <th></th>\n",
              "      <th>first_name</th>\n",
              "      <th>last_name</th>\n",
              "      <th>age</th>\n",
              "      <th>sex</th>\n",
              "      <th>pre_movie_score</th>\n",
              "      <th>post_movie_score</th>\n",
              "    </tr>\n",
              "  </thead>\n",
              "  <tbody>\n",
              "    <tr>\n",
              "      <th>0</th>\n",
              "      <td>Tom</td>\n",
              "      <td>Hanks</td>\n",
              "      <td>63.00</td>\n",
              "      <td>m</td>\n",
              "      <td>8.0</td>\n",
              "      <td>10.0</td>\n",
              "    </tr>\n",
              "    <tr>\n",
              "      <th>1</th>\n",
              "      <td>NaN</td>\n",
              "      <td>NaN</td>\n",
              "      <td>52.75</td>\n",
              "      <td>NaN</td>\n",
              "      <td>7.0</td>\n",
              "      <td>9.0</td>\n",
              "    </tr>\n",
              "    <tr>\n",
              "      <th>2</th>\n",
              "      <td>Hugh</td>\n",
              "      <td>Jackman</td>\n",
              "      <td>51.00</td>\n",
              "      <td>m</td>\n",
              "      <td>7.0</td>\n",
              "      <td>9.0</td>\n",
              "    </tr>\n",
              "    <tr>\n",
              "      <th>3</th>\n",
              "      <td>Oprah</td>\n",
              "      <td>Winfrey</td>\n",
              "      <td>66.00</td>\n",
              "      <td>f</td>\n",
              "      <td>6.0</td>\n",
              "      <td>8.0</td>\n",
              "    </tr>\n",
              "    <tr>\n",
              "      <th>4</th>\n",
              "      <td>Emma</td>\n",
              "      <td>Stone</td>\n",
              "      <td>31.00</td>\n",
              "      <td>f</td>\n",
              "      <td>7.0</td>\n",
              "      <td>9.0</td>\n",
              "    </tr>\n",
              "  </tbody>\n",
              "</table>\n",
              "</div>"
            ],
            "text/plain": [
              "  first_name last_name    age  sex  pre_movie_score  post_movie_score\n",
              "0        Tom     Hanks  63.00    m              8.0              10.0\n",
              "1        NaN       NaN  52.75  NaN              7.0               9.0\n",
              "2       Hugh   Jackman  51.00    m              7.0               9.0\n",
              "3      Oprah   Winfrey  66.00    f              6.0               8.0\n",
              "4       Emma     Stone  31.00    f              7.0               9.0"
            ]
          },
          "metadata": {
            "tags": []
          },
          "execution_count": 128
        }
      ]
    },
    {
      "cell_type": "code",
      "metadata": {
        "id": "iciOIiINKwjh"
      },
      "source": [
        "airline_txt = {\"first\":100,\"business\":np.nan,\"economy-plus\":50,\"economy\":30}"
      ],
      "execution_count": null,
      "outputs": []
    },
    {
      "cell_type": "code",
      "metadata": {
        "id": "qgJ9Gt6lKwjh",
        "outputId": "ffa3e4ab-05b1-4d19-b4a4-81eb4522b56e"
      },
      "source": [
        "ser = pd.Series(airline_txt)\n",
        "ser"
      ],
      "execution_count": null,
      "outputs": [
        {
          "output_type": "execute_result",
          "data": {
            "text/plain": [
              "first           100.0\n",
              "business          NaN\n",
              "economy-plus     50.0\n",
              "economy          30.0\n",
              "dtype: float64"
            ]
          },
          "metadata": {
            "tags": []
          },
          "execution_count": 130
        }
      ]
    },
    {
      "cell_type": "code",
      "metadata": {
        "id": "ZnsIuMerKwjh",
        "outputId": "78811d9c-369f-4a54-9158-5f7d22f418aa"
      },
      "source": [
        "# It takes the before value and after value and it finds out the average value to fill the specific null value (100+50)/2 = 75\n",
        "# But , we use it depends on the dataset\n",
        "ser.interpolate()"
      ],
      "execution_count": null,
      "outputs": [
        {
          "output_type": "execute_result",
          "data": {
            "text/plain": [
              "first           100.0\n",
              "business         75.0\n",
              "economy-plus     50.0\n",
              "economy          30.0\n",
              "dtype: float64"
            ]
          },
          "metadata": {
            "tags": []
          },
          "execution_count": 131
        }
      ]
    },
    {
      "cell_type": "markdown",
      "metadata": {
        "id": "YgD9iRvOKwjh"
      },
      "source": [
        "# Groupby operations\n",
        "A groupby() operation allows us to examine data on a per category basis."
      ]
    },
    {
      "cell_type": "code",
      "metadata": {
        "id": "s9pQWui_Kwjh",
        "outputId": "2fcedec0-8835-4bfc-beea-e9e03e016655"
      },
      "source": [
        "df = pd.read_csv(\"https://raw.githubusercontent.com/sunnyyashu178/DataScience-Projects/master/Datasets/mpg.csv\")\n",
        "df"
      ],
      "execution_count": null,
      "outputs": [
        {
          "output_type": "execute_result",
          "data": {
            "text/html": [
              "<div>\n",
              "<style scoped>\n",
              "    .dataframe tbody tr th:only-of-type {\n",
              "        vertical-align: middle;\n",
              "    }\n",
              "\n",
              "    .dataframe tbody tr th {\n",
              "        vertical-align: top;\n",
              "    }\n",
              "\n",
              "    .dataframe thead th {\n",
              "        text-align: right;\n",
              "    }\n",
              "</style>\n",
              "<table border=\"1\" class=\"dataframe\">\n",
              "  <thead>\n",
              "    <tr style=\"text-align: right;\">\n",
              "      <th></th>\n",
              "      <th>mpg</th>\n",
              "      <th>cylinders</th>\n",
              "      <th>displacement</th>\n",
              "      <th>horsepower</th>\n",
              "      <th>weight</th>\n",
              "      <th>acceleration</th>\n",
              "      <th>model_year</th>\n",
              "      <th>origin</th>\n",
              "      <th>name</th>\n",
              "    </tr>\n",
              "  </thead>\n",
              "  <tbody>\n",
              "    <tr>\n",
              "      <th>0</th>\n",
              "      <td>18.0</td>\n",
              "      <td>8</td>\n",
              "      <td>307.0</td>\n",
              "      <td>130</td>\n",
              "      <td>3504</td>\n",
              "      <td>12.0</td>\n",
              "      <td>70</td>\n",
              "      <td>1</td>\n",
              "      <td>chevrolet chevelle malibu</td>\n",
              "    </tr>\n",
              "    <tr>\n",
              "      <th>1</th>\n",
              "      <td>15.0</td>\n",
              "      <td>8</td>\n",
              "      <td>350.0</td>\n",
              "      <td>165</td>\n",
              "      <td>3693</td>\n",
              "      <td>11.5</td>\n",
              "      <td>70</td>\n",
              "      <td>1</td>\n",
              "      <td>buick skylark 320</td>\n",
              "    </tr>\n",
              "    <tr>\n",
              "      <th>2</th>\n",
              "      <td>18.0</td>\n",
              "      <td>8</td>\n",
              "      <td>318.0</td>\n",
              "      <td>150</td>\n",
              "      <td>3436</td>\n",
              "      <td>11.0</td>\n",
              "      <td>70</td>\n",
              "      <td>1</td>\n",
              "      <td>plymouth satellite</td>\n",
              "    </tr>\n",
              "    <tr>\n",
              "      <th>3</th>\n",
              "      <td>16.0</td>\n",
              "      <td>8</td>\n",
              "      <td>304.0</td>\n",
              "      <td>150</td>\n",
              "      <td>3433</td>\n",
              "      <td>12.0</td>\n",
              "      <td>70</td>\n",
              "      <td>1</td>\n",
              "      <td>amc rebel sst</td>\n",
              "    </tr>\n",
              "    <tr>\n",
              "      <th>4</th>\n",
              "      <td>17.0</td>\n",
              "      <td>8</td>\n",
              "      <td>302.0</td>\n",
              "      <td>140</td>\n",
              "      <td>3449</td>\n",
              "      <td>10.5</td>\n",
              "      <td>70</td>\n",
              "      <td>1</td>\n",
              "      <td>ford torino</td>\n",
              "    </tr>\n",
              "    <tr>\n",
              "      <th>...</th>\n",
              "      <td>...</td>\n",
              "      <td>...</td>\n",
              "      <td>...</td>\n",
              "      <td>...</td>\n",
              "      <td>...</td>\n",
              "      <td>...</td>\n",
              "      <td>...</td>\n",
              "      <td>...</td>\n",
              "      <td>...</td>\n",
              "    </tr>\n",
              "    <tr>\n",
              "      <th>393</th>\n",
              "      <td>27.0</td>\n",
              "      <td>4</td>\n",
              "      <td>140.0</td>\n",
              "      <td>86</td>\n",
              "      <td>2790</td>\n",
              "      <td>15.6</td>\n",
              "      <td>82</td>\n",
              "      <td>1</td>\n",
              "      <td>ford mustang gl</td>\n",
              "    </tr>\n",
              "    <tr>\n",
              "      <th>394</th>\n",
              "      <td>44.0</td>\n",
              "      <td>4</td>\n",
              "      <td>97.0</td>\n",
              "      <td>52</td>\n",
              "      <td>2130</td>\n",
              "      <td>24.6</td>\n",
              "      <td>82</td>\n",
              "      <td>2</td>\n",
              "      <td>vw pickup</td>\n",
              "    </tr>\n",
              "    <tr>\n",
              "      <th>395</th>\n",
              "      <td>32.0</td>\n",
              "      <td>4</td>\n",
              "      <td>135.0</td>\n",
              "      <td>84</td>\n",
              "      <td>2295</td>\n",
              "      <td>11.6</td>\n",
              "      <td>82</td>\n",
              "      <td>1</td>\n",
              "      <td>dodge rampage</td>\n",
              "    </tr>\n",
              "    <tr>\n",
              "      <th>396</th>\n",
              "      <td>28.0</td>\n",
              "      <td>4</td>\n",
              "      <td>120.0</td>\n",
              "      <td>79</td>\n",
              "      <td>2625</td>\n",
              "      <td>18.6</td>\n",
              "      <td>82</td>\n",
              "      <td>1</td>\n",
              "      <td>ford ranger</td>\n",
              "    </tr>\n",
              "    <tr>\n",
              "      <th>397</th>\n",
              "      <td>31.0</td>\n",
              "      <td>4</td>\n",
              "      <td>119.0</td>\n",
              "      <td>82</td>\n",
              "      <td>2720</td>\n",
              "      <td>19.4</td>\n",
              "      <td>82</td>\n",
              "      <td>1</td>\n",
              "      <td>chevy s-10</td>\n",
              "    </tr>\n",
              "  </tbody>\n",
              "</table>\n",
              "<p>398 rows × 9 columns</p>\n",
              "</div>"
            ],
            "text/plain": [
              "      mpg  cylinders  displacement horsepower  weight  acceleration  \\\n",
              "0    18.0          8         307.0        130    3504          12.0   \n",
              "1    15.0          8         350.0        165    3693          11.5   \n",
              "2    18.0          8         318.0        150    3436          11.0   \n",
              "3    16.0          8         304.0        150    3433          12.0   \n",
              "4    17.0          8         302.0        140    3449          10.5   \n",
              "..    ...        ...           ...        ...     ...           ...   \n",
              "393  27.0          4         140.0         86    2790          15.6   \n",
              "394  44.0          4          97.0         52    2130          24.6   \n",
              "395  32.0          4         135.0         84    2295          11.6   \n",
              "396  28.0          4         120.0         79    2625          18.6   \n",
              "397  31.0          4         119.0         82    2720          19.4   \n",
              "\n",
              "     model_year  origin                       name  \n",
              "0            70       1  chevrolet chevelle malibu  \n",
              "1            70       1          buick skylark 320  \n",
              "2            70       1         plymouth satellite  \n",
              "3            70       1              amc rebel sst  \n",
              "4            70       1                ford torino  \n",
              "..          ...     ...                        ...  \n",
              "393          82       1            ford mustang gl  \n",
              "394          82       2                  vw pickup  \n",
              "395          82       1              dodge rampage  \n",
              "396          82       1                ford ranger  \n",
              "397          82       1                 chevy s-10  \n",
              "\n",
              "[398 rows x 9 columns]"
            ]
          },
          "metadata": {
            "tags": []
          },
          "execution_count": 518
        }
      ]
    },
    {
      "cell_type": "code",
      "metadata": {
        "id": "y1WNIbGwKwjh",
        "outputId": "5034d4d6-85e6-415d-a21e-bdae33e9aaaa"
      },
      "source": [
        "df[\"model_year\"].value_counts()"
      ],
      "execution_count": null,
      "outputs": [
        {
          "output_type": "execute_result",
          "data": {
            "text/plain": [
              "73    40\n",
              "78    36\n",
              "76    34\n",
              "82    31\n",
              "75    30\n",
              "81    29\n",
              "80    29\n",
              "79    29\n",
              "70    29\n",
              "77    28\n",
              "72    28\n",
              "71    28\n",
              "74    27\n",
              "Name: model_year, dtype: int64"
            ]
          },
          "metadata": {
            "tags": []
          },
          "execution_count": 133
        }
      ]
    },
    {
      "cell_type": "code",
      "metadata": {
        "id": "zPQpOyklKwjh",
        "outputId": "68918152-9cb0-4d78-f08a-734e986b8db7"
      },
      "source": [
        "#Groupby is a \"lazy\" function, it needs aggregation call to show the results\n",
        "df.groupby(\"model_year\")"
      ],
      "execution_count": null,
      "outputs": [
        {
          "output_type": "execute_result",
          "data": {
            "text/plain": [
              "<pandas.core.groupby.generic.DataFrameGroupBy object at 0x0000019906AEFA48>"
            ]
          },
          "metadata": {
            "tags": []
          },
          "execution_count": 134
        }
      ]
    },
    {
      "cell_type": "code",
      "metadata": {
        "id": "SGpIzPQ2Kwjh",
        "outputId": "998c5d9a-996d-4f6c-8571-bd7262dffe20"
      },
      "source": [
        "# Its just group the data \n",
        "#example: \n",
        "df.groupby(\"model_year\").mean()"
      ],
      "execution_count": null,
      "outputs": [
        {
          "output_type": "execute_result",
          "data": {
            "text/html": [
              "<div>\n",
              "<style scoped>\n",
              "    .dataframe tbody tr th:only-of-type {\n",
              "        vertical-align: middle;\n",
              "    }\n",
              "\n",
              "    .dataframe tbody tr th {\n",
              "        vertical-align: top;\n",
              "    }\n",
              "\n",
              "    .dataframe thead th {\n",
              "        text-align: right;\n",
              "    }\n",
              "</style>\n",
              "<table border=\"1\" class=\"dataframe\">\n",
              "  <thead>\n",
              "    <tr style=\"text-align: right;\">\n",
              "      <th></th>\n",
              "      <th>mpg</th>\n",
              "      <th>cylinders</th>\n",
              "      <th>displacement</th>\n",
              "      <th>weight</th>\n",
              "      <th>acceleration</th>\n",
              "      <th>origin</th>\n",
              "    </tr>\n",
              "    <tr>\n",
              "      <th>model_year</th>\n",
              "      <th></th>\n",
              "      <th></th>\n",
              "      <th></th>\n",
              "      <th></th>\n",
              "      <th></th>\n",
              "      <th></th>\n",
              "    </tr>\n",
              "  </thead>\n",
              "  <tbody>\n",
              "    <tr>\n",
              "      <th>70</th>\n",
              "      <td>17.689655</td>\n",
              "      <td>6.758621</td>\n",
              "      <td>281.413793</td>\n",
              "      <td>3372.793103</td>\n",
              "      <td>12.948276</td>\n",
              "      <td>1.310345</td>\n",
              "    </tr>\n",
              "    <tr>\n",
              "      <th>71</th>\n",
              "      <td>21.250000</td>\n",
              "      <td>5.571429</td>\n",
              "      <td>209.750000</td>\n",
              "      <td>2995.428571</td>\n",
              "      <td>15.142857</td>\n",
              "      <td>1.428571</td>\n",
              "    </tr>\n",
              "    <tr>\n",
              "      <th>72</th>\n",
              "      <td>18.714286</td>\n",
              "      <td>5.821429</td>\n",
              "      <td>218.375000</td>\n",
              "      <td>3237.714286</td>\n",
              "      <td>15.125000</td>\n",
              "      <td>1.535714</td>\n",
              "    </tr>\n",
              "    <tr>\n",
              "      <th>73</th>\n",
              "      <td>17.100000</td>\n",
              "      <td>6.375000</td>\n",
              "      <td>256.875000</td>\n",
              "      <td>3419.025000</td>\n",
              "      <td>14.312500</td>\n",
              "      <td>1.375000</td>\n",
              "    </tr>\n",
              "    <tr>\n",
              "      <th>74</th>\n",
              "      <td>22.703704</td>\n",
              "      <td>5.259259</td>\n",
              "      <td>171.740741</td>\n",
              "      <td>2877.925926</td>\n",
              "      <td>16.203704</td>\n",
              "      <td>1.666667</td>\n",
              "    </tr>\n",
              "    <tr>\n",
              "      <th>75</th>\n",
              "      <td>20.266667</td>\n",
              "      <td>5.600000</td>\n",
              "      <td>205.533333</td>\n",
              "      <td>3176.800000</td>\n",
              "      <td>16.050000</td>\n",
              "      <td>1.466667</td>\n",
              "    </tr>\n",
              "    <tr>\n",
              "      <th>76</th>\n",
              "      <td>21.573529</td>\n",
              "      <td>5.647059</td>\n",
              "      <td>197.794118</td>\n",
              "      <td>3078.735294</td>\n",
              "      <td>15.941176</td>\n",
              "      <td>1.470588</td>\n",
              "    </tr>\n",
              "    <tr>\n",
              "      <th>77</th>\n",
              "      <td>23.375000</td>\n",
              "      <td>5.464286</td>\n",
              "      <td>191.392857</td>\n",
              "      <td>2997.357143</td>\n",
              "      <td>15.435714</td>\n",
              "      <td>1.571429</td>\n",
              "    </tr>\n",
              "    <tr>\n",
              "      <th>78</th>\n",
              "      <td>24.061111</td>\n",
              "      <td>5.361111</td>\n",
              "      <td>177.805556</td>\n",
              "      <td>2861.805556</td>\n",
              "      <td>15.805556</td>\n",
              "      <td>1.611111</td>\n",
              "    </tr>\n",
              "    <tr>\n",
              "      <th>79</th>\n",
              "      <td>25.093103</td>\n",
              "      <td>5.827586</td>\n",
              "      <td>206.689655</td>\n",
              "      <td>3055.344828</td>\n",
              "      <td>15.813793</td>\n",
              "      <td>1.275862</td>\n",
              "    </tr>\n",
              "    <tr>\n",
              "      <th>80</th>\n",
              "      <td>33.696552</td>\n",
              "      <td>4.137931</td>\n",
              "      <td>115.827586</td>\n",
              "      <td>2436.655172</td>\n",
              "      <td>16.934483</td>\n",
              "      <td>2.206897</td>\n",
              "    </tr>\n",
              "    <tr>\n",
              "      <th>81</th>\n",
              "      <td>30.334483</td>\n",
              "      <td>4.620690</td>\n",
              "      <td>135.310345</td>\n",
              "      <td>2522.931034</td>\n",
              "      <td>16.306897</td>\n",
              "      <td>1.965517</td>\n",
              "    </tr>\n",
              "    <tr>\n",
              "      <th>82</th>\n",
              "      <td>31.709677</td>\n",
              "      <td>4.193548</td>\n",
              "      <td>128.870968</td>\n",
              "      <td>2453.548387</td>\n",
              "      <td>16.638710</td>\n",
              "      <td>1.645161</td>\n",
              "    </tr>\n",
              "  </tbody>\n",
              "</table>\n",
              "</div>"
            ],
            "text/plain": [
              "                  mpg  cylinders  displacement       weight  acceleration  \\\n",
              "model_year                                                                  \n",
              "70          17.689655   6.758621    281.413793  3372.793103     12.948276   \n",
              "71          21.250000   5.571429    209.750000  2995.428571     15.142857   \n",
              "72          18.714286   5.821429    218.375000  3237.714286     15.125000   \n",
              "73          17.100000   6.375000    256.875000  3419.025000     14.312500   \n",
              "74          22.703704   5.259259    171.740741  2877.925926     16.203704   \n",
              "75          20.266667   5.600000    205.533333  3176.800000     16.050000   \n",
              "76          21.573529   5.647059    197.794118  3078.735294     15.941176   \n",
              "77          23.375000   5.464286    191.392857  2997.357143     15.435714   \n",
              "78          24.061111   5.361111    177.805556  2861.805556     15.805556   \n",
              "79          25.093103   5.827586    206.689655  3055.344828     15.813793   \n",
              "80          33.696552   4.137931    115.827586  2436.655172     16.934483   \n",
              "81          30.334483   4.620690    135.310345  2522.931034     16.306897   \n",
              "82          31.709677   4.193548    128.870968  2453.548387     16.638710   \n",
              "\n",
              "              origin  \n",
              "model_year            \n",
              "70          1.310345  \n",
              "71          1.428571  \n",
              "72          1.535714  \n",
              "73          1.375000  \n",
              "74          1.666667  \n",
              "75          1.466667  \n",
              "76          1.470588  \n",
              "77          1.571429  \n",
              "78          1.611111  \n",
              "79          1.275862  \n",
              "80          2.206897  \n",
              "81          1.965517  \n",
              "82          1.645161  "
            ]
          },
          "metadata": {
            "tags": []
          },
          "execution_count": 135
        }
      ]
    },
    {
      "cell_type": "code",
      "metadata": {
        "id": "vlkWY4ocKwjh",
        "outputId": "c5ac1bc8-59fc-45dd-b3b5-7a4eed5bf3c9"
      },
      "source": [
        "#example\n",
        "data = pd.DataFrame()\n",
        "data[\"Items\"] = [\"orange\",\"apple\",\"orange\"]\n",
        "data[\"Counts\"] = [100,200,50]\n",
        "data.groupby(\"Items\").sum()"
      ],
      "execution_count": null,
      "outputs": [
        {
          "output_type": "execute_result",
          "data": {
            "text/html": [
              "<div>\n",
              "<style scoped>\n",
              "    .dataframe tbody tr th:only-of-type {\n",
              "        vertical-align: middle;\n",
              "    }\n",
              "\n",
              "    .dataframe tbody tr th {\n",
              "        vertical-align: top;\n",
              "    }\n",
              "\n",
              "    .dataframe thead th {\n",
              "        text-align: right;\n",
              "    }\n",
              "</style>\n",
              "<table border=\"1\" class=\"dataframe\">\n",
              "  <thead>\n",
              "    <tr style=\"text-align: right;\">\n",
              "      <th></th>\n",
              "      <th>Counts</th>\n",
              "    </tr>\n",
              "    <tr>\n",
              "      <th>Items</th>\n",
              "      <th></th>\n",
              "    </tr>\n",
              "  </thead>\n",
              "  <tbody>\n",
              "    <tr>\n",
              "      <th>apple</th>\n",
              "      <td>200</td>\n",
              "    </tr>\n",
              "    <tr>\n",
              "      <th>orange</th>\n",
              "      <td>150</td>\n",
              "    </tr>\n",
              "  </tbody>\n",
              "</table>\n",
              "</div>"
            ],
            "text/plain": [
              "        Counts\n",
              "Items         \n",
              "apple      200\n",
              "orange     150"
            ]
          },
          "metadata": {
            "tags": []
          },
          "execution_count": 136
        }
      ]
    },
    {
      "cell_type": "code",
      "metadata": {
        "id": "KuMacROzKwji",
        "outputId": "94fc12c3-6f3d-4f83-9859-5b9f7c779640"
      },
      "source": [
        "# You can also grab one column\n",
        "df.groupby(\"model_year\").mean()[\"mpg\"]"
      ],
      "execution_count": null,
      "outputs": [
        {
          "output_type": "execute_result",
          "data": {
            "text/plain": [
              "model_year\n",
              "70    17.689655\n",
              "71    21.250000\n",
              "72    18.714286\n",
              "73    17.100000\n",
              "74    22.703704\n",
              "75    20.266667\n",
              "76    21.573529\n",
              "77    23.375000\n",
              "78    24.061111\n",
              "79    25.093103\n",
              "80    33.696552\n",
              "81    30.334483\n",
              "82    31.709677\n",
              "Name: mpg, dtype: float64"
            ]
          },
          "metadata": {
            "tags": []
          },
          "execution_count": 137
        }
      ]
    },
    {
      "cell_type": "code",
      "metadata": {
        "id": "1jesOBNxKwji",
        "outputId": "5af3a953-8751-4cfb-f681-59418ae8f2bd"
      },
      "source": [
        "# applying groupby on two columns, first its grouby the model_year column, and then its groupby the cylinders\n",
        "# It returns multi-level index\n",
        "df.groupby([\"model_year\",\"cylinders\"]).mean()"
      ],
      "execution_count": null,
      "outputs": [
        {
          "output_type": "execute_result",
          "data": {
            "text/html": [
              "<div>\n",
              "<style scoped>\n",
              "    .dataframe tbody tr th:only-of-type {\n",
              "        vertical-align: middle;\n",
              "    }\n",
              "\n",
              "    .dataframe tbody tr th {\n",
              "        vertical-align: top;\n",
              "    }\n",
              "\n",
              "    .dataframe thead th {\n",
              "        text-align: right;\n",
              "    }\n",
              "</style>\n",
              "<table border=\"1\" class=\"dataframe\">\n",
              "  <thead>\n",
              "    <tr style=\"text-align: right;\">\n",
              "      <th></th>\n",
              "      <th></th>\n",
              "      <th>mpg</th>\n",
              "      <th>displacement</th>\n",
              "      <th>weight</th>\n",
              "      <th>acceleration</th>\n",
              "      <th>origin</th>\n",
              "    </tr>\n",
              "    <tr>\n",
              "      <th>model_year</th>\n",
              "      <th>cylinders</th>\n",
              "      <th></th>\n",
              "      <th></th>\n",
              "      <th></th>\n",
              "      <th></th>\n",
              "      <th></th>\n",
              "    </tr>\n",
              "  </thead>\n",
              "  <tbody>\n",
              "    <tr>\n",
              "      <th rowspan=\"3\" valign=\"top\">70</th>\n",
              "      <th>4</th>\n",
              "      <td>25.285714</td>\n",
              "      <td>107.000000</td>\n",
              "      <td>2292.571429</td>\n",
              "      <td>16.000000</td>\n",
              "      <td>2.285714</td>\n",
              "    </tr>\n",
              "    <tr>\n",
              "      <th>6</th>\n",
              "      <td>20.500000</td>\n",
              "      <td>199.000000</td>\n",
              "      <td>2710.500000</td>\n",
              "      <td>15.500000</td>\n",
              "      <td>1.000000</td>\n",
              "    </tr>\n",
              "    <tr>\n",
              "      <th>8</th>\n",
              "      <td>14.111111</td>\n",
              "      <td>367.555556</td>\n",
              "      <td>3940.055556</td>\n",
              "      <td>11.194444</td>\n",
              "      <td>1.000000</td>\n",
              "    </tr>\n",
              "    <tr>\n",
              "      <th rowspan=\"3\" valign=\"top\">71</th>\n",
              "      <th>4</th>\n",
              "      <td>27.461538</td>\n",
              "      <td>101.846154</td>\n",
              "      <td>2056.384615</td>\n",
              "      <td>16.961538</td>\n",
              "      <td>1.923077</td>\n",
              "    </tr>\n",
              "    <tr>\n",
              "      <th>6</th>\n",
              "      <td>18.000000</td>\n",
              "      <td>243.375000</td>\n",
              "      <td>3171.875000</td>\n",
              "      <td>14.750000</td>\n",
              "      <td>1.000000</td>\n",
              "    </tr>\n",
              "    <tr>\n",
              "      <th>8</th>\n",
              "      <td>13.428571</td>\n",
              "      <td>371.714286</td>\n",
              "      <td>4537.714286</td>\n",
              "      <td>12.214286</td>\n",
              "      <td>1.000000</td>\n",
              "    </tr>\n",
              "    <tr>\n",
              "      <th rowspan=\"3\" valign=\"top\">72</th>\n",
              "      <th>3</th>\n",
              "      <td>19.000000</td>\n",
              "      <td>70.000000</td>\n",
              "      <td>2330.000000</td>\n",
              "      <td>13.500000</td>\n",
              "      <td>3.000000</td>\n",
              "    </tr>\n",
              "    <tr>\n",
              "      <th>4</th>\n",
              "      <td>23.428571</td>\n",
              "      <td>111.535714</td>\n",
              "      <td>2382.642857</td>\n",
              "      <td>17.214286</td>\n",
              "      <td>1.928571</td>\n",
              "    </tr>\n",
              "    <tr>\n",
              "      <th>8</th>\n",
              "      <td>13.615385</td>\n",
              "      <td>344.846154</td>\n",
              "      <td>4228.384615</td>\n",
              "      <td>13.000000</td>\n",
              "      <td>1.000000</td>\n",
              "    </tr>\n",
              "    <tr>\n",
              "      <th rowspan=\"4\" valign=\"top\">73</th>\n",
              "      <th>3</th>\n",
              "      <td>18.000000</td>\n",
              "      <td>70.000000</td>\n",
              "      <td>2124.000000</td>\n",
              "      <td>13.500000</td>\n",
              "      <td>3.000000</td>\n",
              "    </tr>\n",
              "    <tr>\n",
              "      <th>4</th>\n",
              "      <td>22.727273</td>\n",
              "      <td>109.272727</td>\n",
              "      <td>2338.090909</td>\n",
              "      <td>17.136364</td>\n",
              "      <td>2.000000</td>\n",
              "    </tr>\n",
              "    <tr>\n",
              "      <th>6</th>\n",
              "      <td>19.000000</td>\n",
              "      <td>212.250000</td>\n",
              "      <td>2917.125000</td>\n",
              "      <td>15.687500</td>\n",
              "      <td>1.250000</td>\n",
              "    </tr>\n",
              "    <tr>\n",
              "      <th>8</th>\n",
              "      <td>13.200000</td>\n",
              "      <td>365.250000</td>\n",
              "      <td>4279.050000</td>\n",
              "      <td>12.250000</td>\n",
              "      <td>1.000000</td>\n",
              "    </tr>\n",
              "    <tr>\n",
              "      <th rowspan=\"3\" valign=\"top\">74</th>\n",
              "      <th>4</th>\n",
              "      <td>27.800000</td>\n",
              "      <td>96.533333</td>\n",
              "      <td>2151.466667</td>\n",
              "      <td>16.400000</td>\n",
              "      <td>2.200000</td>\n",
              "    </tr>\n",
              "    <tr>\n",
              "      <th>6</th>\n",
              "      <td>17.857143</td>\n",
              "      <td>230.428571</td>\n",
              "      <td>3320.000000</td>\n",
              "      <td>16.857143</td>\n",
              "      <td>1.000000</td>\n",
              "    </tr>\n",
              "    <tr>\n",
              "      <th>8</th>\n",
              "      <td>14.200000</td>\n",
              "      <td>315.200000</td>\n",
              "      <td>4438.400000</td>\n",
              "      <td>14.700000</td>\n",
              "      <td>1.000000</td>\n",
              "    </tr>\n",
              "    <tr>\n",
              "      <th rowspan=\"3\" valign=\"top\">75</th>\n",
              "      <th>4</th>\n",
              "      <td>25.250000</td>\n",
              "      <td>114.833333</td>\n",
              "      <td>2489.250000</td>\n",
              "      <td>15.833333</td>\n",
              "      <td>2.166667</td>\n",
              "    </tr>\n",
              "    <tr>\n",
              "      <th>6</th>\n",
              "      <td>17.583333</td>\n",
              "      <td>233.750000</td>\n",
              "      <td>3398.333333</td>\n",
              "      <td>17.708333</td>\n",
              "      <td>1.000000</td>\n",
              "    </tr>\n",
              "    <tr>\n",
              "      <th>8</th>\n",
              "      <td>15.666667</td>\n",
              "      <td>330.500000</td>\n",
              "      <td>4108.833333</td>\n",
              "      <td>13.166667</td>\n",
              "      <td>1.000000</td>\n",
              "    </tr>\n",
              "    <tr>\n",
              "      <th rowspan=\"3\" valign=\"top\">76</th>\n",
              "      <th>4</th>\n",
              "      <td>26.766667</td>\n",
              "      <td>106.333333</td>\n",
              "      <td>2306.600000</td>\n",
              "      <td>16.866667</td>\n",
              "      <td>1.866667</td>\n",
              "    </tr>\n",
              "    <tr>\n",
              "      <th>6</th>\n",
              "      <td>20.000000</td>\n",
              "      <td>221.400000</td>\n",
              "      <td>3349.600000</td>\n",
              "      <td>17.000000</td>\n",
              "      <td>1.300000</td>\n",
              "    </tr>\n",
              "    <tr>\n",
              "      <th>8</th>\n",
              "      <td>14.666667</td>\n",
              "      <td>324.000000</td>\n",
              "      <td>4064.666667</td>\n",
              "      <td>13.222222</td>\n",
              "      <td>1.000000</td>\n",
              "    </tr>\n",
              "    <tr>\n",
              "      <th rowspan=\"4\" valign=\"top\">77</th>\n",
              "      <th>3</th>\n",
              "      <td>21.500000</td>\n",
              "      <td>80.000000</td>\n",
              "      <td>2720.000000</td>\n",
              "      <td>13.500000</td>\n",
              "      <td>3.000000</td>\n",
              "    </tr>\n",
              "    <tr>\n",
              "      <th>4</th>\n",
              "      <td>29.107143</td>\n",
              "      <td>106.500000</td>\n",
              "      <td>2205.071429</td>\n",
              "      <td>16.064286</td>\n",
              "      <td>1.857143</td>\n",
              "    </tr>\n",
              "    <tr>\n",
              "      <th>6</th>\n",
              "      <td>19.500000</td>\n",
              "      <td>220.400000</td>\n",
              "      <td>3383.000000</td>\n",
              "      <td>16.900000</td>\n",
              "      <td>1.400000</td>\n",
              "    </tr>\n",
              "    <tr>\n",
              "      <th>8</th>\n",
              "      <td>16.000000</td>\n",
              "      <td>335.750000</td>\n",
              "      <td>4177.500000</td>\n",
              "      <td>13.662500</td>\n",
              "      <td>1.000000</td>\n",
              "    </tr>\n",
              "    <tr>\n",
              "      <th rowspan=\"4\" valign=\"top\">78</th>\n",
              "      <th>4</th>\n",
              "      <td>29.576471</td>\n",
              "      <td>112.117647</td>\n",
              "      <td>2296.764706</td>\n",
              "      <td>16.282353</td>\n",
              "      <td>2.117647</td>\n",
              "    </tr>\n",
              "    <tr>\n",
              "      <th>5</th>\n",
              "      <td>20.300000</td>\n",
              "      <td>131.000000</td>\n",
              "      <td>2830.000000</td>\n",
              "      <td>15.900000</td>\n",
              "      <td>2.000000</td>\n",
              "    </tr>\n",
              "    <tr>\n",
              "      <th>6</th>\n",
              "      <td>19.066667</td>\n",
              "      <td>213.250000</td>\n",
              "      <td>3314.166667</td>\n",
              "      <td>16.391667</td>\n",
              "      <td>1.166667</td>\n",
              "    </tr>\n",
              "    <tr>\n",
              "      <th>8</th>\n",
              "      <td>19.050000</td>\n",
              "      <td>300.833333</td>\n",
              "      <td>3563.333333</td>\n",
              "      <td>13.266667</td>\n",
              "      <td>1.000000</td>\n",
              "    </tr>\n",
              "    <tr>\n",
              "      <th rowspan=\"4\" valign=\"top\">79</th>\n",
              "      <th>4</th>\n",
              "      <td>31.525000</td>\n",
              "      <td>113.583333</td>\n",
              "      <td>2357.583333</td>\n",
              "      <td>15.991667</td>\n",
              "      <td>1.583333</td>\n",
              "    </tr>\n",
              "    <tr>\n",
              "      <th>5</th>\n",
              "      <td>25.400000</td>\n",
              "      <td>183.000000</td>\n",
              "      <td>3530.000000</td>\n",
              "      <td>20.100000</td>\n",
              "      <td>2.000000</td>\n",
              "    </tr>\n",
              "    <tr>\n",
              "      <th>6</th>\n",
              "      <td>22.950000</td>\n",
              "      <td>205.666667</td>\n",
              "      <td>3025.833333</td>\n",
              "      <td>15.433333</td>\n",
              "      <td>1.000000</td>\n",
              "    </tr>\n",
              "    <tr>\n",
              "      <th>8</th>\n",
              "      <td>18.630000</td>\n",
              "      <td>321.400000</td>\n",
              "      <td>3862.900000</td>\n",
              "      <td>15.400000</td>\n",
              "      <td>1.000000</td>\n",
              "    </tr>\n",
              "    <tr>\n",
              "      <th rowspan=\"4\" valign=\"top\">80</th>\n",
              "      <th>3</th>\n",
              "      <td>23.700000</td>\n",
              "      <td>70.000000</td>\n",
              "      <td>2420.000000</td>\n",
              "      <td>12.500000</td>\n",
              "      <td>3.000000</td>\n",
              "    </tr>\n",
              "    <tr>\n",
              "      <th>4</th>\n",
              "      <td>34.612000</td>\n",
              "      <td>111.000000</td>\n",
              "      <td>2360.080000</td>\n",
              "      <td>17.144000</td>\n",
              "      <td>2.200000</td>\n",
              "    </tr>\n",
              "    <tr>\n",
              "      <th>5</th>\n",
              "      <td>36.400000</td>\n",
              "      <td>121.000000</td>\n",
              "      <td>2950.000000</td>\n",
              "      <td>19.900000</td>\n",
              "      <td>2.000000</td>\n",
              "    </tr>\n",
              "    <tr>\n",
              "      <th>6</th>\n",
              "      <td>25.900000</td>\n",
              "      <td>196.500000</td>\n",
              "      <td>3145.500000</td>\n",
              "      <td>15.050000</td>\n",
              "      <td>2.000000</td>\n",
              "    </tr>\n",
              "    <tr>\n",
              "      <th rowspan=\"3\" valign=\"top\">81</th>\n",
              "      <th>4</th>\n",
              "      <td>32.814286</td>\n",
              "      <td>108.857143</td>\n",
              "      <td>2275.476190</td>\n",
              "      <td>16.466667</td>\n",
              "      <td>2.095238</td>\n",
              "    </tr>\n",
              "    <tr>\n",
              "      <th>6</th>\n",
              "      <td>23.428571</td>\n",
              "      <td>184.000000</td>\n",
              "      <td>3093.571429</td>\n",
              "      <td>15.442857</td>\n",
              "      <td>1.714286</td>\n",
              "    </tr>\n",
              "    <tr>\n",
              "      <th>8</th>\n",
              "      <td>26.600000</td>\n",
              "      <td>350.000000</td>\n",
              "      <td>3725.000000</td>\n",
              "      <td>19.000000</td>\n",
              "      <td>1.000000</td>\n",
              "    </tr>\n",
              "    <tr>\n",
              "      <th rowspan=\"2\" valign=\"top\">82</th>\n",
              "      <th>4</th>\n",
              "      <td>32.071429</td>\n",
              "      <td>118.571429</td>\n",
              "      <td>2402.321429</td>\n",
              "      <td>16.703571</td>\n",
              "      <td>1.714286</td>\n",
              "    </tr>\n",
              "    <tr>\n",
              "      <th>6</th>\n",
              "      <td>28.333333</td>\n",
              "      <td>225.000000</td>\n",
              "      <td>2931.666667</td>\n",
              "      <td>16.033333</td>\n",
              "      <td>1.000000</td>\n",
              "    </tr>\n",
              "  </tbody>\n",
              "</table>\n",
              "</div>"
            ],
            "text/plain": [
              "                            mpg  displacement       weight  acceleration  \\\n",
              "model_year cylinders                                                       \n",
              "70         4          25.285714    107.000000  2292.571429     16.000000   \n",
              "           6          20.500000    199.000000  2710.500000     15.500000   \n",
              "           8          14.111111    367.555556  3940.055556     11.194444   \n",
              "71         4          27.461538    101.846154  2056.384615     16.961538   \n",
              "           6          18.000000    243.375000  3171.875000     14.750000   \n",
              "           8          13.428571    371.714286  4537.714286     12.214286   \n",
              "72         3          19.000000     70.000000  2330.000000     13.500000   \n",
              "           4          23.428571    111.535714  2382.642857     17.214286   \n",
              "           8          13.615385    344.846154  4228.384615     13.000000   \n",
              "73         3          18.000000     70.000000  2124.000000     13.500000   \n",
              "           4          22.727273    109.272727  2338.090909     17.136364   \n",
              "           6          19.000000    212.250000  2917.125000     15.687500   \n",
              "           8          13.200000    365.250000  4279.050000     12.250000   \n",
              "74         4          27.800000     96.533333  2151.466667     16.400000   \n",
              "           6          17.857143    230.428571  3320.000000     16.857143   \n",
              "           8          14.200000    315.200000  4438.400000     14.700000   \n",
              "75         4          25.250000    114.833333  2489.250000     15.833333   \n",
              "           6          17.583333    233.750000  3398.333333     17.708333   \n",
              "           8          15.666667    330.500000  4108.833333     13.166667   \n",
              "76         4          26.766667    106.333333  2306.600000     16.866667   \n",
              "           6          20.000000    221.400000  3349.600000     17.000000   \n",
              "           8          14.666667    324.000000  4064.666667     13.222222   \n",
              "77         3          21.500000     80.000000  2720.000000     13.500000   \n",
              "           4          29.107143    106.500000  2205.071429     16.064286   \n",
              "           6          19.500000    220.400000  3383.000000     16.900000   \n",
              "           8          16.000000    335.750000  4177.500000     13.662500   \n",
              "78         4          29.576471    112.117647  2296.764706     16.282353   \n",
              "           5          20.300000    131.000000  2830.000000     15.900000   \n",
              "           6          19.066667    213.250000  3314.166667     16.391667   \n",
              "           8          19.050000    300.833333  3563.333333     13.266667   \n",
              "79         4          31.525000    113.583333  2357.583333     15.991667   \n",
              "           5          25.400000    183.000000  3530.000000     20.100000   \n",
              "           6          22.950000    205.666667  3025.833333     15.433333   \n",
              "           8          18.630000    321.400000  3862.900000     15.400000   \n",
              "80         3          23.700000     70.000000  2420.000000     12.500000   \n",
              "           4          34.612000    111.000000  2360.080000     17.144000   \n",
              "           5          36.400000    121.000000  2950.000000     19.900000   \n",
              "           6          25.900000    196.500000  3145.500000     15.050000   \n",
              "81         4          32.814286    108.857143  2275.476190     16.466667   \n",
              "           6          23.428571    184.000000  3093.571429     15.442857   \n",
              "           8          26.600000    350.000000  3725.000000     19.000000   \n",
              "82         4          32.071429    118.571429  2402.321429     16.703571   \n",
              "           6          28.333333    225.000000  2931.666667     16.033333   \n",
              "\n",
              "                        origin  \n",
              "model_year cylinders            \n",
              "70         4          2.285714  \n",
              "           6          1.000000  \n",
              "           8          1.000000  \n",
              "71         4          1.923077  \n",
              "           6          1.000000  \n",
              "           8          1.000000  \n",
              "72         3          3.000000  \n",
              "           4          1.928571  \n",
              "           8          1.000000  \n",
              "73         3          3.000000  \n",
              "           4          2.000000  \n",
              "           6          1.250000  \n",
              "           8          1.000000  \n",
              "74         4          2.200000  \n",
              "           6          1.000000  \n",
              "           8          1.000000  \n",
              "75         4          2.166667  \n",
              "           6          1.000000  \n",
              "           8          1.000000  \n",
              "76         4          1.866667  \n",
              "           6          1.300000  \n",
              "           8          1.000000  \n",
              "77         3          3.000000  \n",
              "           4          1.857143  \n",
              "           6          1.400000  \n",
              "           8          1.000000  \n",
              "78         4          2.117647  \n",
              "           5          2.000000  \n",
              "           6          1.166667  \n",
              "           8          1.000000  \n",
              "79         4          1.583333  \n",
              "           5          2.000000  \n",
              "           6          1.000000  \n",
              "           8          1.000000  \n",
              "80         3          3.000000  \n",
              "           4          2.200000  \n",
              "           5          2.000000  \n",
              "           6          2.000000  \n",
              "81         4          2.095238  \n",
              "           6          1.714286  \n",
              "           8          1.000000  \n",
              "82         4          1.714286  \n",
              "           6          1.000000  "
            ]
          },
          "metadata": {
            "tags": []
          },
          "execution_count": 138
        }
      ]
    },
    {
      "cell_type": "code",
      "metadata": {
        "id": "OmjZiAIvKwji"
      },
      "source": [
        "#df.groupby(\"model_year\").describe().T"
      ],
      "execution_count": null,
      "outputs": []
    },
    {
      "cell_type": "code",
      "metadata": {
        "id": "5hcuaPqwKwji"
      },
      "source": [
        "year_cyl = df.groupby([\"model_year\",\"cylinders\"]).mean()"
      ],
      "execution_count": null,
      "outputs": []
    },
    {
      "cell_type": "code",
      "metadata": {
        "id": "CNb1DuMYKwji",
        "outputId": "0ca2814a-80c1-4ee6-d2d4-e1ae8ddde173"
      },
      "source": [
        "# It shows all possible years and all possible cylinders\n",
        "year_cyl.index.levels"
      ],
      "execution_count": null,
      "outputs": [
        {
          "output_type": "execute_result",
          "data": {
            "text/plain": [
              "FrozenList([[70, 71, 72, 73, 74, 75, 76, 77, 78, 79, 80, 81, 82], [3, 4, 5, 6, 8]])"
            ]
          },
          "metadata": {
            "tags": []
          },
          "execution_count": 141
        }
      ]
    },
    {
      "cell_type": "code",
      "metadata": {
        "id": "6HEFtFflKwji",
        "outputId": "cd88f576-38d2-44e7-972b-637ce9f63788"
      },
      "source": [
        "# It returns values for the year 1970\n",
        "year_cyl.loc[70]"
      ],
      "execution_count": null,
      "outputs": [
        {
          "output_type": "execute_result",
          "data": {
            "text/html": [
              "<div>\n",
              "<style scoped>\n",
              "    .dataframe tbody tr th:only-of-type {\n",
              "        vertical-align: middle;\n",
              "    }\n",
              "\n",
              "    .dataframe tbody tr th {\n",
              "        vertical-align: top;\n",
              "    }\n",
              "\n",
              "    .dataframe thead th {\n",
              "        text-align: right;\n",
              "    }\n",
              "</style>\n",
              "<table border=\"1\" class=\"dataframe\">\n",
              "  <thead>\n",
              "    <tr style=\"text-align: right;\">\n",
              "      <th></th>\n",
              "      <th>mpg</th>\n",
              "      <th>displacement</th>\n",
              "      <th>weight</th>\n",
              "      <th>acceleration</th>\n",
              "      <th>origin</th>\n",
              "    </tr>\n",
              "    <tr>\n",
              "      <th>cylinders</th>\n",
              "      <th></th>\n",
              "      <th></th>\n",
              "      <th></th>\n",
              "      <th></th>\n",
              "      <th></th>\n",
              "    </tr>\n",
              "  </thead>\n",
              "  <tbody>\n",
              "    <tr>\n",
              "      <th>4</th>\n",
              "      <td>25.285714</td>\n",
              "      <td>107.000000</td>\n",
              "      <td>2292.571429</td>\n",
              "      <td>16.000000</td>\n",
              "      <td>2.285714</td>\n",
              "    </tr>\n",
              "    <tr>\n",
              "      <th>6</th>\n",
              "      <td>20.500000</td>\n",
              "      <td>199.000000</td>\n",
              "      <td>2710.500000</td>\n",
              "      <td>15.500000</td>\n",
              "      <td>1.000000</td>\n",
              "    </tr>\n",
              "    <tr>\n",
              "      <th>8</th>\n",
              "      <td>14.111111</td>\n",
              "      <td>367.555556</td>\n",
              "      <td>3940.055556</td>\n",
              "      <td>11.194444</td>\n",
              "      <td>1.000000</td>\n",
              "    </tr>\n",
              "  </tbody>\n",
              "</table>\n",
              "</div>"
            ],
            "text/plain": [
              "                 mpg  displacement       weight  acceleration    origin\n",
              "cylinders                                                              \n",
              "4          25.285714    107.000000  2292.571429     16.000000  2.285714\n",
              "6          20.500000    199.000000  2710.500000     15.500000  1.000000\n",
              "8          14.111111    367.555556  3940.055556     11.194444  1.000000"
            ]
          },
          "metadata": {
            "tags": []
          },
          "execution_count": 142
        }
      ]
    },
    {
      "cell_type": "code",
      "metadata": {
        "id": "ycfKZv0kKwji",
        "outputId": "d8f6de61-1bc8-4dff-a537-bb7b3a2b398b"
      },
      "source": [
        "year_cyl.loc[[70,82]]"
      ],
      "execution_count": null,
      "outputs": [
        {
          "output_type": "execute_result",
          "data": {
            "text/html": [
              "<div>\n",
              "<style scoped>\n",
              "    .dataframe tbody tr th:only-of-type {\n",
              "        vertical-align: middle;\n",
              "    }\n",
              "\n",
              "    .dataframe tbody tr th {\n",
              "        vertical-align: top;\n",
              "    }\n",
              "\n",
              "    .dataframe thead th {\n",
              "        text-align: right;\n",
              "    }\n",
              "</style>\n",
              "<table border=\"1\" class=\"dataframe\">\n",
              "  <thead>\n",
              "    <tr style=\"text-align: right;\">\n",
              "      <th></th>\n",
              "      <th></th>\n",
              "      <th>mpg</th>\n",
              "      <th>displacement</th>\n",
              "      <th>weight</th>\n",
              "      <th>acceleration</th>\n",
              "      <th>origin</th>\n",
              "    </tr>\n",
              "    <tr>\n",
              "      <th>model_year</th>\n",
              "      <th>cylinders</th>\n",
              "      <th></th>\n",
              "      <th></th>\n",
              "      <th></th>\n",
              "      <th></th>\n",
              "      <th></th>\n",
              "    </tr>\n",
              "  </thead>\n",
              "  <tbody>\n",
              "    <tr>\n",
              "      <th rowspan=\"3\" valign=\"top\">70</th>\n",
              "      <th>4</th>\n",
              "      <td>25.285714</td>\n",
              "      <td>107.000000</td>\n",
              "      <td>2292.571429</td>\n",
              "      <td>16.000000</td>\n",
              "      <td>2.285714</td>\n",
              "    </tr>\n",
              "    <tr>\n",
              "      <th>6</th>\n",
              "      <td>20.500000</td>\n",
              "      <td>199.000000</td>\n",
              "      <td>2710.500000</td>\n",
              "      <td>15.500000</td>\n",
              "      <td>1.000000</td>\n",
              "    </tr>\n",
              "    <tr>\n",
              "      <th>8</th>\n",
              "      <td>14.111111</td>\n",
              "      <td>367.555556</td>\n",
              "      <td>3940.055556</td>\n",
              "      <td>11.194444</td>\n",
              "      <td>1.000000</td>\n",
              "    </tr>\n",
              "    <tr>\n",
              "      <th rowspan=\"2\" valign=\"top\">82</th>\n",
              "      <th>4</th>\n",
              "      <td>32.071429</td>\n",
              "      <td>118.571429</td>\n",
              "      <td>2402.321429</td>\n",
              "      <td>16.703571</td>\n",
              "      <td>1.714286</td>\n",
              "    </tr>\n",
              "    <tr>\n",
              "      <th>6</th>\n",
              "      <td>28.333333</td>\n",
              "      <td>225.000000</td>\n",
              "      <td>2931.666667</td>\n",
              "      <td>16.033333</td>\n",
              "      <td>1.000000</td>\n",
              "    </tr>\n",
              "  </tbody>\n",
              "</table>\n",
              "</div>"
            ],
            "text/plain": [
              "                            mpg  displacement       weight  acceleration  \\\n",
              "model_year cylinders                                                       \n",
              "70         4          25.285714    107.000000  2292.571429     16.000000   \n",
              "           6          20.500000    199.000000  2710.500000     15.500000   \n",
              "           8          14.111111    367.555556  3940.055556     11.194444   \n",
              "82         4          32.071429    118.571429  2402.321429     16.703571   \n",
              "           6          28.333333    225.000000  2931.666667     16.033333   \n",
              "\n",
              "                        origin  \n",
              "model_year cylinders            \n",
              "70         4          2.285714  \n",
              "           6          1.000000  \n",
              "           8          1.000000  \n",
              "82         4          1.714286  \n",
              "           6          1.000000  "
            ]
          },
          "metadata": {
            "tags": []
          },
          "execution_count": 143
        }
      ]
    },
    {
      "cell_type": "code",
      "metadata": {
        "id": "AnJymDv8Kwji",
        "outputId": "a41c14e7-47ac-4138-e486-57390d416cda"
      },
      "source": [
        "#  It returns values for the year 1970 and with cylinders 4\n",
        "year_cyl.loc[(70,4)]"
      ],
      "execution_count": null,
      "outputs": [
        {
          "output_type": "execute_result",
          "data": {
            "text/plain": [
              "mpg               25.285714\n",
              "displacement     107.000000\n",
              "weight          2292.571429\n",
              "acceleration      16.000000\n",
              "origin             2.285714\n",
              "Name: (70, 4), dtype: float64"
            ]
          },
          "metadata": {
            "tags": []
          },
          "execution_count": 144
        }
      ]
    },
    {
      "cell_type": "markdown",
      "metadata": {
        "id": "TpSbSl3xKwji"
      },
      "source": [
        "# Group by operations on Multi-Index"
      ]
    },
    {
      "cell_type": "code",
      "metadata": {
        "id": "eQMJgsJWKwji",
        "outputId": "3878f254-1bd0-4b4c-cb47-50c6c7f69f94"
      },
      "source": [
        "# cross_section data\n",
        "# You can pass two key values at a time\n",
        "year_cyl.xs(key=70,level=\"model_year\")"
      ],
      "execution_count": null,
      "outputs": [
        {
          "output_type": "execute_result",
          "data": {
            "text/html": [
              "<div>\n",
              "<style scoped>\n",
              "    .dataframe tbody tr th:only-of-type {\n",
              "        vertical-align: middle;\n",
              "    }\n",
              "\n",
              "    .dataframe tbody tr th {\n",
              "        vertical-align: top;\n",
              "    }\n",
              "\n",
              "    .dataframe thead th {\n",
              "        text-align: right;\n",
              "    }\n",
              "</style>\n",
              "<table border=\"1\" class=\"dataframe\">\n",
              "  <thead>\n",
              "    <tr style=\"text-align: right;\">\n",
              "      <th></th>\n",
              "      <th>mpg</th>\n",
              "      <th>displacement</th>\n",
              "      <th>weight</th>\n",
              "      <th>acceleration</th>\n",
              "      <th>origin</th>\n",
              "    </tr>\n",
              "    <tr>\n",
              "      <th>cylinders</th>\n",
              "      <th></th>\n",
              "      <th></th>\n",
              "      <th></th>\n",
              "      <th></th>\n",
              "      <th></th>\n",
              "    </tr>\n",
              "  </thead>\n",
              "  <tbody>\n",
              "    <tr>\n",
              "      <th>4</th>\n",
              "      <td>25.285714</td>\n",
              "      <td>107.000000</td>\n",
              "      <td>2292.571429</td>\n",
              "      <td>16.000000</td>\n",
              "      <td>2.285714</td>\n",
              "    </tr>\n",
              "    <tr>\n",
              "      <th>6</th>\n",
              "      <td>20.500000</td>\n",
              "      <td>199.000000</td>\n",
              "      <td>2710.500000</td>\n",
              "      <td>15.500000</td>\n",
              "      <td>1.000000</td>\n",
              "    </tr>\n",
              "    <tr>\n",
              "      <th>8</th>\n",
              "      <td>14.111111</td>\n",
              "      <td>367.555556</td>\n",
              "      <td>3940.055556</td>\n",
              "      <td>11.194444</td>\n",
              "      <td>1.000000</td>\n",
              "    </tr>\n",
              "  </tbody>\n",
              "</table>\n",
              "</div>"
            ],
            "text/plain": [
              "                 mpg  displacement       weight  acceleration    origin\n",
              "cylinders                                                              \n",
              "4          25.285714    107.000000  2292.571429     16.000000  2.285714\n",
              "6          20.500000    199.000000  2710.500000     15.500000  1.000000\n",
              "8          14.111111    367.555556  3940.055556     11.194444  1.000000"
            ]
          },
          "metadata": {
            "tags": []
          },
          "execution_count": 145
        }
      ]
    },
    {
      "cell_type": "code",
      "metadata": {
        "id": "rXvoSpVKKwji",
        "outputId": "a65a2c31-0e6b-4c36-fd93-aa15e25a6cc8"
      },
      "source": [
        "year_cyl.loc[[70,80]]"
      ],
      "execution_count": null,
      "outputs": [
        {
          "output_type": "execute_result",
          "data": {
            "text/html": [
              "<div>\n",
              "<style scoped>\n",
              "    .dataframe tbody tr th:only-of-type {\n",
              "        vertical-align: middle;\n",
              "    }\n",
              "\n",
              "    .dataframe tbody tr th {\n",
              "        vertical-align: top;\n",
              "    }\n",
              "\n",
              "    .dataframe thead th {\n",
              "        text-align: right;\n",
              "    }\n",
              "</style>\n",
              "<table border=\"1\" class=\"dataframe\">\n",
              "  <thead>\n",
              "    <tr style=\"text-align: right;\">\n",
              "      <th></th>\n",
              "      <th></th>\n",
              "      <th>mpg</th>\n",
              "      <th>displacement</th>\n",
              "      <th>weight</th>\n",
              "      <th>acceleration</th>\n",
              "      <th>origin</th>\n",
              "    </tr>\n",
              "    <tr>\n",
              "      <th>model_year</th>\n",
              "      <th>cylinders</th>\n",
              "      <th></th>\n",
              "      <th></th>\n",
              "      <th></th>\n",
              "      <th></th>\n",
              "      <th></th>\n",
              "    </tr>\n",
              "  </thead>\n",
              "  <tbody>\n",
              "    <tr>\n",
              "      <th rowspan=\"3\" valign=\"top\">70</th>\n",
              "      <th>4</th>\n",
              "      <td>25.285714</td>\n",
              "      <td>107.000000</td>\n",
              "      <td>2292.571429</td>\n",
              "      <td>16.000000</td>\n",
              "      <td>2.285714</td>\n",
              "    </tr>\n",
              "    <tr>\n",
              "      <th>6</th>\n",
              "      <td>20.500000</td>\n",
              "      <td>199.000000</td>\n",
              "      <td>2710.500000</td>\n",
              "      <td>15.500000</td>\n",
              "      <td>1.000000</td>\n",
              "    </tr>\n",
              "    <tr>\n",
              "      <th>8</th>\n",
              "      <td>14.111111</td>\n",
              "      <td>367.555556</td>\n",
              "      <td>3940.055556</td>\n",
              "      <td>11.194444</td>\n",
              "      <td>1.000000</td>\n",
              "    </tr>\n",
              "    <tr>\n",
              "      <th rowspan=\"4\" valign=\"top\">80</th>\n",
              "      <th>3</th>\n",
              "      <td>23.700000</td>\n",
              "      <td>70.000000</td>\n",
              "      <td>2420.000000</td>\n",
              "      <td>12.500000</td>\n",
              "      <td>3.000000</td>\n",
              "    </tr>\n",
              "    <tr>\n",
              "      <th>4</th>\n",
              "      <td>34.612000</td>\n",
              "      <td>111.000000</td>\n",
              "      <td>2360.080000</td>\n",
              "      <td>17.144000</td>\n",
              "      <td>2.200000</td>\n",
              "    </tr>\n",
              "    <tr>\n",
              "      <th>5</th>\n",
              "      <td>36.400000</td>\n",
              "      <td>121.000000</td>\n",
              "      <td>2950.000000</td>\n",
              "      <td>19.900000</td>\n",
              "      <td>2.000000</td>\n",
              "    </tr>\n",
              "    <tr>\n",
              "      <th>6</th>\n",
              "      <td>25.900000</td>\n",
              "      <td>196.500000</td>\n",
              "      <td>3145.500000</td>\n",
              "      <td>15.050000</td>\n",
              "      <td>2.000000</td>\n",
              "    </tr>\n",
              "  </tbody>\n",
              "</table>\n",
              "</div>"
            ],
            "text/plain": [
              "                            mpg  displacement       weight  acceleration  \\\n",
              "model_year cylinders                                                       \n",
              "70         4          25.285714    107.000000  2292.571429     16.000000   \n",
              "           6          20.500000    199.000000  2710.500000     15.500000   \n",
              "           8          14.111111    367.555556  3940.055556     11.194444   \n",
              "80         3          23.700000     70.000000  2420.000000     12.500000   \n",
              "           4          34.612000    111.000000  2360.080000     17.144000   \n",
              "           5          36.400000    121.000000  2950.000000     19.900000   \n",
              "           6          25.900000    196.500000  3145.500000     15.050000   \n",
              "\n",
              "                        origin  \n",
              "model_year cylinders            \n",
              "70         4          2.285714  \n",
              "           6          1.000000  \n",
              "           8          1.000000  \n",
              "80         3          3.000000  \n",
              "           4          2.200000  \n",
              "           5          2.000000  \n",
              "           6          2.000000  "
            ]
          },
          "metadata": {
            "tags": []
          },
          "execution_count": 146
        }
      ]
    },
    {
      "cell_type": "code",
      "metadata": {
        "id": "VMftCgTOKwjj",
        "outputId": "6a78dedd-0ed0-4b41-91d0-8c69685c0ed1"
      },
      "source": [
        "# using the key you can grab the 4cylinders data for every year\n",
        "year_cyl.xs(key=4,level=\"cylinders\")"
      ],
      "execution_count": null,
      "outputs": [
        {
          "output_type": "execute_result",
          "data": {
            "text/html": [
              "<div>\n",
              "<style scoped>\n",
              "    .dataframe tbody tr th:only-of-type {\n",
              "        vertical-align: middle;\n",
              "    }\n",
              "\n",
              "    .dataframe tbody tr th {\n",
              "        vertical-align: top;\n",
              "    }\n",
              "\n",
              "    .dataframe thead th {\n",
              "        text-align: right;\n",
              "    }\n",
              "</style>\n",
              "<table border=\"1\" class=\"dataframe\">\n",
              "  <thead>\n",
              "    <tr style=\"text-align: right;\">\n",
              "      <th></th>\n",
              "      <th>mpg</th>\n",
              "      <th>displacement</th>\n",
              "      <th>weight</th>\n",
              "      <th>acceleration</th>\n",
              "      <th>origin</th>\n",
              "    </tr>\n",
              "    <tr>\n",
              "      <th>model_year</th>\n",
              "      <th></th>\n",
              "      <th></th>\n",
              "      <th></th>\n",
              "      <th></th>\n",
              "      <th></th>\n",
              "    </tr>\n",
              "  </thead>\n",
              "  <tbody>\n",
              "    <tr>\n",
              "      <th>70</th>\n",
              "      <td>25.285714</td>\n",
              "      <td>107.000000</td>\n",
              "      <td>2292.571429</td>\n",
              "      <td>16.000000</td>\n",
              "      <td>2.285714</td>\n",
              "    </tr>\n",
              "    <tr>\n",
              "      <th>71</th>\n",
              "      <td>27.461538</td>\n",
              "      <td>101.846154</td>\n",
              "      <td>2056.384615</td>\n",
              "      <td>16.961538</td>\n",
              "      <td>1.923077</td>\n",
              "    </tr>\n",
              "    <tr>\n",
              "      <th>72</th>\n",
              "      <td>23.428571</td>\n",
              "      <td>111.535714</td>\n",
              "      <td>2382.642857</td>\n",
              "      <td>17.214286</td>\n",
              "      <td>1.928571</td>\n",
              "    </tr>\n",
              "    <tr>\n",
              "      <th>73</th>\n",
              "      <td>22.727273</td>\n",
              "      <td>109.272727</td>\n",
              "      <td>2338.090909</td>\n",
              "      <td>17.136364</td>\n",
              "      <td>2.000000</td>\n",
              "    </tr>\n",
              "    <tr>\n",
              "      <th>74</th>\n",
              "      <td>27.800000</td>\n",
              "      <td>96.533333</td>\n",
              "      <td>2151.466667</td>\n",
              "      <td>16.400000</td>\n",
              "      <td>2.200000</td>\n",
              "    </tr>\n",
              "    <tr>\n",
              "      <th>75</th>\n",
              "      <td>25.250000</td>\n",
              "      <td>114.833333</td>\n",
              "      <td>2489.250000</td>\n",
              "      <td>15.833333</td>\n",
              "      <td>2.166667</td>\n",
              "    </tr>\n",
              "    <tr>\n",
              "      <th>76</th>\n",
              "      <td>26.766667</td>\n",
              "      <td>106.333333</td>\n",
              "      <td>2306.600000</td>\n",
              "      <td>16.866667</td>\n",
              "      <td>1.866667</td>\n",
              "    </tr>\n",
              "    <tr>\n",
              "      <th>77</th>\n",
              "      <td>29.107143</td>\n",
              "      <td>106.500000</td>\n",
              "      <td>2205.071429</td>\n",
              "      <td>16.064286</td>\n",
              "      <td>1.857143</td>\n",
              "    </tr>\n",
              "    <tr>\n",
              "      <th>78</th>\n",
              "      <td>29.576471</td>\n",
              "      <td>112.117647</td>\n",
              "      <td>2296.764706</td>\n",
              "      <td>16.282353</td>\n",
              "      <td>2.117647</td>\n",
              "    </tr>\n",
              "    <tr>\n",
              "      <th>79</th>\n",
              "      <td>31.525000</td>\n",
              "      <td>113.583333</td>\n",
              "      <td>2357.583333</td>\n",
              "      <td>15.991667</td>\n",
              "      <td>1.583333</td>\n",
              "    </tr>\n",
              "    <tr>\n",
              "      <th>80</th>\n",
              "      <td>34.612000</td>\n",
              "      <td>111.000000</td>\n",
              "      <td>2360.080000</td>\n",
              "      <td>17.144000</td>\n",
              "      <td>2.200000</td>\n",
              "    </tr>\n",
              "    <tr>\n",
              "      <th>81</th>\n",
              "      <td>32.814286</td>\n",
              "      <td>108.857143</td>\n",
              "      <td>2275.476190</td>\n",
              "      <td>16.466667</td>\n",
              "      <td>2.095238</td>\n",
              "    </tr>\n",
              "    <tr>\n",
              "      <th>82</th>\n",
              "      <td>32.071429</td>\n",
              "      <td>118.571429</td>\n",
              "      <td>2402.321429</td>\n",
              "      <td>16.703571</td>\n",
              "      <td>1.714286</td>\n",
              "    </tr>\n",
              "  </tbody>\n",
              "</table>\n",
              "</div>"
            ],
            "text/plain": [
              "                  mpg  displacement       weight  acceleration    origin\n",
              "model_year                                                              \n",
              "70          25.285714    107.000000  2292.571429     16.000000  2.285714\n",
              "71          27.461538    101.846154  2056.384615     16.961538  1.923077\n",
              "72          23.428571    111.535714  2382.642857     17.214286  1.928571\n",
              "73          22.727273    109.272727  2338.090909     17.136364  2.000000\n",
              "74          27.800000     96.533333  2151.466667     16.400000  2.200000\n",
              "75          25.250000    114.833333  2489.250000     15.833333  2.166667\n",
              "76          26.766667    106.333333  2306.600000     16.866667  1.866667\n",
              "77          29.107143    106.500000  2205.071429     16.064286  1.857143\n",
              "78          29.576471    112.117647  2296.764706     16.282353  2.117647\n",
              "79          31.525000    113.583333  2357.583333     15.991667  1.583333\n",
              "80          34.612000    111.000000  2360.080000     17.144000  2.200000\n",
              "81          32.814286    108.857143  2275.476190     16.466667  2.095238\n",
              "82          32.071429    118.571429  2402.321429     16.703571  1.714286"
            ]
          },
          "metadata": {
            "tags": []
          },
          "execution_count": 147
        }
      ]
    },
    {
      "cell_type": "code",
      "metadata": {
        "id": "nkRsec45Kwjj",
        "outputId": "5556c683-27c0-4e2d-f594-782da4635d4f"
      },
      "source": [
        "# using .xs you can only pass one key at a time, but what if we want to grab the values for 6 and 8 cylinders\n",
        "df[df[\"cylinders\"].isin([6,8])].groupby([\"model_year\",\"cylinders\"]).mean()"
      ],
      "execution_count": null,
      "outputs": [
        {
          "output_type": "execute_result",
          "data": {
            "text/html": [
              "<div>\n",
              "<style scoped>\n",
              "    .dataframe tbody tr th:only-of-type {\n",
              "        vertical-align: middle;\n",
              "    }\n",
              "\n",
              "    .dataframe tbody tr th {\n",
              "        vertical-align: top;\n",
              "    }\n",
              "\n",
              "    .dataframe thead th {\n",
              "        text-align: right;\n",
              "    }\n",
              "</style>\n",
              "<table border=\"1\" class=\"dataframe\">\n",
              "  <thead>\n",
              "    <tr style=\"text-align: right;\">\n",
              "      <th></th>\n",
              "      <th></th>\n",
              "      <th>mpg</th>\n",
              "      <th>displacement</th>\n",
              "      <th>weight</th>\n",
              "      <th>acceleration</th>\n",
              "      <th>origin</th>\n",
              "    </tr>\n",
              "    <tr>\n",
              "      <th>model_year</th>\n",
              "      <th>cylinders</th>\n",
              "      <th></th>\n",
              "      <th></th>\n",
              "      <th></th>\n",
              "      <th></th>\n",
              "      <th></th>\n",
              "    </tr>\n",
              "  </thead>\n",
              "  <tbody>\n",
              "    <tr>\n",
              "      <th rowspan=\"2\" valign=\"top\">70</th>\n",
              "      <th>6</th>\n",
              "      <td>20.500000</td>\n",
              "      <td>199.000000</td>\n",
              "      <td>2710.500000</td>\n",
              "      <td>15.500000</td>\n",
              "      <td>1.000000</td>\n",
              "    </tr>\n",
              "    <tr>\n",
              "      <th>8</th>\n",
              "      <td>14.111111</td>\n",
              "      <td>367.555556</td>\n",
              "      <td>3940.055556</td>\n",
              "      <td>11.194444</td>\n",
              "      <td>1.000000</td>\n",
              "    </tr>\n",
              "    <tr>\n",
              "      <th rowspan=\"2\" valign=\"top\">71</th>\n",
              "      <th>6</th>\n",
              "      <td>18.000000</td>\n",
              "      <td>243.375000</td>\n",
              "      <td>3171.875000</td>\n",
              "      <td>14.750000</td>\n",
              "      <td>1.000000</td>\n",
              "    </tr>\n",
              "    <tr>\n",
              "      <th>8</th>\n",
              "      <td>13.428571</td>\n",
              "      <td>371.714286</td>\n",
              "      <td>4537.714286</td>\n",
              "      <td>12.214286</td>\n",
              "      <td>1.000000</td>\n",
              "    </tr>\n",
              "    <tr>\n",
              "      <th>72</th>\n",
              "      <th>8</th>\n",
              "      <td>13.615385</td>\n",
              "      <td>344.846154</td>\n",
              "      <td>4228.384615</td>\n",
              "      <td>13.000000</td>\n",
              "      <td>1.000000</td>\n",
              "    </tr>\n",
              "    <tr>\n",
              "      <th rowspan=\"2\" valign=\"top\">73</th>\n",
              "      <th>6</th>\n",
              "      <td>19.000000</td>\n",
              "      <td>212.250000</td>\n",
              "      <td>2917.125000</td>\n",
              "      <td>15.687500</td>\n",
              "      <td>1.250000</td>\n",
              "    </tr>\n",
              "    <tr>\n",
              "      <th>8</th>\n",
              "      <td>13.200000</td>\n",
              "      <td>365.250000</td>\n",
              "      <td>4279.050000</td>\n",
              "      <td>12.250000</td>\n",
              "      <td>1.000000</td>\n",
              "    </tr>\n",
              "    <tr>\n",
              "      <th rowspan=\"2\" valign=\"top\">74</th>\n",
              "      <th>6</th>\n",
              "      <td>17.857143</td>\n",
              "      <td>230.428571</td>\n",
              "      <td>3320.000000</td>\n",
              "      <td>16.857143</td>\n",
              "      <td>1.000000</td>\n",
              "    </tr>\n",
              "    <tr>\n",
              "      <th>8</th>\n",
              "      <td>14.200000</td>\n",
              "      <td>315.200000</td>\n",
              "      <td>4438.400000</td>\n",
              "      <td>14.700000</td>\n",
              "      <td>1.000000</td>\n",
              "    </tr>\n",
              "    <tr>\n",
              "      <th rowspan=\"2\" valign=\"top\">75</th>\n",
              "      <th>6</th>\n",
              "      <td>17.583333</td>\n",
              "      <td>233.750000</td>\n",
              "      <td>3398.333333</td>\n",
              "      <td>17.708333</td>\n",
              "      <td>1.000000</td>\n",
              "    </tr>\n",
              "    <tr>\n",
              "      <th>8</th>\n",
              "      <td>15.666667</td>\n",
              "      <td>330.500000</td>\n",
              "      <td>4108.833333</td>\n",
              "      <td>13.166667</td>\n",
              "      <td>1.000000</td>\n",
              "    </tr>\n",
              "    <tr>\n",
              "      <th rowspan=\"2\" valign=\"top\">76</th>\n",
              "      <th>6</th>\n",
              "      <td>20.000000</td>\n",
              "      <td>221.400000</td>\n",
              "      <td>3349.600000</td>\n",
              "      <td>17.000000</td>\n",
              "      <td>1.300000</td>\n",
              "    </tr>\n",
              "    <tr>\n",
              "      <th>8</th>\n",
              "      <td>14.666667</td>\n",
              "      <td>324.000000</td>\n",
              "      <td>4064.666667</td>\n",
              "      <td>13.222222</td>\n",
              "      <td>1.000000</td>\n",
              "    </tr>\n",
              "    <tr>\n",
              "      <th rowspan=\"2\" valign=\"top\">77</th>\n",
              "      <th>6</th>\n",
              "      <td>19.500000</td>\n",
              "      <td>220.400000</td>\n",
              "      <td>3383.000000</td>\n",
              "      <td>16.900000</td>\n",
              "      <td>1.400000</td>\n",
              "    </tr>\n",
              "    <tr>\n",
              "      <th>8</th>\n",
              "      <td>16.000000</td>\n",
              "      <td>335.750000</td>\n",
              "      <td>4177.500000</td>\n",
              "      <td>13.662500</td>\n",
              "      <td>1.000000</td>\n",
              "    </tr>\n",
              "    <tr>\n",
              "      <th rowspan=\"2\" valign=\"top\">78</th>\n",
              "      <th>6</th>\n",
              "      <td>19.066667</td>\n",
              "      <td>213.250000</td>\n",
              "      <td>3314.166667</td>\n",
              "      <td>16.391667</td>\n",
              "      <td>1.166667</td>\n",
              "    </tr>\n",
              "    <tr>\n",
              "      <th>8</th>\n",
              "      <td>19.050000</td>\n",
              "      <td>300.833333</td>\n",
              "      <td>3563.333333</td>\n",
              "      <td>13.266667</td>\n",
              "      <td>1.000000</td>\n",
              "    </tr>\n",
              "    <tr>\n",
              "      <th rowspan=\"2\" valign=\"top\">79</th>\n",
              "      <th>6</th>\n",
              "      <td>22.950000</td>\n",
              "      <td>205.666667</td>\n",
              "      <td>3025.833333</td>\n",
              "      <td>15.433333</td>\n",
              "      <td>1.000000</td>\n",
              "    </tr>\n",
              "    <tr>\n",
              "      <th>8</th>\n",
              "      <td>18.630000</td>\n",
              "      <td>321.400000</td>\n",
              "      <td>3862.900000</td>\n",
              "      <td>15.400000</td>\n",
              "      <td>1.000000</td>\n",
              "    </tr>\n",
              "    <tr>\n",
              "      <th>80</th>\n",
              "      <th>6</th>\n",
              "      <td>25.900000</td>\n",
              "      <td>196.500000</td>\n",
              "      <td>3145.500000</td>\n",
              "      <td>15.050000</td>\n",
              "      <td>2.000000</td>\n",
              "    </tr>\n",
              "    <tr>\n",
              "      <th rowspan=\"2\" valign=\"top\">81</th>\n",
              "      <th>6</th>\n",
              "      <td>23.428571</td>\n",
              "      <td>184.000000</td>\n",
              "      <td>3093.571429</td>\n",
              "      <td>15.442857</td>\n",
              "      <td>1.714286</td>\n",
              "    </tr>\n",
              "    <tr>\n",
              "      <th>8</th>\n",
              "      <td>26.600000</td>\n",
              "      <td>350.000000</td>\n",
              "      <td>3725.000000</td>\n",
              "      <td>19.000000</td>\n",
              "      <td>1.000000</td>\n",
              "    </tr>\n",
              "    <tr>\n",
              "      <th>82</th>\n",
              "      <th>6</th>\n",
              "      <td>28.333333</td>\n",
              "      <td>225.000000</td>\n",
              "      <td>2931.666667</td>\n",
              "      <td>16.033333</td>\n",
              "      <td>1.000000</td>\n",
              "    </tr>\n",
              "  </tbody>\n",
              "</table>\n",
              "</div>"
            ],
            "text/plain": [
              "                            mpg  displacement       weight  acceleration  \\\n",
              "model_year cylinders                                                       \n",
              "70         6          20.500000    199.000000  2710.500000     15.500000   \n",
              "           8          14.111111    367.555556  3940.055556     11.194444   \n",
              "71         6          18.000000    243.375000  3171.875000     14.750000   \n",
              "           8          13.428571    371.714286  4537.714286     12.214286   \n",
              "72         8          13.615385    344.846154  4228.384615     13.000000   \n",
              "73         6          19.000000    212.250000  2917.125000     15.687500   \n",
              "           8          13.200000    365.250000  4279.050000     12.250000   \n",
              "74         6          17.857143    230.428571  3320.000000     16.857143   \n",
              "           8          14.200000    315.200000  4438.400000     14.700000   \n",
              "75         6          17.583333    233.750000  3398.333333     17.708333   \n",
              "           8          15.666667    330.500000  4108.833333     13.166667   \n",
              "76         6          20.000000    221.400000  3349.600000     17.000000   \n",
              "           8          14.666667    324.000000  4064.666667     13.222222   \n",
              "77         6          19.500000    220.400000  3383.000000     16.900000   \n",
              "           8          16.000000    335.750000  4177.500000     13.662500   \n",
              "78         6          19.066667    213.250000  3314.166667     16.391667   \n",
              "           8          19.050000    300.833333  3563.333333     13.266667   \n",
              "79         6          22.950000    205.666667  3025.833333     15.433333   \n",
              "           8          18.630000    321.400000  3862.900000     15.400000   \n",
              "80         6          25.900000    196.500000  3145.500000     15.050000   \n",
              "81         6          23.428571    184.000000  3093.571429     15.442857   \n",
              "           8          26.600000    350.000000  3725.000000     19.000000   \n",
              "82         6          28.333333    225.000000  2931.666667     16.033333   \n",
              "\n",
              "                        origin  \n",
              "model_year cylinders            \n",
              "70         6          1.000000  \n",
              "           8          1.000000  \n",
              "71         6          1.000000  \n",
              "           8          1.000000  \n",
              "72         8          1.000000  \n",
              "73         6          1.250000  \n",
              "           8          1.000000  \n",
              "74         6          1.000000  \n",
              "           8          1.000000  \n",
              "75         6          1.000000  \n",
              "           8          1.000000  \n",
              "76         6          1.300000  \n",
              "           8          1.000000  \n",
              "77         6          1.400000  \n",
              "           8          1.000000  \n",
              "78         6          1.166667  \n",
              "           8          1.000000  \n",
              "79         6          1.000000  \n",
              "           8          1.000000  \n",
              "80         6          2.000000  \n",
              "81         6          1.714286  \n",
              "           8          1.000000  \n",
              "82         6          1.000000  "
            ]
          },
          "metadata": {
            "tags": []
          },
          "execution_count": 148
        }
      ]
    },
    {
      "cell_type": "code",
      "metadata": {
        "id": "_qtSUC5aKwjj",
        "outputId": "3fba4850-e757-4a4d-aeeb-3597f6b646a3"
      },
      "source": [
        "# you can swap the index levels using swaplevel()\n",
        "year_cyl.swaplevel()"
      ],
      "execution_count": null,
      "outputs": [
        {
          "output_type": "execute_result",
          "data": {
            "text/html": [
              "<div>\n",
              "<style scoped>\n",
              "    .dataframe tbody tr th:only-of-type {\n",
              "        vertical-align: middle;\n",
              "    }\n",
              "\n",
              "    .dataframe tbody tr th {\n",
              "        vertical-align: top;\n",
              "    }\n",
              "\n",
              "    .dataframe thead th {\n",
              "        text-align: right;\n",
              "    }\n",
              "</style>\n",
              "<table border=\"1\" class=\"dataframe\">\n",
              "  <thead>\n",
              "    <tr style=\"text-align: right;\">\n",
              "      <th></th>\n",
              "      <th></th>\n",
              "      <th>mpg</th>\n",
              "      <th>displacement</th>\n",
              "      <th>weight</th>\n",
              "      <th>acceleration</th>\n",
              "      <th>origin</th>\n",
              "    </tr>\n",
              "    <tr>\n",
              "      <th>cylinders</th>\n",
              "      <th>model_year</th>\n",
              "      <th></th>\n",
              "      <th></th>\n",
              "      <th></th>\n",
              "      <th></th>\n",
              "      <th></th>\n",
              "    </tr>\n",
              "  </thead>\n",
              "  <tbody>\n",
              "    <tr>\n",
              "      <th>4</th>\n",
              "      <th>70</th>\n",
              "      <td>25.285714</td>\n",
              "      <td>107.000000</td>\n",
              "      <td>2292.571429</td>\n",
              "      <td>16.000000</td>\n",
              "      <td>2.285714</td>\n",
              "    </tr>\n",
              "    <tr>\n",
              "      <th>6</th>\n",
              "      <th>70</th>\n",
              "      <td>20.500000</td>\n",
              "      <td>199.000000</td>\n",
              "      <td>2710.500000</td>\n",
              "      <td>15.500000</td>\n",
              "      <td>1.000000</td>\n",
              "    </tr>\n",
              "    <tr>\n",
              "      <th>8</th>\n",
              "      <th>70</th>\n",
              "      <td>14.111111</td>\n",
              "      <td>367.555556</td>\n",
              "      <td>3940.055556</td>\n",
              "      <td>11.194444</td>\n",
              "      <td>1.000000</td>\n",
              "    </tr>\n",
              "    <tr>\n",
              "      <th>4</th>\n",
              "      <th>71</th>\n",
              "      <td>27.461538</td>\n",
              "      <td>101.846154</td>\n",
              "      <td>2056.384615</td>\n",
              "      <td>16.961538</td>\n",
              "      <td>1.923077</td>\n",
              "    </tr>\n",
              "    <tr>\n",
              "      <th>6</th>\n",
              "      <th>71</th>\n",
              "      <td>18.000000</td>\n",
              "      <td>243.375000</td>\n",
              "      <td>3171.875000</td>\n",
              "      <td>14.750000</td>\n",
              "      <td>1.000000</td>\n",
              "    </tr>\n",
              "    <tr>\n",
              "      <th>8</th>\n",
              "      <th>71</th>\n",
              "      <td>13.428571</td>\n",
              "      <td>371.714286</td>\n",
              "      <td>4537.714286</td>\n",
              "      <td>12.214286</td>\n",
              "      <td>1.000000</td>\n",
              "    </tr>\n",
              "    <tr>\n",
              "      <th>3</th>\n",
              "      <th>72</th>\n",
              "      <td>19.000000</td>\n",
              "      <td>70.000000</td>\n",
              "      <td>2330.000000</td>\n",
              "      <td>13.500000</td>\n",
              "      <td>3.000000</td>\n",
              "    </tr>\n",
              "    <tr>\n",
              "      <th>4</th>\n",
              "      <th>72</th>\n",
              "      <td>23.428571</td>\n",
              "      <td>111.535714</td>\n",
              "      <td>2382.642857</td>\n",
              "      <td>17.214286</td>\n",
              "      <td>1.928571</td>\n",
              "    </tr>\n",
              "    <tr>\n",
              "      <th>8</th>\n",
              "      <th>72</th>\n",
              "      <td>13.615385</td>\n",
              "      <td>344.846154</td>\n",
              "      <td>4228.384615</td>\n",
              "      <td>13.000000</td>\n",
              "      <td>1.000000</td>\n",
              "    </tr>\n",
              "    <tr>\n",
              "      <th>3</th>\n",
              "      <th>73</th>\n",
              "      <td>18.000000</td>\n",
              "      <td>70.000000</td>\n",
              "      <td>2124.000000</td>\n",
              "      <td>13.500000</td>\n",
              "      <td>3.000000</td>\n",
              "    </tr>\n",
              "    <tr>\n",
              "      <th>4</th>\n",
              "      <th>73</th>\n",
              "      <td>22.727273</td>\n",
              "      <td>109.272727</td>\n",
              "      <td>2338.090909</td>\n",
              "      <td>17.136364</td>\n",
              "      <td>2.000000</td>\n",
              "    </tr>\n",
              "    <tr>\n",
              "      <th>6</th>\n",
              "      <th>73</th>\n",
              "      <td>19.000000</td>\n",
              "      <td>212.250000</td>\n",
              "      <td>2917.125000</td>\n",
              "      <td>15.687500</td>\n",
              "      <td>1.250000</td>\n",
              "    </tr>\n",
              "    <tr>\n",
              "      <th>8</th>\n",
              "      <th>73</th>\n",
              "      <td>13.200000</td>\n",
              "      <td>365.250000</td>\n",
              "      <td>4279.050000</td>\n",
              "      <td>12.250000</td>\n",
              "      <td>1.000000</td>\n",
              "    </tr>\n",
              "    <tr>\n",
              "      <th>4</th>\n",
              "      <th>74</th>\n",
              "      <td>27.800000</td>\n",
              "      <td>96.533333</td>\n",
              "      <td>2151.466667</td>\n",
              "      <td>16.400000</td>\n",
              "      <td>2.200000</td>\n",
              "    </tr>\n",
              "    <tr>\n",
              "      <th>6</th>\n",
              "      <th>74</th>\n",
              "      <td>17.857143</td>\n",
              "      <td>230.428571</td>\n",
              "      <td>3320.000000</td>\n",
              "      <td>16.857143</td>\n",
              "      <td>1.000000</td>\n",
              "    </tr>\n",
              "    <tr>\n",
              "      <th>8</th>\n",
              "      <th>74</th>\n",
              "      <td>14.200000</td>\n",
              "      <td>315.200000</td>\n",
              "      <td>4438.400000</td>\n",
              "      <td>14.700000</td>\n",
              "      <td>1.000000</td>\n",
              "    </tr>\n",
              "    <tr>\n",
              "      <th>4</th>\n",
              "      <th>75</th>\n",
              "      <td>25.250000</td>\n",
              "      <td>114.833333</td>\n",
              "      <td>2489.250000</td>\n",
              "      <td>15.833333</td>\n",
              "      <td>2.166667</td>\n",
              "    </tr>\n",
              "    <tr>\n",
              "      <th>6</th>\n",
              "      <th>75</th>\n",
              "      <td>17.583333</td>\n",
              "      <td>233.750000</td>\n",
              "      <td>3398.333333</td>\n",
              "      <td>17.708333</td>\n",
              "      <td>1.000000</td>\n",
              "    </tr>\n",
              "    <tr>\n",
              "      <th>8</th>\n",
              "      <th>75</th>\n",
              "      <td>15.666667</td>\n",
              "      <td>330.500000</td>\n",
              "      <td>4108.833333</td>\n",
              "      <td>13.166667</td>\n",
              "      <td>1.000000</td>\n",
              "    </tr>\n",
              "    <tr>\n",
              "      <th>4</th>\n",
              "      <th>76</th>\n",
              "      <td>26.766667</td>\n",
              "      <td>106.333333</td>\n",
              "      <td>2306.600000</td>\n",
              "      <td>16.866667</td>\n",
              "      <td>1.866667</td>\n",
              "    </tr>\n",
              "    <tr>\n",
              "      <th>6</th>\n",
              "      <th>76</th>\n",
              "      <td>20.000000</td>\n",
              "      <td>221.400000</td>\n",
              "      <td>3349.600000</td>\n",
              "      <td>17.000000</td>\n",
              "      <td>1.300000</td>\n",
              "    </tr>\n",
              "    <tr>\n",
              "      <th>8</th>\n",
              "      <th>76</th>\n",
              "      <td>14.666667</td>\n",
              "      <td>324.000000</td>\n",
              "      <td>4064.666667</td>\n",
              "      <td>13.222222</td>\n",
              "      <td>1.000000</td>\n",
              "    </tr>\n",
              "    <tr>\n",
              "      <th>3</th>\n",
              "      <th>77</th>\n",
              "      <td>21.500000</td>\n",
              "      <td>80.000000</td>\n",
              "      <td>2720.000000</td>\n",
              "      <td>13.500000</td>\n",
              "      <td>3.000000</td>\n",
              "    </tr>\n",
              "    <tr>\n",
              "      <th>4</th>\n",
              "      <th>77</th>\n",
              "      <td>29.107143</td>\n",
              "      <td>106.500000</td>\n",
              "      <td>2205.071429</td>\n",
              "      <td>16.064286</td>\n",
              "      <td>1.857143</td>\n",
              "    </tr>\n",
              "    <tr>\n",
              "      <th>6</th>\n",
              "      <th>77</th>\n",
              "      <td>19.500000</td>\n",
              "      <td>220.400000</td>\n",
              "      <td>3383.000000</td>\n",
              "      <td>16.900000</td>\n",
              "      <td>1.400000</td>\n",
              "    </tr>\n",
              "    <tr>\n",
              "      <th>8</th>\n",
              "      <th>77</th>\n",
              "      <td>16.000000</td>\n",
              "      <td>335.750000</td>\n",
              "      <td>4177.500000</td>\n",
              "      <td>13.662500</td>\n",
              "      <td>1.000000</td>\n",
              "    </tr>\n",
              "    <tr>\n",
              "      <th>4</th>\n",
              "      <th>78</th>\n",
              "      <td>29.576471</td>\n",
              "      <td>112.117647</td>\n",
              "      <td>2296.764706</td>\n",
              "      <td>16.282353</td>\n",
              "      <td>2.117647</td>\n",
              "    </tr>\n",
              "    <tr>\n",
              "      <th>5</th>\n",
              "      <th>78</th>\n",
              "      <td>20.300000</td>\n",
              "      <td>131.000000</td>\n",
              "      <td>2830.000000</td>\n",
              "      <td>15.900000</td>\n",
              "      <td>2.000000</td>\n",
              "    </tr>\n",
              "    <tr>\n",
              "      <th>6</th>\n",
              "      <th>78</th>\n",
              "      <td>19.066667</td>\n",
              "      <td>213.250000</td>\n",
              "      <td>3314.166667</td>\n",
              "      <td>16.391667</td>\n",
              "      <td>1.166667</td>\n",
              "    </tr>\n",
              "    <tr>\n",
              "      <th>8</th>\n",
              "      <th>78</th>\n",
              "      <td>19.050000</td>\n",
              "      <td>300.833333</td>\n",
              "      <td>3563.333333</td>\n",
              "      <td>13.266667</td>\n",
              "      <td>1.000000</td>\n",
              "    </tr>\n",
              "    <tr>\n",
              "      <th>4</th>\n",
              "      <th>79</th>\n",
              "      <td>31.525000</td>\n",
              "      <td>113.583333</td>\n",
              "      <td>2357.583333</td>\n",
              "      <td>15.991667</td>\n",
              "      <td>1.583333</td>\n",
              "    </tr>\n",
              "    <tr>\n",
              "      <th>5</th>\n",
              "      <th>79</th>\n",
              "      <td>25.400000</td>\n",
              "      <td>183.000000</td>\n",
              "      <td>3530.000000</td>\n",
              "      <td>20.100000</td>\n",
              "      <td>2.000000</td>\n",
              "    </tr>\n",
              "    <tr>\n",
              "      <th>6</th>\n",
              "      <th>79</th>\n",
              "      <td>22.950000</td>\n",
              "      <td>205.666667</td>\n",
              "      <td>3025.833333</td>\n",
              "      <td>15.433333</td>\n",
              "      <td>1.000000</td>\n",
              "    </tr>\n",
              "    <tr>\n",
              "      <th>8</th>\n",
              "      <th>79</th>\n",
              "      <td>18.630000</td>\n",
              "      <td>321.400000</td>\n",
              "      <td>3862.900000</td>\n",
              "      <td>15.400000</td>\n",
              "      <td>1.000000</td>\n",
              "    </tr>\n",
              "    <tr>\n",
              "      <th>3</th>\n",
              "      <th>80</th>\n",
              "      <td>23.700000</td>\n",
              "      <td>70.000000</td>\n",
              "      <td>2420.000000</td>\n",
              "      <td>12.500000</td>\n",
              "      <td>3.000000</td>\n",
              "    </tr>\n",
              "    <tr>\n",
              "      <th>4</th>\n",
              "      <th>80</th>\n",
              "      <td>34.612000</td>\n",
              "      <td>111.000000</td>\n",
              "      <td>2360.080000</td>\n",
              "      <td>17.144000</td>\n",
              "      <td>2.200000</td>\n",
              "    </tr>\n",
              "    <tr>\n",
              "      <th>5</th>\n",
              "      <th>80</th>\n",
              "      <td>36.400000</td>\n",
              "      <td>121.000000</td>\n",
              "      <td>2950.000000</td>\n",
              "      <td>19.900000</td>\n",
              "      <td>2.000000</td>\n",
              "    </tr>\n",
              "    <tr>\n",
              "      <th>6</th>\n",
              "      <th>80</th>\n",
              "      <td>25.900000</td>\n",
              "      <td>196.500000</td>\n",
              "      <td>3145.500000</td>\n",
              "      <td>15.050000</td>\n",
              "      <td>2.000000</td>\n",
              "    </tr>\n",
              "    <tr>\n",
              "      <th>4</th>\n",
              "      <th>81</th>\n",
              "      <td>32.814286</td>\n",
              "      <td>108.857143</td>\n",
              "      <td>2275.476190</td>\n",
              "      <td>16.466667</td>\n",
              "      <td>2.095238</td>\n",
              "    </tr>\n",
              "    <tr>\n",
              "      <th>6</th>\n",
              "      <th>81</th>\n",
              "      <td>23.428571</td>\n",
              "      <td>184.000000</td>\n",
              "      <td>3093.571429</td>\n",
              "      <td>15.442857</td>\n",
              "      <td>1.714286</td>\n",
              "    </tr>\n",
              "    <tr>\n",
              "      <th>8</th>\n",
              "      <th>81</th>\n",
              "      <td>26.600000</td>\n",
              "      <td>350.000000</td>\n",
              "      <td>3725.000000</td>\n",
              "      <td>19.000000</td>\n",
              "      <td>1.000000</td>\n",
              "    </tr>\n",
              "    <tr>\n",
              "      <th>4</th>\n",
              "      <th>82</th>\n",
              "      <td>32.071429</td>\n",
              "      <td>118.571429</td>\n",
              "      <td>2402.321429</td>\n",
              "      <td>16.703571</td>\n",
              "      <td>1.714286</td>\n",
              "    </tr>\n",
              "    <tr>\n",
              "      <th>6</th>\n",
              "      <th>82</th>\n",
              "      <td>28.333333</td>\n",
              "      <td>225.000000</td>\n",
              "      <td>2931.666667</td>\n",
              "      <td>16.033333</td>\n",
              "      <td>1.000000</td>\n",
              "    </tr>\n",
              "  </tbody>\n",
              "</table>\n",
              "</div>"
            ],
            "text/plain": [
              "                            mpg  displacement       weight  acceleration  \\\n",
              "cylinders model_year                                                       \n",
              "4         70          25.285714    107.000000  2292.571429     16.000000   \n",
              "6         70          20.500000    199.000000  2710.500000     15.500000   \n",
              "8         70          14.111111    367.555556  3940.055556     11.194444   \n",
              "4         71          27.461538    101.846154  2056.384615     16.961538   \n",
              "6         71          18.000000    243.375000  3171.875000     14.750000   \n",
              "8         71          13.428571    371.714286  4537.714286     12.214286   \n",
              "3         72          19.000000     70.000000  2330.000000     13.500000   \n",
              "4         72          23.428571    111.535714  2382.642857     17.214286   \n",
              "8         72          13.615385    344.846154  4228.384615     13.000000   \n",
              "3         73          18.000000     70.000000  2124.000000     13.500000   \n",
              "4         73          22.727273    109.272727  2338.090909     17.136364   \n",
              "6         73          19.000000    212.250000  2917.125000     15.687500   \n",
              "8         73          13.200000    365.250000  4279.050000     12.250000   \n",
              "4         74          27.800000     96.533333  2151.466667     16.400000   \n",
              "6         74          17.857143    230.428571  3320.000000     16.857143   \n",
              "8         74          14.200000    315.200000  4438.400000     14.700000   \n",
              "4         75          25.250000    114.833333  2489.250000     15.833333   \n",
              "6         75          17.583333    233.750000  3398.333333     17.708333   \n",
              "8         75          15.666667    330.500000  4108.833333     13.166667   \n",
              "4         76          26.766667    106.333333  2306.600000     16.866667   \n",
              "6         76          20.000000    221.400000  3349.600000     17.000000   \n",
              "8         76          14.666667    324.000000  4064.666667     13.222222   \n",
              "3         77          21.500000     80.000000  2720.000000     13.500000   \n",
              "4         77          29.107143    106.500000  2205.071429     16.064286   \n",
              "6         77          19.500000    220.400000  3383.000000     16.900000   \n",
              "8         77          16.000000    335.750000  4177.500000     13.662500   \n",
              "4         78          29.576471    112.117647  2296.764706     16.282353   \n",
              "5         78          20.300000    131.000000  2830.000000     15.900000   \n",
              "6         78          19.066667    213.250000  3314.166667     16.391667   \n",
              "8         78          19.050000    300.833333  3563.333333     13.266667   \n",
              "4         79          31.525000    113.583333  2357.583333     15.991667   \n",
              "5         79          25.400000    183.000000  3530.000000     20.100000   \n",
              "6         79          22.950000    205.666667  3025.833333     15.433333   \n",
              "8         79          18.630000    321.400000  3862.900000     15.400000   \n",
              "3         80          23.700000     70.000000  2420.000000     12.500000   \n",
              "4         80          34.612000    111.000000  2360.080000     17.144000   \n",
              "5         80          36.400000    121.000000  2950.000000     19.900000   \n",
              "6         80          25.900000    196.500000  3145.500000     15.050000   \n",
              "4         81          32.814286    108.857143  2275.476190     16.466667   \n",
              "6         81          23.428571    184.000000  3093.571429     15.442857   \n",
              "8         81          26.600000    350.000000  3725.000000     19.000000   \n",
              "4         82          32.071429    118.571429  2402.321429     16.703571   \n",
              "6         82          28.333333    225.000000  2931.666667     16.033333   \n",
              "\n",
              "                        origin  \n",
              "cylinders model_year            \n",
              "4         70          2.285714  \n",
              "6         70          1.000000  \n",
              "8         70          1.000000  \n",
              "4         71          1.923077  \n",
              "6         71          1.000000  \n",
              "8         71          1.000000  \n",
              "3         72          3.000000  \n",
              "4         72          1.928571  \n",
              "8         72          1.000000  \n",
              "3         73          3.000000  \n",
              "4         73          2.000000  \n",
              "6         73          1.250000  \n",
              "8         73          1.000000  \n",
              "4         74          2.200000  \n",
              "6         74          1.000000  \n",
              "8         74          1.000000  \n",
              "4         75          2.166667  \n",
              "6         75          1.000000  \n",
              "8         75          1.000000  \n",
              "4         76          1.866667  \n",
              "6         76          1.300000  \n",
              "8         76          1.000000  \n",
              "3         77          3.000000  \n",
              "4         77          1.857143  \n",
              "6         77          1.400000  \n",
              "8         77          1.000000  \n",
              "4         78          2.117647  \n",
              "5         78          2.000000  \n",
              "6         78          1.166667  \n",
              "8         78          1.000000  \n",
              "4         79          1.583333  \n",
              "5         79          2.000000  \n",
              "6         79          1.000000  \n",
              "8         79          1.000000  \n",
              "3         80          3.000000  \n",
              "4         80          2.200000  \n",
              "5         80          2.000000  \n",
              "6         80          2.000000  \n",
              "4         81          2.095238  \n",
              "6         81          1.714286  \n",
              "8         81          1.000000  \n",
              "4         82          1.714286  \n",
              "6         82          1.000000  "
            ]
          },
          "metadata": {
            "tags": []
          },
          "execution_count": 149
        }
      ]
    },
    {
      "cell_type": "code",
      "metadata": {
        "id": "NqVYRMYYKwjj",
        "outputId": "596ee665-4211-4990-adeb-ac8c5ebc5372"
      },
      "source": [
        "year_cyl.sort_index(level=\"model_year\",ascending=False)"
      ],
      "execution_count": null,
      "outputs": [
        {
          "output_type": "execute_result",
          "data": {
            "text/html": [
              "<div>\n",
              "<style scoped>\n",
              "    .dataframe tbody tr th:only-of-type {\n",
              "        vertical-align: middle;\n",
              "    }\n",
              "\n",
              "    .dataframe tbody tr th {\n",
              "        vertical-align: top;\n",
              "    }\n",
              "\n",
              "    .dataframe thead th {\n",
              "        text-align: right;\n",
              "    }\n",
              "</style>\n",
              "<table border=\"1\" class=\"dataframe\">\n",
              "  <thead>\n",
              "    <tr style=\"text-align: right;\">\n",
              "      <th></th>\n",
              "      <th></th>\n",
              "      <th>mpg</th>\n",
              "      <th>displacement</th>\n",
              "      <th>weight</th>\n",
              "      <th>acceleration</th>\n",
              "      <th>origin</th>\n",
              "    </tr>\n",
              "    <tr>\n",
              "      <th>model_year</th>\n",
              "      <th>cylinders</th>\n",
              "      <th></th>\n",
              "      <th></th>\n",
              "      <th></th>\n",
              "      <th></th>\n",
              "      <th></th>\n",
              "    </tr>\n",
              "  </thead>\n",
              "  <tbody>\n",
              "    <tr>\n",
              "      <th rowspan=\"2\" valign=\"top\">82</th>\n",
              "      <th>6</th>\n",
              "      <td>28.333333</td>\n",
              "      <td>225.000000</td>\n",
              "      <td>2931.666667</td>\n",
              "      <td>16.033333</td>\n",
              "      <td>1.000000</td>\n",
              "    </tr>\n",
              "    <tr>\n",
              "      <th>4</th>\n",
              "      <td>32.071429</td>\n",
              "      <td>118.571429</td>\n",
              "      <td>2402.321429</td>\n",
              "      <td>16.703571</td>\n",
              "      <td>1.714286</td>\n",
              "    </tr>\n",
              "    <tr>\n",
              "      <th rowspan=\"3\" valign=\"top\">81</th>\n",
              "      <th>8</th>\n",
              "      <td>26.600000</td>\n",
              "      <td>350.000000</td>\n",
              "      <td>3725.000000</td>\n",
              "      <td>19.000000</td>\n",
              "      <td>1.000000</td>\n",
              "    </tr>\n",
              "    <tr>\n",
              "      <th>6</th>\n",
              "      <td>23.428571</td>\n",
              "      <td>184.000000</td>\n",
              "      <td>3093.571429</td>\n",
              "      <td>15.442857</td>\n",
              "      <td>1.714286</td>\n",
              "    </tr>\n",
              "    <tr>\n",
              "      <th>4</th>\n",
              "      <td>32.814286</td>\n",
              "      <td>108.857143</td>\n",
              "      <td>2275.476190</td>\n",
              "      <td>16.466667</td>\n",
              "      <td>2.095238</td>\n",
              "    </tr>\n",
              "    <tr>\n",
              "      <th rowspan=\"4\" valign=\"top\">80</th>\n",
              "      <th>6</th>\n",
              "      <td>25.900000</td>\n",
              "      <td>196.500000</td>\n",
              "      <td>3145.500000</td>\n",
              "      <td>15.050000</td>\n",
              "      <td>2.000000</td>\n",
              "    </tr>\n",
              "    <tr>\n",
              "      <th>5</th>\n",
              "      <td>36.400000</td>\n",
              "      <td>121.000000</td>\n",
              "      <td>2950.000000</td>\n",
              "      <td>19.900000</td>\n",
              "      <td>2.000000</td>\n",
              "    </tr>\n",
              "    <tr>\n",
              "      <th>4</th>\n",
              "      <td>34.612000</td>\n",
              "      <td>111.000000</td>\n",
              "      <td>2360.080000</td>\n",
              "      <td>17.144000</td>\n",
              "      <td>2.200000</td>\n",
              "    </tr>\n",
              "    <tr>\n",
              "      <th>3</th>\n",
              "      <td>23.700000</td>\n",
              "      <td>70.000000</td>\n",
              "      <td>2420.000000</td>\n",
              "      <td>12.500000</td>\n",
              "      <td>3.000000</td>\n",
              "    </tr>\n",
              "    <tr>\n",
              "      <th rowspan=\"4\" valign=\"top\">79</th>\n",
              "      <th>8</th>\n",
              "      <td>18.630000</td>\n",
              "      <td>321.400000</td>\n",
              "      <td>3862.900000</td>\n",
              "      <td>15.400000</td>\n",
              "      <td>1.000000</td>\n",
              "    </tr>\n",
              "    <tr>\n",
              "      <th>6</th>\n",
              "      <td>22.950000</td>\n",
              "      <td>205.666667</td>\n",
              "      <td>3025.833333</td>\n",
              "      <td>15.433333</td>\n",
              "      <td>1.000000</td>\n",
              "    </tr>\n",
              "    <tr>\n",
              "      <th>5</th>\n",
              "      <td>25.400000</td>\n",
              "      <td>183.000000</td>\n",
              "      <td>3530.000000</td>\n",
              "      <td>20.100000</td>\n",
              "      <td>2.000000</td>\n",
              "    </tr>\n",
              "    <tr>\n",
              "      <th>4</th>\n",
              "      <td>31.525000</td>\n",
              "      <td>113.583333</td>\n",
              "      <td>2357.583333</td>\n",
              "      <td>15.991667</td>\n",
              "      <td>1.583333</td>\n",
              "    </tr>\n",
              "    <tr>\n",
              "      <th rowspan=\"4\" valign=\"top\">78</th>\n",
              "      <th>8</th>\n",
              "      <td>19.050000</td>\n",
              "      <td>300.833333</td>\n",
              "      <td>3563.333333</td>\n",
              "      <td>13.266667</td>\n",
              "      <td>1.000000</td>\n",
              "    </tr>\n",
              "    <tr>\n",
              "      <th>6</th>\n",
              "      <td>19.066667</td>\n",
              "      <td>213.250000</td>\n",
              "      <td>3314.166667</td>\n",
              "      <td>16.391667</td>\n",
              "      <td>1.166667</td>\n",
              "    </tr>\n",
              "    <tr>\n",
              "      <th>5</th>\n",
              "      <td>20.300000</td>\n",
              "      <td>131.000000</td>\n",
              "      <td>2830.000000</td>\n",
              "      <td>15.900000</td>\n",
              "      <td>2.000000</td>\n",
              "    </tr>\n",
              "    <tr>\n",
              "      <th>4</th>\n",
              "      <td>29.576471</td>\n",
              "      <td>112.117647</td>\n",
              "      <td>2296.764706</td>\n",
              "      <td>16.282353</td>\n",
              "      <td>2.117647</td>\n",
              "    </tr>\n",
              "    <tr>\n",
              "      <th rowspan=\"4\" valign=\"top\">77</th>\n",
              "      <th>8</th>\n",
              "      <td>16.000000</td>\n",
              "      <td>335.750000</td>\n",
              "      <td>4177.500000</td>\n",
              "      <td>13.662500</td>\n",
              "      <td>1.000000</td>\n",
              "    </tr>\n",
              "    <tr>\n",
              "      <th>6</th>\n",
              "      <td>19.500000</td>\n",
              "      <td>220.400000</td>\n",
              "      <td>3383.000000</td>\n",
              "      <td>16.900000</td>\n",
              "      <td>1.400000</td>\n",
              "    </tr>\n",
              "    <tr>\n",
              "      <th>4</th>\n",
              "      <td>29.107143</td>\n",
              "      <td>106.500000</td>\n",
              "      <td>2205.071429</td>\n",
              "      <td>16.064286</td>\n",
              "      <td>1.857143</td>\n",
              "    </tr>\n",
              "    <tr>\n",
              "      <th>3</th>\n",
              "      <td>21.500000</td>\n",
              "      <td>80.000000</td>\n",
              "      <td>2720.000000</td>\n",
              "      <td>13.500000</td>\n",
              "      <td>3.000000</td>\n",
              "    </tr>\n",
              "    <tr>\n",
              "      <th rowspan=\"3\" valign=\"top\">76</th>\n",
              "      <th>8</th>\n",
              "      <td>14.666667</td>\n",
              "      <td>324.000000</td>\n",
              "      <td>4064.666667</td>\n",
              "      <td>13.222222</td>\n",
              "      <td>1.000000</td>\n",
              "    </tr>\n",
              "    <tr>\n",
              "      <th>6</th>\n",
              "      <td>20.000000</td>\n",
              "      <td>221.400000</td>\n",
              "      <td>3349.600000</td>\n",
              "      <td>17.000000</td>\n",
              "      <td>1.300000</td>\n",
              "    </tr>\n",
              "    <tr>\n",
              "      <th>4</th>\n",
              "      <td>26.766667</td>\n",
              "      <td>106.333333</td>\n",
              "      <td>2306.600000</td>\n",
              "      <td>16.866667</td>\n",
              "      <td>1.866667</td>\n",
              "    </tr>\n",
              "    <tr>\n",
              "      <th rowspan=\"3\" valign=\"top\">75</th>\n",
              "      <th>8</th>\n",
              "      <td>15.666667</td>\n",
              "      <td>330.500000</td>\n",
              "      <td>4108.833333</td>\n",
              "      <td>13.166667</td>\n",
              "      <td>1.000000</td>\n",
              "    </tr>\n",
              "    <tr>\n",
              "      <th>6</th>\n",
              "      <td>17.583333</td>\n",
              "      <td>233.750000</td>\n",
              "      <td>3398.333333</td>\n",
              "      <td>17.708333</td>\n",
              "      <td>1.000000</td>\n",
              "    </tr>\n",
              "    <tr>\n",
              "      <th>4</th>\n",
              "      <td>25.250000</td>\n",
              "      <td>114.833333</td>\n",
              "      <td>2489.250000</td>\n",
              "      <td>15.833333</td>\n",
              "      <td>2.166667</td>\n",
              "    </tr>\n",
              "    <tr>\n",
              "      <th rowspan=\"3\" valign=\"top\">74</th>\n",
              "      <th>8</th>\n",
              "      <td>14.200000</td>\n",
              "      <td>315.200000</td>\n",
              "      <td>4438.400000</td>\n",
              "      <td>14.700000</td>\n",
              "      <td>1.000000</td>\n",
              "    </tr>\n",
              "    <tr>\n",
              "      <th>6</th>\n",
              "      <td>17.857143</td>\n",
              "      <td>230.428571</td>\n",
              "      <td>3320.000000</td>\n",
              "      <td>16.857143</td>\n",
              "      <td>1.000000</td>\n",
              "    </tr>\n",
              "    <tr>\n",
              "      <th>4</th>\n",
              "      <td>27.800000</td>\n",
              "      <td>96.533333</td>\n",
              "      <td>2151.466667</td>\n",
              "      <td>16.400000</td>\n",
              "      <td>2.200000</td>\n",
              "    </tr>\n",
              "    <tr>\n",
              "      <th rowspan=\"4\" valign=\"top\">73</th>\n",
              "      <th>8</th>\n",
              "      <td>13.200000</td>\n",
              "      <td>365.250000</td>\n",
              "      <td>4279.050000</td>\n",
              "      <td>12.250000</td>\n",
              "      <td>1.000000</td>\n",
              "    </tr>\n",
              "    <tr>\n",
              "      <th>6</th>\n",
              "      <td>19.000000</td>\n",
              "      <td>212.250000</td>\n",
              "      <td>2917.125000</td>\n",
              "      <td>15.687500</td>\n",
              "      <td>1.250000</td>\n",
              "    </tr>\n",
              "    <tr>\n",
              "      <th>4</th>\n",
              "      <td>22.727273</td>\n",
              "      <td>109.272727</td>\n",
              "      <td>2338.090909</td>\n",
              "      <td>17.136364</td>\n",
              "      <td>2.000000</td>\n",
              "    </tr>\n",
              "    <tr>\n",
              "      <th>3</th>\n",
              "      <td>18.000000</td>\n",
              "      <td>70.000000</td>\n",
              "      <td>2124.000000</td>\n",
              "      <td>13.500000</td>\n",
              "      <td>3.000000</td>\n",
              "    </tr>\n",
              "    <tr>\n",
              "      <th rowspan=\"3\" valign=\"top\">72</th>\n",
              "      <th>8</th>\n",
              "      <td>13.615385</td>\n",
              "      <td>344.846154</td>\n",
              "      <td>4228.384615</td>\n",
              "      <td>13.000000</td>\n",
              "      <td>1.000000</td>\n",
              "    </tr>\n",
              "    <tr>\n",
              "      <th>4</th>\n",
              "      <td>23.428571</td>\n",
              "      <td>111.535714</td>\n",
              "      <td>2382.642857</td>\n",
              "      <td>17.214286</td>\n",
              "      <td>1.928571</td>\n",
              "    </tr>\n",
              "    <tr>\n",
              "      <th>3</th>\n",
              "      <td>19.000000</td>\n",
              "      <td>70.000000</td>\n",
              "      <td>2330.000000</td>\n",
              "      <td>13.500000</td>\n",
              "      <td>3.000000</td>\n",
              "    </tr>\n",
              "    <tr>\n",
              "      <th rowspan=\"3\" valign=\"top\">71</th>\n",
              "      <th>8</th>\n",
              "      <td>13.428571</td>\n",
              "      <td>371.714286</td>\n",
              "      <td>4537.714286</td>\n",
              "      <td>12.214286</td>\n",
              "      <td>1.000000</td>\n",
              "    </tr>\n",
              "    <tr>\n",
              "      <th>6</th>\n",
              "      <td>18.000000</td>\n",
              "      <td>243.375000</td>\n",
              "      <td>3171.875000</td>\n",
              "      <td>14.750000</td>\n",
              "      <td>1.000000</td>\n",
              "    </tr>\n",
              "    <tr>\n",
              "      <th>4</th>\n",
              "      <td>27.461538</td>\n",
              "      <td>101.846154</td>\n",
              "      <td>2056.384615</td>\n",
              "      <td>16.961538</td>\n",
              "      <td>1.923077</td>\n",
              "    </tr>\n",
              "    <tr>\n",
              "      <th rowspan=\"3\" valign=\"top\">70</th>\n",
              "      <th>8</th>\n",
              "      <td>14.111111</td>\n",
              "      <td>367.555556</td>\n",
              "      <td>3940.055556</td>\n",
              "      <td>11.194444</td>\n",
              "      <td>1.000000</td>\n",
              "    </tr>\n",
              "    <tr>\n",
              "      <th>6</th>\n",
              "      <td>20.500000</td>\n",
              "      <td>199.000000</td>\n",
              "      <td>2710.500000</td>\n",
              "      <td>15.500000</td>\n",
              "      <td>1.000000</td>\n",
              "    </tr>\n",
              "    <tr>\n",
              "      <th>4</th>\n",
              "      <td>25.285714</td>\n",
              "      <td>107.000000</td>\n",
              "      <td>2292.571429</td>\n",
              "      <td>16.000000</td>\n",
              "      <td>2.285714</td>\n",
              "    </tr>\n",
              "  </tbody>\n",
              "</table>\n",
              "</div>"
            ],
            "text/plain": [
              "                            mpg  displacement       weight  acceleration  \\\n",
              "model_year cylinders                                                       \n",
              "82         6          28.333333    225.000000  2931.666667     16.033333   \n",
              "           4          32.071429    118.571429  2402.321429     16.703571   \n",
              "81         8          26.600000    350.000000  3725.000000     19.000000   \n",
              "           6          23.428571    184.000000  3093.571429     15.442857   \n",
              "           4          32.814286    108.857143  2275.476190     16.466667   \n",
              "80         6          25.900000    196.500000  3145.500000     15.050000   \n",
              "           5          36.400000    121.000000  2950.000000     19.900000   \n",
              "           4          34.612000    111.000000  2360.080000     17.144000   \n",
              "           3          23.700000     70.000000  2420.000000     12.500000   \n",
              "79         8          18.630000    321.400000  3862.900000     15.400000   \n",
              "           6          22.950000    205.666667  3025.833333     15.433333   \n",
              "           5          25.400000    183.000000  3530.000000     20.100000   \n",
              "           4          31.525000    113.583333  2357.583333     15.991667   \n",
              "78         8          19.050000    300.833333  3563.333333     13.266667   \n",
              "           6          19.066667    213.250000  3314.166667     16.391667   \n",
              "           5          20.300000    131.000000  2830.000000     15.900000   \n",
              "           4          29.576471    112.117647  2296.764706     16.282353   \n",
              "77         8          16.000000    335.750000  4177.500000     13.662500   \n",
              "           6          19.500000    220.400000  3383.000000     16.900000   \n",
              "           4          29.107143    106.500000  2205.071429     16.064286   \n",
              "           3          21.500000     80.000000  2720.000000     13.500000   \n",
              "76         8          14.666667    324.000000  4064.666667     13.222222   \n",
              "           6          20.000000    221.400000  3349.600000     17.000000   \n",
              "           4          26.766667    106.333333  2306.600000     16.866667   \n",
              "75         8          15.666667    330.500000  4108.833333     13.166667   \n",
              "           6          17.583333    233.750000  3398.333333     17.708333   \n",
              "           4          25.250000    114.833333  2489.250000     15.833333   \n",
              "74         8          14.200000    315.200000  4438.400000     14.700000   \n",
              "           6          17.857143    230.428571  3320.000000     16.857143   \n",
              "           4          27.800000     96.533333  2151.466667     16.400000   \n",
              "73         8          13.200000    365.250000  4279.050000     12.250000   \n",
              "           6          19.000000    212.250000  2917.125000     15.687500   \n",
              "           4          22.727273    109.272727  2338.090909     17.136364   \n",
              "           3          18.000000     70.000000  2124.000000     13.500000   \n",
              "72         8          13.615385    344.846154  4228.384615     13.000000   \n",
              "           4          23.428571    111.535714  2382.642857     17.214286   \n",
              "           3          19.000000     70.000000  2330.000000     13.500000   \n",
              "71         8          13.428571    371.714286  4537.714286     12.214286   \n",
              "           6          18.000000    243.375000  3171.875000     14.750000   \n",
              "           4          27.461538    101.846154  2056.384615     16.961538   \n",
              "70         8          14.111111    367.555556  3940.055556     11.194444   \n",
              "           6          20.500000    199.000000  2710.500000     15.500000   \n",
              "           4          25.285714    107.000000  2292.571429     16.000000   \n",
              "\n",
              "                        origin  \n",
              "model_year cylinders            \n",
              "82         6          1.000000  \n",
              "           4          1.714286  \n",
              "81         8          1.000000  \n",
              "           6          1.714286  \n",
              "           4          2.095238  \n",
              "80         6          2.000000  \n",
              "           5          2.000000  \n",
              "           4          2.200000  \n",
              "           3          3.000000  \n",
              "79         8          1.000000  \n",
              "           6          1.000000  \n",
              "           5          2.000000  \n",
              "           4          1.583333  \n",
              "78         8          1.000000  \n",
              "           6          1.166667  \n",
              "           5          2.000000  \n",
              "           4          2.117647  \n",
              "77         8          1.000000  \n",
              "           6          1.400000  \n",
              "           4          1.857143  \n",
              "           3          3.000000  \n",
              "76         8          1.000000  \n",
              "           6          1.300000  \n",
              "           4          1.866667  \n",
              "75         8          1.000000  \n",
              "           6          1.000000  \n",
              "           4          2.166667  \n",
              "74         8          1.000000  \n",
              "           6          1.000000  \n",
              "           4          2.200000  \n",
              "73         8          1.000000  \n",
              "           6          1.250000  \n",
              "           4          2.000000  \n",
              "           3          3.000000  \n",
              "72         8          1.000000  \n",
              "           4          1.928571  \n",
              "           3          3.000000  \n",
              "71         8          1.000000  \n",
              "           6          1.000000  \n",
              "           4          1.923077  \n",
              "70         8          1.000000  \n",
              "           6          1.000000  \n",
              "           4          2.285714  "
            ]
          },
          "metadata": {
            "tags": []
          },
          "execution_count": 150
        }
      ]
    },
    {
      "cell_type": "code",
      "metadata": {
        "id": "BWLC06nNKwjj",
        "outputId": "7cdddc32-10a7-4837-b70b-f98cf9bbda48"
      },
      "source": [
        "#The agg() method allows you to customize what aggregate functions you want per category\n",
        "df.agg([\"std\",\"mean\"])"
      ],
      "execution_count": null,
      "outputs": [
        {
          "output_type": "execute_result",
          "data": {
            "text/html": [
              "<div>\n",
              "<style scoped>\n",
              "    .dataframe tbody tr th:only-of-type {\n",
              "        vertical-align: middle;\n",
              "    }\n",
              "\n",
              "    .dataframe tbody tr th {\n",
              "        vertical-align: top;\n",
              "    }\n",
              "\n",
              "    .dataframe thead th {\n",
              "        text-align: right;\n",
              "    }\n",
              "</style>\n",
              "<table border=\"1\" class=\"dataframe\">\n",
              "  <thead>\n",
              "    <tr style=\"text-align: right;\">\n",
              "      <th></th>\n",
              "      <th>mpg</th>\n",
              "      <th>cylinders</th>\n",
              "      <th>displacement</th>\n",
              "      <th>weight</th>\n",
              "      <th>acceleration</th>\n",
              "      <th>model_year</th>\n",
              "      <th>origin</th>\n",
              "    </tr>\n",
              "  </thead>\n",
              "  <tbody>\n",
              "    <tr>\n",
              "      <th>std</th>\n",
              "      <td>7.815984</td>\n",
              "      <td>1.701004</td>\n",
              "      <td>104.269838</td>\n",
              "      <td>846.841774</td>\n",
              "      <td>2.757689</td>\n",
              "      <td>3.697627</td>\n",
              "      <td>0.802055</td>\n",
              "    </tr>\n",
              "    <tr>\n",
              "      <th>mean</th>\n",
              "      <td>23.514573</td>\n",
              "      <td>5.454774</td>\n",
              "      <td>193.425879</td>\n",
              "      <td>2970.424623</td>\n",
              "      <td>15.568090</td>\n",
              "      <td>76.010050</td>\n",
              "      <td>1.572864</td>\n",
              "    </tr>\n",
              "  </tbody>\n",
              "</table>\n",
              "</div>"
            ],
            "text/plain": [
              "            mpg  cylinders  displacement       weight  acceleration  \\\n",
              "std    7.815984   1.701004    104.269838   846.841774      2.757689   \n",
              "mean  23.514573   5.454774    193.425879  2970.424623     15.568090   \n",
              "\n",
              "      model_year    origin  \n",
              "std     3.697627  0.802055  \n",
              "mean   76.010050  1.572864  "
            ]
          },
          "metadata": {
            "tags": []
          },
          "execution_count": 151
        }
      ]
    },
    {
      "cell_type": "code",
      "metadata": {
        "id": "9_NdlYHkKwjj",
        "outputId": "87292427-8eda-4ea2-adcc-03eb73612885"
      },
      "source": [
        "df.agg([\"std\",\"mean\"])[\"mpg\"]"
      ],
      "execution_count": null,
      "outputs": [
        {
          "output_type": "execute_result",
          "data": {
            "text/plain": [
              "std      7.815984\n",
              "mean    23.514573\n",
              "Name: mpg, dtype: float64"
            ]
          },
          "metadata": {
            "tags": []
          },
          "execution_count": 152
        }
      ]
    },
    {
      "cell_type": "markdown",
      "metadata": {
        "id": "Yl9KdED4Kwjj"
      },
      "source": [
        "agg() is very powerful,allowing you to pass in a dictionary where the keys are the columns and the values are a list of aggregate methods."
      ]
    },
    {
      "cell_type": "code",
      "metadata": {
        "id": "gjKrIlwuKwjj",
        "outputId": "8480516f-2f89-4549-96fb-bbb5ebbaac10"
      },
      "source": [
        "df.agg({\"mpg\":[\"max\",\"mean\"],\"weight\":[\"mean\",\"std\"]})"
      ],
      "execution_count": null,
      "outputs": [
        {
          "output_type": "execute_result",
          "data": {
            "text/html": [
              "<div>\n",
              "<style scoped>\n",
              "    .dataframe tbody tr th:only-of-type {\n",
              "        vertical-align: middle;\n",
              "    }\n",
              "\n",
              "    .dataframe tbody tr th {\n",
              "        vertical-align: top;\n",
              "    }\n",
              "\n",
              "    .dataframe thead th {\n",
              "        text-align: right;\n",
              "    }\n",
              "</style>\n",
              "<table border=\"1\" class=\"dataframe\">\n",
              "  <thead>\n",
              "    <tr style=\"text-align: right;\">\n",
              "      <th></th>\n",
              "      <th>mpg</th>\n",
              "      <th>weight</th>\n",
              "    </tr>\n",
              "  </thead>\n",
              "  <tbody>\n",
              "    <tr>\n",
              "      <th>max</th>\n",
              "      <td>46.600000</td>\n",
              "      <td>NaN</td>\n",
              "    </tr>\n",
              "    <tr>\n",
              "      <th>mean</th>\n",
              "      <td>23.514573</td>\n",
              "      <td>2970.424623</td>\n",
              "    </tr>\n",
              "    <tr>\n",
              "      <th>std</th>\n",
              "      <td>NaN</td>\n",
              "      <td>846.841774</td>\n",
              "    </tr>\n",
              "  </tbody>\n",
              "</table>\n",
              "</div>"
            ],
            "text/plain": [
              "            mpg       weight\n",
              "max   46.600000          NaN\n",
              "mean  23.514573  2970.424623\n",
              "std         NaN   846.841774"
            ]
          },
          "metadata": {
            "tags": []
          },
          "execution_count": 153
        }
      ]
    },
    {
      "cell_type": "markdown",
      "metadata": {
        "id": "ypzL_aHpKwjj"
      },
      "source": [
        "# Combining dataframes - Concatenation"
      ]
    },
    {
      "cell_type": "markdown",
      "metadata": {
        "id": "ZuigvAiVKwjj"
      },
      "source": [
        "Concatenation is simply \"pasting\" the two DataFrames together, by columns"
      ]
    },
    {
      "cell_type": "code",
      "metadata": {
        "id": "Slg2cXleKwjj"
      },
      "source": [
        "data_one = {\"A\":[\"A0\",\"A1\",\"A2\",\"A3\"],\"B\":[\"B0\",\"B1\",\"B2\",\"B3\"]}\n",
        "data_two = {\"C\":[\"C0\",\"C1\",\"C2\",\"C4\"],\"D\":[\"D0\",\"D1\",\"D2\",\"D3\"]}"
      ],
      "execution_count": null,
      "outputs": []
    },
    {
      "cell_type": "code",
      "metadata": {
        "id": "930LT-r6Kwjj"
      },
      "source": [
        "one = pd.DataFrame(data_one)\n",
        "two = pd.DataFrame(data_two)"
      ],
      "execution_count": null,
      "outputs": []
    },
    {
      "cell_type": "code",
      "metadata": {
        "id": "HAXkRud5Kwjj",
        "outputId": "521f8b62-5b50-4679-97f2-c52b2077f953"
      },
      "source": [
        "one"
      ],
      "execution_count": null,
      "outputs": [
        {
          "output_type": "execute_result",
          "data": {
            "text/html": [
              "<div>\n",
              "<style scoped>\n",
              "    .dataframe tbody tr th:only-of-type {\n",
              "        vertical-align: middle;\n",
              "    }\n",
              "\n",
              "    .dataframe tbody tr th {\n",
              "        vertical-align: top;\n",
              "    }\n",
              "\n",
              "    .dataframe thead th {\n",
              "        text-align: right;\n",
              "    }\n",
              "</style>\n",
              "<table border=\"1\" class=\"dataframe\">\n",
              "  <thead>\n",
              "    <tr style=\"text-align: right;\">\n",
              "      <th></th>\n",
              "      <th>A</th>\n",
              "      <th>B</th>\n",
              "    </tr>\n",
              "  </thead>\n",
              "  <tbody>\n",
              "    <tr>\n",
              "      <th>0</th>\n",
              "      <td>A0</td>\n",
              "      <td>B0</td>\n",
              "    </tr>\n",
              "    <tr>\n",
              "      <th>1</th>\n",
              "      <td>A1</td>\n",
              "      <td>B1</td>\n",
              "    </tr>\n",
              "    <tr>\n",
              "      <th>2</th>\n",
              "      <td>A2</td>\n",
              "      <td>B2</td>\n",
              "    </tr>\n",
              "    <tr>\n",
              "      <th>3</th>\n",
              "      <td>A3</td>\n",
              "      <td>B3</td>\n",
              "    </tr>\n",
              "  </tbody>\n",
              "</table>\n",
              "</div>"
            ],
            "text/plain": [
              "    A   B\n",
              "0  A0  B0\n",
              "1  A1  B1\n",
              "2  A2  B2\n",
              "3  A3  B3"
            ]
          },
          "metadata": {
            "tags": []
          },
          "execution_count": 156
        }
      ]
    },
    {
      "cell_type": "code",
      "metadata": {
        "id": "3zONqx0sKwjj",
        "outputId": "b8251859-55d0-44d0-b2b1-651090235cbb"
      },
      "source": [
        "pd.concat([one,two],axis=1)"
      ],
      "execution_count": null,
      "outputs": [
        {
          "output_type": "execute_result",
          "data": {
            "text/html": [
              "<div>\n",
              "<style scoped>\n",
              "    .dataframe tbody tr th:only-of-type {\n",
              "        vertical-align: middle;\n",
              "    }\n",
              "\n",
              "    .dataframe tbody tr th {\n",
              "        vertical-align: top;\n",
              "    }\n",
              "\n",
              "    .dataframe thead th {\n",
              "        text-align: right;\n",
              "    }\n",
              "</style>\n",
              "<table border=\"1\" class=\"dataframe\">\n",
              "  <thead>\n",
              "    <tr style=\"text-align: right;\">\n",
              "      <th></th>\n",
              "      <th>A</th>\n",
              "      <th>B</th>\n",
              "      <th>C</th>\n",
              "      <th>D</th>\n",
              "    </tr>\n",
              "  </thead>\n",
              "  <tbody>\n",
              "    <tr>\n",
              "      <th>0</th>\n",
              "      <td>A0</td>\n",
              "      <td>B0</td>\n",
              "      <td>C0</td>\n",
              "      <td>D0</td>\n",
              "    </tr>\n",
              "    <tr>\n",
              "      <th>1</th>\n",
              "      <td>A1</td>\n",
              "      <td>B1</td>\n",
              "      <td>C1</td>\n",
              "      <td>D1</td>\n",
              "    </tr>\n",
              "    <tr>\n",
              "      <th>2</th>\n",
              "      <td>A2</td>\n",
              "      <td>B2</td>\n",
              "      <td>C2</td>\n",
              "      <td>D2</td>\n",
              "    </tr>\n",
              "    <tr>\n",
              "      <th>3</th>\n",
              "      <td>A3</td>\n",
              "      <td>B3</td>\n",
              "      <td>C4</td>\n",
              "      <td>D3</td>\n",
              "    </tr>\n",
              "  </tbody>\n",
              "</table>\n",
              "</div>"
            ],
            "text/plain": [
              "    A   B   C   D\n",
              "0  A0  B0  C0  D0\n",
              "1  A1  B1  C1  D1\n",
              "2  A2  B2  C2  D2\n",
              "3  A3  B3  C4  D3"
            ]
          },
          "metadata": {
            "tags": []
          },
          "execution_count": 160
        }
      ]
    },
    {
      "cell_type": "code",
      "metadata": {
        "id": "ndaDqI3BKwjj",
        "outputId": "b078461d-720d-462e-8b70-4536fe3af339"
      },
      "source": [
        "# The first dataframe doesnt contain C,D values, so it return NaN, similarlly the 2nd dataframe doest contain A,B values\n",
        "pd.concat([one,two],axis=0)"
      ],
      "execution_count": null,
      "outputs": [
        {
          "output_type": "execute_result",
          "data": {
            "text/html": [
              "<div>\n",
              "<style scoped>\n",
              "    .dataframe tbody tr th:only-of-type {\n",
              "        vertical-align: middle;\n",
              "    }\n",
              "\n",
              "    .dataframe tbody tr th {\n",
              "        vertical-align: top;\n",
              "    }\n",
              "\n",
              "    .dataframe thead th {\n",
              "        text-align: right;\n",
              "    }\n",
              "</style>\n",
              "<table border=\"1\" class=\"dataframe\">\n",
              "  <thead>\n",
              "    <tr style=\"text-align: right;\">\n",
              "      <th></th>\n",
              "      <th>A</th>\n",
              "      <th>B</th>\n",
              "      <th>C</th>\n",
              "      <th>D</th>\n",
              "    </tr>\n",
              "  </thead>\n",
              "  <tbody>\n",
              "    <tr>\n",
              "      <th>0</th>\n",
              "      <td>A0</td>\n",
              "      <td>B0</td>\n",
              "      <td>NaN</td>\n",
              "      <td>NaN</td>\n",
              "    </tr>\n",
              "    <tr>\n",
              "      <th>1</th>\n",
              "      <td>A1</td>\n",
              "      <td>B1</td>\n",
              "      <td>NaN</td>\n",
              "      <td>NaN</td>\n",
              "    </tr>\n",
              "    <tr>\n",
              "      <th>2</th>\n",
              "      <td>A2</td>\n",
              "      <td>B2</td>\n",
              "      <td>NaN</td>\n",
              "      <td>NaN</td>\n",
              "    </tr>\n",
              "    <tr>\n",
              "      <th>3</th>\n",
              "      <td>A3</td>\n",
              "      <td>B3</td>\n",
              "      <td>NaN</td>\n",
              "      <td>NaN</td>\n",
              "    </tr>\n",
              "    <tr>\n",
              "      <th>0</th>\n",
              "      <td>NaN</td>\n",
              "      <td>NaN</td>\n",
              "      <td>C0</td>\n",
              "      <td>D0</td>\n",
              "    </tr>\n",
              "    <tr>\n",
              "      <th>1</th>\n",
              "      <td>NaN</td>\n",
              "      <td>NaN</td>\n",
              "      <td>C1</td>\n",
              "      <td>D1</td>\n",
              "    </tr>\n",
              "    <tr>\n",
              "      <th>2</th>\n",
              "      <td>NaN</td>\n",
              "      <td>NaN</td>\n",
              "      <td>C2</td>\n",
              "      <td>D2</td>\n",
              "    </tr>\n",
              "    <tr>\n",
              "      <th>3</th>\n",
              "      <td>NaN</td>\n",
              "      <td>NaN</td>\n",
              "      <td>C4</td>\n",
              "      <td>D3</td>\n",
              "    </tr>\n",
              "  </tbody>\n",
              "</table>\n",
              "</div>"
            ],
            "text/plain": [
              "     A    B    C    D\n",
              "0   A0   B0  NaN  NaN\n",
              "1   A1   B1  NaN  NaN\n",
              "2   A2   B2  NaN  NaN\n",
              "3   A3   B3  NaN  NaN\n",
              "0  NaN  NaN   C0   D0\n",
              "1  NaN  NaN   C1   D1\n",
              "2  NaN  NaN   C2   D2\n",
              "3  NaN  NaN   C4   D3"
            ]
          },
          "metadata": {
            "tags": []
          },
          "execution_count": 162
        }
      ]
    },
    {
      "cell_type": "code",
      "metadata": {
        "id": "PMfs6kYVKwjj",
        "outputId": "ae59482d-b06f-4587-86db-5ac4a3396f99"
      },
      "source": [
        "two.columns = one.columns\n",
        "two"
      ],
      "execution_count": null,
      "outputs": [
        {
          "output_type": "execute_result",
          "data": {
            "text/html": [
              "<div>\n",
              "<style scoped>\n",
              "    .dataframe tbody tr th:only-of-type {\n",
              "        vertical-align: middle;\n",
              "    }\n",
              "\n",
              "    .dataframe tbody tr th {\n",
              "        vertical-align: top;\n",
              "    }\n",
              "\n",
              "    .dataframe thead th {\n",
              "        text-align: right;\n",
              "    }\n",
              "</style>\n",
              "<table border=\"1\" class=\"dataframe\">\n",
              "  <thead>\n",
              "    <tr style=\"text-align: right;\">\n",
              "      <th></th>\n",
              "      <th>A</th>\n",
              "      <th>B</th>\n",
              "    </tr>\n",
              "  </thead>\n",
              "  <tbody>\n",
              "    <tr>\n",
              "      <th>0</th>\n",
              "      <td>C0</td>\n",
              "      <td>D0</td>\n",
              "    </tr>\n",
              "    <tr>\n",
              "      <th>1</th>\n",
              "      <td>C1</td>\n",
              "      <td>D1</td>\n",
              "    </tr>\n",
              "    <tr>\n",
              "      <th>2</th>\n",
              "      <td>C2</td>\n",
              "      <td>D2</td>\n",
              "    </tr>\n",
              "    <tr>\n",
              "      <th>3</th>\n",
              "      <td>C4</td>\n",
              "      <td>D3</td>\n",
              "    </tr>\n",
              "  </tbody>\n",
              "</table>\n",
              "</div>"
            ],
            "text/plain": [
              "    A   B\n",
              "0  C0  D0\n",
              "1  C1  D1\n",
              "2  C2  D2\n",
              "3  C4  D3"
            ]
          },
          "metadata": {
            "tags": []
          },
          "execution_count": 163
        }
      ]
    },
    {
      "cell_type": "code",
      "metadata": {
        "id": "Lz7lfDtMKwjj",
        "outputId": "149e4434-9db6-4ac8-f662-8959aeb5d69d"
      },
      "source": [
        "mydf = pd.concat([one,two],axis=0)\n",
        "mydf"
      ],
      "execution_count": null,
      "outputs": [
        {
          "output_type": "execute_result",
          "data": {
            "text/html": [
              "<div>\n",
              "<style scoped>\n",
              "    .dataframe tbody tr th:only-of-type {\n",
              "        vertical-align: middle;\n",
              "    }\n",
              "\n",
              "    .dataframe tbody tr th {\n",
              "        vertical-align: top;\n",
              "    }\n",
              "\n",
              "    .dataframe thead th {\n",
              "        text-align: right;\n",
              "    }\n",
              "</style>\n",
              "<table border=\"1\" class=\"dataframe\">\n",
              "  <thead>\n",
              "    <tr style=\"text-align: right;\">\n",
              "      <th></th>\n",
              "      <th>A</th>\n",
              "      <th>B</th>\n",
              "    </tr>\n",
              "  </thead>\n",
              "  <tbody>\n",
              "    <tr>\n",
              "      <th>0</th>\n",
              "      <td>A0</td>\n",
              "      <td>B0</td>\n",
              "    </tr>\n",
              "    <tr>\n",
              "      <th>1</th>\n",
              "      <td>A1</td>\n",
              "      <td>B1</td>\n",
              "    </tr>\n",
              "    <tr>\n",
              "      <th>2</th>\n",
              "      <td>A2</td>\n",
              "      <td>B2</td>\n",
              "    </tr>\n",
              "    <tr>\n",
              "      <th>3</th>\n",
              "      <td>A3</td>\n",
              "      <td>B3</td>\n",
              "    </tr>\n",
              "    <tr>\n",
              "      <th>0</th>\n",
              "      <td>C0</td>\n",
              "      <td>D0</td>\n",
              "    </tr>\n",
              "    <tr>\n",
              "      <th>1</th>\n",
              "      <td>C1</td>\n",
              "      <td>D1</td>\n",
              "    </tr>\n",
              "    <tr>\n",
              "      <th>2</th>\n",
              "      <td>C2</td>\n",
              "      <td>D2</td>\n",
              "    </tr>\n",
              "    <tr>\n",
              "      <th>3</th>\n",
              "      <td>C4</td>\n",
              "      <td>D3</td>\n",
              "    </tr>\n",
              "  </tbody>\n",
              "</table>\n",
              "</div>"
            ],
            "text/plain": [
              "    A   B\n",
              "0  A0  B0\n",
              "1  A1  B1\n",
              "2  A2  B2\n",
              "3  A3  B3\n",
              "0  C0  D0\n",
              "1  C1  D1\n",
              "2  C2  D2\n",
              "3  C4  D3"
            ]
          },
          "metadata": {
            "tags": []
          },
          "execution_count": 167
        }
      ]
    },
    {
      "cell_type": "code",
      "metadata": {
        "id": "dTB20DRIKwjj",
        "outputId": "92b82344-9bcd-4fbb-df5a-878a376bac5e"
      },
      "source": [
        "mydf.index = range(len(mydf))\n",
        "mydf"
      ],
      "execution_count": null,
      "outputs": [
        {
          "output_type": "execute_result",
          "data": {
            "text/html": [
              "<div>\n",
              "<style scoped>\n",
              "    .dataframe tbody tr th:only-of-type {\n",
              "        vertical-align: middle;\n",
              "    }\n",
              "\n",
              "    .dataframe tbody tr th {\n",
              "        vertical-align: top;\n",
              "    }\n",
              "\n",
              "    .dataframe thead th {\n",
              "        text-align: right;\n",
              "    }\n",
              "</style>\n",
              "<table border=\"1\" class=\"dataframe\">\n",
              "  <thead>\n",
              "    <tr style=\"text-align: right;\">\n",
              "      <th></th>\n",
              "      <th>A</th>\n",
              "      <th>B</th>\n",
              "    </tr>\n",
              "  </thead>\n",
              "  <tbody>\n",
              "    <tr>\n",
              "      <th>0</th>\n",
              "      <td>A0</td>\n",
              "      <td>B0</td>\n",
              "    </tr>\n",
              "    <tr>\n",
              "      <th>1</th>\n",
              "      <td>A1</td>\n",
              "      <td>B1</td>\n",
              "    </tr>\n",
              "    <tr>\n",
              "      <th>2</th>\n",
              "      <td>A2</td>\n",
              "      <td>B2</td>\n",
              "    </tr>\n",
              "    <tr>\n",
              "      <th>3</th>\n",
              "      <td>A3</td>\n",
              "      <td>B3</td>\n",
              "    </tr>\n",
              "    <tr>\n",
              "      <th>4</th>\n",
              "      <td>C0</td>\n",
              "      <td>D0</td>\n",
              "    </tr>\n",
              "    <tr>\n",
              "      <th>5</th>\n",
              "      <td>C1</td>\n",
              "      <td>D1</td>\n",
              "    </tr>\n",
              "    <tr>\n",
              "      <th>6</th>\n",
              "      <td>C2</td>\n",
              "      <td>D2</td>\n",
              "    </tr>\n",
              "    <tr>\n",
              "      <th>7</th>\n",
              "      <td>C4</td>\n",
              "      <td>D3</td>\n",
              "    </tr>\n",
              "  </tbody>\n",
              "</table>\n",
              "</div>"
            ],
            "text/plain": [
              "    A   B\n",
              "0  A0  B0\n",
              "1  A1  B1\n",
              "2  A2  B2\n",
              "3  A3  B3\n",
              "4  C0  D0\n",
              "5  C1  D1\n",
              "6  C2  D2\n",
              "7  C4  D3"
            ]
          },
          "metadata": {
            "tags": []
          },
          "execution_count": 168
        }
      ]
    },
    {
      "cell_type": "markdown",
      "metadata": {
        "id": "E-DUTFzVKwjk"
      },
      "source": [
        "# Merge"
      ]
    },
    {
      "cell_type": "markdown",
      "metadata": {
        "id": "pnnS_5QaKwjk"
      },
      "source": [
        "Often DataFrames are not in the exact same order or format,meaning we can not simply concatenate them together. In this case we need to merge the DataFrames.\n",
        "The .merge() method takes in a key argument labeled \"how\".\n",
        "There are 3 main ways of merging parameters: \n",
        "1) Inner\n",
        "2) Outer\n",
        "3) Left or Right"
      ]
    },
    {
      "cell_type": "code",
      "metadata": {
        "id": "JbAkkptNKwjk"
      },
      "source": [
        "#with how = \"inner\" the result will be the set of records that match in both tables.\n",
        "registrations = pd.DataFrame({'reg_id':[1,2,3,4],'name':['Andrew','Bobo','Claire','David']})\n",
        "logins = pd.DataFrame({'log_id':[1,2,3,4],'name':['Xavier','Andrew','Yolanda','Bobo']})"
      ],
      "execution_count": null,
      "outputs": []
    },
    {
      "cell_type": "code",
      "metadata": {
        "id": "vf76qUJ9Kwjk",
        "outputId": "e83a1178-d0ff-4ffc-f13e-df888d080fcc"
      },
      "source": [
        "registrations"
      ],
      "execution_count": null,
      "outputs": [
        {
          "output_type": "execute_result",
          "data": {
            "text/html": [
              "<div>\n",
              "<style scoped>\n",
              "    .dataframe tbody tr th:only-of-type {\n",
              "        vertical-align: middle;\n",
              "    }\n",
              "\n",
              "    .dataframe tbody tr th {\n",
              "        vertical-align: top;\n",
              "    }\n",
              "\n",
              "    .dataframe thead th {\n",
              "        text-align: right;\n",
              "    }\n",
              "</style>\n",
              "<table border=\"1\" class=\"dataframe\">\n",
              "  <thead>\n",
              "    <tr style=\"text-align: right;\">\n",
              "      <th></th>\n",
              "      <th>reg_id</th>\n",
              "      <th>name</th>\n",
              "    </tr>\n",
              "  </thead>\n",
              "  <tbody>\n",
              "    <tr>\n",
              "      <th>0</th>\n",
              "      <td>1</td>\n",
              "      <td>Andrew</td>\n",
              "    </tr>\n",
              "    <tr>\n",
              "      <th>1</th>\n",
              "      <td>2</td>\n",
              "      <td>Bobo</td>\n",
              "    </tr>\n",
              "    <tr>\n",
              "      <th>2</th>\n",
              "      <td>3</td>\n",
              "      <td>Claire</td>\n",
              "    </tr>\n",
              "    <tr>\n",
              "      <th>3</th>\n",
              "      <td>4</td>\n",
              "      <td>David</td>\n",
              "    </tr>\n",
              "  </tbody>\n",
              "</table>\n",
              "</div>"
            ],
            "text/plain": [
              "   reg_id    name\n",
              "0       1  Andrew\n",
              "1       2    Bobo\n",
              "2       3  Claire\n",
              "3       4   David"
            ]
          },
          "metadata": {
            "tags": []
          },
          "execution_count": 171
        }
      ]
    },
    {
      "cell_type": "code",
      "metadata": {
        "id": "CkONio8PKwjk",
        "outputId": "e055abd2-a87b-4882-895b-0e71830447b5"
      },
      "source": [
        "logins"
      ],
      "execution_count": null,
      "outputs": [
        {
          "output_type": "execute_result",
          "data": {
            "text/html": [
              "<div>\n",
              "<style scoped>\n",
              "    .dataframe tbody tr th:only-of-type {\n",
              "        vertical-align: middle;\n",
              "    }\n",
              "\n",
              "    .dataframe tbody tr th {\n",
              "        vertical-align: top;\n",
              "    }\n",
              "\n",
              "    .dataframe thead th {\n",
              "        text-align: right;\n",
              "    }\n",
              "</style>\n",
              "<table border=\"1\" class=\"dataframe\">\n",
              "  <thead>\n",
              "    <tr style=\"text-align: right;\">\n",
              "      <th></th>\n",
              "      <th>log_id</th>\n",
              "      <th>name</th>\n",
              "    </tr>\n",
              "  </thead>\n",
              "  <tbody>\n",
              "    <tr>\n",
              "      <th>0</th>\n",
              "      <td>1</td>\n",
              "      <td>Xavier</td>\n",
              "    </tr>\n",
              "    <tr>\n",
              "      <th>1</th>\n",
              "      <td>2</td>\n",
              "      <td>Andrew</td>\n",
              "    </tr>\n",
              "    <tr>\n",
              "      <th>2</th>\n",
              "      <td>3</td>\n",
              "      <td>Yolanda</td>\n",
              "    </tr>\n",
              "    <tr>\n",
              "      <th>3</th>\n",
              "      <td>4</td>\n",
              "      <td>Bobo</td>\n",
              "    </tr>\n",
              "  </tbody>\n",
              "</table>\n",
              "</div>"
            ],
            "text/plain": [
              "   log_id     name\n",
              "0       1   Xavier\n",
              "1       2   Andrew\n",
              "2       3  Yolanda\n",
              "3       4     Bobo"
            ]
          },
          "metadata": {
            "tags": []
          },
          "execution_count": 173
        }
      ]
    },
    {
      "cell_type": "code",
      "metadata": {
        "id": "XXvyfyfqKwjk",
        "outputId": "4d3b3723-cfa9-4433-8e36-24551865372c"
      },
      "source": [
        "pd.merge(registrations,logins,on=\"name\",how=\"inner\")"
      ],
      "execution_count": null,
      "outputs": [
        {
          "output_type": "execute_result",
          "data": {
            "text/html": [
              "<div>\n",
              "<style scoped>\n",
              "    .dataframe tbody tr th:only-of-type {\n",
              "        vertical-align: middle;\n",
              "    }\n",
              "\n",
              "    .dataframe tbody tr th {\n",
              "        vertical-align: top;\n",
              "    }\n",
              "\n",
              "    .dataframe thead th {\n",
              "        text-align: right;\n",
              "    }\n",
              "</style>\n",
              "<table border=\"1\" class=\"dataframe\">\n",
              "  <thead>\n",
              "    <tr style=\"text-align: right;\">\n",
              "      <th></th>\n",
              "      <th>reg_id</th>\n",
              "      <th>name</th>\n",
              "      <th>log_id</th>\n",
              "    </tr>\n",
              "  </thead>\n",
              "  <tbody>\n",
              "    <tr>\n",
              "      <th>0</th>\n",
              "      <td>1</td>\n",
              "      <td>Andrew</td>\n",
              "      <td>2</td>\n",
              "    </tr>\n",
              "    <tr>\n",
              "      <th>1</th>\n",
              "      <td>2</td>\n",
              "      <td>Bobo</td>\n",
              "      <td>4</td>\n",
              "    </tr>\n",
              "  </tbody>\n",
              "</table>\n",
              "</div>"
            ],
            "text/plain": [
              "   reg_id    name  log_id\n",
              "0       1  Andrew       2\n",
              "1       2    Bobo       4"
            ]
          },
          "metadata": {
            "tags": []
          },
          "execution_count": 181
        }
      ]
    },
    {
      "cell_type": "code",
      "metadata": {
        "id": "jvyH-i1BKwjk",
        "outputId": "8c1b463a-6d6f-4213-d0e6-1a7baa358b67"
      },
      "source": [
        "#with how = \"left\" the result will be the set of records that returns all the values in the first dataframe, \n",
        "#But for the 2nd dataframe it only returns mathced values with the 1dataframe\n",
        "pd.merge(left=registrations,right=logins,on=\"name\",how=\"left\")"
      ],
      "execution_count": null,
      "outputs": [
        {
          "output_type": "execute_result",
          "data": {
            "text/html": [
              "<div>\n",
              "<style scoped>\n",
              "    .dataframe tbody tr th:only-of-type {\n",
              "        vertical-align: middle;\n",
              "    }\n",
              "\n",
              "    .dataframe tbody tr th {\n",
              "        vertical-align: top;\n",
              "    }\n",
              "\n",
              "    .dataframe thead th {\n",
              "        text-align: right;\n",
              "    }\n",
              "</style>\n",
              "<table border=\"1\" class=\"dataframe\">\n",
              "  <thead>\n",
              "    <tr style=\"text-align: right;\">\n",
              "      <th></th>\n",
              "      <th>reg_id</th>\n",
              "      <th>name</th>\n",
              "      <th>log_id</th>\n",
              "    </tr>\n",
              "  </thead>\n",
              "  <tbody>\n",
              "    <tr>\n",
              "      <th>0</th>\n",
              "      <td>1</td>\n",
              "      <td>Andrew</td>\n",
              "      <td>2.0</td>\n",
              "    </tr>\n",
              "    <tr>\n",
              "      <th>1</th>\n",
              "      <td>2</td>\n",
              "      <td>Bobo</td>\n",
              "      <td>4.0</td>\n",
              "    </tr>\n",
              "    <tr>\n",
              "      <th>2</th>\n",
              "      <td>3</td>\n",
              "      <td>Claire</td>\n",
              "      <td>NaN</td>\n",
              "    </tr>\n",
              "    <tr>\n",
              "      <th>3</th>\n",
              "      <td>4</td>\n",
              "      <td>David</td>\n",
              "      <td>NaN</td>\n",
              "    </tr>\n",
              "  </tbody>\n",
              "</table>\n",
              "</div>"
            ],
            "text/plain": [
              "   reg_id    name  log_id\n",
              "0       1  Andrew     2.0\n",
              "1       2    Bobo     4.0\n",
              "2       3  Claire     NaN\n",
              "3       4   David     NaN"
            ]
          },
          "metadata": {
            "tags": []
          },
          "execution_count": 184
        }
      ]
    },
    {
      "cell_type": "code",
      "metadata": {
        "id": "r2swlF40Kwjk",
        "outputId": "1fb1a94e-0a0a-4f37-8997-7c8de58b20a8"
      },
      "source": [
        "#with how = \"right\" the result will be the set of records that returns all the values in the second dataframe, \n",
        "#But for the 1st dataframe it only returns mathced values with the 2nd dataframe\n",
        "pd.merge(registrations,logins,on=\"name\",how=\"right\")"
      ],
      "execution_count": null,
      "outputs": [
        {
          "output_type": "execute_result",
          "data": {
            "text/html": [
              "<div>\n",
              "<style scoped>\n",
              "    .dataframe tbody tr th:only-of-type {\n",
              "        vertical-align: middle;\n",
              "    }\n",
              "\n",
              "    .dataframe tbody tr th {\n",
              "        vertical-align: top;\n",
              "    }\n",
              "\n",
              "    .dataframe thead th {\n",
              "        text-align: right;\n",
              "    }\n",
              "</style>\n",
              "<table border=\"1\" class=\"dataframe\">\n",
              "  <thead>\n",
              "    <tr style=\"text-align: right;\">\n",
              "      <th></th>\n",
              "      <th>reg_id</th>\n",
              "      <th>name</th>\n",
              "      <th>log_id</th>\n",
              "    </tr>\n",
              "  </thead>\n",
              "  <tbody>\n",
              "    <tr>\n",
              "      <th>0</th>\n",
              "      <td>1.0</td>\n",
              "      <td>Andrew</td>\n",
              "      <td>2</td>\n",
              "    </tr>\n",
              "    <tr>\n",
              "      <th>1</th>\n",
              "      <td>2.0</td>\n",
              "      <td>Bobo</td>\n",
              "      <td>4</td>\n",
              "    </tr>\n",
              "    <tr>\n",
              "      <th>2</th>\n",
              "      <td>NaN</td>\n",
              "      <td>Xavier</td>\n",
              "      <td>1</td>\n",
              "    </tr>\n",
              "    <tr>\n",
              "      <th>3</th>\n",
              "      <td>NaN</td>\n",
              "      <td>Yolanda</td>\n",
              "      <td>3</td>\n",
              "    </tr>\n",
              "  </tbody>\n",
              "</table>\n",
              "</div>"
            ],
            "text/plain": [
              "   reg_id     name  log_id\n",
              "0     1.0   Andrew       2\n",
              "1     2.0     Bobo       4\n",
              "2     NaN   Xavier       1\n",
              "3     NaN  Yolanda       3"
            ]
          },
          "metadata": {
            "tags": []
          },
          "execution_count": 185
        }
      ]
    },
    {
      "cell_type": "code",
      "metadata": {
        "id": "gCUxKwXCKwjk",
        "outputId": "90b96e7a-f6b6-4e3e-90c5-3d6b45f2ba2f"
      },
      "source": [
        " pd.merge(registrations,logins,on=\"name\",how=\"outer\")"
      ],
      "execution_count": null,
      "outputs": [
        {
          "output_type": "execute_result",
          "data": {
            "text/html": [
              "<div>\n",
              "<style scoped>\n",
              "    .dataframe tbody tr th:only-of-type {\n",
              "        vertical-align: middle;\n",
              "    }\n",
              "\n",
              "    .dataframe tbody tr th {\n",
              "        vertical-align: top;\n",
              "    }\n",
              "\n",
              "    .dataframe thead th {\n",
              "        text-align: right;\n",
              "    }\n",
              "</style>\n",
              "<table border=\"1\" class=\"dataframe\">\n",
              "  <thead>\n",
              "    <tr style=\"text-align: right;\">\n",
              "      <th></th>\n",
              "      <th>reg_id</th>\n",
              "      <th>name</th>\n",
              "      <th>log_id</th>\n",
              "    </tr>\n",
              "  </thead>\n",
              "  <tbody>\n",
              "    <tr>\n",
              "      <th>0</th>\n",
              "      <td>1.0</td>\n",
              "      <td>Andrew</td>\n",
              "      <td>2.0</td>\n",
              "    </tr>\n",
              "    <tr>\n",
              "      <th>1</th>\n",
              "      <td>2.0</td>\n",
              "      <td>Bobo</td>\n",
              "      <td>4.0</td>\n",
              "    </tr>\n",
              "    <tr>\n",
              "      <th>2</th>\n",
              "      <td>3.0</td>\n",
              "      <td>Claire</td>\n",
              "      <td>NaN</td>\n",
              "    </tr>\n",
              "    <tr>\n",
              "      <th>3</th>\n",
              "      <td>4.0</td>\n",
              "      <td>David</td>\n",
              "      <td>NaN</td>\n",
              "    </tr>\n",
              "    <tr>\n",
              "      <th>4</th>\n",
              "      <td>NaN</td>\n",
              "      <td>Xavier</td>\n",
              "      <td>1.0</td>\n",
              "    </tr>\n",
              "    <tr>\n",
              "      <th>5</th>\n",
              "      <td>NaN</td>\n",
              "      <td>Yolanda</td>\n",
              "      <td>3.0</td>\n",
              "    </tr>\n",
              "  </tbody>\n",
              "</table>\n",
              "</div>"
            ],
            "text/plain": [
              "   reg_id     name  log_id\n",
              "0     1.0   Andrew     2.0\n",
              "1     2.0     Bobo     4.0\n",
              "2     3.0   Claire     NaN\n",
              "3     4.0    David     NaN\n",
              "4     NaN   Xavier     1.0\n",
              "5     NaN  Yolanda     3.0"
            ]
          },
          "metadata": {
            "tags": []
          },
          "execution_count": 186
        }
      ]
    },
    {
      "cell_type": "code",
      "metadata": {
        "id": "Kt_VqgBaKwjk",
        "outputId": "e9bcee18-af7a-4ac0-d42f-c8d372fee2b4"
      },
      "source": [
        "registrations = registrations.set_index(\"name\")\n",
        "registrations"
      ],
      "execution_count": null,
      "outputs": [
        {
          "output_type": "execute_result",
          "data": {
            "text/html": [
              "<div>\n",
              "<style scoped>\n",
              "    .dataframe tbody tr th:only-of-type {\n",
              "        vertical-align: middle;\n",
              "    }\n",
              "\n",
              "    .dataframe tbody tr th {\n",
              "        vertical-align: top;\n",
              "    }\n",
              "\n",
              "    .dataframe thead th {\n",
              "        text-align: right;\n",
              "    }\n",
              "</style>\n",
              "<table border=\"1\" class=\"dataframe\">\n",
              "  <thead>\n",
              "    <tr style=\"text-align: right;\">\n",
              "      <th></th>\n",
              "      <th>reg_id</th>\n",
              "    </tr>\n",
              "    <tr>\n",
              "      <th>name</th>\n",
              "      <th></th>\n",
              "    </tr>\n",
              "  </thead>\n",
              "  <tbody>\n",
              "    <tr>\n",
              "      <th>Andrew</th>\n",
              "      <td>1</td>\n",
              "    </tr>\n",
              "    <tr>\n",
              "      <th>Bobo</th>\n",
              "      <td>2</td>\n",
              "    </tr>\n",
              "    <tr>\n",
              "      <th>Claire</th>\n",
              "      <td>3</td>\n",
              "    </tr>\n",
              "    <tr>\n",
              "      <th>David</th>\n",
              "      <td>4</td>\n",
              "    </tr>\n",
              "  </tbody>\n",
              "</table>\n",
              "</div>"
            ],
            "text/plain": [
              "        reg_id\n",
              "name          \n",
              "Andrew       1\n",
              "Bobo         2\n",
              "Claire       3\n",
              "David        4"
            ]
          },
          "metadata": {
            "tags": []
          },
          "execution_count": 188
        }
      ]
    },
    {
      "cell_type": "code",
      "metadata": {
        "id": "L_HAx2PlKwjk",
        "outputId": "55ab8564-05a7-4c58-a0c2-f968a020676e"
      },
      "source": [
        "pd.merge(registrations,logins,left_index=True,right_on=\"name\",how=\"inner\")"
      ],
      "execution_count": null,
      "outputs": [
        {
          "output_type": "execute_result",
          "data": {
            "text/html": [
              "<div>\n",
              "<style scoped>\n",
              "    .dataframe tbody tr th:only-of-type {\n",
              "        vertical-align: middle;\n",
              "    }\n",
              "\n",
              "    .dataframe tbody tr th {\n",
              "        vertical-align: top;\n",
              "    }\n",
              "\n",
              "    .dataframe thead th {\n",
              "        text-align: right;\n",
              "    }\n",
              "</style>\n",
              "<table border=\"1\" class=\"dataframe\">\n",
              "  <thead>\n",
              "    <tr style=\"text-align: right;\">\n",
              "      <th></th>\n",
              "      <th>reg_id</th>\n",
              "      <th>log_id</th>\n",
              "      <th>name</th>\n",
              "    </tr>\n",
              "  </thead>\n",
              "  <tbody>\n",
              "    <tr>\n",
              "      <th>1</th>\n",
              "      <td>1</td>\n",
              "      <td>2</td>\n",
              "      <td>Andrew</td>\n",
              "    </tr>\n",
              "    <tr>\n",
              "      <th>3</th>\n",
              "      <td>2</td>\n",
              "      <td>4</td>\n",
              "      <td>Bobo</td>\n",
              "    </tr>\n",
              "  </tbody>\n",
              "</table>\n",
              "</div>"
            ],
            "text/plain": [
              "   reg_id  log_id    name\n",
              "1       1       2  Andrew\n",
              "3       2       4    Bobo"
            ]
          },
          "metadata": {
            "tags": []
          },
          "execution_count": 190
        }
      ]
    },
    {
      "cell_type": "code",
      "metadata": {
        "id": "zGxXSqajKwjk"
      },
      "source": [
        "registrations=registrations.reset_index()"
      ],
      "execution_count": null,
      "outputs": []
    },
    {
      "cell_type": "code",
      "metadata": {
        "id": "VDxsXFgAKwjk"
      },
      "source": [
        "registrations.columns = [\"reg_name\",\"reg_id\"]"
      ],
      "execution_count": null,
      "outputs": []
    },
    {
      "cell_type": "code",
      "metadata": {
        "id": "EJrGQh5DKwjk",
        "outputId": "45adeb33-1c65-4345-9a7d-f81f68633c21"
      },
      "source": [
        "results=pd.merge(registrations,logins,how=\"inner\",left_on=\"reg_name\",right_on=\"name\")\n",
        "results"
      ],
      "execution_count": null,
      "outputs": [
        {
          "output_type": "execute_result",
          "data": {
            "text/html": [
              "<div>\n",
              "<style scoped>\n",
              "    .dataframe tbody tr th:only-of-type {\n",
              "        vertical-align: middle;\n",
              "    }\n",
              "\n",
              "    .dataframe tbody tr th {\n",
              "        vertical-align: top;\n",
              "    }\n",
              "\n",
              "    .dataframe thead th {\n",
              "        text-align: right;\n",
              "    }\n",
              "</style>\n",
              "<table border=\"1\" class=\"dataframe\">\n",
              "  <thead>\n",
              "    <tr style=\"text-align: right;\">\n",
              "      <th></th>\n",
              "      <th>reg_name</th>\n",
              "      <th>reg_id</th>\n",
              "      <th>log_id</th>\n",
              "      <th>name</th>\n",
              "    </tr>\n",
              "  </thead>\n",
              "  <tbody>\n",
              "    <tr>\n",
              "      <th>0</th>\n",
              "      <td>Andrew</td>\n",
              "      <td>1</td>\n",
              "      <td>2</td>\n",
              "      <td>Andrew</td>\n",
              "    </tr>\n",
              "    <tr>\n",
              "      <th>1</th>\n",
              "      <td>Bobo</td>\n",
              "      <td>2</td>\n",
              "      <td>4</td>\n",
              "      <td>Bobo</td>\n",
              "    </tr>\n",
              "  </tbody>\n",
              "</table>\n",
              "</div>"
            ],
            "text/plain": [
              "  reg_name  reg_id  log_id    name\n",
              "0   Andrew       1       2  Andrew\n",
              "1     Bobo       2       4    Bobo"
            ]
          },
          "metadata": {
            "tags": []
          },
          "execution_count": 195
        }
      ]
    },
    {
      "cell_type": "code",
      "metadata": {
        "id": "UeyMcep9Kwjk",
        "outputId": "3afa4aa5-b4a5-43cb-fda6-16ac6efe0f84"
      },
      "source": [
        "results.drop(\"reg_name\",axis=1)"
      ],
      "execution_count": null,
      "outputs": [
        {
          "output_type": "execute_result",
          "data": {
            "text/html": [
              "<div>\n",
              "<style scoped>\n",
              "    .dataframe tbody tr th:only-of-type {\n",
              "        vertical-align: middle;\n",
              "    }\n",
              "\n",
              "    .dataframe tbody tr th {\n",
              "        vertical-align: top;\n",
              "    }\n",
              "\n",
              "    .dataframe thead th {\n",
              "        text-align: right;\n",
              "    }\n",
              "</style>\n",
              "<table border=\"1\" class=\"dataframe\">\n",
              "  <thead>\n",
              "    <tr style=\"text-align: right;\">\n",
              "      <th></th>\n",
              "      <th>reg_id</th>\n",
              "      <th>log_id</th>\n",
              "      <th>name</th>\n",
              "    </tr>\n",
              "  </thead>\n",
              "  <tbody>\n",
              "    <tr>\n",
              "      <th>0</th>\n",
              "      <td>1</td>\n",
              "      <td>2</td>\n",
              "      <td>Andrew</td>\n",
              "    </tr>\n",
              "    <tr>\n",
              "      <th>1</th>\n",
              "      <td>2</td>\n",
              "      <td>4</td>\n",
              "      <td>Bobo</td>\n",
              "    </tr>\n",
              "  </tbody>\n",
              "</table>\n",
              "</div>"
            ],
            "text/plain": [
              "   reg_id  log_id    name\n",
              "0       1       2  Andrew\n",
              "1       2       4    Bobo"
            ]
          },
          "metadata": {
            "tags": []
          },
          "execution_count": 196
        }
      ]
    },
    {
      "cell_type": "code",
      "metadata": {
        "id": "oSdSRHp1Kwjk"
      },
      "source": [
        "registrations.columns = [\"name\",\"id\"]\n",
        "logins.columns = [\"id\",\"name\"]"
      ],
      "execution_count": null,
      "outputs": []
    },
    {
      "cell_type": "code",
      "metadata": {
        "id": "fqhFHgBEKwjk",
        "outputId": "b2900ea3-b8bc-4b3e-a7fd-e76bd6b65f0d"
      },
      "source": [
        "# Pandas automatically tags these duplicate values\n",
        "pd.merge(registrations,logins,how=\"inner\",on=\"name\")"
      ],
      "execution_count": null,
      "outputs": [
        {
          "output_type": "execute_result",
          "data": {
            "text/html": [
              "<div>\n",
              "<style scoped>\n",
              "    .dataframe tbody tr th:only-of-type {\n",
              "        vertical-align: middle;\n",
              "    }\n",
              "\n",
              "    .dataframe tbody tr th {\n",
              "        vertical-align: top;\n",
              "    }\n",
              "\n",
              "    .dataframe thead th {\n",
              "        text-align: right;\n",
              "    }\n",
              "</style>\n",
              "<table border=\"1\" class=\"dataframe\">\n",
              "  <thead>\n",
              "    <tr style=\"text-align: right;\">\n",
              "      <th></th>\n",
              "      <th>name</th>\n",
              "      <th>id_x</th>\n",
              "      <th>id_y</th>\n",
              "    </tr>\n",
              "  </thead>\n",
              "  <tbody>\n",
              "    <tr>\n",
              "      <th>0</th>\n",
              "      <td>Andrew</td>\n",
              "      <td>1</td>\n",
              "      <td>2</td>\n",
              "    </tr>\n",
              "    <tr>\n",
              "      <th>1</th>\n",
              "      <td>Bobo</td>\n",
              "      <td>2</td>\n",
              "      <td>4</td>\n",
              "    </tr>\n",
              "  </tbody>\n",
              "</table>\n",
              "</div>"
            ],
            "text/plain": [
              "     name  id_x  id_y\n",
              "0  Andrew     1     2\n",
              "1    Bobo     2     4"
            ]
          },
          "metadata": {
            "tags": []
          },
          "execution_count": 202
        }
      ]
    },
    {
      "cell_type": "code",
      "metadata": {
        "id": "F85it4JNKwjk",
        "outputId": "2f058066-0b0d-446b-874c-093dd67cdd13"
      },
      "source": [
        "pd.merge(registrations,logins,how=\"inner\",on=\"name\",suffixes=(\"_reg\",\"_log\"))"
      ],
      "execution_count": null,
      "outputs": [
        {
          "output_type": "execute_result",
          "data": {
            "text/html": [
              "<div>\n",
              "<style scoped>\n",
              "    .dataframe tbody tr th:only-of-type {\n",
              "        vertical-align: middle;\n",
              "    }\n",
              "\n",
              "    .dataframe tbody tr th {\n",
              "        vertical-align: top;\n",
              "    }\n",
              "\n",
              "    .dataframe thead th {\n",
              "        text-align: right;\n",
              "    }\n",
              "</style>\n",
              "<table border=\"1\" class=\"dataframe\">\n",
              "  <thead>\n",
              "    <tr style=\"text-align: right;\">\n",
              "      <th></th>\n",
              "      <th>name</th>\n",
              "      <th>id_reg</th>\n",
              "      <th>id_log</th>\n",
              "    </tr>\n",
              "  </thead>\n",
              "  <tbody>\n",
              "    <tr>\n",
              "      <th>0</th>\n",
              "      <td>Andrew</td>\n",
              "      <td>1</td>\n",
              "      <td>2</td>\n",
              "    </tr>\n",
              "    <tr>\n",
              "      <th>1</th>\n",
              "      <td>Bobo</td>\n",
              "      <td>2</td>\n",
              "      <td>4</td>\n",
              "    </tr>\n",
              "  </tbody>\n",
              "</table>\n",
              "</div>"
            ],
            "text/plain": [
              "     name  id_reg  id_log\n",
              "0  Andrew       1       2\n",
              "1    Bobo       2       4"
            ]
          },
          "metadata": {
            "tags": []
          },
          "execution_count": 203
        }
      ]
    },
    {
      "cell_type": "markdown",
      "metadata": {
        "id": "ByugPOn3Kwjk"
      },
      "source": [
        "# Text Methods For String Data"
      ]
    },
    {
      "cell_type": "markdown",
      "metadata": {
        "id": "mctWX4qzKwjk"
      },
      "source": [
        "Often text data needs to be cleaned or manipulated for processing"
      ]
    },
    {
      "cell_type": "code",
      "metadata": {
        "id": "adp8nWjWKwjk"
      },
      "source": [
        "email = \"wxyz@email.com\""
      ],
      "execution_count": null,
      "outputs": []
    },
    {
      "cell_type": "code",
      "metadata": {
        "id": "YnfX7VN0Kwjl",
        "outputId": "3b0d1e1c-8797-4e36-9010-62423d69da79"
      },
      "source": [
        "email.split(\"@\")"
      ],
      "execution_count": null,
      "outputs": [
        {
          "output_type": "execute_result",
          "data": {
            "text/plain": [
              "['wxyz', 'email.com']"
            ]
          },
          "metadata": {
            "tags": []
          },
          "execution_count": 219
        }
      ]
    },
    {
      "cell_type": "code",
      "metadata": {
        "id": "-zZn10b4Kwjl"
      },
      "source": [
        "names = pd.Series([\"andrew\",\"bobo\",\"claire\",\"david\",\"5\"])"
      ],
      "execution_count": null,
      "outputs": []
    },
    {
      "cell_type": "code",
      "metadata": {
        "id": "HnhXi9pVKwjl",
        "outputId": "57ed6ccd-fb49-4682-ec19-3cf7fc082566"
      },
      "source": [
        "names"
      ],
      "execution_count": null,
      "outputs": [
        {
          "output_type": "execute_result",
          "data": {
            "text/plain": [
              "0    andrew\n",
              "1      bobo\n",
              "2    claire\n",
              "3     david\n",
              "4         5\n",
              "dtype: object"
            ]
          },
          "metadata": {
            "tags": []
          },
          "execution_count": 221
        }
      ]
    },
    {
      "cell_type": "code",
      "metadata": {
        "id": "C7ydbBjZKwjl",
        "outputId": "51c2b4ec-c1de-423a-e617-c2dffc6cf500"
      },
      "source": [
        "names.str.upper()"
      ],
      "execution_count": null,
      "outputs": [
        {
          "output_type": "execute_result",
          "data": {
            "text/plain": [
              "0    ANDREW\n",
              "1      BOBO\n",
              "2    CLAIRE\n",
              "3     DAVID\n",
              "4         5\n",
              "dtype: object"
            ]
          },
          "metadata": {
            "tags": []
          },
          "execution_count": 224
        }
      ]
    },
    {
      "cell_type": "code",
      "metadata": {
        "id": "AbP6kzpAKwjl",
        "outputId": "af9f2df8-3fca-45b8-ae6f-8071a9683f44"
      },
      "source": [
        "names.str.isdigit()"
      ],
      "execution_count": null,
      "outputs": [
        {
          "output_type": "execute_result",
          "data": {
            "text/plain": [
              "0    False\n",
              "1    False\n",
              "2    False\n",
              "3    False\n",
              "4     True\n",
              "dtype: bool"
            ]
          },
          "metadata": {
            "tags": []
          },
          "execution_count": 228
        }
      ]
    },
    {
      "cell_type": "code",
      "metadata": {
        "id": "eaCsiZy_Kwjl"
      },
      "source": [
        "tech_finance = [\"GOOG,APPL,AMZN\",\"JPM,BAC,GS\"]"
      ],
      "execution_count": null,
      "outputs": []
    },
    {
      "cell_type": "code",
      "metadata": {
        "id": "-shnhv8nKwjl",
        "outputId": "e52e9271-0237-4f56-f7d0-cfe02d9cbd7b"
      },
      "source": [
        "len(tech_finance)"
      ],
      "execution_count": null,
      "outputs": [
        {
          "output_type": "execute_result",
          "data": {
            "text/plain": [
              "2"
            ]
          },
          "metadata": {
            "tags": []
          },
          "execution_count": 232
        }
      ]
    },
    {
      "cell_type": "code",
      "metadata": {
        "id": "L5y9WkX2Kwjl",
        "outputId": "0162d943-95f5-4244-e02a-5b1776cfb0c4"
      },
      "source": [
        "tickers = pd.Series(tech_finance)\n",
        "tickers"
      ],
      "execution_count": null,
      "outputs": [
        {
          "output_type": "execute_result",
          "data": {
            "text/plain": [
              "0    GOOG,APPL,AMZN\n",
              "1        JPM,BAC,GS\n",
              "dtype: object"
            ]
          },
          "metadata": {
            "tags": []
          },
          "execution_count": 234
        }
      ]
    },
    {
      "cell_type": "code",
      "metadata": {
        "id": "IZeap6Y0Kwjl",
        "outputId": "841f237a-5adb-46ff-825d-81bb7bce075c"
      },
      "source": [
        "tickers.str. split(\",\")"
      ],
      "execution_count": null,
      "outputs": [
        {
          "output_type": "execute_result",
          "data": {
            "text/plain": [
              "0    [GOOG, APPL, AMZN]\n",
              "1        [JPM, BAC, GS]\n",
              "dtype: object"
            ]
          },
          "metadata": {
            "tags": []
          },
          "execution_count": 235
        }
      ]
    },
    {
      "cell_type": "code",
      "metadata": {
        "id": "x4X7me-9Kwjl",
        "outputId": "f30f2ff2-a15d-4ae6-c4e8-624d9a4efc97"
      },
      "source": [
        "# Grab the first item\n",
        "tickers.str.split(\",\")[0]"
      ],
      "execution_count": null,
      "outputs": [
        {
          "output_type": "execute_result",
          "data": {
            "text/plain": [
              "['GOOG', 'APPL', 'AMZN']"
            ]
          },
          "metadata": {
            "tags": []
          },
          "execution_count": 238
        }
      ]
    },
    {
      "cell_type": "code",
      "metadata": {
        "id": "c1ic38R6Kwjl",
        "outputId": "e39cfac1-ad8c-4021-d6e4-fcf82e528eed"
      },
      "source": [
        "# using expand =true , it shows the spillted values in different columns\n",
        "tickers.str.split(\",\",expand=True)"
      ],
      "execution_count": null,
      "outputs": [
        {
          "output_type": "execute_result",
          "data": {
            "text/html": [
              "<div>\n",
              "<style scoped>\n",
              "    .dataframe tbody tr th:only-of-type {\n",
              "        vertical-align: middle;\n",
              "    }\n",
              "\n",
              "    .dataframe tbody tr th {\n",
              "        vertical-align: top;\n",
              "    }\n",
              "\n",
              "    .dataframe thead th {\n",
              "        text-align: right;\n",
              "    }\n",
              "</style>\n",
              "<table border=\"1\" class=\"dataframe\">\n",
              "  <thead>\n",
              "    <tr style=\"text-align: right;\">\n",
              "      <th></th>\n",
              "      <th>0</th>\n",
              "      <th>1</th>\n",
              "      <th>2</th>\n",
              "    </tr>\n",
              "  </thead>\n",
              "  <tbody>\n",
              "    <tr>\n",
              "      <th>0</th>\n",
              "      <td>GOOG</td>\n",
              "      <td>APPL</td>\n",
              "      <td>AMZN</td>\n",
              "    </tr>\n",
              "    <tr>\n",
              "      <th>1</th>\n",
              "      <td>JPM</td>\n",
              "      <td>BAC</td>\n",
              "      <td>GS</td>\n",
              "    </tr>\n",
              "  </tbody>\n",
              "</table>\n",
              "</div>"
            ],
            "text/plain": [
              "      0     1     2\n",
              "0  GOOG  APPL  AMZN\n",
              "1   JPM   BAC    GS"
            ]
          },
          "metadata": {
            "tags": []
          },
          "execution_count": 240
        }
      ]
    },
    {
      "cell_type": "code",
      "metadata": {
        "id": "YpyVgGedKwjl",
        "outputId": "7fe50988-f4bc-4038-dc9f-685865f08c49"
      },
      "source": [
        "tickers.str.split(\",\",expand=True).T"
      ],
      "execution_count": null,
      "outputs": [
        {
          "output_type": "execute_result",
          "data": {
            "text/html": [
              "<div>\n",
              "<style scoped>\n",
              "    .dataframe tbody tr th:only-of-type {\n",
              "        vertical-align: middle;\n",
              "    }\n",
              "\n",
              "    .dataframe tbody tr th {\n",
              "        vertical-align: top;\n",
              "    }\n",
              "\n",
              "    .dataframe thead th {\n",
              "        text-align: right;\n",
              "    }\n",
              "</style>\n",
              "<table border=\"1\" class=\"dataframe\">\n",
              "  <thead>\n",
              "    <tr style=\"text-align: right;\">\n",
              "      <th></th>\n",
              "      <th>0</th>\n",
              "      <th>1</th>\n",
              "    </tr>\n",
              "  </thead>\n",
              "  <tbody>\n",
              "    <tr>\n",
              "      <th>0</th>\n",
              "      <td>GOOG</td>\n",
              "      <td>JPM</td>\n",
              "    </tr>\n",
              "    <tr>\n",
              "      <th>1</th>\n",
              "      <td>APPL</td>\n",
              "      <td>BAC</td>\n",
              "    </tr>\n",
              "    <tr>\n",
              "      <th>2</th>\n",
              "      <td>AMZN</td>\n",
              "      <td>GS</td>\n",
              "    </tr>\n",
              "  </tbody>\n",
              "</table>\n",
              "</div>"
            ],
            "text/plain": [
              "      0    1\n",
              "0  GOOG  JPM\n",
              "1  APPL  BAC\n",
              "2  AMZN   GS"
            ]
          },
          "metadata": {
            "tags": []
          },
          "execution_count": 241
        }
      ]
    },
    {
      "cell_type": "code",
      "metadata": {
        "id": "tUaR5wS9Kwjl"
      },
      "source": [
        "messy_names = pd.Series([\"andrew  \",\"bo;bo\",\"   claire   \"])"
      ],
      "execution_count": null,
      "outputs": []
    },
    {
      "cell_type": "code",
      "metadata": {
        "id": "bNcvlasyKwjl",
        "outputId": "43e4bc7e-1fe0-418c-e0a2-bb98f0f32968"
      },
      "source": [
        "messy_names"
      ],
      "execution_count": null,
      "outputs": [
        {
          "output_type": "execute_result",
          "data": {
            "text/plain": [
              "0        andrew  \n",
              "1           bo;bo\n",
              "2       claire   \n",
              "dtype: object"
            ]
          },
          "metadata": {
            "tags": []
          },
          "execution_count": 243
        }
      ]
    },
    {
      "cell_type": "code",
      "metadata": {
        "id": "xTZtcaF0Kwjl",
        "outputId": "b7aac6f0-9f24-4e4d-fa39-fd38041d8f22"
      },
      "source": [
        "# remove the unnecessary spaces and colons, strip() is used to remove space\n",
        "messy_names.str.replace(\";\",\"\").str.strip()"
      ],
      "execution_count": null,
      "outputs": [
        {
          "output_type": "execute_result",
          "data": {
            "text/plain": [
              "0    andrew\n",
              "1      bobo\n",
              "2    claire\n",
              "dtype: object"
            ]
          },
          "metadata": {
            "tags": []
          },
          "execution_count": 246
        }
      ]
    },
    {
      "cell_type": "code",
      "metadata": {
        "id": "sQP4LSBtKwjl",
        "outputId": "222296d2-c0ac-4f78-dbda-3558999c0864"
      },
      "source": [
        "messy_names.str.replace(\";\",\"\").str.strip().str.capitalize()"
      ],
      "execution_count": null,
      "outputs": [
        {
          "output_type": "execute_result",
          "data": {
            "text/plain": [
              "0    Andrew\n",
              "1      Bobo\n",
              "2    Claire\n",
              "dtype: object"
            ]
          },
          "metadata": {
            "tags": []
          },
          "execution_count": 247
        }
      ]
    },
    {
      "cell_type": "code",
      "metadata": {
        "id": "q5vgIe0iKwjm",
        "outputId": "9df597b8-4543-475b-8c4f-54d0e207fbaa"
      },
      "source": [
        "# or you can also use function\n",
        "def cleanup(name):\n",
        "    name = name.replace(\";\",\"\")\n",
        "    name = name.strip()\n",
        "    name = name.capitalize()\n",
        "    return name\n",
        "messy_names.apply(cleanup)"
      ],
      "execution_count": null,
      "outputs": [
        {
          "output_type": "execute_result",
          "data": {
            "text/plain": [
              "0    Andrew\n",
              "1      Bobo\n",
              "2    Claire\n",
              "dtype: object"
            ]
          },
          "metadata": {
            "tags": []
          },
          "execution_count": 249
        }
      ]
    },
    {
      "cell_type": "markdown",
      "metadata": {
        "id": "jlEe31RXKwjm"
      },
      "source": [
        "#### Which one is more efficient?"
      ]
    },
    {
      "cell_type": "code",
      "metadata": {
        "id": "gzCARgEqKwjm"
      },
      "source": [
        "import timeit \n",
        "  \n",
        "# code snippet to be executed only once \n",
        "setup = '''\n",
        "import pandas as pd\n",
        "import numpy as np\n",
        "messy_names = pd.Series([\"andrew  \",\"bo;bo\",\"  claire  \"])\n",
        "def cleanup(name):\n",
        "    name = name.replace(\";\",\"\")\n",
        "    name = name.strip()\n",
        "    name = name.capitalize()\n",
        "    return name\n",
        "'''\n",
        "  \n",
        "# code snippet whose execution time is to be measured \n",
        "stmt_pandas_str = ''' \n",
        "messy_names.str.replace(\";\",\"\").str.strip().str.capitalize()\n",
        "'''\n",
        "\n",
        "stmt_pandas_apply = '''\n",
        "messy_names.apply(cleanup)\n",
        "'''\n",
        "\n",
        "stmt_pandas_vectorize='''\n",
        "np.vectorize(cleanup)(messy_names)\n",
        "'''"
      ],
      "execution_count": null,
      "outputs": []
    },
    {
      "cell_type": "code",
      "metadata": {
        "id": "CsD_mIFeKwjm",
        "outputId": "4e06fab4-a939-4121-e913-9433bf3118ce"
      },
      "source": [
        "timeit.timeit(setup = setup, \n",
        "                    stmt = stmt_pandas_str, \n",
        "                    number = 10000) "
      ],
      "execution_count": null,
      "outputs": [
        {
          "output_type": "execute_result",
          "data": {
            "text/plain": [
              "5.162960799999382"
            ]
          },
          "metadata": {
            "tags": []
          },
          "execution_count": 252
        }
      ]
    },
    {
      "cell_type": "code",
      "metadata": {
        "id": "hSzblu8CKwjm",
        "outputId": "35ca585b-0243-4c14-de44-b7d3e419d19a"
      },
      "source": [
        "timeit.timeit(setup = setup, \n",
        "                    stmt = stmt_pandas_apply, \n",
        "                    number = 10000) "
      ],
      "execution_count": null,
      "outputs": [
        {
          "output_type": "execute_result",
          "data": {
            "text/plain": [
              "1.630080199999611"
            ]
          },
          "metadata": {
            "tags": []
          },
          "execution_count": 253
        }
      ]
    },
    {
      "cell_type": "code",
      "metadata": {
        "id": "oMAzc2PzKwjm",
        "outputId": "3a146145-ef22-4821-f275-1cfd6cd67440"
      },
      "source": [
        "timeit.timeit(setup = setup, \n",
        "                    stmt = stmt_pandas_vectorize, \n",
        "                    number = 10000) "
      ],
      "execution_count": null,
      "outputs": [
        {
          "output_type": "execute_result",
          "data": {
            "text/plain": [
              "0.35313960000075895"
            ]
          },
          "metadata": {
            "tags": []
          },
          "execution_count": 254
        }
      ]
    },
    {
      "cell_type": "markdown",
      "metadata": {
        "id": "HS5aq-OeKwjm"
      },
      "source": [
        "# Time methods for Date and Time Date"
      ]
    },
    {
      "cell_type": "markdown",
      "metadata": {
        "id": "UY1BppxZKwjm"
      },
      "source": [
        "Basic python has a datatime object containing data and time information. Pandas allows us to easily extract information from a datetime object to use feature engineering"
      ]
    },
    {
      "cell_type": "code",
      "metadata": {
        "id": "5wG3LPFKKwjm"
      },
      "source": [
        "from datetime import datetime"
      ],
      "execution_count": null,
      "outputs": []
    },
    {
      "cell_type": "code",
      "metadata": {
        "id": "7780IV_yKwjm"
      },
      "source": [
        "myyear = 2020\n",
        "mymonth = 1\n",
        "myday = 1\n",
        "myhour = 2\n",
        "mymin = 30\n",
        "mysec = 15"
      ],
      "execution_count": null,
      "outputs": []
    },
    {
      "cell_type": "code",
      "metadata": {
        "id": "YaGtencqKwjm",
        "outputId": "fd740481-f616-4243-dbfa-68647c3a8cde"
      },
      "source": [
        "mydatetime = datetime(myyear,mymonth,myday,myhour,mymin,mysec)\n",
        "mydatetime"
      ],
      "execution_count": null,
      "outputs": [
        {
          "output_type": "execute_result",
          "data": {
            "text/plain": [
              "datetime.datetime(2020, 1, 1, 2, 30, 15)"
            ]
          },
          "metadata": {
            "tags": []
          },
          "execution_count": 264
        }
      ]
    },
    {
      "cell_type": "code",
      "metadata": {
        "id": "J2I031sUKwjm",
        "outputId": "51acc8f2-ccc0-4e9c-bb27-cae37407f29d"
      },
      "source": [
        "mydatetime.year"
      ],
      "execution_count": null,
      "outputs": [
        {
          "output_type": "execute_result",
          "data": {
            "text/plain": [
              "2020"
            ]
          },
          "metadata": {
            "tags": []
          },
          "execution_count": 265
        }
      ]
    },
    {
      "cell_type": "code",
      "metadata": {
        "id": "kgMcug6TKwjm",
        "outputId": "98aff636-a4ba-4148-fb04-861e9e4a14d1"
      },
      "source": [
        "# example\n",
        "myser = pd.Series([\"Nov 3, 1990\",\"2000-01-01\",None])\n",
        "myser"
      ],
      "execution_count": null,
      "outputs": [
        {
          "output_type": "execute_result",
          "data": {
            "text/plain": [
              "0    Nov 3, 1990\n",
              "1     2000-01-01\n",
              "2           None\n",
              "dtype: object"
            ]
          },
          "metadata": {
            "tags": []
          },
          "execution_count": 269
        }
      ]
    },
    {
      "cell_type": "code",
      "metadata": {
        "id": "Oa94M_iUKwjm",
        "outputId": "cd8c8201-c881-49d7-9e1a-4e96846431fc"
      },
      "source": [
        "# convert str to datetime using to_datetime\n",
        "timeser = pd.to_datetime(myser)\n",
        "timeser"
      ],
      "execution_count": null,
      "outputs": [
        {
          "output_type": "execute_result",
          "data": {
            "text/plain": [
              "0   1990-11-03\n",
              "1   2000-01-01\n",
              "2          NaT\n",
              "dtype: datetime64[ns]"
            ]
          },
          "metadata": {
            "tags": []
          },
          "execution_count": 271
        }
      ]
    },
    {
      "cell_type": "code",
      "metadata": {
        "id": "t7bLzuOhKwjm",
        "outputId": "a1842743-0ded-4177-b07b-12958eb0f541"
      },
      "source": [
        "timeser[0].year"
      ],
      "execution_count": null,
      "outputs": [
        {
          "output_type": "execute_result",
          "data": {
            "text/plain": [
              "1990"
            ]
          },
          "metadata": {
            "tags": []
          },
          "execution_count": 272
        }
      ]
    },
    {
      "cell_type": "code",
      "metadata": {
        "id": "Ne6sFeB-Kwjm"
      },
      "source": [
        "obvi_euro_date = \"31-12-2020\""
      ],
      "execution_count": null,
      "outputs": []
    },
    {
      "cell_type": "code",
      "metadata": {
        "id": "11EYb0UbKwjm",
        "outputId": "dcc2f15e-42d5-4e82-cabe-3953b9fbceaf"
      },
      "source": [
        "pd.to_datetime(obvi_euro_date)"
      ],
      "execution_count": null,
      "outputs": [
        {
          "output_type": "execute_result",
          "data": {
            "text/plain": [
              "Timestamp('2020-12-31 00:00:00')"
            ]
          },
          "metadata": {
            "tags": []
          },
          "execution_count": 274
        }
      ]
    },
    {
      "cell_type": "code",
      "metadata": {
        "id": "Yaf55HgDKwjm"
      },
      "source": [
        "# European style date = day-month-year\n",
        "# American stle = month-day-year\n",
        "euro_date = \"10-12-2000\""
      ],
      "execution_count": null,
      "outputs": []
    },
    {
      "cell_type": "code",
      "metadata": {
        "id": "cWLJ-vhBKwjm",
        "outputId": "0f5360e9-2352-4bc7-d812-17a151fd0b33"
      },
      "source": [
        "#pd.to_datetime(euro_date), it returns in american style\n",
        "pd.to_datetime(euro_date,dayfirst=True)"
      ],
      "execution_count": null,
      "outputs": [
        {
          "output_type": "execute_result",
          "data": {
            "text/plain": [
              "Timestamp('2000-12-10 00:00:00')"
            ]
          },
          "metadata": {
            "tags": []
          },
          "execution_count": 279
        }
      ]
    },
    {
      "cell_type": "code",
      "metadata": {
        "id": "-osvScZJKwjm"
      },
      "source": [
        "style_date =\"12--Dec--2000\""
      ],
      "execution_count": null,
      "outputs": []
    },
    {
      "cell_type": "markdown",
      "metadata": {
        "id": "bhdNrtICKwjm"
      },
      "source": [
        "https://docs.python.org/3/library/datetime.html#strftime-and-strptime-format-codes"
      ]
    },
    {
      "cell_type": "code",
      "metadata": {
        "id": "kjHfVnvsKwjm",
        "outputId": "5f523cde-ef95-4fae-86ce-bd813454cbfa"
      },
      "source": [
        "pd.to_datetime(style_date,format=\"%d--%b--%Y\")"
      ],
      "execution_count": null,
      "outputs": [
        {
          "output_type": "execute_result",
          "data": {
            "text/plain": [
              "Timestamp('2000-12-12 00:00:00')"
            ]
          },
          "metadata": {
            "tags": []
          },
          "execution_count": 284
        }
      ]
    },
    {
      "cell_type": "code",
      "metadata": {
        "id": "E-uPbX2ZKwjm",
        "outputId": "67044e26-9acc-450b-c333-ee0375a65e17"
      },
      "source": [
        "# Pandas is very powerful , it can parse the dates\n",
        "custom_date = \"12th of Dec 2000\"\n",
        "pd.to_datetime(custom_date)"
      ],
      "execution_count": null,
      "outputs": [
        {
          "output_type": "execute_result",
          "data": {
            "text/plain": [
              "Timestamp('2000-12-12 00:00:00')"
            ]
          },
          "metadata": {
            "tags": []
          },
          "execution_count": 286
        }
      ]
    },
    {
      "cell_type": "code",
      "metadata": {
        "id": "4BoDI9iGKwjm",
        "outputId": "f237e7db-c30f-4850-8b89-749b6888b737"
      },
      "source": [
        "sales = pd.read_csv(\"https://raw.githubusercontent.com/sunnyyashu178/DataScience-Projects/master/Datasets/RetailSales_BeerWineLiquor.csv\")\n",
        "sales.head()"
      ],
      "execution_count": null,
      "outputs": [
        {
          "output_type": "execute_result",
          "data": {
            "text/html": [
              "<div>\n",
              "<style scoped>\n",
              "    .dataframe tbody tr th:only-of-type {\n",
              "        vertical-align: middle;\n",
              "    }\n",
              "\n",
              "    .dataframe tbody tr th {\n",
              "        vertical-align: top;\n",
              "    }\n",
              "\n",
              "    .dataframe thead th {\n",
              "        text-align: right;\n",
              "    }\n",
              "</style>\n",
              "<table border=\"1\" class=\"dataframe\">\n",
              "  <thead>\n",
              "    <tr style=\"text-align: right;\">\n",
              "      <th></th>\n",
              "      <th>DATE</th>\n",
              "      <th>MRTSSM4453USN</th>\n",
              "    </tr>\n",
              "  </thead>\n",
              "  <tbody>\n",
              "    <tr>\n",
              "      <th>0</th>\n",
              "      <td>1992-01-01</td>\n",
              "      <td>1509</td>\n",
              "    </tr>\n",
              "    <tr>\n",
              "      <th>1</th>\n",
              "      <td>1992-02-01</td>\n",
              "      <td>1541</td>\n",
              "    </tr>\n",
              "    <tr>\n",
              "      <th>2</th>\n",
              "      <td>1992-03-01</td>\n",
              "      <td>1597</td>\n",
              "    </tr>\n",
              "    <tr>\n",
              "      <th>3</th>\n",
              "      <td>1992-04-01</td>\n",
              "      <td>1675</td>\n",
              "    </tr>\n",
              "    <tr>\n",
              "      <th>4</th>\n",
              "      <td>1992-05-01</td>\n",
              "      <td>1822</td>\n",
              "    </tr>\n",
              "  </tbody>\n",
              "</table>\n",
              "</div>"
            ],
            "text/plain": [
              "         DATE  MRTSSM4453USN\n",
              "0  1992-01-01           1509\n",
              "1  1992-02-01           1541\n",
              "2  1992-03-01           1597\n",
              "3  1992-04-01           1675\n",
              "4  1992-05-01           1822"
            ]
          },
          "metadata": {
            "tags": []
          },
          "execution_count": 519
        }
      ]
    },
    {
      "cell_type": "code",
      "metadata": {
        "id": "8YpxfJnFKwjm"
      },
      "source": [
        "sales[\"DATE\"] = pd.to_datetime(sales[\"DATE\"],)"
      ],
      "execution_count": null,
      "outputs": []
    },
    {
      "cell_type": "code",
      "metadata": {
        "id": "2xePkhZbKwjm",
        "outputId": "5550e34c-8005-47f1-f8be-0e68de478bce"
      },
      "source": [
        "sales[\"DATE\"]"
      ],
      "execution_count": null,
      "outputs": [
        {
          "output_type": "execute_result",
          "data": {
            "text/plain": [
              "0     1992-01-01\n",
              "1     1992-02-01\n",
              "2     1992-03-01\n",
              "3     1992-04-01\n",
              "4     1992-05-01\n",
              "         ...    \n",
              "335   2019-12-01\n",
              "336   2020-01-01\n",
              "337   2020-02-01\n",
              "338   2020-03-01\n",
              "339   2020-04-01\n",
              "Name: DATE, Length: 340, dtype: datetime64[ns]"
            ]
          },
          "metadata": {
            "tags": []
          },
          "execution_count": 293
        }
      ]
    },
    {
      "cell_type": "code",
      "metadata": {
        "id": "-G7NmOzQKwjn",
        "outputId": "6df81da6-9b49-4b74-e536-1798a6ddd433"
      },
      "source": [
        "#2nd method, using parse_dates=[0], its automatically applies datetime object on first column\n",
        "sales = pd.read_csv(\"https://raw.githubusercontent.com/sunnyyashu178/DataScience-Projects/master/Datasets/RetailSales_BeerWineLiquor.csv\",parse_dates=[0])\n",
        "sales.head()"
      ],
      "execution_count": null,
      "outputs": [
        {
          "output_type": "execute_result",
          "data": {
            "text/html": [
              "<div>\n",
              "<style scoped>\n",
              "    .dataframe tbody tr th:only-of-type {\n",
              "        vertical-align: middle;\n",
              "    }\n",
              "\n",
              "    .dataframe tbody tr th {\n",
              "        vertical-align: top;\n",
              "    }\n",
              "\n",
              "    .dataframe thead th {\n",
              "        text-align: right;\n",
              "    }\n",
              "</style>\n",
              "<table border=\"1\" class=\"dataframe\">\n",
              "  <thead>\n",
              "    <tr style=\"text-align: right;\">\n",
              "      <th></th>\n",
              "      <th>DATE</th>\n",
              "      <th>MRTSSM4453USN</th>\n",
              "    </tr>\n",
              "  </thead>\n",
              "  <tbody>\n",
              "    <tr>\n",
              "      <th>0</th>\n",
              "      <td>1992-01-01</td>\n",
              "      <td>1509</td>\n",
              "    </tr>\n",
              "    <tr>\n",
              "      <th>1</th>\n",
              "      <td>1992-02-01</td>\n",
              "      <td>1541</td>\n",
              "    </tr>\n",
              "    <tr>\n",
              "      <th>2</th>\n",
              "      <td>1992-03-01</td>\n",
              "      <td>1597</td>\n",
              "    </tr>\n",
              "    <tr>\n",
              "      <th>3</th>\n",
              "      <td>1992-04-01</td>\n",
              "      <td>1675</td>\n",
              "    </tr>\n",
              "    <tr>\n",
              "      <th>4</th>\n",
              "      <td>1992-05-01</td>\n",
              "      <td>1822</td>\n",
              "    </tr>\n",
              "  </tbody>\n",
              "</table>\n",
              "</div>"
            ],
            "text/plain": [
              "        DATE  MRTSSM4453USN\n",
              "0 1992-01-01           1509\n",
              "1 1992-02-01           1541\n",
              "2 1992-03-01           1597\n",
              "3 1992-04-01           1675\n",
              "4 1992-05-01           1822"
            ]
          },
          "metadata": {
            "tags": []
          },
          "execution_count": 520
        }
      ]
    },
    {
      "cell_type": "code",
      "metadata": {
        "id": "qFdKa3pYKwjn"
      },
      "source": [
        "sales = sales.set_index(\"DATE\")"
      ],
      "execution_count": null,
      "outputs": []
    },
    {
      "cell_type": "markdown",
      "metadata": {
        "id": "61GIF5AmKwjn"
      },
      "source": [
        "When calling .resample() you first need to pass in a rule parameter, then you need to call some sort of aggregation function.\n",
        "\n",
        "The rule parameter describes the frequency with which to apply the aggregation function (daily, monthly, yearly, etc.)\n",
        "It is passed in using an \"offset alias\" - refer to the table below. [reference]\n",
        "\n",
        "The aggregation function is needed because, due to resampling, we need some sort of mathematical rule to join the rows (mean, sum, count, etc.)"
      ]
    },
    {
      "cell_type": "code",
      "metadata": {
        "id": "ht5kir5-Kwjn",
        "outputId": "e0fdcf6a-b15d-4062-ace6-5aaf2604681d"
      },
      "source": [
        "# group by the year and retuns the mean for every year\n",
        "sales.resample(rule=\"A\").mean()"
      ],
      "execution_count": null,
      "outputs": [
        {
          "output_type": "execute_result",
          "data": {
            "text/html": [
              "<div>\n",
              "<style scoped>\n",
              "    .dataframe tbody tr th:only-of-type {\n",
              "        vertical-align: middle;\n",
              "    }\n",
              "\n",
              "    .dataframe tbody tr th {\n",
              "        vertical-align: top;\n",
              "    }\n",
              "\n",
              "    .dataframe thead th {\n",
              "        text-align: right;\n",
              "    }\n",
              "</style>\n",
              "<table border=\"1\" class=\"dataframe\">\n",
              "  <thead>\n",
              "    <tr style=\"text-align: right;\">\n",
              "      <th></th>\n",
              "      <th>MRTSSM4453USN</th>\n",
              "    </tr>\n",
              "    <tr>\n",
              "      <th>DATE</th>\n",
              "      <th></th>\n",
              "    </tr>\n",
              "  </thead>\n",
              "  <tbody>\n",
              "    <tr>\n",
              "      <th>1992-12-31</th>\n",
              "      <td>1807.250000</td>\n",
              "    </tr>\n",
              "    <tr>\n",
              "      <th>1993-12-31</th>\n",
              "      <td>1794.833333</td>\n",
              "    </tr>\n",
              "    <tr>\n",
              "      <th>1994-12-31</th>\n",
              "      <td>1841.750000</td>\n",
              "    </tr>\n",
              "    <tr>\n",
              "      <th>1995-12-31</th>\n",
              "      <td>1833.916667</td>\n",
              "    </tr>\n",
              "    <tr>\n",
              "      <th>1996-12-31</th>\n",
              "      <td>1929.750000</td>\n",
              "    </tr>\n",
              "    <tr>\n",
              "      <th>1997-12-31</th>\n",
              "      <td>2006.750000</td>\n",
              "    </tr>\n",
              "    <tr>\n",
              "      <th>1998-12-31</th>\n",
              "      <td>2115.166667</td>\n",
              "    </tr>\n",
              "    <tr>\n",
              "      <th>1999-12-31</th>\n",
              "      <td>2206.333333</td>\n",
              "    </tr>\n",
              "    <tr>\n",
              "      <th>2000-12-31</th>\n",
              "      <td>2375.583333</td>\n",
              "    </tr>\n",
              "    <tr>\n",
              "      <th>2001-12-31</th>\n",
              "      <td>2468.416667</td>\n",
              "    </tr>\n",
              "    <tr>\n",
              "      <th>2002-12-31</th>\n",
              "      <td>2491.166667</td>\n",
              "    </tr>\n",
              "    <tr>\n",
              "      <th>2003-12-31</th>\n",
              "      <td>2539.083333</td>\n",
              "    </tr>\n",
              "    <tr>\n",
              "      <th>2004-12-31</th>\n",
              "      <td>2682.416667</td>\n",
              "    </tr>\n",
              "    <tr>\n",
              "      <th>2005-12-31</th>\n",
              "      <td>2797.250000</td>\n",
              "    </tr>\n",
              "    <tr>\n",
              "      <th>2006-12-31</th>\n",
              "      <td>3001.333333</td>\n",
              "    </tr>\n",
              "    <tr>\n",
              "      <th>2007-12-31</th>\n",
              "      <td>3177.333333</td>\n",
              "    </tr>\n",
              "    <tr>\n",
              "      <th>2008-12-31</th>\n",
              "      <td>3292.000000</td>\n",
              "    </tr>\n",
              "    <tr>\n",
              "      <th>2009-12-31</th>\n",
              "      <td>3353.750000</td>\n",
              "    </tr>\n",
              "    <tr>\n",
              "      <th>2010-12-31</th>\n",
              "      <td>3450.083333</td>\n",
              "    </tr>\n",
              "    <tr>\n",
              "      <th>2011-12-31</th>\n",
              "      <td>3532.666667</td>\n",
              "    </tr>\n",
              "    <tr>\n",
              "      <th>2012-12-31</th>\n",
              "      <td>3697.083333</td>\n",
              "    </tr>\n",
              "    <tr>\n",
              "      <th>2013-12-31</th>\n",
              "      <td>3839.666667</td>\n",
              "    </tr>\n",
              "    <tr>\n",
              "      <th>2014-12-31</th>\n",
              "      <td>4023.833333</td>\n",
              "    </tr>\n",
              "    <tr>\n",
              "      <th>2015-12-31</th>\n",
              "      <td>4212.500000</td>\n",
              "    </tr>\n",
              "    <tr>\n",
              "      <th>2016-12-31</th>\n",
              "      <td>4434.416667</td>\n",
              "    </tr>\n",
              "    <tr>\n",
              "      <th>2017-12-31</th>\n",
              "      <td>4602.666667</td>\n",
              "    </tr>\n",
              "    <tr>\n",
              "      <th>2018-12-31</th>\n",
              "      <td>4830.666667</td>\n",
              "    </tr>\n",
              "    <tr>\n",
              "      <th>2019-12-31</th>\n",
              "      <td>4972.750000</td>\n",
              "    </tr>\n",
              "    <tr>\n",
              "      <th>2020-12-31</th>\n",
              "      <td>4922.500000</td>\n",
              "    </tr>\n",
              "  </tbody>\n",
              "</table>\n",
              "</div>"
            ],
            "text/plain": [
              "            MRTSSM4453USN\n",
              "DATE                     \n",
              "1992-12-31    1807.250000\n",
              "1993-12-31    1794.833333\n",
              "1994-12-31    1841.750000\n",
              "1995-12-31    1833.916667\n",
              "1996-12-31    1929.750000\n",
              "1997-12-31    2006.750000\n",
              "1998-12-31    2115.166667\n",
              "1999-12-31    2206.333333\n",
              "2000-12-31    2375.583333\n",
              "2001-12-31    2468.416667\n",
              "2002-12-31    2491.166667\n",
              "2003-12-31    2539.083333\n",
              "2004-12-31    2682.416667\n",
              "2005-12-31    2797.250000\n",
              "2006-12-31    3001.333333\n",
              "2007-12-31    3177.333333\n",
              "2008-12-31    3292.000000\n",
              "2009-12-31    3353.750000\n",
              "2010-12-31    3450.083333\n",
              "2011-12-31    3532.666667\n",
              "2012-12-31    3697.083333\n",
              "2013-12-31    3839.666667\n",
              "2014-12-31    4023.833333\n",
              "2015-12-31    4212.500000\n",
              "2016-12-31    4434.416667\n",
              "2017-12-31    4602.666667\n",
              "2018-12-31    4830.666667\n",
              "2019-12-31    4972.750000\n",
              "2020-12-31    4922.500000"
            ]
          },
          "metadata": {
            "tags": []
          },
          "execution_count": 299
        }
      ]
    },
    {
      "cell_type": "markdown",
      "metadata": {
        "id": "rC3cj8iAKwjn"
      },
      "source": [
        ".dt Method Calls\n",
        "Once a column or index is ina datetime format, you can call a variety of methods off of the .dt library inside pandas:\n",
        "\n",
        "https://pandas.pydata.org/pandas-docs/stable/reference/api/pandas.Series.dt.html"
      ]
    },
    {
      "cell_type": "code",
      "metadata": {
        "id": "VBW20rOEKwjn",
        "outputId": "297bd45a-853f-45b6-cc26-6aac331739b5"
      },
      "source": [
        "sales = sales.reset_index()\n",
        "sales"
      ],
      "execution_count": null,
      "outputs": [
        {
          "output_type": "execute_result",
          "data": {
            "text/html": [
              "<div>\n",
              "<style scoped>\n",
              "    .dataframe tbody tr th:only-of-type {\n",
              "        vertical-align: middle;\n",
              "    }\n",
              "\n",
              "    .dataframe tbody tr th {\n",
              "        vertical-align: top;\n",
              "    }\n",
              "\n",
              "    .dataframe thead th {\n",
              "        text-align: right;\n",
              "    }\n",
              "</style>\n",
              "<table border=\"1\" class=\"dataframe\">\n",
              "  <thead>\n",
              "    <tr style=\"text-align: right;\">\n",
              "      <th></th>\n",
              "      <th>DATE</th>\n",
              "      <th>MRTSSM4453USN</th>\n",
              "    </tr>\n",
              "  </thead>\n",
              "  <tbody>\n",
              "    <tr>\n",
              "      <th>0</th>\n",
              "      <td>1992-01-01</td>\n",
              "      <td>1509</td>\n",
              "    </tr>\n",
              "    <tr>\n",
              "      <th>1</th>\n",
              "      <td>1992-02-01</td>\n",
              "      <td>1541</td>\n",
              "    </tr>\n",
              "    <tr>\n",
              "      <th>2</th>\n",
              "      <td>1992-03-01</td>\n",
              "      <td>1597</td>\n",
              "    </tr>\n",
              "    <tr>\n",
              "      <th>3</th>\n",
              "      <td>1992-04-01</td>\n",
              "      <td>1675</td>\n",
              "    </tr>\n",
              "    <tr>\n",
              "      <th>4</th>\n",
              "      <td>1992-05-01</td>\n",
              "      <td>1822</td>\n",
              "    </tr>\n",
              "    <tr>\n",
              "      <th>...</th>\n",
              "      <td>...</td>\n",
              "      <td>...</td>\n",
              "    </tr>\n",
              "    <tr>\n",
              "      <th>335</th>\n",
              "      <td>2019-12-01</td>\n",
              "      <td>6630</td>\n",
              "    </tr>\n",
              "    <tr>\n",
              "      <th>336</th>\n",
              "      <td>2020-01-01</td>\n",
              "      <td>4388</td>\n",
              "    </tr>\n",
              "    <tr>\n",
              "      <th>337</th>\n",
              "      <td>2020-02-01</td>\n",
              "      <td>4533</td>\n",
              "    </tr>\n",
              "    <tr>\n",
              "      <th>338</th>\n",
              "      <td>2020-03-01</td>\n",
              "      <td>5562</td>\n",
              "    </tr>\n",
              "    <tr>\n",
              "      <th>339</th>\n",
              "      <td>2020-04-01</td>\n",
              "      <td>5207</td>\n",
              "    </tr>\n",
              "  </tbody>\n",
              "</table>\n",
              "<p>340 rows × 2 columns</p>\n",
              "</div>"
            ],
            "text/plain": [
              "          DATE  MRTSSM4453USN\n",
              "0   1992-01-01           1509\n",
              "1   1992-02-01           1541\n",
              "2   1992-03-01           1597\n",
              "3   1992-04-01           1675\n",
              "4   1992-05-01           1822\n",
              "..         ...            ...\n",
              "335 2019-12-01           6630\n",
              "336 2020-01-01           4388\n",
              "337 2020-02-01           4533\n",
              "338 2020-03-01           5562\n",
              "339 2020-04-01           5207\n",
              "\n",
              "[340 rows x 2 columns]"
            ]
          },
          "metadata": {
            "tags": []
          },
          "execution_count": 302
        }
      ]
    },
    {
      "cell_type": "code",
      "metadata": {
        "id": "HL5f7rrjKwjn",
        "outputId": "4c531b15-e9ca-4cd4-ccf7-4551349985e8"
      },
      "source": [
        "sales[\"DATE\"].dt.month"
      ],
      "execution_count": null,
      "outputs": [
        {
          "output_type": "execute_result",
          "data": {
            "text/plain": [
              "0       1\n",
              "1       2\n",
              "2       3\n",
              "3       4\n",
              "4       5\n",
              "       ..\n",
              "335    12\n",
              "336     1\n",
              "337     2\n",
              "338     3\n",
              "339     4\n",
              "Name: DATE, Length: 340, dtype: int64"
            ]
          },
          "metadata": {
            "tags": []
          },
          "execution_count": 303
        }
      ]
    },
    {
      "cell_type": "code",
      "metadata": {
        "id": "HUKWOrwTKwjn",
        "outputId": "d5de5b60-b64b-4d7b-b2e1-0d3de9dfb111"
      },
      "source": [
        "sales[\"DATE\"].dt.year"
      ],
      "execution_count": null,
      "outputs": [
        {
          "output_type": "execute_result",
          "data": {
            "text/plain": [
              "0      1992\n",
              "1      1992\n",
              "2      1992\n",
              "3      1992\n",
              "4      1992\n",
              "       ... \n",
              "335    2019\n",
              "336    2020\n",
              "337    2020\n",
              "338    2020\n",
              "339    2020\n",
              "Name: DATE, Length: 340, dtype: int64"
            ]
          },
          "metadata": {
            "tags": []
          },
          "execution_count": 304
        }
      ]
    },
    {
      "cell_type": "code",
      "metadata": {
        "id": "5U18EAKEKwjo",
        "outputId": "497a1602-de61-4c39-e6aa-765bb6578c0f"
      },
      "source": [
        "sales['DATE'].dt.is_leap_year"
      ],
      "execution_count": null,
      "outputs": [
        {
          "output_type": "execute_result",
          "data": {
            "text/plain": [
              "0       True\n",
              "1       True\n",
              "2       True\n",
              "3       True\n",
              "4       True\n",
              "       ...  \n",
              "335    False\n",
              "336     True\n",
              "337     True\n",
              "338     True\n",
              "339     True\n",
              "Name: DATE, Length: 340, dtype: bool"
            ]
          },
          "metadata": {
            "tags": []
          },
          "execution_count": 305
        }
      ]
    },
    {
      "cell_type": "markdown",
      "metadata": {
        "id": "gucPcVCKKwjo"
      },
      "source": [
        "# Data Input and Output - CSV Files"
      ]
    },
    {
      "cell_type": "code",
      "metadata": {
        "id": "Q5AoTXAHKwjo"
      },
      "source": [
        "import pandas as pd"
      ],
      "execution_count": null,
      "outputs": []
    },
    {
      "cell_type": "code",
      "metadata": {
        "id": "W-FCk4cSKwjo",
        "outputId": "314bb705-78bb-4fb4-f329-f879e4b5ff9b"
      },
      "source": [
        "pwd"
      ],
      "execution_count": null,
      "outputs": [
        {
          "output_type": "execute_result",
          "data": {
            "text/plain": [
              "'C:\\\\Users\\\\Hp\\\\Whole machine_learning\\\\03-Pandas'"
            ]
          },
          "metadata": {
            "tags": []
          },
          "execution_count": 309
        }
      ]
    },
    {
      "cell_type": "code",
      "metadata": {
        "id": "D29KdmTNKwjo"
      },
      "source": [
        "import os"
      ],
      "execution_count": null,
      "outputs": []
    },
    {
      "cell_type": "code",
      "metadata": {
        "id": "tq2d0bk2Kwjo",
        "outputId": "51532c96-0286-4b00-bb16-df38ee7fb061"
      },
      "source": [
        "# it returns the same result as pwd gives\n",
        "os.getcwd()"
      ],
      "execution_count": null,
      "outputs": [
        {
          "output_type": "execute_result",
          "data": {
            "text/plain": [
              "'C:\\\\Users\\\\Hp\\\\Whole machine_learning\\\\03-Pandas'"
            ]
          },
          "metadata": {
            "tags": []
          },
          "execution_count": 312
        }
      ]
    },
    {
      "cell_type": "code",
      "metadata": {
        "id": "J1b28Q9JKwjo",
        "outputId": "77532736-ec4a-4f62-9920-fa3f594d6667"
      },
      "source": [
        "df = pd.read_csv(\"https://raw.githubusercontent.com/sunnyyashu178/DataScience-Projects/master/Datasets/example.csv\")\n",
        "df.head()"
      ],
      "execution_count": null,
      "outputs": [
        {
          "output_type": "execute_result",
          "data": {
            "text/html": [
              "<div>\n",
              "<style scoped>\n",
              "    .dataframe tbody tr th:only-of-type {\n",
              "        vertical-align: middle;\n",
              "    }\n",
              "\n",
              "    .dataframe tbody tr th {\n",
              "        vertical-align: top;\n",
              "    }\n",
              "\n",
              "    .dataframe thead th {\n",
              "        text-align: right;\n",
              "    }\n",
              "</style>\n",
              "<table border=\"1\" class=\"dataframe\">\n",
              "  <thead>\n",
              "    <tr style=\"text-align: right;\">\n",
              "      <th></th>\n",
              "      <th>a</th>\n",
              "      <th>b</th>\n",
              "      <th>c</th>\n",
              "      <th>d</th>\n",
              "    </tr>\n",
              "  </thead>\n",
              "  <tbody>\n",
              "    <tr>\n",
              "      <th>0</th>\n",
              "      <td>0</td>\n",
              "      <td>1</td>\n",
              "      <td>2</td>\n",
              "      <td>3</td>\n",
              "    </tr>\n",
              "    <tr>\n",
              "      <th>1</th>\n",
              "      <td>4</td>\n",
              "      <td>5</td>\n",
              "      <td>6</td>\n",
              "      <td>7</td>\n",
              "    </tr>\n",
              "    <tr>\n",
              "      <th>2</th>\n",
              "      <td>8</td>\n",
              "      <td>9</td>\n",
              "      <td>10</td>\n",
              "      <td>11</td>\n",
              "    </tr>\n",
              "    <tr>\n",
              "      <th>3</th>\n",
              "      <td>12</td>\n",
              "      <td>13</td>\n",
              "      <td>14</td>\n",
              "      <td>15</td>\n",
              "    </tr>\n",
              "  </tbody>\n",
              "</table>\n",
              "</div>"
            ],
            "text/plain": [
              "    a   b   c   d\n",
              "0   0   1   2   3\n",
              "1   4   5   6   7\n",
              "2   8   9  10  11\n",
              "3  12  13  14  15"
            ]
          },
          "metadata": {
            "tags": []
          },
          "execution_count": 524
        }
      ]
    },
    {
      "cell_type": "code",
      "metadata": {
        "id": "EDlyqO1MKwjo",
        "outputId": "1918fb89-0c38-435d-cc4d-9113462945ab"
      },
      "source": [
        "# if you dont want header columns\n",
        "df_h = pd.read_csv(\"https://raw.githubusercontent.com/sunnyyashu178/DataScience-Projects/master/Datasets/example.csv\",header=None)\n",
        "df_h"
      ],
      "execution_count": null,
      "outputs": [
        {
          "output_type": "execute_result",
          "data": {
            "text/html": [
              "<div>\n",
              "<style scoped>\n",
              "    .dataframe tbody tr th:only-of-type {\n",
              "        vertical-align: middle;\n",
              "    }\n",
              "\n",
              "    .dataframe tbody tr th {\n",
              "        vertical-align: top;\n",
              "    }\n",
              "\n",
              "    .dataframe thead th {\n",
              "        text-align: right;\n",
              "    }\n",
              "</style>\n",
              "<table border=\"1\" class=\"dataframe\">\n",
              "  <thead>\n",
              "    <tr style=\"text-align: right;\">\n",
              "      <th></th>\n",
              "      <th>0</th>\n",
              "      <th>1</th>\n",
              "      <th>2</th>\n",
              "      <th>3</th>\n",
              "    </tr>\n",
              "  </thead>\n",
              "  <tbody>\n",
              "    <tr>\n",
              "      <th>0</th>\n",
              "      <td>a</td>\n",
              "      <td>b</td>\n",
              "      <td>c</td>\n",
              "      <td>d</td>\n",
              "    </tr>\n",
              "    <tr>\n",
              "      <th>1</th>\n",
              "      <td>0</td>\n",
              "      <td>1</td>\n",
              "      <td>2</td>\n",
              "      <td>3</td>\n",
              "    </tr>\n",
              "    <tr>\n",
              "      <th>2</th>\n",
              "      <td>4</td>\n",
              "      <td>5</td>\n",
              "      <td>6</td>\n",
              "      <td>7</td>\n",
              "    </tr>\n",
              "    <tr>\n",
              "      <th>3</th>\n",
              "      <td>8</td>\n",
              "      <td>9</td>\n",
              "      <td>10</td>\n",
              "      <td>11</td>\n",
              "    </tr>\n",
              "    <tr>\n",
              "      <th>4</th>\n",
              "      <td>12</td>\n",
              "      <td>13</td>\n",
              "      <td>14</td>\n",
              "      <td>15</td>\n",
              "    </tr>\n",
              "  </tbody>\n",
              "</table>\n",
              "</div>"
            ],
            "text/plain": [
              "    0   1   2   3\n",
              "0   a   b   c   d\n",
              "1   0   1   2   3\n",
              "2   4   5   6   7\n",
              "3   8   9  10  11\n",
              "4  12  13  14  15"
            ]
          },
          "metadata": {
            "tags": []
          },
          "execution_count": 525
        }
      ]
    },
    {
      "cell_type": "code",
      "metadata": {
        "id": "UEionB2UKwjo",
        "outputId": "dff50da4-ae71-403e-9154-93f13cf71e58"
      },
      "source": [
        "# set the 0 column as index \n",
        "df_i = pd.read_csv(\"https://raw.githubusercontent.com/sunnyyashu178/DataScience-Projects/master/Datasets/example.csv\",index_col=0)\n",
        "df_i"
      ],
      "execution_count": null,
      "outputs": [
        {
          "output_type": "execute_result",
          "data": {
            "text/html": [
              "<div>\n",
              "<style scoped>\n",
              "    .dataframe tbody tr th:only-of-type {\n",
              "        vertical-align: middle;\n",
              "    }\n",
              "\n",
              "    .dataframe tbody tr th {\n",
              "        vertical-align: top;\n",
              "    }\n",
              "\n",
              "    .dataframe thead th {\n",
              "        text-align: right;\n",
              "    }\n",
              "</style>\n",
              "<table border=\"1\" class=\"dataframe\">\n",
              "  <thead>\n",
              "    <tr style=\"text-align: right;\">\n",
              "      <th></th>\n",
              "      <th>b</th>\n",
              "      <th>c</th>\n",
              "      <th>d</th>\n",
              "    </tr>\n",
              "    <tr>\n",
              "      <th>a</th>\n",
              "      <th></th>\n",
              "      <th></th>\n",
              "      <th></th>\n",
              "    </tr>\n",
              "  </thead>\n",
              "  <tbody>\n",
              "    <tr>\n",
              "      <th>0</th>\n",
              "      <td>1</td>\n",
              "      <td>2</td>\n",
              "      <td>3</td>\n",
              "    </tr>\n",
              "    <tr>\n",
              "      <th>4</th>\n",
              "      <td>5</td>\n",
              "      <td>6</td>\n",
              "      <td>7</td>\n",
              "    </tr>\n",
              "    <tr>\n",
              "      <th>8</th>\n",
              "      <td>9</td>\n",
              "      <td>10</td>\n",
              "      <td>11</td>\n",
              "    </tr>\n",
              "    <tr>\n",
              "      <th>12</th>\n",
              "      <td>13</td>\n",
              "      <td>14</td>\n",
              "      <td>15</td>\n",
              "    </tr>\n",
              "  </tbody>\n",
              "</table>\n",
              "</div>"
            ],
            "text/plain": [
              "     b   c   d\n",
              "a             \n",
              "0    1   2   3\n",
              "4    5   6   7\n",
              "8    9  10  11\n",
              "12  13  14  15"
            ]
          },
          "metadata": {
            "tags": []
          },
          "execution_count": 526
        }
      ]
    },
    {
      "cell_type": "code",
      "metadata": {
        "id": "DYitCBSkKwjo"
      },
      "source": [
        "#to save the file\n",
        "# you can also provide the directory pd.to_csv(\"C:\\\\Users\\\\Hp\\\\....\")\n",
        "df.to_csv(\"newfile.csv\",index=False)"
      ],
      "execution_count": null,
      "outputs": []
    },
    {
      "cell_type": "code",
      "metadata": {
        "id": "rBQpgyRvKwjo",
        "outputId": "39913438-96e0-479e-f72a-f064379b049d"
      },
      "source": [
        "new = pd.read_csv(\"newfile.csv\")\n",
        "new"
      ],
      "execution_count": null,
      "outputs": [
        {
          "output_type": "execute_result",
          "data": {
            "text/html": [
              "<div>\n",
              "<style scoped>\n",
              "    .dataframe tbody tr th:only-of-type {\n",
              "        vertical-align: middle;\n",
              "    }\n",
              "\n",
              "    .dataframe tbody tr th {\n",
              "        vertical-align: top;\n",
              "    }\n",
              "\n",
              "    .dataframe thead th {\n",
              "        text-align: right;\n",
              "    }\n",
              "</style>\n",
              "<table border=\"1\" class=\"dataframe\">\n",
              "  <thead>\n",
              "    <tr style=\"text-align: right;\">\n",
              "      <th></th>\n",
              "      <th>a</th>\n",
              "      <th>b</th>\n",
              "      <th>c</th>\n",
              "      <th>d</th>\n",
              "    </tr>\n",
              "  </thead>\n",
              "  <tbody>\n",
              "    <tr>\n",
              "      <th>0</th>\n",
              "      <td>0</td>\n",
              "      <td>1</td>\n",
              "      <td>2</td>\n",
              "      <td>3</td>\n",
              "    </tr>\n",
              "    <tr>\n",
              "      <th>1</th>\n",
              "      <td>4</td>\n",
              "      <td>5</td>\n",
              "      <td>6</td>\n",
              "      <td>7</td>\n",
              "    </tr>\n",
              "    <tr>\n",
              "      <th>2</th>\n",
              "      <td>8</td>\n",
              "      <td>9</td>\n",
              "      <td>10</td>\n",
              "      <td>11</td>\n",
              "    </tr>\n",
              "    <tr>\n",
              "      <th>3</th>\n",
              "      <td>12</td>\n",
              "      <td>13</td>\n",
              "      <td>14</td>\n",
              "      <td>15</td>\n",
              "    </tr>\n",
              "  </tbody>\n",
              "</table>\n",
              "</div>"
            ],
            "text/plain": [
              "    a   b   c   d\n",
              "0   0   1   2   3\n",
              "1   4   5   6   7\n",
              "2   8   9  10  11\n",
              "3  12  13  14  15"
            ]
          },
          "metadata": {
            "tags": []
          },
          "execution_count": 320
        }
      ]
    },
    {
      "cell_type": "markdown",
      "metadata": {
        "id": "GFuqGDxwKwjo"
      },
      "source": [
        "# Reading HTML tables"
      ]
    },
    {
      "cell_type": "markdown",
      "metadata": {
        "id": "XuHo_sszKwjo"
      },
      "source": [
        "You cant read every table that are in webstes, some websites may block your computer from scraping the HTML of the site through pandas, It may be more efficient to use an API"
      ]
    },
    {
      "cell_type": "markdown",
      "metadata": {
        "id": "fo6tWPcEKwjo"
      },
      "source": [
        "Install the lxml using the below command:"
      ]
    },
    {
      "cell_type": "markdown",
      "metadata": {
        "id": "JlnjQ2ZzKwjo"
      },
      "source": [
        "Conda install lxml"
      ]
    },
    {
      "cell_type": "markdown",
      "metadata": {
        "id": "qnVcJPZ2Kwjo"
      },
      "source": [
        "or"
      ]
    },
    {
      "cell_type": "markdown",
      "metadata": {
        "id": "AGbVmnkmKwjo"
      },
      "source": [
        "pip install lxlm"
      ]
    },
    {
      "cell_type": "code",
      "metadata": {
        "id": "qrs0BflLKwjo"
      },
      "source": [
        "# Take a look on the url before dive\n",
        "url = \"https://en.wikipedia.org/wiki/World_population\""
      ],
      "execution_count": null,
      "outputs": []
    },
    {
      "cell_type": "code",
      "metadata": {
        "id": "dc6Y3F4KKwjo",
        "outputId": "aed2915e-db30-4aee-c833-fa8242bec4c8"
      },
      "source": [
        "tables = pd.read_html(url)\n",
        "tables"
      ],
      "execution_count": null,
      "outputs": [
        {
          "output_type": "execute_result",
          "data": {
            "text/plain": [
              "[    0                                                  1\n",
              " 0 NaN  An editor has expressed concern that this arti...,\n",
              "         World population (millions, UN estimates)[14]  \\\n",
              "                                                     #   \n",
              " 0                                                   1   \n",
              " 1                                                   2   \n",
              " 2                                                   3   \n",
              " 3                                                   4   \n",
              " 4                                                   5   \n",
              " 5                                                   6   \n",
              " 6                                                   7   \n",
              " 7                                                   8   \n",
              " 8                                                   9   \n",
              " 9                                                  10   \n",
              " 10                                                NaN   \n",
              " 11  Notes: ^ 2030 = Medium variant. ^ China exclud...   \n",
              " \n",
              "                                                        \\\n",
              "                       Top ten most populous countries   \n",
              " 0                                            China[B]   \n",
              " 1                                               India   \n",
              " 2                                       United States   \n",
              " 3                                           Indonesia   \n",
              " 4                                            Pakistan   \n",
              " 5                                              Brazil   \n",
              " 6                                             Nigeria   \n",
              " 7                                          Bangladesh   \n",
              " 8                                              Russia   \n",
              " 9                                              Mexico   \n",
              " 10                                        World total   \n",
              " 11  Notes: ^ 2030 = Medium variant. ^ China exclud...   \n",
              " \n",
              "                                                        \\\n",
              "                                                  2000   \n",
              " 0                                                1270   \n",
              " 1                                                1053   \n",
              " 2                                                 283   \n",
              " 3                                                 212   \n",
              " 4                                                 136   \n",
              " 5                                                 176   \n",
              " 6                                                 123   \n",
              " 7                                                 131   \n",
              " 8                                                 146   \n",
              " 9                                                 103   \n",
              " 10                                               6127   \n",
              " 11  Notes: ^ 2030 = Medium variant. ^ China exclud...   \n",
              " \n",
              "                                                        \\\n",
              "                                                  2015   \n",
              " 0                                                1376   \n",
              " 1                                                1311   \n",
              " 2                                                 322   \n",
              " 3                                                 258   \n",
              " 4                                                 208   \n",
              " 5                                                 206   \n",
              " 6                                                 182   \n",
              " 7                                                 161   \n",
              " 8                                                 146   \n",
              " 9                                                 127   \n",
              " 10                                               7349   \n",
              " 11  Notes: ^ 2030 = Medium variant. ^ China exclud...   \n",
              " \n",
              "                                                        \n",
              "                                               2030[A]  \n",
              " 0                                                1416  \n",
              " 1                                                1528  \n",
              " 2                                                 356  \n",
              " 3                                                 295  \n",
              " 4                                                 245  \n",
              " 5                                                 228  \n",
              " 6                                                 263  \n",
              " 7                                                 186  \n",
              " 8                                                 149  \n",
              " 9                                                 148  \n",
              " 10                                               8501  \n",
              " 11  Notes: ^ 2030 = Medium variant. ^ China exclud...  ,\n",
              "                Continent Density(inhabitants/km2) Population(millions)  \\\n",
              " 0                   Asia                    104.1                 4641   \n",
              " 1                 Africa                     44.4                 1340   \n",
              " 2                 Europe                     73.4                  747   \n",
              " 3          South America                     24.1                  430   \n",
              " 4  North America[note 2]                     14.9                  368   \n",
              " 5                Oceania                        5                   42   \n",
              " 6             Antarctica                       ~0            0.004[16]   \n",
              " \n",
              "                                Most populous country  \\\n",
              " 0                      1,439,323,000[note 1] – China   \n",
              " 1                             0206,139,000 – Nigeria   \n",
              " 2  0145,934,000 – Russia;approx. 110 million in E...   \n",
              " 3                              0212,559,000 – Brazil   \n",
              " 4                       0331,002,000 – United States   \n",
              " 5                           0025,499,000 – Australia   \n",
              " 6                                        N/A[note 3]   \n",
              " \n",
              "               Most populous city (metropolitan area)  \n",
              " 0  37,393,000/13,929,000 – Greater Tokyo Area/Tok...  \n",
              " 1                             20,900,000 – Cairo[17]  \n",
              " 2  16,855,000/12,537,000 – Moscow metropolitan ar...  \n",
              " 3  22,043,000/12,176,000 – São Paulo Metro Area/S...  \n",
              " 4  23,724,000/8,323,000 – New York metropolitan a...  \n",
              " 5                                 4,925,000 – Sydney  \n",
              " 6                            1,258 – McMurdo Station  ,\n",
              "   World population milestones in billions (USCB estimates)                    \\\n",
              "                                                 Population     1     2     3   \n",
              " 0                                               Year        1804  1927  1960   \n",
              " 1                                      Years elapsed           —   123    33   \n",
              " \n",
              "                                        \n",
              "       4     5     6     7     8     9  \n",
              " 0  1974  1987  1999  2011  2024  2042  \n",
              " 1    14    13    12    12    13    18  ,\n",
              "                                                    0  \\\n",
              " 0  .mw-parser-output .legend{page-break-inside:av...   \n",
              " \n",
              "                                    1  \n",
              " 0  67.5–70 65–67.5 60–65 55–60 50–55  ,\n",
              "    Rank        Country  Population  % of world         Date  \\\n",
              " 0     1          China  1405369760         NaN  18 Nov 2020   \n",
              " 1     2          India  1369796578         NaN  18 Nov 2020   \n",
              " 2     3  United States   330668644         NaN  18 Nov 2020   \n",
              " 3     4      Indonesia   269603400         NaN   1 Jul 2020   \n",
              " 4     5       Pakistan   220892331         NaN   1 Jul 2020   \n",
              " 5     6         Brazil   212351703         NaN  18 Nov 2020   \n",
              " 6     7        Nigeria   206139587         NaN   1 Jul 2020   \n",
              " 7     8     Bangladesh   169665900         NaN  18 Nov 2020   \n",
              " 8     9         Russia   146748590         NaN   1 Jan 2020   \n",
              " 9    10         Mexico   127792286         NaN   1 Jul 2020   \n",
              " \n",
              "            Source(official or UN)  \n",
              " 0   National population clock[89]  \n",
              " 1   National population clock[90]  \n",
              " 2   National population clock[91]  \n",
              " 3  National annual projection[92]  \n",
              " 4               UN Projection[93]  \n",
              " 5   National population clock[94]  \n",
              " 6               UN Projection[93]  \n",
              " 7   National population clock[95]  \n",
              " 8    National annual estimate[96]  \n",
              " 9  National annual projection[97]  ,\n",
              "    Rank      Country  Population  Area(km2)  Density(pop/km2)\n",
              " 0     1    Singapore     5704000        710              8033\n",
              " 1     2   Bangladesh   169670000     143998              1178\n",
              " 2     3      Lebanon     6856000      10452               656\n",
              " 3     4       Taiwan    23604000      36193               652\n",
              " 4     5  South Korea    51781000      99538               520\n",
              " 5     6       Rwanda    12374000      26338               470\n",
              " 6     7        Haiti    11578000      27065               428\n",
              " 7     8  Netherlands    17530000      41526               422\n",
              " 8     9       Israel     9280000      22072               420\n",
              " 9    10        India  1369800000    3287240               417,\n",
              "    Rank         Country  Population  Area(km2)  Density(pop/km2)  \\\n",
              " 0     1           India  1369800000    3287240               417   \n",
              " 1     2        Pakistan   221680000     803940               276   \n",
              " 2     3      Bangladesh   169670000     143998              1178   \n",
              " 3     4           Japan   126010000     377873               333   \n",
              " 4     5     Philippines   109450000     300000               365   \n",
              " 5     6         Vietnam    96209000     331689               290   \n",
              " 6     7  United Kingdom    66436000     243610               273   \n",
              " 7     8     South Korea    51781000      99538               520   \n",
              " 8     9          Taiwan    23604000      36193               652   \n",
              " 9    10       Sri Lanka    21803000      65610               332   \n",
              " \n",
              "                         Notes  \n",
              " 0          Growing population  \n",
              " 1          Growing population  \n",
              " 2  Rapidly growing population  \n",
              " 3    Declining population[98]  \n",
              " 4          Growing population  \n",
              " 5          Growing population  \n",
              " 6           Steady population  \n",
              " 7           Steady population  \n",
              " 8           Steady population  \n",
              " 9          Growing population  ,\n",
              "     Year  Population Yearly change  Net change  Density(pop/km2)  \\\n",
              " 0   2020  7795000000          1.1%    81331000                52   \n",
              " 1   2019  7713468000          1.1%    82377000                52   \n",
              " 2   2018  7631091000          1.1%    83232000                51   \n",
              " 3   2017  7547859000          1.1%    83837000                51   \n",
              " 4   2016  7464022000          1.1%    84225000                50   \n",
              " 5   2015  7379797000          1.2%    84506000                50   \n",
              " 6   2014  7295291000          1.2%    84709000                49   \n",
              " 7   2013  7210582000          1.2%    84754000                48   \n",
              " 8   2012  7125828000          1.2%    84634000                48   \n",
              " 9   2011  7041194000          1.2%    84371000                47   \n",
              " 10  2010  6956824000          1.2%    84057000                47   \n",
              " 11  2009  6872767000          1.2%    83678000                47   \n",
              " 12  2008  6789089000          1.2%    83142000                46   \n",
              " 13  2007  6705947000          1.2%    82429000                45   \n",
              " 14  2006  6623518000          1.3%    81611000                44   \n",
              " 15  2005  6541907000          1.3%    80748000                44   \n",
              " 16  2004  6461159000          1.3%    79974000                43   \n",
              " 17  2003  6381185000          1.3%    79412000                43   \n",
              " 18  2002  6301773000          1.3%    79147000                42   \n",
              " 19  2001  6222627000          1.3%    79133000                42   \n",
              " 20  2000  6143494000          1.3%    79255000                41   \n",
              " \n",
              "     Urban Population Urban pop %  \n",
              " 0         4378900000         56%  \n",
              " 1         4299439000         56%  \n",
              " 2         4219817000         55%  \n",
              " 3         4140189000         55%  \n",
              " 4         4060653000         54%  \n",
              " 5         3981498000         54%  \n",
              " 6         3902832000         53%  \n",
              " 7         3824990000         53%  \n",
              " 8         3747843000         52%  \n",
              " 9         3671424000         52%  \n",
              " 10        3594868000         51%  \n",
              " 11        3516830000         51%  \n",
              " 12        3439719000         50%  \n",
              " 13        3363610000         50%  \n",
              " 14        3289446000         50%  \n",
              " 15        3215906000         49%  \n",
              " 16        3143045000         48%  \n",
              " 17        3071744000         48%  \n",
              " 18        3001808000         47%  \n",
              " 19        2933079000         47%  \n",
              " 20        2868308000         46%  ,\n",
              "                   Region  1500  1600  1700  1750  1800  1850  1900  1950  \\\n",
              " 0                  World   585   660   710   791   978  1262  1650  2521   \n",
              " 1                 Africa    86   114   106   106   107   111   133   221   \n",
              " 2                   Asia   282   350   411   502   635   809   947  1402   \n",
              " 3                 Europe   168   170   178   190   203   276   408   547   \n",
              " 4  Latin America[Note 1]    40    20    10    16    24    38    74   167   \n",
              " 5  North America[Note 1]     6     3     2     2     7    26    82   172   \n",
              " 6                Oceania     3     3     3     2     2     2     6    13   \n",
              " \n",
              "    1999  2008  2010  2012  2050  2150  \n",
              " 0  6008  6707  6896  7052  9725  9746  \n",
              " 1   783   973  1022  1052  2478  2308  \n",
              " 2  3700  4054  4164  4250  5267  5561  \n",
              " 3   675   732   738   740   734   517  \n",
              " 4   508   577   590   603   784   912  \n",
              " 5   312   337   345   351   433   398  \n",
              " 6    30    34    37    38    57    51  ,\n",
              "                   Region  1500  1600  1700  1750  1800  1850  1900  1950  \\\n",
              " 0                 Africa  14.7  17.3  14.9  13.4  10.9   8.8   8.1   8.8   \n",
              " 1                   Asia  48.2  53.0  57.9  63.5  64.9  64.1  57.4  55.6   \n",
              " 2                 Europe  28.7  25.8  25.1  20.6  20.8  21.9  24.7  21.7   \n",
              " 3  Latin America[Note 1]   6.8   3.0   1.4   2.0   2.5   3.0   4.5   6.6   \n",
              " 4  North America[Note 1]   1.0   0.5   0.3   0.3   0.7   2.1   5.0   6.8   \n",
              " 5                Oceania   0.5   0.5   0.4   0.3   0.2   0.2   0.4   0.5   \n",
              " \n",
              "    1999  2008  2010  2012  2050  2150  \n",
              " 0  13.0  14.5  14.8  15.2  25.5  23.7  \n",
              " 1  61.6  60.4  60.4  60.3  54.2  57.1  \n",
              " 2  11.2  10.9  10.7  10.5   7.6   5.3  \n",
              " 3   8.5   8.6   8.6   8.6   8.1   9.4  \n",
              " 4   5.2   5.0   5.0   5.0   4.5   4.1  \n",
              " 5   0.5   0.5   0.5   0.5   0.6   0.5  ,\n",
              "          Year    World  Africa    Asia  Europe  Latin America& Carib.[Note 1]  \\\n",
              " 0   70,000 BC  < 0.015     NaN     NaN     NaN                            0.0   \n",
              " 1   10,000 BC        4     NaN     NaN     NaN                            NaN   \n",
              " 2     8000 BC        5     NaN     NaN     NaN                            NaN   \n",
              " 3     6500 BC        5     NaN     NaN     NaN                            NaN   \n",
              " 4     5000 BC        5     NaN     NaN     NaN                            NaN   \n",
              " 5     4000 BC        7     NaN     NaN     NaN                            NaN   \n",
              " 6     3000 BC       14     NaN     NaN     NaN                            NaN   \n",
              " 7     2000 BC       27     NaN     NaN     NaN                            NaN   \n",
              " 8     1000 BC       50     7.0    33.0     9.0                            NaN   \n",
              " 9      500 BC      100    14.0    66.0    16.0                            NaN   \n",
              " 10       AD 1      200    23.0   141.0    28.0                            NaN   \n",
              " 11       1000      400    70.0   269.0    50.0                            8.0   \n",
              " 12       1500      458    86.0   243.0    84.0                           39.0   \n",
              " 13       1600      580   114.0   339.0   111.0                           10.0   \n",
              " 14       1700      682   106.0   436.0   125.0                           10.0   \n",
              " 15       1750      791   106.0   502.0   163.0                           16.0   \n",
              " 16       1800     1000   107.0   656.0   203.0                           24.0   \n",
              " 17       1850     1262   111.0   809.0   276.0                           38.0   \n",
              " 18       1900     1650   133.0   947.0   408.0                           74.0   \n",
              " 19       1950     2525   229.0  1394.0   549.0                          169.0   \n",
              " 20       1955     2758   254.0  1534.0   577.0                          193.0   \n",
              " 21       1960     3018   285.0  1687.0   606.0                          221.0   \n",
              " 22       1965     3322   322.0  1875.0   635.0                          254.0   \n",
              " 23       1970     3682   366.0  2120.0   657.0                          288.0   \n",
              " 24       1975     4061   416.0  2378.0   677.0                          326.0   \n",
              " 25       1980     4440   478.0  2626.0   694.0                          365.0   \n",
              " 26       1985     4853   550.0  2897.0   708.0                          406.0   \n",
              " 27       1990     5310   632.0  3202.0   721.0                          447.0   \n",
              " 28       1995     5735   720.0  3475.0   728.0                          487.0   \n",
              " 29       2000     6127   814.0  3714.0   726.0                          527.0   \n",
              " 30       2005     6520   920.0  3945.0   729.0                          564.0   \n",
              " 31       2010     6930  1044.0  4170.0   735.0                          600.0   \n",
              " 32       2015     7349  1186.0  4393.0   738.0                          634.0   \n",
              " \n",
              "     North America[Note 1]  Oceania              Notes  \n",
              " 0                     0.0      NaN              [116]  \n",
              " 1                     NaN      NaN              [117]  \n",
              " 2                     NaN      NaN                NaN  \n",
              " 3                     NaN      NaN                NaN  \n",
              " 4                     NaN      NaN                NaN  \n",
              " 5                     NaN      NaN                NaN  \n",
              " 6                     NaN      NaN                NaN  \n",
              " 7                     NaN      NaN                NaN  \n",
              " 8                     NaN      NaN  [citation needed]  \n",
              " 9                     NaN      NaN                NaN  \n",
              " 10                    NaN      NaN                NaN  \n",
              " 11                    1.0      2.0                NaN  \n",
              " 12                    3.0      3.0                NaN  \n",
              " 13                    3.0      3.0                NaN  \n",
              " 14                    2.0      3.0                NaN  \n",
              " 15                    2.0      2.0                NaN  \n",
              " 16                    7.0      3.0                NaN  \n",
              " 17                   26.0      2.0                NaN  \n",
              " 18                   82.0      6.0                NaN  \n",
              " 19                  172.0     12.7              [118]  \n",
              " 20                  187.0     14.2                NaN  \n",
              " 21                  204.0     15.8                NaN  \n",
              " 22                  219.0     17.5                NaN  \n",
              " 23                  231.0     19.7                NaN  \n",
              " 24                  242.0     21.5                NaN  \n",
              " 25                  254.0     23.0                NaN  \n",
              " 26                  267.0     24.9                NaN  \n",
              " 27                  281.0     27.0                NaN  \n",
              " 28                  296.0     29.1                NaN  \n",
              " 29                  314.0     31.1                NaN  \n",
              " 30                  329.0     33.4                NaN  \n",
              " 31                  344.0     36.4                NaN  \n",
              " 32                  358.0     39.3                NaN  ,\n",
              "     0                                                  1\n",
              " 0 NaN  This section needs additional citations for ve...,\n",
              "    Year  UN est.(millions) Difference  USCB est.(millions) Difference.1\n",
              " 0  2005               6542          –                 6473            –\n",
              " 1  2010               6957        415                 6866          393\n",
              " 2  2015               7380        423                 7256          390\n",
              " 3  2020               7795        415                 7643          380\n",
              " 4  2025               8184        390                 8007          363\n",
              " 5  2030               8549        364                 8341          334\n",
              " 6  2035               8888        339                 8646          306\n",
              " 7  2040               9199        311                 8926          280\n",
              " 8  2045               9482        283                 9180          254\n",
              " 9  2050               9735        253                 9408          228,\n",
              "     Year  World           Asia         Africa       Europe  \\\n",
              " 0   2000   6144  3,741 (60.9%)    811 (13.2%)  726 (11.8%)   \n",
              " 1   2005   6542  3,978 (60.8%)    916 (14.0%)  729 (11.2%)   \n",
              " 2   2010   6957  4,210 (60.5%)  1,039 (14.9%)  736 (10.6%)   \n",
              " 3   2015   7380  4,434 (60.1%)  1,182 (16.0%)  743 (10.1%)   \n",
              " 4   2020   7795  4,641 (59.5%)  1,341 (17.2%)   748 (9.6%)   \n",
              " 5   2025   8184  4,823 (58.9%)  1,509 (18.4%)   746 (9.1%)   \n",
              " 6   2030   8549  4,974 (58.2%)  1,688 (19.8%)   741 (8.7%)   \n",
              " 7   2035   8888  5,096 (57.3%)  1,878 (21.1%)   735 (8.3%)   \n",
              " 8   2040   9199  5,189 (56.4%)  2,077 (22.6%)   728 (7.9%)   \n",
              " 9   2045   9482  5,253 (55.4%)  2,282 (24.1%)   720 (7.6%)   \n",
              " 10  2050   9735  5,290 (54.3%)  2,489 (25.6%)   711 (7.3%)   \n",
              " 11  2055   9958  5,302 (53.2%)  2,698 (27.1%)   700 (7.0%)   \n",
              " 12  2060  10152  5,289 (52.1%)  2,905 (28.6%)   689 (6.8%)   \n",
              " 13  2065  10318  5,256 (51.0%)  3,109 (30.1%)   677 (6.6%)   \n",
              " 14  2070  10459  5,207 (49.8%)  3,308 (31.6%)   667 (6.4%)   \n",
              " 15  2075  10577  5,143 (48.6%)  3,499 (33.1%)   657 (6.2%)   \n",
              " 16  2080  10674  5,068 (47.5%)  3,681 (34.5%)   650 (6.1%)   \n",
              " 17  2085  10750  4,987 (46.4%)  3,851 (35.8%)   643 (6.0%)   \n",
              " 18  2090  10810  4,901 (45.3%)  4,008 (37.1%)   638 (5.9%)   \n",
              " 19  2095  10852  4,812 (44.3%)  4,152 (38.3%)   634 (5.8%)   \n",
              " 20  2100  10875  4,719 (43.4%)  4,280 (39.4%)   630 (5.8%)   \n",
              " \n",
              "    Latin America/Caribbean Northern America    Oceania  \n",
              " 0               522 (8.5%)       312 (5.1%)  31 (0.5%)  \n",
              " 1               558 (8.5%)       327 (5.0%)  34 (0.5%)  \n",
              " 2               591 (8.5%)       343 (4.9%)  37 (0.5%)  \n",
              " 3               624 (8.5%)       357 (4.8%)  40 (0.5%)  \n",
              " 4               654 (8.4%)       369 (4.7%)  43 (0.6%)  \n",
              " 5               682 (8.3%)       380 (4.6%)  45 (0.6%)  \n",
              " 6               706 (8.3%)       391 (4.6%)  48 (0.6%)  \n",
              " 7               726 (8.2%)       401 (4.5%)  50 (0.6%)  \n",
              " 8               742 (8.1%)       410 (4.5%)  53 (0.6%)  \n",
              " 9               754 (8.0%)       418 (4.4%)  55 (0.6%)  \n",
              " 10              762 (7.8%)       425 (4.4%)  57 (0.6%)  \n",
              " 11              767 (7.7%)       432 (4.3%)  60 (0.6%)  \n",
              " 12              768 (7.6%)       439 (4.3%)  62 (0.6%)  \n",
              " 13              765 (7.4%)       447 (4.3%)  64 (0.6%)  \n",
              " 14              759 (7.3%)       454 (4.3%)  66 (0.6%)  \n",
              " 15              750 (7.1%)       461 (4.4%)  67 (0.6%)  \n",
              " 16              739 (6.9%)       468 (4.4%)  69 (0.7%)  \n",
              " 17              726 (6.8%)       474 (4.4%)  71 (0.7%)  \n",
              " 18              711 (6.6%)       479 (4.4%)  72 (0.7%)  \n",
              " 19              696 (6.4%)       485 (4.5%)  74 (0.7%)  \n",
              " 20              680 (6.3%)       491 (4.5%)  75 (0.7%)  ,\n",
              "   Population(in billions)            0.5  0.5.1     1   1.1     2   2.1     4  \\\n",
              " 0                    Year           1500   1500  1804  1804  1927  1927  1974   \n",
              " 1           Years elapsed  Years elapsed    304   304   123   123    47    47   \n",
              " \n",
              "     4.1     8     8.1  \n",
              " 0  1974  2024  2024.0  \n",
              " 1    50    50     NaN  ,\n",
              "   Population(in billions)          0.375  0.375.1  0.75  0.75.1   1.5  1.5.1  \\\n",
              " 0                    Year           1171     1171  1715    1715  1881   1881   \n",
              " 1           Years elapsed  Years elapsed      544   544     166   166     79   \n",
              " \n",
              "       3   3.1     6     6.1  \n",
              " 0  1960  1960  1999  1999.0  \n",
              " 1    79    39    39     NaN  ,\n",
              "     0                                                  1\n",
              " 0 NaN  Wikimedia Commons has media related to World p...,\n",
              "                           vteGlobal human population  \\\n",
              " 0                                       Major topics   \n",
              " 1                       Biological andrelated topics   \n",
              " 2                     Human impact onthe environment   \n",
              " 3                                  Populationecology   \n",
              " 4                                         Literature   \n",
              " 5                                       Publications   \n",
              " 6                                              Lists   \n",
              " 7                            Events andorganizations   \n",
              " 8                                     Related topics   \n",
              " 9  Commons  Human overpopulation Human activities...   \n",
              " \n",
              "                         vteGlobal human population.1  \n",
              " 0  Biocapacity Demographics of the world Optimum ...  \n",
              " 1  Family planning Pledge two or fewer Human popu...  \n",
              " 2  Deforestation Desalination Desertification Env...  \n",
              " 3  Carrying capacity Deep ecology Earth's energy ...  \n",
              " 4  A Modest Proposal Observations Concerning the ...  \n",
              " 5  Population and Environment Population and Deve...  \n",
              " 6  Population and housing censuses by country Met...  \n",
              " 7  7 Billion Actions Extinction Rebellion Interna...  \n",
              " 8  Classic Maya collapse Fertility and intelligen...  \n",
              " 9  Commons  Human overpopulation Human activities...  ,\n",
              "            Articles related to the world's population  \\\n",
              " 0   vteHuman impact on the environmentGeneral Envi...   \n",
              " 1                  vteHuman impact on the environment   \n",
              " 2                                             General   \n",
              " 3                                              Causes   \n",
              " 4                                             Effects   \n",
              " 5                                          Mitigation   \n",
              " 6   Commons  Category by country assessment mitiga...   \n",
              " 7      vteLists of countries by population statistics   \n",
              " 8                                              Global   \n",
              " 9                               Continents/subregions   \n",
              " 10                                   Intercontinental   \n",
              " 11                                 Cities/urban areas   \n",
              " 12                                    Past and future   \n",
              " 13                                 Population density   \n",
              " 14                                  Growth indicators   \n",
              " 15                                 Other demographics   \n",
              " 16                                             Health   \n",
              " 17                           Education and innovation   \n",
              " 18                                           Economic   \n",
              " 19  List of international rankings List of top int...   \n",
              " 20                               vteHierarchy of life   \n",
              " 21  Biosphere > Biome > Ecosystem > Biocenosis > P...   \n",
              " 22                                   vteGlobalization   \n",
              " 23                          Journals  Outline Studies   \n",
              " 24                                            Aspects   \n",
              " 25                                             Issues   \n",
              " 26  .mw-parser-output .nobold{font-weight:normal}G...   \n",
              " 27                                              Other   \n",
              " 28                                           Theories   \n",
              " 29                                    Notablescholars   \n",
              " 30                                          Economics   \n",
              " 31                                  Political economy   \n",
              " 32                               Politics / sociology   \n",
              " 33                                       Non–academic   \n",
              " 34                          Category  Business portal   \n",
              " \n",
              "          Articles related to the world's population.1  \n",
              " 0   vteHuman impact on the environmentGeneral Envi...  \n",
              " 1                  vteHuman impact on the environment  \n",
              " 2   Environmental issues list of issues Human impa...  \n",
              " 3   Agriculture irrigation meat production cocoa p...  \n",
              " 4   Biodiversity threats biodiversity loss decline...  \n",
              " 5   Alternative fuel vehicle propulsion Birth cont...  \n",
              " 6   Commons  Category by country assessment mitiga...  \n",
              " 7      vteLists of countries by population statistics  \n",
              " 8        Current population Demographics of the world  \n",
              " 9   Africa Antarctica Asia Europe North America Ca...  \n",
              " 10  Americas Arab world Commonwealth of Nations Eu...  \n",
              " 11  World cities National capitals Megacities Mega...  \n",
              " 12  Past and future population World population es...  \n",
              " 13  Current density Past and future population den...  \n",
              " 14  Population growth rate Natural increase Birth ...  \n",
              " 15  Age at first marriage Age structure Dependency...  \n",
              " 16  Antidepressant consumption Antiviral medicatio...  \n",
              " 17  Bloomberg Innovation Index Education Index Int...  \n",
              " 18  Access to financial services Development aid g...  \n",
              " 19  List of international rankings List of top int...  \n",
              " 20                               vteHierarchy of life  \n",
              " 21  Biosphere > Biome > Ecosystem > Biocenosis > P...  \n",
              " 22                                   vteGlobalization  \n",
              " 23                          Journals  Outline Studies  \n",
              " 24  Alter-globalization Anti-globalization Counter...  \n",
              " 25  .mw-parser-output .nobold{font-weight:normal}G...  \n",
              " 26  Disease COVID-19 pandemic Digital divide Labor...  \n",
              " 27  American imperialism British Empire Brain drai...  \n",
              " 28  Capital accumulation Dependency Development Ea...  \n",
              " 29  Economics Ravi Batra Jagdish Bhagwati Robert B...  \n",
              " 30  Ravi Batra Jagdish Bhagwati Robert Brenner Jay...  \n",
              " 31  Samir Amin Giovanni Arrighi Robert W. Cox Andr...  \n",
              " 32  Arjun Appadurai Daniele Archibugi K. Anthony A...  \n",
              " 33  Noam Chomsky Thomas Friedman Naomi Klein John ...  \n",
              " 34                          Category  Business portal  ,\n",
              "                   vteHuman impact on the environment  \\\n",
              " 0                                            General   \n",
              " 1                                             Causes   \n",
              " 2                                            Effects   \n",
              " 3                                         Mitigation   \n",
              " 4  Commons  Category by country assessment mitiga...   \n",
              " \n",
              "                 vteHuman impact on the environment.1  \n",
              " 0  Environmental issues list of issues Human impa...  \n",
              " 1  Agriculture irrigation meat production cocoa p...  \n",
              " 2  Biodiversity threats biodiversity loss decline...  \n",
              " 3  Alternative fuel vehicle propulsion Birth cont...  \n",
              " 4  Commons  Category by country assessment mitiga...  ,\n",
              "        vteLists of countries by population statistics  \\\n",
              " 0                                              Global   \n",
              " 1                               Continents/subregions   \n",
              " 2                                    Intercontinental   \n",
              " 3                                  Cities/urban areas   \n",
              " 4                                     Past and future   \n",
              " 5                                  Population density   \n",
              " 6                                   Growth indicators   \n",
              " 7                                  Other demographics   \n",
              " 8                                              Health   \n",
              " 9                            Education and innovation   \n",
              " 10                                           Economic   \n",
              " 11  List of international rankings List of top int...   \n",
              " \n",
              "      vteLists of countries by population statistics.1  \n",
              " 0        Current population Demographics of the world  \n",
              " 1   Africa Antarctica Asia Europe North America Ca...  \n",
              " 2   Americas Arab world Commonwealth of Nations Eu...  \n",
              " 3   World cities National capitals Megacities Mega...  \n",
              " 4   Past and future population World population es...  \n",
              " 5   Current density Past and future population den...  \n",
              " 6   Population growth rate Natural increase Birth ...  \n",
              " 7   Age at first marriage Age structure Dependency...  \n",
              " 8   Antidepressant consumption Antiviral medicatio...  \n",
              " 9   Bloomberg Innovation Index Education Index Int...  \n",
              " 10  Access to financial services Development aid g...  \n",
              " 11  List of international rankings List of top int...  ,\n",
              "                                 vteHierarchy of life  \\\n",
              " 0  Biosphere > Biome > Ecosystem > Biocenosis > P...   \n",
              " \n",
              "                               vteHierarchy of life.1  \n",
              " 0  Biosphere > Biome > Ecosystem > Biocenosis > P...  ,\n",
              "                                      vteGlobalization  \\\n",
              " 0                           Journals  Outline Studies   \n",
              " 1                                             Aspects   \n",
              " 2                                              Issues   \n",
              " 3   .mw-parser-output .nobold{font-weight:normal}G...   \n",
              " 4                                               Other   \n",
              " 5                                            Theories   \n",
              " 6                                     Notablescholars   \n",
              " 7                                           Economics   \n",
              " 8                                   Political economy   \n",
              " 9                                Politics / sociology   \n",
              " 10                                       Non–academic   \n",
              " 11                          Category  Business portal   \n",
              " \n",
              "                                    vteGlobalization.1  \n",
              " 0                           Journals  Outline Studies  \n",
              " 1   Alter-globalization Anti-globalization Counter...  \n",
              " 2   .mw-parser-output .nobold{font-weight:normal}G...  \n",
              " 3   Disease COVID-19 pandemic Digital divide Labor...  \n",
              " 4   American imperialism British Empire Brain drai...  \n",
              " 5   Capital accumulation Dependency Development Ea...  \n",
              " 6   Economics Ravi Batra Jagdish Bhagwati Robert B...  \n",
              " 7   Ravi Batra Jagdish Bhagwati Robert Brenner Jay...  \n",
              " 8   Samir Amin Giovanni Arrighi Robert W. Cox Andr...  \n",
              " 9   Arjun Appadurai Daniele Archibugi K. Anthony A...  \n",
              " 10  Noam Chomsky Thomas Friedman Naomi Klein John ...  \n",
              " 11                          Category  Business portal  ,\n",
              "                                                    0  \\\n",
              " 0  .mw-parser-output .nobold{font-weight:normal}G...   \n",
              " 1                                              Other   \n",
              " \n",
              "                                                    1  \n",
              " 0  Disease COVID-19 pandemic Digital divide Labor...  \n",
              " 1  American imperialism British Empire Brain drai...  ,\n",
              "                       0                                                  1\n",
              " 0             Economics  Ravi Batra Jagdish Bhagwati Robert Brenner Jay...\n",
              " 1     Political economy  Samir Amin Giovanni Arrighi Robert W. Cox Andr...\n",
              " 2  Politics / sociology  Arjun Appadurai Daniele Archibugi K. Anthony A...\n",
              " 3          Non–academic  Noam Chomsky Thomas Friedman Naomi Klein John ...]"
            ]
          },
          "metadata": {
            "tags": []
          },
          "execution_count": 367
        }
      ]
    },
    {
      "cell_type": "code",
      "metadata": {
        "id": "iiYXNfnDKwjo",
        "outputId": "2abf51b8-32af-49e2-e597-285a9145769c"
      },
      "source": [
        "len(tables)"
      ],
      "execution_count": null,
      "outputs": [
        {
          "output_type": "execute_result",
          "data": {
            "text/plain": [
              "26"
            ]
          },
          "metadata": {
            "tags": []
          },
          "execution_count": 368
        }
      ]
    },
    {
      "cell_type": "code",
      "metadata": {
        "id": "Rl0f7aaFKwjo",
        "outputId": "349613ea-6b8c-4ec5-fd60-858cd4ace5a6"
      },
      "source": [
        "# it shows the first table\n",
        "tables[0]"
      ],
      "execution_count": null,
      "outputs": [
        {
          "output_type": "execute_result",
          "data": {
            "text/html": [
              "<div>\n",
              "<style scoped>\n",
              "    .dataframe tbody tr th:only-of-type {\n",
              "        vertical-align: middle;\n",
              "    }\n",
              "\n",
              "    .dataframe tbody tr th {\n",
              "        vertical-align: top;\n",
              "    }\n",
              "\n",
              "    .dataframe thead th {\n",
              "        text-align: right;\n",
              "    }\n",
              "</style>\n",
              "<table border=\"1\" class=\"dataframe\">\n",
              "  <thead>\n",
              "    <tr style=\"text-align: right;\">\n",
              "      <th></th>\n",
              "      <th>0</th>\n",
              "      <th>1</th>\n",
              "    </tr>\n",
              "  </thead>\n",
              "  <tbody>\n",
              "    <tr>\n",
              "      <th>0</th>\n",
              "      <td>NaN</td>\n",
              "      <td>An editor has expressed concern that this arti...</td>\n",
              "    </tr>\n",
              "  </tbody>\n",
              "</table>\n",
              "</div>"
            ],
            "text/plain": [
              "    0                                                  1\n",
              "0 NaN  An editor has expressed concern that this arti..."
            ]
          },
          "metadata": {
            "tags": []
          },
          "execution_count": 369
        }
      ]
    },
    {
      "cell_type": "code",
      "metadata": {
        "id": "uhs56ObRKwjo",
        "outputId": "f05e1211-1c90-480a-947e-c910ce0e59d3"
      },
      "source": [
        "tables[1]"
      ],
      "execution_count": null,
      "outputs": [
        {
          "output_type": "execute_result",
          "data": {
            "text/html": [
              "<div>\n",
              "<style scoped>\n",
              "    .dataframe tbody tr th:only-of-type {\n",
              "        vertical-align: middle;\n",
              "    }\n",
              "\n",
              "    .dataframe tbody tr th {\n",
              "        vertical-align: top;\n",
              "    }\n",
              "\n",
              "    .dataframe thead tr th {\n",
              "        text-align: left;\n",
              "    }\n",
              "</style>\n",
              "<table border=\"1\" class=\"dataframe\">\n",
              "  <thead>\n",
              "    <tr>\n",
              "      <th></th>\n",
              "      <th colspan=\"5\" halign=\"left\">World population (millions, UN estimates)[14]</th>\n",
              "    </tr>\n",
              "    <tr>\n",
              "      <th></th>\n",
              "      <th>#</th>\n",
              "      <th>Top ten most populous countries</th>\n",
              "      <th>2000</th>\n",
              "      <th>2015</th>\n",
              "      <th>2030[A]</th>\n",
              "    </tr>\n",
              "  </thead>\n",
              "  <tbody>\n",
              "    <tr>\n",
              "      <th>0</th>\n",
              "      <td>1</td>\n",
              "      <td>China[B]</td>\n",
              "      <td>1270</td>\n",
              "      <td>1376</td>\n",
              "      <td>1416</td>\n",
              "    </tr>\n",
              "    <tr>\n",
              "      <th>1</th>\n",
              "      <td>2</td>\n",
              "      <td>India</td>\n",
              "      <td>1053</td>\n",
              "      <td>1311</td>\n",
              "      <td>1528</td>\n",
              "    </tr>\n",
              "    <tr>\n",
              "      <th>2</th>\n",
              "      <td>3</td>\n",
              "      <td>United States</td>\n",
              "      <td>283</td>\n",
              "      <td>322</td>\n",
              "      <td>356</td>\n",
              "    </tr>\n",
              "    <tr>\n",
              "      <th>3</th>\n",
              "      <td>4</td>\n",
              "      <td>Indonesia</td>\n",
              "      <td>212</td>\n",
              "      <td>258</td>\n",
              "      <td>295</td>\n",
              "    </tr>\n",
              "    <tr>\n",
              "      <th>4</th>\n",
              "      <td>5</td>\n",
              "      <td>Pakistan</td>\n",
              "      <td>136</td>\n",
              "      <td>208</td>\n",
              "      <td>245</td>\n",
              "    </tr>\n",
              "    <tr>\n",
              "      <th>5</th>\n",
              "      <td>6</td>\n",
              "      <td>Brazil</td>\n",
              "      <td>176</td>\n",
              "      <td>206</td>\n",
              "      <td>228</td>\n",
              "    </tr>\n",
              "    <tr>\n",
              "      <th>6</th>\n",
              "      <td>7</td>\n",
              "      <td>Nigeria</td>\n",
              "      <td>123</td>\n",
              "      <td>182</td>\n",
              "      <td>263</td>\n",
              "    </tr>\n",
              "    <tr>\n",
              "      <th>7</th>\n",
              "      <td>8</td>\n",
              "      <td>Bangladesh</td>\n",
              "      <td>131</td>\n",
              "      <td>161</td>\n",
              "      <td>186</td>\n",
              "    </tr>\n",
              "    <tr>\n",
              "      <th>8</th>\n",
              "      <td>9</td>\n",
              "      <td>Russia</td>\n",
              "      <td>146</td>\n",
              "      <td>146</td>\n",
              "      <td>149</td>\n",
              "    </tr>\n",
              "    <tr>\n",
              "      <th>9</th>\n",
              "      <td>10</td>\n",
              "      <td>Mexico</td>\n",
              "      <td>103</td>\n",
              "      <td>127</td>\n",
              "      <td>148</td>\n",
              "    </tr>\n",
              "    <tr>\n",
              "      <th>10</th>\n",
              "      <td>NaN</td>\n",
              "      <td>World total</td>\n",
              "      <td>6127</td>\n",
              "      <td>7349</td>\n",
              "      <td>8501</td>\n",
              "    </tr>\n",
              "    <tr>\n",
              "      <th>11</th>\n",
              "      <td>Notes: ^ 2030 = Medium variant. ^ China exclud...</td>\n",
              "      <td>Notes: ^ 2030 = Medium variant. ^ China exclud...</td>\n",
              "      <td>Notes: ^ 2030 = Medium variant. ^ China exclud...</td>\n",
              "      <td>Notes: ^ 2030 = Medium variant. ^ China exclud...</td>\n",
              "      <td>Notes: ^ 2030 = Medium variant. ^ China exclud...</td>\n",
              "    </tr>\n",
              "  </tbody>\n",
              "</table>\n",
              "</div>"
            ],
            "text/plain": [
              "        World population (millions, UN estimates)[14]  \\\n",
              "                                                    #   \n",
              "0                                                   1   \n",
              "1                                                   2   \n",
              "2                                                   3   \n",
              "3                                                   4   \n",
              "4                                                   5   \n",
              "5                                                   6   \n",
              "6                                                   7   \n",
              "7                                                   8   \n",
              "8                                                   9   \n",
              "9                                                  10   \n",
              "10                                                NaN   \n",
              "11  Notes: ^ 2030 = Medium variant. ^ China exclud...   \n",
              "\n",
              "                                                       \\\n",
              "                      Top ten most populous countries   \n",
              "0                                            China[B]   \n",
              "1                                               India   \n",
              "2                                       United States   \n",
              "3                                           Indonesia   \n",
              "4                                            Pakistan   \n",
              "5                                              Brazil   \n",
              "6                                             Nigeria   \n",
              "7                                          Bangladesh   \n",
              "8                                              Russia   \n",
              "9                                              Mexico   \n",
              "10                                        World total   \n",
              "11  Notes: ^ 2030 = Medium variant. ^ China exclud...   \n",
              "\n",
              "                                                       \\\n",
              "                                                 2000   \n",
              "0                                                1270   \n",
              "1                                                1053   \n",
              "2                                                 283   \n",
              "3                                                 212   \n",
              "4                                                 136   \n",
              "5                                                 176   \n",
              "6                                                 123   \n",
              "7                                                 131   \n",
              "8                                                 146   \n",
              "9                                                 103   \n",
              "10                                               6127   \n",
              "11  Notes: ^ 2030 = Medium variant. ^ China exclud...   \n",
              "\n",
              "                                                       \\\n",
              "                                                 2015   \n",
              "0                                                1376   \n",
              "1                                                1311   \n",
              "2                                                 322   \n",
              "3                                                 258   \n",
              "4                                                 208   \n",
              "5                                                 206   \n",
              "6                                                 182   \n",
              "7                                                 161   \n",
              "8                                                 146   \n",
              "9                                                 127   \n",
              "10                                               7349   \n",
              "11  Notes: ^ 2030 = Medium variant. ^ China exclud...   \n",
              "\n",
              "                                                       \n",
              "                                              2030[A]  \n",
              "0                                                1416  \n",
              "1                                                1528  \n",
              "2                                                 356  \n",
              "3                                                 295  \n",
              "4                                                 245  \n",
              "5                                                 228  \n",
              "6                                                 263  \n",
              "7                                                 186  \n",
              "8                                                 149  \n",
              "9                                                 148  \n",
              "10                                               8501  \n",
              "11  Notes: ^ 2030 = Medium variant. ^ China exclud...  "
            ]
          },
          "metadata": {
            "tags": []
          },
          "execution_count": 370
        }
      ]
    },
    {
      "cell_type": "code",
      "metadata": {
        "id": "-zEcPKoaKwjo",
        "outputId": "1d0e632c-dbc9-4682-b4b1-98ed0ab79673"
      },
      "source": [
        "tables[1].columns"
      ],
      "execution_count": null,
      "outputs": [
        {
          "output_type": "execute_result",
          "data": {
            "text/plain": [
              "MultiIndex([('World population (millions, UN estimates)[14]', ...),\n",
              "            ('World population (millions, UN estimates)[14]', ...),\n",
              "            ('World population (millions, UN estimates)[14]', ...),\n",
              "            ('World population (millions, UN estimates)[14]', ...),\n",
              "            ('World population (millions, UN estimates)[14]', ...)],\n",
              "           )"
            ]
          },
          "metadata": {
            "tags": []
          },
          "execution_count": 371
        }
      ]
    },
    {
      "cell_type": "code",
      "metadata": {
        "id": "G1aAfAC9Kwjo"
      },
      "source": [
        "#  Clean the data\n",
        "world_top_ten = tables[1]\n",
        "world_topten= world_top_ten[\"World population (millions, UN estimates)[14]\"]"
      ],
      "execution_count": null,
      "outputs": []
    },
    {
      "cell_type": "code",
      "metadata": {
        "id": "SDvFP8OZKwjo",
        "outputId": "8950e61b-d844-4f30-deac-d129d12be855"
      },
      "source": [
        "world_topten"
      ],
      "execution_count": null,
      "outputs": [
        {
          "output_type": "execute_result",
          "data": {
            "text/html": [
              "<div>\n",
              "<style scoped>\n",
              "    .dataframe tbody tr th:only-of-type {\n",
              "        vertical-align: middle;\n",
              "    }\n",
              "\n",
              "    .dataframe tbody tr th {\n",
              "        vertical-align: top;\n",
              "    }\n",
              "\n",
              "    .dataframe thead th {\n",
              "        text-align: right;\n",
              "    }\n",
              "</style>\n",
              "<table border=\"1\" class=\"dataframe\">\n",
              "  <thead>\n",
              "    <tr style=\"text-align: right;\">\n",
              "      <th></th>\n",
              "      <th>#</th>\n",
              "      <th>Top ten most populous countries</th>\n",
              "      <th>2000</th>\n",
              "      <th>2015</th>\n",
              "      <th>2030[A]</th>\n",
              "    </tr>\n",
              "  </thead>\n",
              "  <tbody>\n",
              "    <tr>\n",
              "      <th>0</th>\n",
              "      <td>1</td>\n",
              "      <td>China[B]</td>\n",
              "      <td>1270</td>\n",
              "      <td>1376</td>\n",
              "      <td>1416</td>\n",
              "    </tr>\n",
              "    <tr>\n",
              "      <th>1</th>\n",
              "      <td>2</td>\n",
              "      <td>India</td>\n",
              "      <td>1053</td>\n",
              "      <td>1311</td>\n",
              "      <td>1528</td>\n",
              "    </tr>\n",
              "    <tr>\n",
              "      <th>2</th>\n",
              "      <td>3</td>\n",
              "      <td>United States</td>\n",
              "      <td>283</td>\n",
              "      <td>322</td>\n",
              "      <td>356</td>\n",
              "    </tr>\n",
              "    <tr>\n",
              "      <th>3</th>\n",
              "      <td>4</td>\n",
              "      <td>Indonesia</td>\n",
              "      <td>212</td>\n",
              "      <td>258</td>\n",
              "      <td>295</td>\n",
              "    </tr>\n",
              "    <tr>\n",
              "      <th>4</th>\n",
              "      <td>5</td>\n",
              "      <td>Pakistan</td>\n",
              "      <td>136</td>\n",
              "      <td>208</td>\n",
              "      <td>245</td>\n",
              "    </tr>\n",
              "    <tr>\n",
              "      <th>5</th>\n",
              "      <td>6</td>\n",
              "      <td>Brazil</td>\n",
              "      <td>176</td>\n",
              "      <td>206</td>\n",
              "      <td>228</td>\n",
              "    </tr>\n",
              "    <tr>\n",
              "      <th>6</th>\n",
              "      <td>7</td>\n",
              "      <td>Nigeria</td>\n",
              "      <td>123</td>\n",
              "      <td>182</td>\n",
              "      <td>263</td>\n",
              "    </tr>\n",
              "    <tr>\n",
              "      <th>7</th>\n",
              "      <td>8</td>\n",
              "      <td>Bangladesh</td>\n",
              "      <td>131</td>\n",
              "      <td>161</td>\n",
              "      <td>186</td>\n",
              "    </tr>\n",
              "    <tr>\n",
              "      <th>8</th>\n",
              "      <td>9</td>\n",
              "      <td>Russia</td>\n",
              "      <td>146</td>\n",
              "      <td>146</td>\n",
              "      <td>149</td>\n",
              "    </tr>\n",
              "    <tr>\n",
              "      <th>9</th>\n",
              "      <td>10</td>\n",
              "      <td>Mexico</td>\n",
              "      <td>103</td>\n",
              "      <td>127</td>\n",
              "      <td>148</td>\n",
              "    </tr>\n",
              "    <tr>\n",
              "      <th>10</th>\n",
              "      <td>NaN</td>\n",
              "      <td>World total</td>\n",
              "      <td>6127</td>\n",
              "      <td>7349</td>\n",
              "      <td>8501</td>\n",
              "    </tr>\n",
              "    <tr>\n",
              "      <th>11</th>\n",
              "      <td>Notes: ^ 2030 = Medium variant. ^ China exclud...</td>\n",
              "      <td>Notes: ^ 2030 = Medium variant. ^ China exclud...</td>\n",
              "      <td>Notes: ^ 2030 = Medium variant. ^ China exclud...</td>\n",
              "      <td>Notes: ^ 2030 = Medium variant. ^ China exclud...</td>\n",
              "      <td>Notes: ^ 2030 = Medium variant. ^ China exclud...</td>\n",
              "    </tr>\n",
              "  </tbody>\n",
              "</table>\n",
              "</div>"
            ],
            "text/plain": [
              "                                                    #  \\\n",
              "0                                                   1   \n",
              "1                                                   2   \n",
              "2                                                   3   \n",
              "3                                                   4   \n",
              "4                                                   5   \n",
              "5                                                   6   \n",
              "6                                                   7   \n",
              "7                                                   8   \n",
              "8                                                   9   \n",
              "9                                                  10   \n",
              "10                                                NaN   \n",
              "11  Notes: ^ 2030 = Medium variant. ^ China exclud...   \n",
              "\n",
              "                      Top ten most populous countries  \\\n",
              "0                                            China[B]   \n",
              "1                                               India   \n",
              "2                                       United States   \n",
              "3                                           Indonesia   \n",
              "4                                            Pakistan   \n",
              "5                                              Brazil   \n",
              "6                                             Nigeria   \n",
              "7                                          Bangladesh   \n",
              "8                                              Russia   \n",
              "9                                              Mexico   \n",
              "10                                        World total   \n",
              "11  Notes: ^ 2030 = Medium variant. ^ China exclud...   \n",
              "\n",
              "                                                 2000  \\\n",
              "0                                                1270   \n",
              "1                                                1053   \n",
              "2                                                 283   \n",
              "3                                                 212   \n",
              "4                                                 136   \n",
              "5                                                 176   \n",
              "6                                                 123   \n",
              "7                                                 131   \n",
              "8                                                 146   \n",
              "9                                                 103   \n",
              "10                                               6127   \n",
              "11  Notes: ^ 2030 = Medium variant. ^ China exclud...   \n",
              "\n",
              "                                                 2015  \\\n",
              "0                                                1376   \n",
              "1                                                1311   \n",
              "2                                                 322   \n",
              "3                                                 258   \n",
              "4                                                 208   \n",
              "5                                                 206   \n",
              "6                                                 182   \n",
              "7                                                 161   \n",
              "8                                                 146   \n",
              "9                                                 127   \n",
              "10                                               7349   \n",
              "11  Notes: ^ 2030 = Medium variant. ^ China exclud...   \n",
              "\n",
              "                                              2030[A]  \n",
              "0                                                1416  \n",
              "1                                                1528  \n",
              "2                                                 356  \n",
              "3                                                 295  \n",
              "4                                                 245  \n",
              "5                                                 228  \n",
              "6                                                 263  \n",
              "7                                                 186  \n",
              "8                                                 149  \n",
              "9                                                 148  \n",
              "10                                               8501  \n",
              "11  Notes: ^ 2030 = Medium variant. ^ China exclud...  "
            ]
          },
          "metadata": {
            "tags": []
          },
          "execution_count": 373
        }
      ]
    },
    {
      "cell_type": "code",
      "metadata": {
        "id": "Ceao9TxiKwjo",
        "outputId": "6475fc96-1c81-4001-8cfc-501f2d8de858"
      },
      "source": [
        "# Drop the 11t row\n",
        "world_topten = world_topten.drop(11,axis=0)\n",
        "world_topten"
      ],
      "execution_count": null,
      "outputs": [
        {
          "output_type": "execute_result",
          "data": {
            "text/html": [
              "<div>\n",
              "<style scoped>\n",
              "    .dataframe tbody tr th:only-of-type {\n",
              "        vertical-align: middle;\n",
              "    }\n",
              "\n",
              "    .dataframe tbody tr th {\n",
              "        vertical-align: top;\n",
              "    }\n",
              "\n",
              "    .dataframe thead th {\n",
              "        text-align: right;\n",
              "    }\n",
              "</style>\n",
              "<table border=\"1\" class=\"dataframe\">\n",
              "  <thead>\n",
              "    <tr style=\"text-align: right;\">\n",
              "      <th></th>\n",
              "      <th>#</th>\n",
              "      <th>Top ten most populous countries</th>\n",
              "      <th>2000</th>\n",
              "      <th>2015</th>\n",
              "      <th>2030[A]</th>\n",
              "    </tr>\n",
              "  </thead>\n",
              "  <tbody>\n",
              "    <tr>\n",
              "      <th>0</th>\n",
              "      <td>1</td>\n",
              "      <td>China[B]</td>\n",
              "      <td>1270</td>\n",
              "      <td>1376</td>\n",
              "      <td>1416</td>\n",
              "    </tr>\n",
              "    <tr>\n",
              "      <th>1</th>\n",
              "      <td>2</td>\n",
              "      <td>India</td>\n",
              "      <td>1053</td>\n",
              "      <td>1311</td>\n",
              "      <td>1528</td>\n",
              "    </tr>\n",
              "    <tr>\n",
              "      <th>2</th>\n",
              "      <td>3</td>\n",
              "      <td>United States</td>\n",
              "      <td>283</td>\n",
              "      <td>322</td>\n",
              "      <td>356</td>\n",
              "    </tr>\n",
              "    <tr>\n",
              "      <th>3</th>\n",
              "      <td>4</td>\n",
              "      <td>Indonesia</td>\n",
              "      <td>212</td>\n",
              "      <td>258</td>\n",
              "      <td>295</td>\n",
              "    </tr>\n",
              "    <tr>\n",
              "      <th>4</th>\n",
              "      <td>5</td>\n",
              "      <td>Pakistan</td>\n",
              "      <td>136</td>\n",
              "      <td>208</td>\n",
              "      <td>245</td>\n",
              "    </tr>\n",
              "    <tr>\n",
              "      <th>5</th>\n",
              "      <td>6</td>\n",
              "      <td>Brazil</td>\n",
              "      <td>176</td>\n",
              "      <td>206</td>\n",
              "      <td>228</td>\n",
              "    </tr>\n",
              "    <tr>\n",
              "      <th>6</th>\n",
              "      <td>7</td>\n",
              "      <td>Nigeria</td>\n",
              "      <td>123</td>\n",
              "      <td>182</td>\n",
              "      <td>263</td>\n",
              "    </tr>\n",
              "    <tr>\n",
              "      <th>7</th>\n",
              "      <td>8</td>\n",
              "      <td>Bangladesh</td>\n",
              "      <td>131</td>\n",
              "      <td>161</td>\n",
              "      <td>186</td>\n",
              "    </tr>\n",
              "    <tr>\n",
              "      <th>8</th>\n",
              "      <td>9</td>\n",
              "      <td>Russia</td>\n",
              "      <td>146</td>\n",
              "      <td>146</td>\n",
              "      <td>149</td>\n",
              "    </tr>\n",
              "    <tr>\n",
              "      <th>9</th>\n",
              "      <td>10</td>\n",
              "      <td>Mexico</td>\n",
              "      <td>103</td>\n",
              "      <td>127</td>\n",
              "      <td>148</td>\n",
              "    </tr>\n",
              "    <tr>\n",
              "      <th>10</th>\n",
              "      <td>NaN</td>\n",
              "      <td>World total</td>\n",
              "      <td>6127</td>\n",
              "      <td>7349</td>\n",
              "      <td>8501</td>\n",
              "    </tr>\n",
              "  </tbody>\n",
              "</table>\n",
              "</div>"
            ],
            "text/plain": [
              "      # Top ten most populous countries  2000  2015 2030[A]\n",
              "0     1                        China[B]  1270  1376    1416\n",
              "1     2                           India  1053  1311    1528\n",
              "2     3                   United States   283   322     356\n",
              "3     4                       Indonesia   212   258     295\n",
              "4     5                        Pakistan   136   208     245\n",
              "5     6                          Brazil   176   206     228\n",
              "6     7                         Nigeria   123   182     263\n",
              "7     8                      Bangladesh   131   161     186\n",
              "8     9                          Russia   146   146     149\n",
              "9    10                          Mexico   103   127     148\n",
              "10  NaN                     World total  6127  7349    8501"
            ]
          },
          "metadata": {
            "tags": []
          },
          "execution_count": 374
        }
      ]
    },
    {
      "cell_type": "code",
      "metadata": {
        "id": "EPcxHs_wKwjo",
        "outputId": "1b2137bf-2f68-412c-e031-d356e2e77fec"
      },
      "source": [
        "# Drop the # column its just an index\n",
        "world_topten = world_topten.drop(\"#\",axis=1)\n",
        "world_topten"
      ],
      "execution_count": null,
      "outputs": [
        {
          "output_type": "execute_result",
          "data": {
            "text/html": [
              "<div>\n",
              "<style scoped>\n",
              "    .dataframe tbody tr th:only-of-type {\n",
              "        vertical-align: middle;\n",
              "    }\n",
              "\n",
              "    .dataframe tbody tr th {\n",
              "        vertical-align: top;\n",
              "    }\n",
              "\n",
              "    .dataframe thead th {\n",
              "        text-align: right;\n",
              "    }\n",
              "</style>\n",
              "<table border=\"1\" class=\"dataframe\">\n",
              "  <thead>\n",
              "    <tr style=\"text-align: right;\">\n",
              "      <th></th>\n",
              "      <th>Top ten most populous countries</th>\n",
              "      <th>2000</th>\n",
              "      <th>2015</th>\n",
              "      <th>2030[A]</th>\n",
              "    </tr>\n",
              "  </thead>\n",
              "  <tbody>\n",
              "    <tr>\n",
              "      <th>0</th>\n",
              "      <td>China[B]</td>\n",
              "      <td>1270</td>\n",
              "      <td>1376</td>\n",
              "      <td>1416</td>\n",
              "    </tr>\n",
              "    <tr>\n",
              "      <th>1</th>\n",
              "      <td>India</td>\n",
              "      <td>1053</td>\n",
              "      <td>1311</td>\n",
              "      <td>1528</td>\n",
              "    </tr>\n",
              "    <tr>\n",
              "      <th>2</th>\n",
              "      <td>United States</td>\n",
              "      <td>283</td>\n",
              "      <td>322</td>\n",
              "      <td>356</td>\n",
              "    </tr>\n",
              "    <tr>\n",
              "      <th>3</th>\n",
              "      <td>Indonesia</td>\n",
              "      <td>212</td>\n",
              "      <td>258</td>\n",
              "      <td>295</td>\n",
              "    </tr>\n",
              "    <tr>\n",
              "      <th>4</th>\n",
              "      <td>Pakistan</td>\n",
              "      <td>136</td>\n",
              "      <td>208</td>\n",
              "      <td>245</td>\n",
              "    </tr>\n",
              "    <tr>\n",
              "      <th>5</th>\n",
              "      <td>Brazil</td>\n",
              "      <td>176</td>\n",
              "      <td>206</td>\n",
              "      <td>228</td>\n",
              "    </tr>\n",
              "    <tr>\n",
              "      <th>6</th>\n",
              "      <td>Nigeria</td>\n",
              "      <td>123</td>\n",
              "      <td>182</td>\n",
              "      <td>263</td>\n",
              "    </tr>\n",
              "    <tr>\n",
              "      <th>7</th>\n",
              "      <td>Bangladesh</td>\n",
              "      <td>131</td>\n",
              "      <td>161</td>\n",
              "      <td>186</td>\n",
              "    </tr>\n",
              "    <tr>\n",
              "      <th>8</th>\n",
              "      <td>Russia</td>\n",
              "      <td>146</td>\n",
              "      <td>146</td>\n",
              "      <td>149</td>\n",
              "    </tr>\n",
              "    <tr>\n",
              "      <th>9</th>\n",
              "      <td>Mexico</td>\n",
              "      <td>103</td>\n",
              "      <td>127</td>\n",
              "      <td>148</td>\n",
              "    </tr>\n",
              "    <tr>\n",
              "      <th>10</th>\n",
              "      <td>World total</td>\n",
              "      <td>6127</td>\n",
              "      <td>7349</td>\n",
              "      <td>8501</td>\n",
              "    </tr>\n",
              "  </tbody>\n",
              "</table>\n",
              "</div>"
            ],
            "text/plain": [
              "   Top ten most populous countries  2000  2015 2030[A]\n",
              "0                         China[B]  1270  1376    1416\n",
              "1                            India  1053  1311    1528\n",
              "2                    United States   283   322     356\n",
              "3                        Indonesia   212   258     295\n",
              "4                         Pakistan   136   208     245\n",
              "5                           Brazil   176   206     228\n",
              "6                          Nigeria   123   182     263\n",
              "7                       Bangladesh   131   161     186\n",
              "8                           Russia   146   146     149\n",
              "9                           Mexico   103   127     148\n",
              "10                     World total  6127  7349    8501"
            ]
          },
          "metadata": {
            "tags": []
          },
          "execution_count": 375
        }
      ]
    },
    {
      "cell_type": "code",
      "metadata": {
        "id": "joIa95gfKwjp"
      },
      "source": [
        "# Rename the columns for ease accessible\n",
        "world_topten.columns = [\"Country\",\"2000\",\"2015\",\"2030 Est.\"]"
      ],
      "execution_count": null,
      "outputs": []
    },
    {
      "cell_type": "code",
      "metadata": {
        "id": "_u3eE-MXKwjp",
        "outputId": "827eb90d-3c85-4d31-934b-f9a5aa1061cd"
      },
      "source": [
        "world_topten"
      ],
      "execution_count": null,
      "outputs": [
        {
          "output_type": "execute_result",
          "data": {
            "text/html": [
              "<div>\n",
              "<style scoped>\n",
              "    .dataframe tbody tr th:only-of-type {\n",
              "        vertical-align: middle;\n",
              "    }\n",
              "\n",
              "    .dataframe tbody tr th {\n",
              "        vertical-align: top;\n",
              "    }\n",
              "\n",
              "    .dataframe thead th {\n",
              "        text-align: right;\n",
              "    }\n",
              "</style>\n",
              "<table border=\"1\" class=\"dataframe\">\n",
              "  <thead>\n",
              "    <tr style=\"text-align: right;\">\n",
              "      <th></th>\n",
              "      <th>Country</th>\n",
              "      <th>2000</th>\n",
              "      <th>2015</th>\n",
              "      <th>2030 Est.</th>\n",
              "    </tr>\n",
              "  </thead>\n",
              "  <tbody>\n",
              "    <tr>\n",
              "      <th>0</th>\n",
              "      <td>China[B]</td>\n",
              "      <td>1270</td>\n",
              "      <td>1376</td>\n",
              "      <td>1416</td>\n",
              "    </tr>\n",
              "    <tr>\n",
              "      <th>1</th>\n",
              "      <td>India</td>\n",
              "      <td>1053</td>\n",
              "      <td>1311</td>\n",
              "      <td>1528</td>\n",
              "    </tr>\n",
              "    <tr>\n",
              "      <th>2</th>\n",
              "      <td>United States</td>\n",
              "      <td>283</td>\n",
              "      <td>322</td>\n",
              "      <td>356</td>\n",
              "    </tr>\n",
              "    <tr>\n",
              "      <th>3</th>\n",
              "      <td>Indonesia</td>\n",
              "      <td>212</td>\n",
              "      <td>258</td>\n",
              "      <td>295</td>\n",
              "    </tr>\n",
              "    <tr>\n",
              "      <th>4</th>\n",
              "      <td>Pakistan</td>\n",
              "      <td>136</td>\n",
              "      <td>208</td>\n",
              "      <td>245</td>\n",
              "    </tr>\n",
              "    <tr>\n",
              "      <th>5</th>\n",
              "      <td>Brazil</td>\n",
              "      <td>176</td>\n",
              "      <td>206</td>\n",
              "      <td>228</td>\n",
              "    </tr>\n",
              "    <tr>\n",
              "      <th>6</th>\n",
              "      <td>Nigeria</td>\n",
              "      <td>123</td>\n",
              "      <td>182</td>\n",
              "      <td>263</td>\n",
              "    </tr>\n",
              "    <tr>\n",
              "      <th>7</th>\n",
              "      <td>Bangladesh</td>\n",
              "      <td>131</td>\n",
              "      <td>161</td>\n",
              "      <td>186</td>\n",
              "    </tr>\n",
              "    <tr>\n",
              "      <th>8</th>\n",
              "      <td>Russia</td>\n",
              "      <td>146</td>\n",
              "      <td>146</td>\n",
              "      <td>149</td>\n",
              "    </tr>\n",
              "    <tr>\n",
              "      <th>9</th>\n",
              "      <td>Mexico</td>\n",
              "      <td>103</td>\n",
              "      <td>127</td>\n",
              "      <td>148</td>\n",
              "    </tr>\n",
              "    <tr>\n",
              "      <th>10</th>\n",
              "      <td>World total</td>\n",
              "      <td>6127</td>\n",
              "      <td>7349</td>\n",
              "      <td>8501</td>\n",
              "    </tr>\n",
              "  </tbody>\n",
              "</table>\n",
              "</div>"
            ],
            "text/plain": [
              "          Country  2000  2015 2030 Est.\n",
              "0        China[B]  1270  1376      1416\n",
              "1           India  1053  1311      1528\n",
              "2   United States   283   322       356\n",
              "3       Indonesia   212   258       295\n",
              "4        Pakistan   136   208       245\n",
              "5          Brazil   176   206       228\n",
              "6         Nigeria   123   182       263\n",
              "7      Bangladesh   131   161       186\n",
              "8          Russia   146   146       149\n",
              "9          Mexico   103   127       148\n",
              "10    World total  6127  7349      8501"
            ]
          },
          "metadata": {
            "tags": []
          },
          "execution_count": 377
        }
      ]
    },
    {
      "cell_type": "code",
      "metadata": {
        "id": "he2Y8wzpKwjp"
      },
      "source": [
        "world_topten[\"Country\"][0] = world_topten[\"Country\"][0].replace(\"China[B]\",\"China\")"
      ],
      "execution_count": null,
      "outputs": []
    },
    {
      "cell_type": "code",
      "metadata": {
        "id": "ap_3eSFGKwjp",
        "outputId": "ec1d6cad-db00-4be8-c453-00dc0e548a50"
      },
      "source": [
        "world_topten"
      ],
      "execution_count": null,
      "outputs": [
        {
          "output_type": "execute_result",
          "data": {
            "text/html": [
              "<div>\n",
              "<style scoped>\n",
              "    .dataframe tbody tr th:only-of-type {\n",
              "        vertical-align: middle;\n",
              "    }\n",
              "\n",
              "    .dataframe tbody tr th {\n",
              "        vertical-align: top;\n",
              "    }\n",
              "\n",
              "    .dataframe thead th {\n",
              "        text-align: right;\n",
              "    }\n",
              "</style>\n",
              "<table border=\"1\" class=\"dataframe\">\n",
              "  <thead>\n",
              "    <tr style=\"text-align: right;\">\n",
              "      <th></th>\n",
              "      <th>Country</th>\n",
              "      <th>2000</th>\n",
              "      <th>2015</th>\n",
              "      <th>2030 Est.</th>\n",
              "    </tr>\n",
              "  </thead>\n",
              "  <tbody>\n",
              "    <tr>\n",
              "      <th>0</th>\n",
              "      <td>China</td>\n",
              "      <td>1270</td>\n",
              "      <td>1376</td>\n",
              "      <td>1416</td>\n",
              "    </tr>\n",
              "    <tr>\n",
              "      <th>1</th>\n",
              "      <td>India</td>\n",
              "      <td>1053</td>\n",
              "      <td>1311</td>\n",
              "      <td>1528</td>\n",
              "    </tr>\n",
              "    <tr>\n",
              "      <th>2</th>\n",
              "      <td>United States</td>\n",
              "      <td>283</td>\n",
              "      <td>322</td>\n",
              "      <td>356</td>\n",
              "    </tr>\n",
              "    <tr>\n",
              "      <th>3</th>\n",
              "      <td>Indonesia</td>\n",
              "      <td>212</td>\n",
              "      <td>258</td>\n",
              "      <td>295</td>\n",
              "    </tr>\n",
              "    <tr>\n",
              "      <th>4</th>\n",
              "      <td>Pakistan</td>\n",
              "      <td>136</td>\n",
              "      <td>208</td>\n",
              "      <td>245</td>\n",
              "    </tr>\n",
              "    <tr>\n",
              "      <th>5</th>\n",
              "      <td>Brazil</td>\n",
              "      <td>176</td>\n",
              "      <td>206</td>\n",
              "      <td>228</td>\n",
              "    </tr>\n",
              "    <tr>\n",
              "      <th>6</th>\n",
              "      <td>Nigeria</td>\n",
              "      <td>123</td>\n",
              "      <td>182</td>\n",
              "      <td>263</td>\n",
              "    </tr>\n",
              "    <tr>\n",
              "      <th>7</th>\n",
              "      <td>Bangladesh</td>\n",
              "      <td>131</td>\n",
              "      <td>161</td>\n",
              "      <td>186</td>\n",
              "    </tr>\n",
              "    <tr>\n",
              "      <th>8</th>\n",
              "      <td>Russia</td>\n",
              "      <td>146</td>\n",
              "      <td>146</td>\n",
              "      <td>149</td>\n",
              "    </tr>\n",
              "    <tr>\n",
              "      <th>9</th>\n",
              "      <td>Mexico</td>\n",
              "      <td>103</td>\n",
              "      <td>127</td>\n",
              "      <td>148</td>\n",
              "    </tr>\n",
              "    <tr>\n",
              "      <th>10</th>\n",
              "      <td>World total</td>\n",
              "      <td>6127</td>\n",
              "      <td>7349</td>\n",
              "      <td>8501</td>\n",
              "    </tr>\n",
              "  </tbody>\n",
              "</table>\n",
              "</div>"
            ],
            "text/plain": [
              "          Country  2000  2015 2030 Est.\n",
              "0           China  1270  1376      1416\n",
              "1           India  1053  1311      1528\n",
              "2   United States   283   322       356\n",
              "3       Indonesia   212   258       295\n",
              "4        Pakistan   136   208       245\n",
              "5          Brazil   176   206       228\n",
              "6         Nigeria   123   182       263\n",
              "7      Bangladesh   131   161       186\n",
              "8          Russia   146   146       149\n",
              "9          Mexico   103   127       148\n",
              "10    World total  6127  7349      8501"
            ]
          },
          "metadata": {
            "tags": []
          },
          "execution_count": 379
        }
      ]
    },
    {
      "cell_type": "code",
      "metadata": {
        "id": "IMuFSagoKwjp"
      },
      "source": [
        "# If you dont pass index =False, it will apply index on index\n",
        "world_topten.to_html(\"sample_table.html\",index=False)"
      ],
      "execution_count": null,
      "outputs": []
    },
    {
      "cell_type": "markdown",
      "metadata": {
        "id": "hSFVSTqfKwjp"
      },
      "source": [
        "# Reading Excel files"
      ]
    },
    {
      "cell_type": "markdown",
      "metadata": {
        "id": "Oswlt66kKwjp"
      },
      "source": [
        "Note: Pandas can only read and write in raw data, it s not able to read in macros, visualizations, or formuls created inside of spreadsheets."
      ]
    },
    {
      "cell_type": "markdown",
      "metadata": {
        "id": "dc5iJHMiKwjp"
      },
      "source": [
        "Pandas treats an Excel workbook as a dictionary, with the key being the sheet name and the value being the DataFrame representing the sheet itslef"
      ]
    },
    {
      "cell_type": "code",
      "metadata": {
        "id": "moypnhULKwjp"
      },
      "source": [
        "import pandas as pd"
      ],
      "execution_count": null,
      "outputs": []
    },
    {
      "cell_type": "code",
      "metadata": {
        "id": "MyOy9IdHKwjp"
      },
      "source": [
        "# create dataframe and save to as excel file\n",
        "df = {\"a\":[0,4,8,12],\"b\":[1,5,9,13],\"c\":[2,6,10,14],\"d\":[3,7,11,15]}\n",
        "df = pd.DataFrame(df)\n",
        "df.to_excel(\"my_excel.xlsx\",sheet_name=\"First_Sheet\",index=False)"
      ],
      "execution_count": null,
      "outputs": []
    },
    {
      "cell_type": "code",
      "metadata": {
        "id": "6CBAeboPKwjp",
        "outputId": "a5a06aff-1b4d-4a54-d0ab-683831ecf58d"
      },
      "source": [
        "# Read the excel file\n",
        "df = pd.read_excel(\"my_excel.xlsx\",sheet_name=\"First_Sheet\")\n",
        "df"
      ],
      "execution_count": null,
      "outputs": [
        {
          "output_type": "execute_result",
          "data": {
            "text/html": [
              "<div>\n",
              "<style scoped>\n",
              "    .dataframe tbody tr th:only-of-type {\n",
              "        vertical-align: middle;\n",
              "    }\n",
              "\n",
              "    .dataframe tbody tr th {\n",
              "        vertical-align: top;\n",
              "    }\n",
              "\n",
              "    .dataframe thead th {\n",
              "        text-align: right;\n",
              "    }\n",
              "</style>\n",
              "<table border=\"1\" class=\"dataframe\">\n",
              "  <thead>\n",
              "    <tr style=\"text-align: right;\">\n",
              "      <th></th>\n",
              "      <th>a</th>\n",
              "      <th>b</th>\n",
              "      <th>c</th>\n",
              "      <th>d</th>\n",
              "    </tr>\n",
              "  </thead>\n",
              "  <tbody>\n",
              "    <tr>\n",
              "      <th>0</th>\n",
              "      <td>0</td>\n",
              "      <td>1</td>\n",
              "      <td>2</td>\n",
              "      <td>3</td>\n",
              "    </tr>\n",
              "    <tr>\n",
              "      <th>1</th>\n",
              "      <td>4</td>\n",
              "      <td>5</td>\n",
              "      <td>6</td>\n",
              "      <td>7</td>\n",
              "    </tr>\n",
              "    <tr>\n",
              "      <th>2</th>\n",
              "      <td>8</td>\n",
              "      <td>9</td>\n",
              "      <td>10</td>\n",
              "      <td>11</td>\n",
              "    </tr>\n",
              "    <tr>\n",
              "      <th>3</th>\n",
              "      <td>12</td>\n",
              "      <td>13</td>\n",
              "      <td>14</td>\n",
              "      <td>15</td>\n",
              "    </tr>\n",
              "  </tbody>\n",
              "</table>\n",
              "</div>"
            ],
            "text/plain": [
              "    a   b   c   d\n",
              "0   0   1   2   3\n",
              "1   4   5   6   7\n",
              "2   8   9  10  11\n",
              "3  12  13  14  15"
            ]
          },
          "metadata": {
            "tags": []
          },
          "execution_count": 535
        }
      ]
    },
    {
      "cell_type": "code",
      "metadata": {
        "id": "u-P5XMpKKwjp",
        "outputId": "d3143adb-7f6c-452e-af44-4ec6e6a32136"
      },
      "source": [
        "# To know the sheet names inside the excel\n",
        "wb = pd.ExcelFile(\"my_excel.xlsx\")\n",
        "wb.sheet_names"
      ],
      "execution_count": null,
      "outputs": [
        {
          "output_type": "execute_result",
          "data": {
            "text/plain": [
              "['First_Sheet']"
            ]
          },
          "metadata": {
            "tags": []
          },
          "execution_count": 536
        }
      ]
    },
    {
      "cell_type": "code",
      "metadata": {
        "id": "C-mFL7hMKwjp",
        "outputId": "1c75424a-e345-49b6-b97f-4c939452dbb1"
      },
      "source": [
        "# 2nd method\n",
        "excel_sheet_dict = pd.read_excel(\"my_excel.xlsx\",sheet_name=None)\n",
        "type(excel_sheet_dict)"
      ],
      "execution_count": null,
      "outputs": [
        {
          "output_type": "execute_result",
          "data": {
            "text/plain": [
              "dict"
            ]
          },
          "metadata": {
            "tags": []
          },
          "execution_count": 537
        }
      ]
    },
    {
      "cell_type": "code",
      "metadata": {
        "id": "SCSDPpYnKwjp",
        "outputId": "7e64f386-69e8-4db0-e963-22dff5f83a08"
      },
      "source": [
        "excel_sheet_dict.keys()"
      ],
      "execution_count": null,
      "outputs": [
        {
          "output_type": "execute_result",
          "data": {
            "text/plain": [
              "dict_keys(['First_Sheet'])"
            ]
          },
          "metadata": {
            "tags": []
          },
          "execution_count": 388
        }
      ]
    },
    {
      "cell_type": "code",
      "metadata": {
        "id": "UHxzIXZDKwjp",
        "outputId": "d35cc262-86e6-4df1-c396-784c0c44524a"
      },
      "source": [
        "excel_sheet_dict"
      ],
      "execution_count": null,
      "outputs": [
        {
          "output_type": "execute_result",
          "data": {
            "text/plain": [
              "{'First_Sheet':     a   b   c   d\n",
              " 0   0   1   2   3\n",
              " 1   4   5   6   7\n",
              " 2   8   9  10  11\n",
              " 3  12  13  14  15}"
            ]
          },
          "metadata": {
            "tags": []
          },
          "execution_count": 539
        }
      ]
    },
    {
      "cell_type": "code",
      "metadata": {
        "id": "i_JjNYIJKwjp",
        "outputId": "47dd1a53-4ca2-43f9-d016-32ab20a550c5"
      },
      "source": [
        "our_df = excel_sheet_dict[\"First_Sheet\"]\n",
        "our_df"
      ],
      "execution_count": null,
      "outputs": [
        {
          "output_type": "execute_result",
          "data": {
            "text/html": [
              "<div>\n",
              "<style scoped>\n",
              "    .dataframe tbody tr th:only-of-type {\n",
              "        vertical-align: middle;\n",
              "    }\n",
              "\n",
              "    .dataframe tbody tr th {\n",
              "        vertical-align: top;\n",
              "    }\n",
              "\n",
              "    .dataframe thead th {\n",
              "        text-align: right;\n",
              "    }\n",
              "</style>\n",
              "<table border=\"1\" class=\"dataframe\">\n",
              "  <thead>\n",
              "    <tr style=\"text-align: right;\">\n",
              "      <th></th>\n",
              "      <th>a</th>\n",
              "      <th>b</th>\n",
              "      <th>c</th>\n",
              "      <th>d</th>\n",
              "    </tr>\n",
              "  </thead>\n",
              "  <tbody>\n",
              "    <tr>\n",
              "      <th>0</th>\n",
              "      <td>0</td>\n",
              "      <td>1</td>\n",
              "      <td>2</td>\n",
              "      <td>3</td>\n",
              "    </tr>\n",
              "    <tr>\n",
              "      <th>1</th>\n",
              "      <td>4</td>\n",
              "      <td>5</td>\n",
              "      <td>6</td>\n",
              "      <td>7</td>\n",
              "    </tr>\n",
              "    <tr>\n",
              "      <th>2</th>\n",
              "      <td>8</td>\n",
              "      <td>9</td>\n",
              "      <td>10</td>\n",
              "      <td>11</td>\n",
              "    </tr>\n",
              "    <tr>\n",
              "      <th>3</th>\n",
              "      <td>12</td>\n",
              "      <td>13</td>\n",
              "      <td>14</td>\n",
              "      <td>15</td>\n",
              "    </tr>\n",
              "  </tbody>\n",
              "</table>\n",
              "</div>"
            ],
            "text/plain": [
              "    a   b   c   d\n",
              "0   0   1   2   3\n",
              "1   4   5   6   7\n",
              "2   8   9  10  11\n",
              "3  12  13  14  15"
            ]
          },
          "metadata": {
            "tags": []
          },
          "execution_count": 538
        }
      ]
    },
    {
      "cell_type": "code",
      "metadata": {
        "id": "xpRBW3CkKwjp"
      },
      "source": [
        "# To save the Excel file\n",
        "our_df.to_excel(\"excel_example.xlsx\",sheet_name=\"First_Sheet\",index=False)"
      ],
      "execution_count": null,
      "outputs": []
    },
    {
      "cell_type": "markdown",
      "metadata": {
        "id": "pYJKWJ5UKwjp"
      },
      "source": [
        "# Read the data SQL databases"
      ]
    },
    {
      "cell_type": "markdown",
      "metadata": {
        "id": "cnOF5vKEKwjp"
      },
      "source": [
        "Pandas can read and write to various Sql engines through the use of a driver and the sqlalchemy python library"
      ]
    },
    {
      "cell_type": "markdown",
      "metadata": {
        "id": "ZEEaeN_cKwjp"
      },
      "source": [
        "Install the appropriate Python driver library-\n",
        "\n",
        "1) PostgreSQL - psycopg2\n",
        "\n",
        "2) MySQL - pymysql\n",
        "\n",
        "3) MS SQL Server - pyodbc"
      ]
    },
    {
      "cell_type": "markdown",
      "metadata": {
        "id": "0Wyi82K5Kwjp"
      },
      "source": [
        "Example SQL Database (temporary in your RAM)\n",
        "You will need to install sqlalchemy with:\n",
        "\n",
        "pip install sqlalchemy\n",
        "\n",
        "https://docs.sqlalchemy.org/en/13/core/connections.html\n",
        "\n",
        "check the above link to read your own SQL datasets"
      ]
    },
    {
      "cell_type": "code",
      "metadata": {
        "id": "kn85isrpKwjp"
      },
      "source": [
        "import pandas as pd"
      ],
      "execution_count": null,
      "outputs": []
    },
    {
      "cell_type": "code",
      "metadata": {
        "id": "kt6eWfETKwjp"
      },
      "source": [
        "from sqlalchemy import create_engine"
      ],
      "execution_count": null,
      "outputs": []
    },
    {
      "cell_type": "code",
      "metadata": {
        "id": "O8hbmxhPKwjp"
      },
      "source": [
        "# It temporarily creates the database in your computer memory \n",
        "temp_db = create_engine(\"sqlite:///:memory:\")"
      ],
      "execution_count": null,
      "outputs": []
    },
    {
      "cell_type": "code",
      "metadata": {
        "id": "ep-8NFoiKwjp",
        "outputId": "bc5f3888-143f-496a-bfce-372a8599435e"
      },
      "source": [
        "mydf = pd.DataFrame(data=np.random.randint(low=0,high=100,size=(4,4)),columns=[\"a\",\"b\",\"c\",\"d\"])\n",
        "mydf"
      ],
      "execution_count": null,
      "outputs": [
        {
          "output_type": "execute_result",
          "data": {
            "text/html": [
              "<div>\n",
              "<style scoped>\n",
              "    .dataframe tbody tr th:only-of-type {\n",
              "        vertical-align: middle;\n",
              "    }\n",
              "\n",
              "    .dataframe tbody tr th {\n",
              "        vertical-align: top;\n",
              "    }\n",
              "\n",
              "    .dataframe thead th {\n",
              "        text-align: right;\n",
              "    }\n",
              "</style>\n",
              "<table border=\"1\" class=\"dataframe\">\n",
              "  <thead>\n",
              "    <tr style=\"text-align: right;\">\n",
              "      <th></th>\n",
              "      <th>a</th>\n",
              "      <th>b</th>\n",
              "      <th>c</th>\n",
              "      <th>d</th>\n",
              "    </tr>\n",
              "  </thead>\n",
              "  <tbody>\n",
              "    <tr>\n",
              "      <th>0</th>\n",
              "      <td>57</td>\n",
              "      <td>86</td>\n",
              "      <td>67</td>\n",
              "      <td>8</td>\n",
              "    </tr>\n",
              "    <tr>\n",
              "      <th>1</th>\n",
              "      <td>47</td>\n",
              "      <td>70</td>\n",
              "      <td>39</td>\n",
              "      <td>53</td>\n",
              "    </tr>\n",
              "    <tr>\n",
              "      <th>2</th>\n",
              "      <td>5</td>\n",
              "      <td>40</td>\n",
              "      <td>88</td>\n",
              "      <td>58</td>\n",
              "    </tr>\n",
              "    <tr>\n",
              "      <th>3</th>\n",
              "      <td>12</td>\n",
              "      <td>70</td>\n",
              "      <td>5</td>\n",
              "      <td>82</td>\n",
              "    </tr>\n",
              "  </tbody>\n",
              "</table>\n",
              "</div>"
            ],
            "text/plain": [
              "    a   b   c   d\n",
              "0  57  86  67   8\n",
              "1  47  70  39  53\n",
              "2   5  40  88  58\n",
              "3  12  70   5  82"
            ]
          },
          "metadata": {
            "tags": []
          },
          "execution_count": 460
        }
      ]
    },
    {
      "cell_type": "code",
      "metadata": {
        "id": "AKa-7fahKwjp"
      },
      "source": [
        "# Save as SQL database\n",
        "# if you dont pass if_exist=\"replace\", you will get error when you run this code twice\n",
        "mydf.to_sql(name=\"new_table\",con=temp_db,if_exists=\"replace\",index=False)"
      ],
      "execution_count": null,
      "outputs": []
    },
    {
      "cell_type": "code",
      "metadata": {
        "id": "2wswyu_7Kwjp"
      },
      "source": [
        "mydf = pd.read_sql(sql=\"new_table\",con=temp_db)"
      ],
      "execution_count": null,
      "outputs": []
    },
    {
      "cell_type": "code",
      "metadata": {
        "id": "gDIHj_lJKwjp",
        "outputId": "2308af36-b988-48ff-ffa6-4ef16830a351"
      },
      "source": [
        "mydf"
      ],
      "execution_count": null,
      "outputs": [
        {
          "output_type": "execute_result",
          "data": {
            "text/html": [
              "<div>\n",
              "<style scoped>\n",
              "    .dataframe tbody tr th:only-of-type {\n",
              "        vertical-align: middle;\n",
              "    }\n",
              "\n",
              "    .dataframe tbody tr th {\n",
              "        vertical-align: top;\n",
              "    }\n",
              "\n",
              "    .dataframe thead th {\n",
              "        text-align: right;\n",
              "    }\n",
              "</style>\n",
              "<table border=\"1\" class=\"dataframe\">\n",
              "  <thead>\n",
              "    <tr style=\"text-align: right;\">\n",
              "      <th></th>\n",
              "      <th>a</th>\n",
              "      <th>b</th>\n",
              "      <th>c</th>\n",
              "      <th>d</th>\n",
              "    </tr>\n",
              "  </thead>\n",
              "  <tbody>\n",
              "    <tr>\n",
              "      <th>0</th>\n",
              "      <td>57</td>\n",
              "      <td>86</td>\n",
              "      <td>67</td>\n",
              "      <td>8</td>\n",
              "    </tr>\n",
              "    <tr>\n",
              "      <th>1</th>\n",
              "      <td>47</td>\n",
              "      <td>70</td>\n",
              "      <td>39</td>\n",
              "      <td>53</td>\n",
              "    </tr>\n",
              "    <tr>\n",
              "      <th>2</th>\n",
              "      <td>5</td>\n",
              "      <td>40</td>\n",
              "      <td>88</td>\n",
              "      <td>58</td>\n",
              "    </tr>\n",
              "    <tr>\n",
              "      <th>3</th>\n",
              "      <td>12</td>\n",
              "      <td>70</td>\n",
              "      <td>5</td>\n",
              "      <td>82</td>\n",
              "    </tr>\n",
              "  </tbody>\n",
              "</table>\n",
              "</div>"
            ],
            "text/plain": [
              "    a   b   c   d\n",
              "0  57  86  67   8\n",
              "1  47  70  39  53\n",
              "2   5  40  88  58\n",
              "3  12  70   5  82"
            ]
          },
          "metadata": {
            "tags": []
          },
          "execution_count": 474
        }
      ]
    },
    {
      "cell_type": "code",
      "metadata": {
        "id": "5XVaZ1QGKwjp",
        "outputId": "ffcc5d07-c31b-4f76-f345-d54492b061d2"
      },
      "source": [
        "# Read the SQL data\n",
        "pd.read_sql_query(sql=\"SELECT a,c FROM new_table\",con=temp_db)"
      ],
      "execution_count": null,
      "outputs": [
        {
          "output_type": "execute_result",
          "data": {
            "text/html": [
              "<div>\n",
              "<style scoped>\n",
              "    .dataframe tbody tr th:only-of-type {\n",
              "        vertical-align: middle;\n",
              "    }\n",
              "\n",
              "    .dataframe tbody tr th {\n",
              "        vertical-align: top;\n",
              "    }\n",
              "\n",
              "    .dataframe thead th {\n",
              "        text-align: right;\n",
              "    }\n",
              "</style>\n",
              "<table border=\"1\" class=\"dataframe\">\n",
              "  <thead>\n",
              "    <tr style=\"text-align: right;\">\n",
              "      <th></th>\n",
              "      <th>a</th>\n",
              "      <th>c</th>\n",
              "    </tr>\n",
              "  </thead>\n",
              "  <tbody>\n",
              "    <tr>\n",
              "      <th>0</th>\n",
              "      <td>57</td>\n",
              "      <td>67</td>\n",
              "    </tr>\n",
              "    <tr>\n",
              "      <th>1</th>\n",
              "      <td>47</td>\n",
              "      <td>39</td>\n",
              "    </tr>\n",
              "    <tr>\n",
              "      <th>2</th>\n",
              "      <td>5</td>\n",
              "      <td>88</td>\n",
              "    </tr>\n",
              "    <tr>\n",
              "      <th>3</th>\n",
              "      <td>12</td>\n",
              "      <td>5</td>\n",
              "    </tr>\n",
              "  </tbody>\n",
              "</table>\n",
              "</div>"
            ],
            "text/plain": [
              "    a   c\n",
              "0  57  67\n",
              "1  47  39\n",
              "2   5  88\n",
              "3  12   5"
            ]
          },
          "metadata": {
            "tags": []
          },
          "execution_count": 475
        }
      ]
    },
    {
      "cell_type": "code",
      "metadata": {
        "id": "cNt5vPpcKwjp",
        "outputId": "bca265d3-0c7f-464d-e8d6-4fad7b410281"
      },
      "source": [
        "# Using * ,we reads the whole data\n",
        "pd.read_sql_query(sql=\"SELECT * FROM new_table\",con=temp_db)"
      ],
      "execution_count": null,
      "outputs": [
        {
          "output_type": "execute_result",
          "data": {
            "text/html": [
              "<div>\n",
              "<style scoped>\n",
              "    .dataframe tbody tr th:only-of-type {\n",
              "        vertical-align: middle;\n",
              "    }\n",
              "\n",
              "    .dataframe tbody tr th {\n",
              "        vertical-align: top;\n",
              "    }\n",
              "\n",
              "    .dataframe thead th {\n",
              "        text-align: right;\n",
              "    }\n",
              "</style>\n",
              "<table border=\"1\" class=\"dataframe\">\n",
              "  <thead>\n",
              "    <tr style=\"text-align: right;\">\n",
              "      <th></th>\n",
              "      <th>a</th>\n",
              "      <th>b</th>\n",
              "      <th>c</th>\n",
              "      <th>d</th>\n",
              "    </tr>\n",
              "  </thead>\n",
              "  <tbody>\n",
              "    <tr>\n",
              "      <th>0</th>\n",
              "      <td>57</td>\n",
              "      <td>86</td>\n",
              "      <td>67</td>\n",
              "      <td>8</td>\n",
              "    </tr>\n",
              "    <tr>\n",
              "      <th>1</th>\n",
              "      <td>47</td>\n",
              "      <td>70</td>\n",
              "      <td>39</td>\n",
              "      <td>53</td>\n",
              "    </tr>\n",
              "    <tr>\n",
              "      <th>2</th>\n",
              "      <td>5</td>\n",
              "      <td>40</td>\n",
              "      <td>88</td>\n",
              "      <td>58</td>\n",
              "    </tr>\n",
              "    <tr>\n",
              "      <th>3</th>\n",
              "      <td>12</td>\n",
              "      <td>70</td>\n",
              "      <td>5</td>\n",
              "      <td>82</td>\n",
              "    </tr>\n",
              "  </tbody>\n",
              "</table>\n",
              "</div>"
            ],
            "text/plain": [
              "    a   b   c   d\n",
              "0  57  86  67   8\n",
              "1  47  70  39  53\n",
              "2   5  40  88  58\n",
              "3  12  70   5  82"
            ]
          },
          "metadata": {
            "tags": []
          },
          "execution_count": 476
        }
      ]
    },
    {
      "cell_type": "code",
      "metadata": {
        "id": "NGtpIxIcKwjp"
      },
      "source": [
        "# create cursor to make CRUD operations C-Create,R-Read, U-Update, D-Delete\n",
        "connection = temp_db.raw_connection()\n",
        "cur = connection.cursor()"
      ],
      "execution_count": null,
      "outputs": []
    },
    {
      "cell_type": "code",
      "metadata": {
        "id": "KB5fTHOMKwjp",
        "outputId": "1f9f0a77-ff97-4561-d5c0-7f352f437961"
      },
      "source": [
        "# Insert the data\n",
        "cur.execute(\"INSERT INTO new_table(a,b,c,d) VALUES(20,30,40,50)\")"
      ],
      "execution_count": null,
      "outputs": [
        {
          "output_type": "execute_result",
          "data": {
            "text/plain": [
              "<sqlite3.Cursor at 0x19911a900a0>"
            ]
          },
          "metadata": {
            "tags": []
          },
          "execution_count": 478
        }
      ]
    },
    {
      "cell_type": "code",
      "metadata": {
        "id": "JXwjiCtWKwjq"
      },
      "source": [
        "# commit with the inserted data\n",
        "connection.commit()"
      ],
      "execution_count": null,
      "outputs": []
    },
    {
      "cell_type": "code",
      "metadata": {
        "id": "AFn5o_vBKwjq",
        "outputId": "d1452e69-17e4-40c9-ed7c-89f5e28488f8"
      },
      "source": [
        "pd.read_sql_query(sql=\"SELECT * FROM new_table\",con=temp_db)"
      ],
      "execution_count": null,
      "outputs": [
        {
          "output_type": "execute_result",
          "data": {
            "text/html": [
              "<div>\n",
              "<style scoped>\n",
              "    .dataframe tbody tr th:only-of-type {\n",
              "        vertical-align: middle;\n",
              "    }\n",
              "\n",
              "    .dataframe tbody tr th {\n",
              "        vertical-align: top;\n",
              "    }\n",
              "\n",
              "    .dataframe thead th {\n",
              "        text-align: right;\n",
              "    }\n",
              "</style>\n",
              "<table border=\"1\" class=\"dataframe\">\n",
              "  <thead>\n",
              "    <tr style=\"text-align: right;\">\n",
              "      <th></th>\n",
              "      <th>a</th>\n",
              "      <th>b</th>\n",
              "      <th>c</th>\n",
              "      <th>d</th>\n",
              "    </tr>\n",
              "  </thead>\n",
              "  <tbody>\n",
              "    <tr>\n",
              "      <th>0</th>\n",
              "      <td>57</td>\n",
              "      <td>86</td>\n",
              "      <td>67</td>\n",
              "      <td>8</td>\n",
              "    </tr>\n",
              "    <tr>\n",
              "      <th>1</th>\n",
              "      <td>47</td>\n",
              "      <td>70</td>\n",
              "      <td>39</td>\n",
              "      <td>53</td>\n",
              "    </tr>\n",
              "    <tr>\n",
              "      <th>2</th>\n",
              "      <td>5</td>\n",
              "      <td>40</td>\n",
              "      <td>88</td>\n",
              "      <td>58</td>\n",
              "    </tr>\n",
              "    <tr>\n",
              "      <th>3</th>\n",
              "      <td>12</td>\n",
              "      <td>70</td>\n",
              "      <td>5</td>\n",
              "      <td>82</td>\n",
              "    </tr>\n",
              "    <tr>\n",
              "      <th>4</th>\n",
              "      <td>20</td>\n",
              "      <td>30</td>\n",
              "      <td>40</td>\n",
              "      <td>50</td>\n",
              "    </tr>\n",
              "  </tbody>\n",
              "</table>\n",
              "</div>"
            ],
            "text/plain": [
              "    a   b   c   d\n",
              "0  57  86  67   8\n",
              "1  47  70  39  53\n",
              "2   5  40  88  58\n",
              "3  12  70   5  82\n",
              "4  20  30  40  50"
            ]
          },
          "metadata": {
            "tags": []
          },
          "execution_count": 480
        }
      ]
    },
    {
      "cell_type": "markdown",
      "metadata": {
        "id": "I4-S6bLlKwjq"
      },
      "source": [
        "# Pivot Tables"
      ]
    },
    {
      "cell_type": "markdown",
      "metadata": {
        "id": "IXdzfdq9Kwjq"
      },
      "source": [
        " Pivot tables allow you to reorganize data, refactoring cells based on columns and a new index, this is best shown visually..."
      ]
    },
    {
      "cell_type": "markdown",
      "metadata": {
        "id": "uRGqwVBeKwjq"
      },
      "source": [
        "A dataframe with repeated values can be pivoted for a reorganization and clarity"
      ]
    },
    {
      "cell_type": "code",
      "metadata": {
        "id": "ke_vPb3iKwjq",
        "outputId": "eb3a071a-add3-4b62-828f-14d6e5e95e94"
      },
      "source": [
        "df = pd.read_csv(\"https://raw.githubusercontent.com/sunnyyashu178/DataScience-Projects/master/Datasets/Sales_Funnel_CRM.csv\")\n",
        "df.head()"
      ],
      "execution_count": null,
      "outputs": [
        {
          "output_type": "execute_result",
          "data": {
            "text/html": [
              "<div>\n",
              "<style scoped>\n",
              "    .dataframe tbody tr th:only-of-type {\n",
              "        vertical-align: middle;\n",
              "    }\n",
              "\n",
              "    .dataframe tbody tr th {\n",
              "        vertical-align: top;\n",
              "    }\n",
              "\n",
              "    .dataframe thead th {\n",
              "        text-align: right;\n",
              "    }\n",
              "</style>\n",
              "<table border=\"1\" class=\"dataframe\">\n",
              "  <thead>\n",
              "    <tr style=\"text-align: right;\">\n",
              "      <th></th>\n",
              "      <th>Account Number</th>\n",
              "      <th>Company</th>\n",
              "      <th>Contact</th>\n",
              "      <th>Account Manager</th>\n",
              "      <th>Product</th>\n",
              "      <th>Licenses</th>\n",
              "      <th>Sale Price</th>\n",
              "      <th>Status</th>\n",
              "    </tr>\n",
              "  </thead>\n",
              "  <tbody>\n",
              "    <tr>\n",
              "      <th>0</th>\n",
              "      <td>2123398</td>\n",
              "      <td>Google</td>\n",
              "      <td>Larry Pager</td>\n",
              "      <td>Edward Thorp</td>\n",
              "      <td>Analytics</td>\n",
              "      <td>150</td>\n",
              "      <td>2100000</td>\n",
              "      <td>Presented</td>\n",
              "    </tr>\n",
              "    <tr>\n",
              "      <th>1</th>\n",
              "      <td>2123398</td>\n",
              "      <td>Google</td>\n",
              "      <td>Larry Pager</td>\n",
              "      <td>Edward Thorp</td>\n",
              "      <td>Prediction</td>\n",
              "      <td>150</td>\n",
              "      <td>700000</td>\n",
              "      <td>Presented</td>\n",
              "    </tr>\n",
              "    <tr>\n",
              "      <th>2</th>\n",
              "      <td>2123398</td>\n",
              "      <td>Google</td>\n",
              "      <td>Larry Pager</td>\n",
              "      <td>Edward Thorp</td>\n",
              "      <td>Tracking</td>\n",
              "      <td>300</td>\n",
              "      <td>350000</td>\n",
              "      <td>Under Review</td>\n",
              "    </tr>\n",
              "    <tr>\n",
              "      <th>3</th>\n",
              "      <td>2192650</td>\n",
              "      <td>BOBO</td>\n",
              "      <td>Larry Pager</td>\n",
              "      <td>Edward Thorp</td>\n",
              "      <td>Analytics</td>\n",
              "      <td>150</td>\n",
              "      <td>2450000</td>\n",
              "      <td>Lost</td>\n",
              "    </tr>\n",
              "    <tr>\n",
              "      <th>4</th>\n",
              "      <td>420496</td>\n",
              "      <td>IKEA</td>\n",
              "      <td>Elon Tusk</td>\n",
              "      <td>Edward Thorp</td>\n",
              "      <td>Analytics</td>\n",
              "      <td>300</td>\n",
              "      <td>4550000</td>\n",
              "      <td>Won</td>\n",
              "    </tr>\n",
              "  </tbody>\n",
              "</table>\n",
              "</div>"
            ],
            "text/plain": [
              "   Account Number  Company      Contact Account Manager     Product  Licenses  \\\n",
              "0         2123398   Google  Larry Pager    Edward Thorp   Analytics       150   \n",
              "1         2123398   Google  Larry Pager    Edward Thorp  Prediction       150   \n",
              "2         2123398   Google  Larry Pager    Edward Thorp    Tracking       300   \n",
              "3         2192650     BOBO  Larry Pager    Edward Thorp   Analytics       150   \n",
              "4          420496     IKEA    Elon Tusk    Edward Thorp   Analytics       300   \n",
              "\n",
              "   Sale Price        Status  \n",
              "0     2100000     Presented  \n",
              "1      700000     Presented  \n",
              "2      350000  Under Review  \n",
              "3     2450000          Lost  \n",
              "4     4550000           Won  "
            ]
          },
          "metadata": {
            "tags": []
          },
          "execution_count": 527
        }
      ]
    },
    {
      "cell_type": "code",
      "metadata": {
        "id": "I4UkbwxXKwjq"
      },
      "source": [
        "#help(pd.pivot)"
      ],
      "execution_count": null,
      "outputs": []
    },
    {
      "cell_type": "code",
      "metadata": {
        "id": "tncp7SbOKwjq"
      },
      "source": [
        "#How many linceses for each product that we sell to a particular company\n",
        "licenses = df[[\"Company\",\"Product\",\"Licenses\"]]"
      ],
      "execution_count": null,
      "outputs": []
    },
    {
      "cell_type": "code",
      "metadata": {
        "id": "VSvNCno_Kwjq",
        "outputId": "a7adf8ed-efb8-45c2-a948-8ef67120059b"
      },
      "source": [
        "pd.pivot(data=licenses,index=\"Company\",columns=\"Product\",values=\"Licenses\")\n"
      ],
      "execution_count": null,
      "outputs": [
        {
          "output_type": "execute_result",
          "data": {
            "text/html": [
              "<div>\n",
              "<style scoped>\n",
              "    .dataframe tbody tr th:only-of-type {\n",
              "        vertical-align: middle;\n",
              "    }\n",
              "\n",
              "    .dataframe tbody tr th {\n",
              "        vertical-align: top;\n",
              "    }\n",
              "\n",
              "    .dataframe thead th {\n",
              "        text-align: right;\n",
              "    }\n",
              "</style>\n",
              "<table border=\"1\" class=\"dataframe\">\n",
              "  <thead>\n",
              "    <tr style=\"text-align: right;\">\n",
              "      <th>Product</th>\n",
              "      <th>Analytics</th>\n",
              "      <th>GPS Positioning</th>\n",
              "      <th>Prediction</th>\n",
              "      <th>Tracking</th>\n",
              "    </tr>\n",
              "    <tr>\n",
              "      <th>Company</th>\n",
              "      <th></th>\n",
              "      <th></th>\n",
              "      <th></th>\n",
              "      <th></th>\n",
              "    </tr>\n",
              "  </thead>\n",
              "  <tbody>\n",
              "    <tr>\n",
              "      <th>Google</th>\n",
              "      <td>150.0</td>\n",
              "      <td>NaN</td>\n",
              "      <td>150.0</td>\n",
              "      <td>300.0</td>\n",
              "    </tr>\n",
              "    <tr>\n",
              "      <th>ATT</th>\n",
              "      <td>NaN</td>\n",
              "      <td>NaN</td>\n",
              "      <td>150.0</td>\n",
              "      <td>150.0</td>\n",
              "    </tr>\n",
              "    <tr>\n",
              "      <th>Apple</th>\n",
              "      <td>300.0</td>\n",
              "      <td>NaN</td>\n",
              "      <td>NaN</td>\n",
              "      <td>NaN</td>\n",
              "    </tr>\n",
              "    <tr>\n",
              "      <th>BOBO</th>\n",
              "      <td>150.0</td>\n",
              "      <td>NaN</td>\n",
              "      <td>NaN</td>\n",
              "      <td>NaN</td>\n",
              "    </tr>\n",
              "    <tr>\n",
              "      <th>CVS Health</th>\n",
              "      <td>NaN</td>\n",
              "      <td>NaN</td>\n",
              "      <td>NaN</td>\n",
              "      <td>450.0</td>\n",
              "    </tr>\n",
              "    <tr>\n",
              "      <th>Cisco</th>\n",
              "      <td>300.0</td>\n",
              "      <td>300.0</td>\n",
              "      <td>NaN</td>\n",
              "      <td>NaN</td>\n",
              "    </tr>\n",
              "    <tr>\n",
              "      <th>Exxon Mobile</th>\n",
              "      <td>150.0</td>\n",
              "      <td>NaN</td>\n",
              "      <td>NaN</td>\n",
              "      <td>NaN</td>\n",
              "    </tr>\n",
              "    <tr>\n",
              "      <th>IKEA</th>\n",
              "      <td>300.0</td>\n",
              "      <td>NaN</td>\n",
              "      <td>NaN</td>\n",
              "      <td>NaN</td>\n",
              "    </tr>\n",
              "    <tr>\n",
              "      <th>Microsoft</th>\n",
              "      <td>NaN</td>\n",
              "      <td>NaN</td>\n",
              "      <td>NaN</td>\n",
              "      <td>300.0</td>\n",
              "    </tr>\n",
              "    <tr>\n",
              "      <th>Salesforce</th>\n",
              "      <td>750.0</td>\n",
              "      <td>NaN</td>\n",
              "      <td>NaN</td>\n",
              "      <td>NaN</td>\n",
              "    </tr>\n",
              "    <tr>\n",
              "      <th>Tesla Inc.</th>\n",
              "      <td>300.0</td>\n",
              "      <td>NaN</td>\n",
              "      <td>150.0</td>\n",
              "      <td>NaN</td>\n",
              "    </tr>\n",
              "    <tr>\n",
              "      <th>Walmart</th>\n",
              "      <td>150.0</td>\n",
              "      <td>NaN</td>\n",
              "      <td>NaN</td>\n",
              "      <td>NaN</td>\n",
              "    </tr>\n",
              "  </tbody>\n",
              "</table>\n",
              "</div>"
            ],
            "text/plain": [
              "Product       Analytics  GPS Positioning  Prediction  Tracking\n",
              "Company                                                       \n",
              " Google           150.0              NaN       150.0     300.0\n",
              "ATT                 NaN              NaN       150.0     150.0\n",
              "Apple             300.0              NaN         NaN       NaN\n",
              "BOBO              150.0              NaN         NaN       NaN\n",
              "CVS Health          NaN              NaN         NaN     450.0\n",
              "Cisco             300.0            300.0         NaN       NaN\n",
              "Exxon Mobile      150.0              NaN         NaN       NaN\n",
              "IKEA              300.0              NaN         NaN       NaN\n",
              "Microsoft           NaN              NaN         NaN     300.0\n",
              "Salesforce        750.0              NaN         NaN       NaN\n",
              "Tesla Inc.        300.0              NaN       150.0       NaN\n",
              "Walmart           150.0              NaN         NaN       NaN"
            ]
          },
          "metadata": {
            "tags": []
          },
          "execution_count": 490
        }
      ]
    },
    {
      "cell_type": "code",
      "metadata": {
        "id": "PlI9Sx2eKwjq",
        "outputId": "0f8fca29-9cbd-48e9-8564-967c10af079b"
      },
      "source": [
        "# To know the sum of Licenses and Sale Price for a company\n",
        "df.groupby(\"Company\").sum()[[\"Licenses\",\"Sale Price\"]]"
      ],
      "execution_count": null,
      "outputs": [
        {
          "output_type": "execute_result",
          "data": {
            "text/html": [
              "<div>\n",
              "<style scoped>\n",
              "    .dataframe tbody tr th:only-of-type {\n",
              "        vertical-align: middle;\n",
              "    }\n",
              "\n",
              "    .dataframe tbody tr th {\n",
              "        vertical-align: top;\n",
              "    }\n",
              "\n",
              "    .dataframe thead th {\n",
              "        text-align: right;\n",
              "    }\n",
              "</style>\n",
              "<table border=\"1\" class=\"dataframe\">\n",
              "  <thead>\n",
              "    <tr style=\"text-align: right;\">\n",
              "      <th></th>\n",
              "      <th>Licenses</th>\n",
              "      <th>Sale Price</th>\n",
              "    </tr>\n",
              "    <tr>\n",
              "      <th>Company</th>\n",
              "      <th></th>\n",
              "      <th></th>\n",
              "    </tr>\n",
              "  </thead>\n",
              "  <tbody>\n",
              "    <tr>\n",
              "      <th>Google</th>\n",
              "      <td>600</td>\n",
              "      <td>3150000</td>\n",
              "    </tr>\n",
              "    <tr>\n",
              "      <th>ATT</th>\n",
              "      <td>300</td>\n",
              "      <td>1050000</td>\n",
              "    </tr>\n",
              "    <tr>\n",
              "      <th>Apple</th>\n",
              "      <td>300</td>\n",
              "      <td>4550000</td>\n",
              "    </tr>\n",
              "    <tr>\n",
              "      <th>BOBO</th>\n",
              "      <td>150</td>\n",
              "      <td>2450000</td>\n",
              "    </tr>\n",
              "    <tr>\n",
              "      <th>CVS Health</th>\n",
              "      <td>450</td>\n",
              "      <td>490000</td>\n",
              "    </tr>\n",
              "    <tr>\n",
              "      <th>Cisco</th>\n",
              "      <td>600</td>\n",
              "      <td>4900000</td>\n",
              "    </tr>\n",
              "    <tr>\n",
              "      <th>Exxon Mobile</th>\n",
              "      <td>150</td>\n",
              "      <td>2100000</td>\n",
              "    </tr>\n",
              "    <tr>\n",
              "      <th>IKEA</th>\n",
              "      <td>300</td>\n",
              "      <td>4550000</td>\n",
              "    </tr>\n",
              "    <tr>\n",
              "      <th>Microsoft</th>\n",
              "      <td>300</td>\n",
              "      <td>350000</td>\n",
              "    </tr>\n",
              "    <tr>\n",
              "      <th>Salesforce</th>\n",
              "      <td>750</td>\n",
              "      <td>7000000</td>\n",
              "    </tr>\n",
              "    <tr>\n",
              "      <th>Tesla Inc.</th>\n",
              "      <td>450</td>\n",
              "      <td>3500000</td>\n",
              "    </tr>\n",
              "    <tr>\n",
              "      <th>Walmart</th>\n",
              "      <td>150</td>\n",
              "      <td>2450000</td>\n",
              "    </tr>\n",
              "  </tbody>\n",
              "</table>\n",
              "</div>"
            ],
            "text/plain": [
              "              Licenses  Sale Price\n",
              "Company                           \n",
              " Google            600     3150000\n",
              "ATT                300     1050000\n",
              "Apple              300     4550000\n",
              "BOBO               150     2450000\n",
              "CVS Health         450      490000\n",
              "Cisco              600     4900000\n",
              "Exxon Mobile       150     2100000\n",
              "IKEA               300     4550000\n",
              "Microsoft          300      350000\n",
              "Salesforce         750     7000000\n",
              "Tesla Inc.         450     3500000\n",
              "Walmart            150     2450000"
            ]
          },
          "metadata": {
            "tags": []
          },
          "execution_count": 493
        }
      ]
    },
    {
      "cell_type": "code",
      "metadata": {
        "id": "Qj09Jrn4Kwjq",
        "outputId": "135e8e7c-398e-4513-b008-255c85f90347"
      },
      "source": [
        "# To perform aggregation functions on the data, use .pivot_table(), just like groupby()\n",
        "pd.pivot_table(df,index=\"Company\",aggfunc=\"sum\",values=[\"Licenses\",\"Sale Price\"])"
      ],
      "execution_count": null,
      "outputs": [
        {
          "output_type": "execute_result",
          "data": {
            "text/html": [
              "<div>\n",
              "<style scoped>\n",
              "    .dataframe tbody tr th:only-of-type {\n",
              "        vertical-align: middle;\n",
              "    }\n",
              "\n",
              "    .dataframe tbody tr th {\n",
              "        vertical-align: top;\n",
              "    }\n",
              "\n",
              "    .dataframe thead th {\n",
              "        text-align: right;\n",
              "    }\n",
              "</style>\n",
              "<table border=\"1\" class=\"dataframe\">\n",
              "  <thead>\n",
              "    <tr style=\"text-align: right;\">\n",
              "      <th></th>\n",
              "      <th>Licenses</th>\n",
              "      <th>Sale Price</th>\n",
              "    </tr>\n",
              "    <tr>\n",
              "      <th>Company</th>\n",
              "      <th></th>\n",
              "      <th></th>\n",
              "    </tr>\n",
              "  </thead>\n",
              "  <tbody>\n",
              "    <tr>\n",
              "      <th>Google</th>\n",
              "      <td>600</td>\n",
              "      <td>3150000</td>\n",
              "    </tr>\n",
              "    <tr>\n",
              "      <th>ATT</th>\n",
              "      <td>300</td>\n",
              "      <td>1050000</td>\n",
              "    </tr>\n",
              "    <tr>\n",
              "      <th>Apple</th>\n",
              "      <td>300</td>\n",
              "      <td>4550000</td>\n",
              "    </tr>\n",
              "    <tr>\n",
              "      <th>BOBO</th>\n",
              "      <td>150</td>\n",
              "      <td>2450000</td>\n",
              "    </tr>\n",
              "    <tr>\n",
              "      <th>CVS Health</th>\n",
              "      <td>450</td>\n",
              "      <td>490000</td>\n",
              "    </tr>\n",
              "    <tr>\n",
              "      <th>Cisco</th>\n",
              "      <td>600</td>\n",
              "      <td>4900000</td>\n",
              "    </tr>\n",
              "    <tr>\n",
              "      <th>Exxon Mobile</th>\n",
              "      <td>150</td>\n",
              "      <td>2100000</td>\n",
              "    </tr>\n",
              "    <tr>\n",
              "      <th>IKEA</th>\n",
              "      <td>300</td>\n",
              "      <td>4550000</td>\n",
              "    </tr>\n",
              "    <tr>\n",
              "      <th>Microsoft</th>\n",
              "      <td>300</td>\n",
              "      <td>350000</td>\n",
              "    </tr>\n",
              "    <tr>\n",
              "      <th>Salesforce</th>\n",
              "      <td>750</td>\n",
              "      <td>7000000</td>\n",
              "    </tr>\n",
              "    <tr>\n",
              "      <th>Tesla Inc.</th>\n",
              "      <td>450</td>\n",
              "      <td>3500000</td>\n",
              "    </tr>\n",
              "    <tr>\n",
              "      <th>Walmart</th>\n",
              "      <td>150</td>\n",
              "      <td>2450000</td>\n",
              "    </tr>\n",
              "  </tbody>\n",
              "</table>\n",
              "</div>"
            ],
            "text/plain": [
              "              Licenses  Sale Price\n",
              "Company                           \n",
              " Google            600     3150000\n",
              "ATT                300     1050000\n",
              "Apple              300     4550000\n",
              "BOBO               150     2450000\n",
              "CVS Health         450      490000\n",
              "Cisco              600     4900000\n",
              "Exxon Mobile       150     2100000\n",
              "IKEA               300     4550000\n",
              "Microsoft          300      350000\n",
              "Salesforce         750     7000000\n",
              "Tesla Inc.         450     3500000\n",
              "Walmart            150     2450000"
            ]
          },
          "metadata": {
            "tags": []
          },
          "execution_count": 498
        }
      ]
    },
    {
      "cell_type": "code",
      "metadata": {
        "id": "Y7c7d0fyKwjq",
        "outputId": "4cbb60b7-bb80-4f31-d2f1-98cc9f9ab6d2"
      },
      "source": [
        "#1st method\n",
        "pd.DataFrame(df.groupby([\"Account Manager\",\"Contact\"]).sum()[\"Sale Price\"])"
      ],
      "execution_count": null,
      "outputs": [
        {
          "output_type": "execute_result",
          "data": {
            "text/html": [
              "<div>\n",
              "<style scoped>\n",
              "    .dataframe tbody tr th:only-of-type {\n",
              "        vertical-align: middle;\n",
              "    }\n",
              "\n",
              "    .dataframe tbody tr th {\n",
              "        vertical-align: top;\n",
              "    }\n",
              "\n",
              "    .dataframe thead th {\n",
              "        text-align: right;\n",
              "    }\n",
              "</style>\n",
              "<table border=\"1\" class=\"dataframe\">\n",
              "  <thead>\n",
              "    <tr style=\"text-align: right;\">\n",
              "      <th></th>\n",
              "      <th></th>\n",
              "      <th>Sale Price</th>\n",
              "    </tr>\n",
              "    <tr>\n",
              "      <th>Account Manager</th>\n",
              "      <th>Contact</th>\n",
              "      <th></th>\n",
              "    </tr>\n",
              "  </thead>\n",
              "  <tbody>\n",
              "    <tr>\n",
              "      <th rowspan=\"2\" valign=\"top\">Claude Shannon</th>\n",
              "      <th>Cindy Phoner</th>\n",
              "      <td>7700000</td>\n",
              "    </tr>\n",
              "    <tr>\n",
              "      <th>Emma Gordian</th>\n",
              "      <td>12390000</td>\n",
              "    </tr>\n",
              "    <tr>\n",
              "      <th rowspan=\"3\" valign=\"top\">Edward Thorp</th>\n",
              "      <th>Elon Tusk</th>\n",
              "      <td>8050000</td>\n",
              "    </tr>\n",
              "    <tr>\n",
              "      <th>Larry Pager</th>\n",
              "      <td>5600000</td>\n",
              "    </tr>\n",
              "    <tr>\n",
              "      <th>Will Grates</th>\n",
              "      <td>2800000</td>\n",
              "    </tr>\n",
              "  </tbody>\n",
              "</table>\n",
              "</div>"
            ],
            "text/plain": [
              "                              Sale Price\n",
              "Account Manager Contact                 \n",
              "Claude Shannon  Cindy Phoner     7700000\n",
              "                Emma Gordian    12390000\n",
              "Edward Thorp    Elon Tusk        8050000\n",
              "                Larry Pager      5600000\n",
              "                Will Grates      2800000"
            ]
          },
          "metadata": {
            "tags": []
          },
          "execution_count": 503
        }
      ]
    },
    {
      "cell_type": "code",
      "metadata": {
        "id": "toaiXRd4Kwjq",
        "outputId": "528898d9-2025-4b56-8e88-867bb70c61ab"
      },
      "source": [
        "#2nd method\n",
        "pd.pivot_table(df,index=[\"Account Manager\",\"Contact\"],values=[\"Sale Price\"],aggfunc=\"sum\")"
      ],
      "execution_count": null,
      "outputs": [
        {
          "output_type": "execute_result",
          "data": {
            "text/html": [
              "<div>\n",
              "<style scoped>\n",
              "    .dataframe tbody tr th:only-of-type {\n",
              "        vertical-align: middle;\n",
              "    }\n",
              "\n",
              "    .dataframe tbody tr th {\n",
              "        vertical-align: top;\n",
              "    }\n",
              "\n",
              "    .dataframe thead th {\n",
              "        text-align: right;\n",
              "    }\n",
              "</style>\n",
              "<table border=\"1\" class=\"dataframe\">\n",
              "  <thead>\n",
              "    <tr style=\"text-align: right;\">\n",
              "      <th></th>\n",
              "      <th></th>\n",
              "      <th>Sale Price</th>\n",
              "    </tr>\n",
              "    <tr>\n",
              "      <th>Account Manager</th>\n",
              "      <th>Contact</th>\n",
              "      <th></th>\n",
              "    </tr>\n",
              "  </thead>\n",
              "  <tbody>\n",
              "    <tr>\n",
              "      <th rowspan=\"2\" valign=\"top\">Claude Shannon</th>\n",
              "      <th>Cindy Phoner</th>\n",
              "      <td>7700000</td>\n",
              "    </tr>\n",
              "    <tr>\n",
              "      <th>Emma Gordian</th>\n",
              "      <td>12390000</td>\n",
              "    </tr>\n",
              "    <tr>\n",
              "      <th rowspan=\"3\" valign=\"top\">Edward Thorp</th>\n",
              "      <th>Elon Tusk</th>\n",
              "      <td>8050000</td>\n",
              "    </tr>\n",
              "    <tr>\n",
              "      <th>Larry Pager</th>\n",
              "      <td>5600000</td>\n",
              "    </tr>\n",
              "    <tr>\n",
              "      <th>Will Grates</th>\n",
              "      <td>2800000</td>\n",
              "    </tr>\n",
              "  </tbody>\n",
              "</table>\n",
              "</div>"
            ],
            "text/plain": [
              "                              Sale Price\n",
              "Account Manager Contact                 \n",
              "Claude Shannon  Cindy Phoner     7700000\n",
              "                Emma Gordian    12390000\n",
              "Edward Thorp    Elon Tusk        8050000\n",
              "                Larry Pager      5600000\n",
              "                Will Grates      2800000"
            ]
          },
          "metadata": {
            "tags": []
          },
          "execution_count": 501
        }
      ]
    },
    {
      "cell_type": "code",
      "metadata": {
        "id": "BLlfuKeAKwjq",
        "outputId": "9a704daa-d2a5-4899-d153-7aae35edfbe6"
      },
      "source": [
        "pd.pivot_table(df,index=[\"Account Manager\",\"Contact\"],values=[\"Sale Price\"],columns=[\"Product\"],aggfunc=\"sum\",fill_value=0)"
      ],
      "execution_count": null,
      "outputs": [
        {
          "output_type": "execute_result",
          "data": {
            "text/html": [
              "<div>\n",
              "<style scoped>\n",
              "    .dataframe tbody tr th:only-of-type {\n",
              "        vertical-align: middle;\n",
              "    }\n",
              "\n",
              "    .dataframe tbody tr th {\n",
              "        vertical-align: top;\n",
              "    }\n",
              "\n",
              "    .dataframe thead tr th {\n",
              "        text-align: left;\n",
              "    }\n",
              "\n",
              "    .dataframe thead tr:last-of-type th {\n",
              "        text-align: right;\n",
              "    }\n",
              "</style>\n",
              "<table border=\"1\" class=\"dataframe\">\n",
              "  <thead>\n",
              "    <tr>\n",
              "      <th></th>\n",
              "      <th></th>\n",
              "      <th colspan=\"4\" halign=\"left\">Sale Price</th>\n",
              "    </tr>\n",
              "    <tr>\n",
              "      <th></th>\n",
              "      <th>Product</th>\n",
              "      <th>Analytics</th>\n",
              "      <th>GPS Positioning</th>\n",
              "      <th>Prediction</th>\n",
              "      <th>Tracking</th>\n",
              "    </tr>\n",
              "    <tr>\n",
              "      <th>Account Manager</th>\n",
              "      <th>Contact</th>\n",
              "      <th></th>\n",
              "      <th></th>\n",
              "      <th></th>\n",
              "      <th></th>\n",
              "    </tr>\n",
              "  </thead>\n",
              "  <tbody>\n",
              "    <tr>\n",
              "      <th rowspan=\"2\" valign=\"top\">Claude Shannon</th>\n",
              "      <th>Cindy Phoner</th>\n",
              "      <td>6650000</td>\n",
              "      <td>0</td>\n",
              "      <td>700000</td>\n",
              "      <td>350000</td>\n",
              "    </tr>\n",
              "    <tr>\n",
              "      <th>Emma Gordian</th>\n",
              "      <td>11550000</td>\n",
              "      <td>350000</td>\n",
              "      <td>0</td>\n",
              "      <td>490000</td>\n",
              "    </tr>\n",
              "    <tr>\n",
              "      <th rowspan=\"3\" valign=\"top\">Edward Thorp</th>\n",
              "      <th>Elon Tusk</th>\n",
              "      <td>7350000</td>\n",
              "      <td>0</td>\n",
              "      <td>700000</td>\n",
              "      <td>0</td>\n",
              "    </tr>\n",
              "    <tr>\n",
              "      <th>Larry Pager</th>\n",
              "      <td>4550000</td>\n",
              "      <td>0</td>\n",
              "      <td>700000</td>\n",
              "      <td>350000</td>\n",
              "    </tr>\n",
              "    <tr>\n",
              "      <th>Will Grates</th>\n",
              "      <td>2450000</td>\n",
              "      <td>0</td>\n",
              "      <td>0</td>\n",
              "      <td>350000</td>\n",
              "    </tr>\n",
              "  </tbody>\n",
              "</table>\n",
              "</div>"
            ],
            "text/plain": [
              "                             Sale Price                                    \n",
              "Product                       Analytics GPS Positioning Prediction Tracking\n",
              "Account Manager Contact                                                    \n",
              "Claude Shannon  Cindy Phoner    6650000               0     700000   350000\n",
              "                Emma Gordian   11550000          350000          0   490000\n",
              "Edward Thorp    Elon Tusk       7350000               0     700000        0\n",
              "                Larry Pager     4550000               0     700000   350000\n",
              "                Will Grates     2450000               0          0   350000"
            ]
          },
          "metadata": {
            "tags": []
          },
          "execution_count": 505
        }
      ]
    },
    {
      "cell_type": "code",
      "metadata": {
        "id": "3ZYeZrBhKwjq",
        "outputId": "6d44eae7-5d7d-4af5-8729-080364fb8e24"
      },
      "source": [
        "pd.pivot_table(df,index=[\"Account Manager\",\"Contact\"],values=[\"Sale Price\"],columns=[\"Product\"],aggfunc=[np.sum,np.mean],fill_value=0)"
      ],
      "execution_count": null,
      "outputs": [
        {
          "output_type": "execute_result",
          "data": {
            "text/html": [
              "<div>\n",
              "<style scoped>\n",
              "    .dataframe tbody tr th:only-of-type {\n",
              "        vertical-align: middle;\n",
              "    }\n",
              "\n",
              "    .dataframe tbody tr th {\n",
              "        vertical-align: top;\n",
              "    }\n",
              "\n",
              "    .dataframe thead tr th {\n",
              "        text-align: left;\n",
              "    }\n",
              "\n",
              "    .dataframe thead tr:last-of-type th {\n",
              "        text-align: right;\n",
              "    }\n",
              "</style>\n",
              "<table border=\"1\" class=\"dataframe\">\n",
              "  <thead>\n",
              "    <tr>\n",
              "      <th></th>\n",
              "      <th></th>\n",
              "      <th colspan=\"4\" halign=\"left\">sum</th>\n",
              "      <th colspan=\"4\" halign=\"left\">mean</th>\n",
              "    </tr>\n",
              "    <tr>\n",
              "      <th></th>\n",
              "      <th></th>\n",
              "      <th colspan=\"4\" halign=\"left\">Sale Price</th>\n",
              "      <th colspan=\"4\" halign=\"left\">Sale Price</th>\n",
              "    </tr>\n",
              "    <tr>\n",
              "      <th></th>\n",
              "      <th>Product</th>\n",
              "      <th>Analytics</th>\n",
              "      <th>GPS Positioning</th>\n",
              "      <th>Prediction</th>\n",
              "      <th>Tracking</th>\n",
              "      <th>Analytics</th>\n",
              "      <th>GPS Positioning</th>\n",
              "      <th>Prediction</th>\n",
              "      <th>Tracking</th>\n",
              "    </tr>\n",
              "    <tr>\n",
              "      <th>Account Manager</th>\n",
              "      <th>Contact</th>\n",
              "      <th></th>\n",
              "      <th></th>\n",
              "      <th></th>\n",
              "      <th></th>\n",
              "      <th></th>\n",
              "      <th></th>\n",
              "      <th></th>\n",
              "      <th></th>\n",
              "    </tr>\n",
              "  </thead>\n",
              "  <tbody>\n",
              "    <tr>\n",
              "      <th rowspan=\"2\" valign=\"top\">Claude Shannon</th>\n",
              "      <th>Cindy Phoner</th>\n",
              "      <td>6650000</td>\n",
              "      <td>0</td>\n",
              "      <td>700000</td>\n",
              "      <td>350000</td>\n",
              "      <td>3325000</td>\n",
              "      <td>0</td>\n",
              "      <td>700000</td>\n",
              "      <td>350000</td>\n",
              "    </tr>\n",
              "    <tr>\n",
              "      <th>Emma Gordian</th>\n",
              "      <td>11550000</td>\n",
              "      <td>350000</td>\n",
              "      <td>0</td>\n",
              "      <td>490000</td>\n",
              "      <td>5775000</td>\n",
              "      <td>350000</td>\n",
              "      <td>0</td>\n",
              "      <td>490000</td>\n",
              "    </tr>\n",
              "    <tr>\n",
              "      <th rowspan=\"3\" valign=\"top\">Edward Thorp</th>\n",
              "      <th>Elon Tusk</th>\n",
              "      <td>7350000</td>\n",
              "      <td>0</td>\n",
              "      <td>700000</td>\n",
              "      <td>0</td>\n",
              "      <td>3675000</td>\n",
              "      <td>0</td>\n",
              "      <td>700000</td>\n",
              "      <td>0</td>\n",
              "    </tr>\n",
              "    <tr>\n",
              "      <th>Larry Pager</th>\n",
              "      <td>4550000</td>\n",
              "      <td>0</td>\n",
              "      <td>700000</td>\n",
              "      <td>350000</td>\n",
              "      <td>2275000</td>\n",
              "      <td>0</td>\n",
              "      <td>700000</td>\n",
              "      <td>350000</td>\n",
              "    </tr>\n",
              "    <tr>\n",
              "      <th>Will Grates</th>\n",
              "      <td>2450000</td>\n",
              "      <td>0</td>\n",
              "      <td>0</td>\n",
              "      <td>350000</td>\n",
              "      <td>2450000</td>\n",
              "      <td>0</td>\n",
              "      <td>0</td>\n",
              "      <td>350000</td>\n",
              "    </tr>\n",
              "  </tbody>\n",
              "</table>\n",
              "</div>"
            ],
            "text/plain": [
              "                                    sum                                      \\\n",
              "                             Sale Price                                       \n",
              "Product                       Analytics GPS Positioning Prediction Tracking   \n",
              "Account Manager Contact                                                       \n",
              "Claude Shannon  Cindy Phoner    6650000               0     700000   350000   \n",
              "                Emma Gordian   11550000          350000          0   490000   \n",
              "Edward Thorp    Elon Tusk       7350000               0     700000        0   \n",
              "                Larry Pager     4550000               0     700000   350000   \n",
              "                Will Grates     2450000               0          0   350000   \n",
              "\n",
              "                                   mean                                      \n",
              "                             Sale Price                                      \n",
              "Product                       Analytics GPS Positioning Prediction Tracking  \n",
              "Account Manager Contact                                                      \n",
              "Claude Shannon  Cindy Phoner    3325000               0     700000   350000  \n",
              "                Emma Gordian    5775000          350000          0   490000  \n",
              "Edward Thorp    Elon Tusk       3675000               0     700000        0  \n",
              "                Larry Pager     2275000               0     700000   350000  \n",
              "                Will Grates     2450000               0          0   350000  "
            ]
          },
          "metadata": {
            "tags": []
          },
          "execution_count": 506
        }
      ]
    },
    {
      "cell_type": "code",
      "metadata": {
        "id": "I2ncV3CSKwjq",
        "outputId": "de67166e-a2be-4b87-f160-bb702df87d87"
      },
      "source": [
        "# Make the things much clearer while using pivot tables\n",
        "pd.pivot_table(df,index=[\"Account Manager\",\"Contact\",\"Product\"],values=[\"Sale Price\"],aggfunc=[np.sum],fill_value=0,margins=True)"
      ],
      "execution_count": null,
      "outputs": [
        {
          "output_type": "execute_result",
          "data": {
            "text/html": [
              "<div>\n",
              "<style scoped>\n",
              "    .dataframe tbody tr th:only-of-type {\n",
              "        vertical-align: middle;\n",
              "    }\n",
              "\n",
              "    .dataframe tbody tr th {\n",
              "        vertical-align: top;\n",
              "    }\n",
              "\n",
              "    .dataframe thead tr th {\n",
              "        text-align: left;\n",
              "    }\n",
              "\n",
              "    .dataframe thead tr:last-of-type th {\n",
              "        text-align: right;\n",
              "    }\n",
              "</style>\n",
              "<table border=\"1\" class=\"dataframe\">\n",
              "  <thead>\n",
              "    <tr>\n",
              "      <th></th>\n",
              "      <th></th>\n",
              "      <th></th>\n",
              "      <th>sum</th>\n",
              "    </tr>\n",
              "    <tr>\n",
              "      <th></th>\n",
              "      <th></th>\n",
              "      <th></th>\n",
              "      <th>Sale Price</th>\n",
              "    </tr>\n",
              "    <tr>\n",
              "      <th>Account Manager</th>\n",
              "      <th>Contact</th>\n",
              "      <th>Product</th>\n",
              "      <th></th>\n",
              "    </tr>\n",
              "  </thead>\n",
              "  <tbody>\n",
              "    <tr>\n",
              "      <th rowspan=\"6\" valign=\"top\">Claude Shannon</th>\n",
              "      <th rowspan=\"3\" valign=\"top\">Cindy Phoner</th>\n",
              "      <th>Analytics</th>\n",
              "      <td>6650000</td>\n",
              "    </tr>\n",
              "    <tr>\n",
              "      <th>Prediction</th>\n",
              "      <td>700000</td>\n",
              "    </tr>\n",
              "    <tr>\n",
              "      <th>Tracking</th>\n",
              "      <td>350000</td>\n",
              "    </tr>\n",
              "    <tr>\n",
              "      <th rowspan=\"3\" valign=\"top\">Emma Gordian</th>\n",
              "      <th>Analytics</th>\n",
              "      <td>11550000</td>\n",
              "    </tr>\n",
              "    <tr>\n",
              "      <th>GPS Positioning</th>\n",
              "      <td>350000</td>\n",
              "    </tr>\n",
              "    <tr>\n",
              "      <th>Tracking</th>\n",
              "      <td>490000</td>\n",
              "    </tr>\n",
              "    <tr>\n",
              "      <th rowspan=\"7\" valign=\"top\">Edward Thorp</th>\n",
              "      <th rowspan=\"2\" valign=\"top\">Elon Tusk</th>\n",
              "      <th>Analytics</th>\n",
              "      <td>7350000</td>\n",
              "    </tr>\n",
              "    <tr>\n",
              "      <th>Prediction</th>\n",
              "      <td>700000</td>\n",
              "    </tr>\n",
              "    <tr>\n",
              "      <th rowspan=\"3\" valign=\"top\">Larry Pager</th>\n",
              "      <th>Analytics</th>\n",
              "      <td>4550000</td>\n",
              "    </tr>\n",
              "    <tr>\n",
              "      <th>Prediction</th>\n",
              "      <td>700000</td>\n",
              "    </tr>\n",
              "    <tr>\n",
              "      <th>Tracking</th>\n",
              "      <td>350000</td>\n",
              "    </tr>\n",
              "    <tr>\n",
              "      <th rowspan=\"2\" valign=\"top\">Will Grates</th>\n",
              "      <th>Analytics</th>\n",
              "      <td>2450000</td>\n",
              "    </tr>\n",
              "    <tr>\n",
              "      <th>Tracking</th>\n",
              "      <td>350000</td>\n",
              "    </tr>\n",
              "    <tr>\n",
              "      <th>All</th>\n",
              "      <th></th>\n",
              "      <th></th>\n",
              "      <td>36540000</td>\n",
              "    </tr>\n",
              "  </tbody>\n",
              "</table>\n",
              "</div>"
            ],
            "text/plain": [
              "                                                    sum\n",
              "                                             Sale Price\n",
              "Account Manager Contact      Product                   \n",
              "Claude Shannon  Cindy Phoner Analytics          6650000\n",
              "                             Prediction          700000\n",
              "                             Tracking            350000\n",
              "                Emma Gordian Analytics         11550000\n",
              "                             GPS Positioning     350000\n",
              "                             Tracking            490000\n",
              "Edward Thorp    Elon Tusk    Analytics          7350000\n",
              "                             Prediction          700000\n",
              "                Larry Pager  Analytics          4550000\n",
              "                             Prediction          700000\n",
              "                             Tracking            350000\n",
              "                Will Grates  Analytics          2450000\n",
              "                             Tracking            350000\n",
              "All                                            36540000"
            ]
          },
          "metadata": {
            "tags": []
          },
          "execution_count": 511
        }
      ]
    },
    {
      "cell_type": "code",
      "metadata": {
        "id": "KA-C4tUSKwjq"
      },
      "source": [
        ""
      ],
      "execution_count": null,
      "outputs": []
    }
  ]
}