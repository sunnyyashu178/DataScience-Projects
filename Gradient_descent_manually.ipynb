{
  "nbformat": 4,
  "nbformat_minor": 0,
  "metadata": {
    "colab": {
      "name": "Gradient_descent_manually.ipynb",
      "provenance": [],
      "authorship_tag": "ABX9TyN/UzQVhgACQFq0sPWFWSgb",
      "include_colab_link": true
    },
    "kernelspec": {
      "name": "python3",
      "display_name": "Python 3"
    }
  },
  "cells": [
    {
      "cell_type": "markdown",
      "metadata": {
        "id": "view-in-github",
        "colab_type": "text"
      },
      "source": [
        "<a href=\"https://colab.research.google.com/github/sunnyyashu178/DataScience-Projects/blob/master/Gradient_descent_manually.ipynb\" target=\"_parent\"><img src=\"https://colab.research.google.com/assets/colab-badge.svg\" alt=\"Open In Colab\"/></a>"
      ]
    },
    {
      "cell_type": "code",
      "metadata": {
        "id": "3yWjxTSSwN-g"
      },
      "source": [
        "import numpy as np\r\n",
        "import seaborn as sns\r\n",
        "import matplotlib.pyplot as plt\r\n",
        "import pandas as pd"
      ],
      "execution_count": 54,
      "outputs": []
    },
    {
      "cell_type": "code",
      "metadata": {
        "colab": {
          "base_uri": "https://localhost:8080/",
          "height": 402
        },
        "id": "iNur3Yf6F5U8",
        "outputId": "91a94531-7caa-413a-8d08-bb05882fc258"
      },
      "source": [
        "X = 2*np.random.rand(100,1)\r\n",
        "y = 4+3*X + np.random.randn(100,1)\r\n",
        "index = len(X)\r\n",
        "df = pd.DataFrame()\r\n",
        "df[\"X\"] = X.reshape(100,)\r\n",
        "df[\"y\"] = y\r\n",
        "df"
      ],
      "execution_count": 60,
      "outputs": [
        {
          "output_type": "execute_result",
          "data": {
            "text/html": [
              "<div>\n",
              "<style scoped>\n",
              "    .dataframe tbody tr th:only-of-type {\n",
              "        vertical-align: middle;\n",
              "    }\n",
              "\n",
              "    .dataframe tbody tr th {\n",
              "        vertical-align: top;\n",
              "    }\n",
              "\n",
              "    .dataframe thead th {\n",
              "        text-align: right;\n",
              "    }\n",
              "</style>\n",
              "<table border=\"1\" class=\"dataframe\">\n",
              "  <thead>\n",
              "    <tr style=\"text-align: right;\">\n",
              "      <th></th>\n",
              "      <th>X</th>\n",
              "      <th>y</th>\n",
              "    </tr>\n",
              "  </thead>\n",
              "  <tbody>\n",
              "    <tr>\n",
              "      <th>0</th>\n",
              "      <td>1.589355</td>\n",
              "      <td>10.161865</td>\n",
              "    </tr>\n",
              "    <tr>\n",
              "      <th>1</th>\n",
              "      <td>0.906701</td>\n",
              "      <td>8.049958</td>\n",
              "    </tr>\n",
              "    <tr>\n",
              "      <th>2</th>\n",
              "      <td>1.285028</td>\n",
              "      <td>7.648217</td>\n",
              "    </tr>\n",
              "    <tr>\n",
              "      <th>3</th>\n",
              "      <td>0.884154</td>\n",
              "      <td>6.596610</td>\n",
              "    </tr>\n",
              "    <tr>\n",
              "      <th>4</th>\n",
              "      <td>0.548622</td>\n",
              "      <td>7.815439</td>\n",
              "    </tr>\n",
              "    <tr>\n",
              "      <th>...</th>\n",
              "      <td>...</td>\n",
              "      <td>...</td>\n",
              "    </tr>\n",
              "    <tr>\n",
              "      <th>95</th>\n",
              "      <td>0.610007</td>\n",
              "      <td>5.669765</td>\n",
              "    </tr>\n",
              "    <tr>\n",
              "      <th>96</th>\n",
              "      <td>0.126643</td>\n",
              "      <td>3.558816</td>\n",
              "    </tr>\n",
              "    <tr>\n",
              "      <th>97</th>\n",
              "      <td>0.077986</td>\n",
              "      <td>5.397268</td>\n",
              "    </tr>\n",
              "    <tr>\n",
              "      <th>98</th>\n",
              "      <td>0.929446</td>\n",
              "      <td>8.397306</td>\n",
              "    </tr>\n",
              "    <tr>\n",
              "      <th>99</th>\n",
              "      <td>1.685506</td>\n",
              "      <td>7.976184</td>\n",
              "    </tr>\n",
              "  </tbody>\n",
              "</table>\n",
              "<p>100 rows × 2 columns</p>\n",
              "</div>"
            ],
            "text/plain": [
              "           X          y\n",
              "0   1.589355  10.161865\n",
              "1   0.906701   8.049958\n",
              "2   1.285028   7.648217\n",
              "3   0.884154   6.596610\n",
              "4   0.548622   7.815439\n",
              "..       ...        ...\n",
              "95  0.610007   5.669765\n",
              "96  0.126643   3.558816\n",
              "97  0.077986   5.397268\n",
              "98  0.929446   8.397306\n",
              "99  1.685506   7.976184\n",
              "\n",
              "[100 rows x 2 columns]"
            ]
          },
          "metadata": {
            "tags": []
          },
          "execution_count": 60
        }
      ]
    },
    {
      "cell_type": "code",
      "metadata": {
        "colab": {
          "base_uri": "https://localhost:8080/",
          "height": 350
        },
        "id": "gjyq3jsTGgN4",
        "outputId": "9334e5a1-b1e1-488c-c889-1841109f7845"
      },
      "source": [
        "sns.scatterplot(\"X\",\"y\",data = df)"
      ],
      "execution_count": 61,
      "outputs": [
        {
          "output_type": "stream",
          "text": [
            "/usr/local/lib/python3.6/dist-packages/seaborn/_decorators.py:43: FutureWarning: Pass the following variables as keyword args: x, y. From version 0.12, the only valid positional argument will be `data`, and passing other arguments without an explicit keyword will result in an error or misinterpretation.\n",
            "  FutureWarning\n"
          ],
          "name": "stderr"
        },
        {
          "output_type": "execute_result",
          "data": {
            "text/plain": [
              "<matplotlib.axes._subplots.AxesSubplot at 0x7f8f831ac3c8>"
            ]
          },
          "metadata": {
            "tags": []
          },
          "execution_count": 61
        },
        {
          "output_type": "display_data",
          "data": {
            "image/png": "[encoded data removed]",
            "text/plain": [
              "<Figure size 432x288 with 1 Axes>"
            ]
          },
          "metadata": {
            "tags": [],
            "needs_background": "light"
          }
        }
      ]
    },
    {
      "cell_type": "code",
      "metadata": {
        "id": "EqxLwVIiGgyW"
      },
      "source": [
        "X_b = np.c_[np.ones((100,1)),X]   # add X0 = 1 to each instance\r\n",
        "theta_best = np.linalg.inv(X_b.T.dot(X_b)).dot(X_b.T).dot(y)"
      ],
      "execution_count": 62,
      "outputs": []
    },
    {
      "cell_type": "code",
      "metadata": {
        "colab": {
          "base_uri": "https://localhost:8080/"
        },
        "id": "KnuSaMCnOcCe",
        "outputId": "ab94cf21-9c0d-48b4-cb25-beadf577f356"
      },
      "source": [
        "theta_best"
      ],
      "execution_count": 63,
      "outputs": [
        {
          "output_type": "execute_result",
          "data": {
            "text/plain": [
              "array([[4.23225264],\n",
              "       [2.83024189]])"
            ]
          },
          "metadata": {
            "tags": []
          },
          "execution_count": 63
        }
      ]
    },
    {
      "cell_type": "markdown",
      "metadata": {
        "id": "Nch7_Ij4PPni"
      },
      "source": [
        "The actual function that we used to generate the data is y = 4 + 3X + Gaussian noise.  Close\r\n",
        "enough, but the noise made it impossible to recover the exact parameters of the origi‐\r\n",
        "nal function.\r\n",
        "Now you can make predictions using θ:\r\n"
      ]
    },
    {
      "cell_type": "code",
      "metadata": {
        "colab": {
          "base_uri": "https://localhost:8080/"
        },
        "id": "DOIX04GSO1MG",
        "outputId": "b5064546-1f32-4c3d-b31e-812fce4a27b5"
      },
      "source": [
        "X_new = np.array([[0],[2]])\r\n",
        "X_new_b = np.c_[np.ones((2,1)),X_new]\r\n",
        "y_predict = X_new_b.dot(theta_best)\r\n",
        "y_predict"
      ],
      "execution_count": 64,
      "outputs": [
        {
          "output_type": "execute_result",
          "data": {
            "text/plain": [
              "array([[4.23225264],\n",
              "       [9.89273642]])"
            ]
          },
          "metadata": {
            "tags": []
          },
          "execution_count": 64
        }
      ]
    },
    {
      "cell_type": "code",
      "metadata": {
        "colab": {
          "base_uri": "https://localhost:8080/",
          "height": 269
        },
        "id": "75f25T8bP0So",
        "outputId": "682e440c-7d77-4214-832a-710964b50563"
      },
      "source": [
        "plt.plot(X_new,y_predict,\"r-\")\r\n",
        "plt.plot(X,y,\"b.\")\r\n",
        "plt.axis([0,2,0,12])\r\n",
        "plt.show()"
      ],
      "execution_count": 65,
      "outputs": [
        {
          "output_type": "display_data",
          "data": {
            "image/png": "[encoded data removed]",
            "text/plain": [
              "<Figure size 432x288 with 1 Axes>"
            ]
          },
          "metadata": {
            "tags": [],
            "needs_background": "light"
          }
        }
      ]
    },
    {
      "cell_type": "markdown",
      "metadata": {
        "id": "KEjEVtR3cMWb"
      },
      "source": [
        "# Batch Gradient"
      ]
    },
    {
      "cell_type": "code",
      "metadata": {
        "id": "ZaBViX9VcVAn"
      },
      "source": [
        "eta = 0.1\r\n",
        "n_iterations = 1000\r\n",
        "m = 100"
      ],
      "execution_count": 109,
      "outputs": []
    },
    {
      "cell_type": "code",
      "metadata": {
        "colab": {
          "base_uri": "https://localhost:8080/"
        },
        "id": "LCiNLPQKcVB8",
        "outputId": "acdbb82a-2789-4919-de79-9d735b148450"
      },
      "source": [
        "theta = np.random.randn(2,1)\r\n",
        "theta  # random initialization"
      ],
      "execution_count": 110,
      "outputs": [
        {
          "output_type": "execute_result",
          "data": {
            "text/plain": [
              "array([[0.33877877],\n",
              "       [1.97608798]])"
            ]
          },
          "metadata": {
            "tags": []
          },
          "execution_count": 110
        }
      ]
    },
    {
      "cell_type": "code",
      "metadata": {
        "colab": {
          "base_uri": "https://localhost:8080/",
          "height": 298
        },
        "id": "9vvdd9hWcVFq",
        "outputId": "fcd50b65-ec94-4ebf-f6a8-c817ed9eb113"
      },
      "source": [
        "for iteration in range(n_iterations):\r\n",
        "  gradients = 2/m * X_b.T.dot(X_b.dot(theta)-y)\r\n",
        "  theta = theta-eta *gradients\r\n",
        "  X_new = np.array([[0],[2]])\r\n",
        "  X_new_b = np.c_[np.ones((2,1)),X_new]\r\n",
        "  y_predict = X_new_b.dot(theta)\r\n",
        "  plt.plot(X_new,y_predict,\"r-\")\r\n",
        "  plt.plot(X,y,\"b.\")\r\n",
        "theta"
      ],
      "execution_count": 111,
      "outputs": [
        {
          "output_type": "execute_result",
          "data": {
            "text/plain": [
              "array([[4.23225264],\n",
              "       [2.83024189]])"
            ]
          },
          "metadata": {
            "tags": []
          },
          "execution_count": 111
        },
        {
          "output_type": "display_data",
          "data": {
            "image/png": "[encoded data removed]",
            "text/plain": [
              "<Figure size 432x288 with 1 Axes>"
            ]
          },
          "metadata": {
            "tags": [],
            "needs_background": "light"
          }
        }
      ]
    },
    {
      "cell_type": "code",
      "metadata": {
        "colab": {
          "base_uri": "https://localhost:8080/"
        },
        "id": "oA57iR9XcVHT",
        "outputId": "294d8059-52f9-4426-b9af-55fa2299086c"
      },
      "source": [
        "gradients"
      ],
      "execution_count": 112,
      "outputs": [
        {
          "output_type": "execute_result",
          "data": {
            "text/plain": [
              "array([[-3.83693077e-15],\n",
              "       [ 1.67088565e-15]])"
            ]
          },
          "metadata": {
            "tags": []
          },
          "execution_count": 112
        }
      ]
    },
    {
      "cell_type": "code",
      "metadata": {
        "colab": {
          "base_uri": "https://localhost:8080/"
        },
        "id": "deXGVc97cVLC",
        "outputId": "08382f3b-9fa4-471d-edca-9e5f5260a9dc"
      },
      "source": [
        "theta"
      ],
      "execution_count": 113,
      "outputs": [
        {
          "output_type": "execute_result",
          "data": {
            "text/plain": [
              "array([[4.23225264],\n",
              "       [2.83024189]])"
            ]
          },
          "metadata": {
            "tags": []
          },
          "execution_count": 113
        }
      ]
    },
    {
      "cell_type": "markdown",
      "metadata": {
        "id": "frnXO8Te2rN2"
      },
      "source": [
        "# Stochastic Gradient Descent"
      ]
    },
    {
      "cell_type": "code",
      "metadata": {
        "id": "ngloTAVRcVMu"
      },
      "source": [
        "n_epochs = 50\r\n",
        "t0 , t1 = 5, 50  # learning schedule hyperparameters\r\n",
        "m = 100"
      ],
      "execution_count": 166,
      "outputs": []
    },
    {
      "cell_type": "code",
      "metadata": {
        "id": "CXliT95KcVQI"
      },
      "source": [
        "def learning_schedule(t):\r\n",
        "  return t0/(t + t1)"
      ],
      "execution_count": 167,
      "outputs": []
    },
    {
      "cell_type": "code",
      "metadata": {
        "id": "3pTrbCjNcVRx"
      },
      "source": [
        "theta = np.random.randn(2,1)"
      ],
      "execution_count": 168,
      "outputs": []
    },
    {
      "cell_type": "code",
      "metadata": {
        "id": "BAYdFJpBcVVI"
      },
      "source": [
        "for epoch in range(n_epochs):\r\n",
        "  for i in range(m):\r\n",
        "    random_index = np.random.randint(m)\r\n",
        "    xi = X_b[random_index:random_index+1]\r\n",
        "    yi = y[random_index:random_index+1]\r\n",
        "    gradients = 2 * xi.T.dot(xi.dot(theta) - yi)\r\n",
        "    eta = learning_schedule(epoch* m+i)\r\n",
        "    theta = theta-eta*gradients"
      ],
      "execution_count": 169,
      "outputs": []
    },
    {
      "cell_type": "code",
      "metadata": {
        "colab": {
          "base_uri": "https://localhost:8080/"
        },
        "id": "1jCaM3B4cVWw",
        "outputId": "0ffedff7-1b99-48d0-9fb8-aeb0cb94cd5c"
      },
      "source": [
        "theta"
      ],
      "execution_count": 170,
      "outputs": [
        {
          "output_type": "execute_result",
          "data": {
            "text/plain": [
              "array([[4.21546401],\n",
              "       [2.85063888]])"
            ]
          },
          "metadata": {
            "tags": []
          },
          "execution_count": 170
        }
      ]
    },
    {
      "cell_type": "markdown",
      "metadata": {
        "id": "9W8IAfi88N4W"
      },
      "source": [
        "# SGDRegressor"
      ]
    },
    {
      "cell_type": "code",
      "metadata": {
        "id": "iXnBx_IHcVZ-"
      },
      "source": [
        "from sklearn.linear_model import SGDRegressor"
      ],
      "execution_count": 181,
      "outputs": []
    },
    {
      "cell_type": "code",
      "metadata": {
        "id": "4yZGQwi-cVba"
      },
      "source": [
        "sgd_reg = SGDRegressor(penalty=None,n_iter_no_change=50,eta0=0.1)"
      ],
      "execution_count": 182,
      "outputs": []
    },
    {
      "cell_type": "code",
      "metadata": {
        "colab": {
          "base_uri": "https://localhost:8080/"
        },
        "id": "tQ89IPmrcVfk",
        "outputId": "52de1a0a-b0ed-47c0-dd95-b3127b249b73"
      },
      "source": [
        "sgd_reg.fit(X,y)"
      ],
      "execution_count": 186,
      "outputs": [
        {
          "output_type": "stream",
          "text": [
            "/usr/local/lib/python3.6/dist-packages/sklearn/utils/validation.py:760: DataConversionWarning: A column-vector y was passed when a 1d array was expected. Please change the shape of y to (n_samples, ), for example using ravel().\n",
            "  y = column_or_1d(y, warn=True)\n"
          ],
          "name": "stderr"
        },
        {
          "output_type": "execute_result",
          "data": {
            "text/plain": [
              "SGDRegressor(alpha=0.0001, average=False, early_stopping=False, epsilon=0.1,\n",
              "             eta0=0.1, fit_intercept=True, l1_ratio=0.15,\n",
              "             learning_rate='invscaling', loss='squared_loss', max_iter=1000,\n",
              "             n_iter_no_change=50, penalty=None, power_t=0.25, random_state=None,\n",
              "             shuffle=True, tol=0.001, validation_fraction=0.1, verbose=0,\n",
              "             warm_start=False)"
            ]
          },
          "metadata": {
            "tags": []
          },
          "execution_count": 186
        }
      ]
    },
    {
      "cell_type": "code",
      "metadata": {
        "colab": {
          "base_uri": "https://localhost:8080/"
        },
        "id": "80meJZgu84Gf",
        "outputId": "386420f0-1de0-4914-807a-cc32b35e060c"
      },
      "source": [
        "sgd_reg.intercept_,sgd_reg.coef_"
      ],
      "execution_count": 187,
      "outputs": [
        {
          "output_type": "execute_result",
          "data": {
            "text/plain": [
              "(array([4.23442125]), array([2.82107409]))"
            ]
          },
          "metadata": {
            "tags": []
          },
          "execution_count": 187
        }
      ]
    },
    {
      "cell_type": "code",
      "metadata": {
        "id": "5LqdGErr84Y6"
      },
      "source": [
        ""
      ],
      "execution_count": null,
      "outputs": []
    },
    {
      "cell_type": "markdown",
      "metadata": {
        "id": "jkKG7cA-RZFa"
      },
      "source": [
        "# Linear Regression using scikit-learn"
      ]
    },
    {
      "cell_type": "code",
      "metadata": {
        "colab": {
          "base_uri": "https://localhost:8080/",
          "height": 195
        },
        "id": "9WGQJyuQYahX",
        "outputId": "d04d83aa-46fb-4899-b650-09e8a39a2abf"
      },
      "source": [
        "df.head()"
      ],
      "execution_count": 114,
      "outputs": [
        {
          "output_type": "execute_result",
          "data": {
            "text/html": [
              "<div>\n",
              "<style scoped>\n",
              "    .dataframe tbody tr th:only-of-type {\n",
              "        vertical-align: middle;\n",
              "    }\n",
              "\n",
              "    .dataframe tbody tr th {\n",
              "        vertical-align: top;\n",
              "    }\n",
              "\n",
              "    .dataframe thead th {\n",
              "        text-align: right;\n",
              "    }\n",
              "</style>\n",
              "<table border=\"1\" class=\"dataframe\">\n",
              "  <thead>\n",
              "    <tr style=\"text-align: right;\">\n",
              "      <th></th>\n",
              "      <th>X</th>\n",
              "      <th>y</th>\n",
              "    </tr>\n",
              "  </thead>\n",
              "  <tbody>\n",
              "    <tr>\n",
              "      <th>0</th>\n",
              "      <td>1.589355</td>\n",
              "      <td>10.161865</td>\n",
              "    </tr>\n",
              "    <tr>\n",
              "      <th>1</th>\n",
              "      <td>0.906701</td>\n",
              "      <td>8.049958</td>\n",
              "    </tr>\n",
              "    <tr>\n",
              "      <th>2</th>\n",
              "      <td>1.285028</td>\n",
              "      <td>7.648217</td>\n",
              "    </tr>\n",
              "    <tr>\n",
              "      <th>3</th>\n",
              "      <td>0.884154</td>\n",
              "      <td>6.596610</td>\n",
              "    </tr>\n",
              "    <tr>\n",
              "      <th>4</th>\n",
              "      <td>0.548622</td>\n",
              "      <td>7.815439</td>\n",
              "    </tr>\n",
              "  </tbody>\n",
              "</table>\n",
              "</div>"
            ],
            "text/plain": [
              "          X          y\n",
              "0  1.589355  10.161865\n",
              "1  0.906701   8.049958\n",
              "2  1.285028   7.648217\n",
              "3  0.884154   6.596610\n",
              "4  0.548622   7.815439"
            ]
          },
          "metadata": {
            "tags": []
          },
          "execution_count": 114
        }
      ]
    },
    {
      "cell_type": "code",
      "metadata": {
        "id": "Ljur5lPuQw2d"
      },
      "source": [
        "from sklearn.linear_model import LinearRegression"
      ],
      "execution_count": 115,
      "outputs": []
    },
    {
      "cell_type": "code",
      "metadata": {
        "id": "H8UTRfcZW9fd"
      },
      "source": [
        "lin_reg = LinearRegression()"
      ],
      "execution_count": 116,
      "outputs": []
    },
    {
      "cell_type": "code",
      "metadata": {
        "colab": {
          "base_uri": "https://localhost:8080/"
        },
        "id": "_2xfSSlyW_pk",
        "outputId": "dd3c88b3-1774-4bce-ce6d-b9062d57888e"
      },
      "source": [
        "lin_reg.fit(X,y)"
      ],
      "execution_count": 117,
      "outputs": [
        {
          "output_type": "execute_result",
          "data": {
            "text/plain": [
              "LinearRegression(copy_X=True, fit_intercept=True, n_jobs=None, normalize=False)"
            ]
          },
          "metadata": {
            "tags": []
          },
          "execution_count": 117
        }
      ]
    },
    {
      "cell_type": "code",
      "metadata": {
        "colab": {
          "base_uri": "https://localhost:8080/"
        },
        "id": "1w3IdnK1XJQ8",
        "outputId": "f90586e4-98b8-4868-ed2f-54d8f1dc25a7"
      },
      "source": [
        "lin_reg.intercept_"
      ],
      "execution_count": 118,
      "outputs": [
        {
          "output_type": "execute_result",
          "data": {
            "text/plain": [
              "array([4.23225264])"
            ]
          },
          "metadata": {
            "tags": []
          },
          "execution_count": 118
        }
      ]
    },
    {
      "cell_type": "code",
      "metadata": {
        "colab": {
          "base_uri": "https://localhost:8080/"
        },
        "id": "tXlwl9g2XK5o",
        "outputId": "cb78c14f-9462-47f1-a30d-78ec5b3c28dc"
      },
      "source": [
        "lin_reg.coef_"
      ],
      "execution_count": 119,
      "outputs": [
        {
          "output_type": "execute_result",
          "data": {
            "text/plain": [
              "array([[2.83024189]])"
            ]
          },
          "metadata": {
            "tags": []
          },
          "execution_count": 119
        }
      ]
    },
    {
      "cell_type": "code",
      "metadata": {
        "colab": {
          "base_uri": "https://localhost:8080/"
        },
        "id": "uCF3d9x8XM1R",
        "outputId": "d9de06da-80ec-4f8f-f015-1a09d988e509"
      },
      "source": [
        "lin_reg.predict([[2]])"
      ],
      "execution_count": 120,
      "outputs": [
        {
          "output_type": "execute_result",
          "data": {
            "text/plain": [
              "array([[9.89273642]])"
            ]
          },
          "metadata": {
            "tags": []
          },
          "execution_count": 120
        }
      ]
    },
    {
      "cell_type": "code",
      "metadata": {
        "id": "Tcvm5EqaXPhz"
      },
      "source": [
        ""
      ],
      "execution_count": 120,
      "outputs": []
    },
    {
      "cell_type": "code",
      "metadata": {
        "id": "BMjjIxH4cJYb"
      },
      "source": [
        ""
      ],
      "execution_count": 120,
      "outputs": []
    }
  ]
}