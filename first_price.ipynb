{
  "nbformat": 4,
  "nbformat_minor": 0,
  "metadata": {
    "colab": {
      "name": "first_price.ipynb",
      "provenance": [],
      "collapsed_sections": []
    },
    "kernelspec": {
      "name": "python3",
      "display_name": "Python 3"
    },
    "accelerator": "GPU"
  },
  "cells": [
    {
      "cell_type": "code",
      "metadata": {
        "id": "YDKXf0GJ1uZ9",
        "colab_type": "code",
        "colab": {
          "resources": {
            "http://localhost:8080/nbextensions/google.colab/files.js": {
              "data": "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",
              "ok": true,
              "headers": [
                [
                  "content-type",
                  "application/javascript"
                ]
              ],
              "status": 200,
              "status_text": ""
            }
          },
          "base_uri": "https://localhost:8080/",
          "height": 73
        },
        "outputId": "908b7478-a96f-44e4-c602-709ed7324216"
      },
      "source": [
        "from google.colab import files\n",
        "\n",
        "df = files.upload()"
      ],
      "execution_count": 2,
      "outputs": [
        {
          "output_type": "display_data",
          "data": {
            "text/html": [
              "\n",
              "     <input type=\"file\" id=\"files-ec1916bb-2ae9-4511-8982-40c5eb5a33e6\" name=\"files[]\" multiple disabled\n",
              "        style=\"border:none\" />\n",
              "     <output id=\"result-ec1916bb-2ae9-4511-8982-40c5eb5a33e6\">\n",
              "      Upload widget is only available when the cell has been executed in the\n",
              "      current browser session. Please rerun this cell to enable.\n",
              "      </output>\n",
              "      <script src=\"/nbextensions/google.colab/files.js\"></script> "
            ],
            "text/plain": [
              "<IPython.core.display.HTML object>"
            ]
          },
          "metadata": {
            "tags": []
          }
        },
        {
          "output_type": "stream",
          "text": [
            "Saving fake_reg.csv to fake_reg.csv\n"
          ],
          "name": "stdout"
        }
      ]
    },
    {
      "cell_type": "code",
      "metadata": {
        "id": "Vns7jfQS1wjn",
        "colab_type": "code",
        "colab": {
          "base_uri": "https://localhost:8080/",
          "height": 70
        },
        "outputId": "f4a13345-ed0b-449b-c145-fd076db7b875"
      },
      "source": [
        "import pandas as pd\n",
        "import numpy as np\n",
        "import seaborn as sns"
      ],
      "execution_count": 3,
      "outputs": [
        {
          "output_type": "stream",
          "text": [
            "/usr/local/lib/python3.6/dist-packages/statsmodels/tools/_testing.py:19: FutureWarning: pandas.util.testing is deprecated. Use the functions in the public API at pandas.testing instead.\n",
            "  import pandas.util.testing as tm\n"
          ],
          "name": "stderr"
        }
      ]
    },
    {
      "cell_type": "code",
      "metadata": {
        "id": "DBGTJoXN2NJp",
        "colab_type": "code",
        "colab": {
          "base_uri": "https://localhost:8080/",
          "height": 195
        },
        "outputId": "9378498d-79a9-486a-de06-92d4fdeb337d"
      },
      "source": [
        "df=pd.read_csv('fake_reg.csv')\n",
        "df.head()"
      ],
      "execution_count": 4,
      "outputs": [
        {
          "output_type": "execute_result",
          "data": {
            "text/html": [
              "<div>\n",
              "<style scoped>\n",
              "    .dataframe tbody tr th:only-of-type {\n",
              "        vertical-align: middle;\n",
              "    }\n",
              "\n",
              "    .dataframe tbody tr th {\n",
              "        vertical-align: top;\n",
              "    }\n",
              "\n",
              "    .dataframe thead th {\n",
              "        text-align: right;\n",
              "    }\n",
              "</style>\n",
              "<table border=\"1\" class=\"dataframe\">\n",
              "  <thead>\n",
              "    <tr style=\"text-align: right;\">\n",
              "      <th></th>\n",
              "      <th>price</th>\n",
              "      <th>feature1</th>\n",
              "      <th>feature2</th>\n",
              "    </tr>\n",
              "  </thead>\n",
              "  <tbody>\n",
              "    <tr>\n",
              "      <th>0</th>\n",
              "      <td>461.527929</td>\n",
              "      <td>999.787558</td>\n",
              "      <td>999.766096</td>\n",
              "    </tr>\n",
              "    <tr>\n",
              "      <th>1</th>\n",
              "      <td>548.130011</td>\n",
              "      <td>998.861615</td>\n",
              "      <td>1001.042403</td>\n",
              "    </tr>\n",
              "    <tr>\n",
              "      <th>2</th>\n",
              "      <td>410.297162</td>\n",
              "      <td>1000.070267</td>\n",
              "      <td>998.844015</td>\n",
              "    </tr>\n",
              "    <tr>\n",
              "      <th>3</th>\n",
              "      <td>540.382220</td>\n",
              "      <td>999.952251</td>\n",
              "      <td>1000.440940</td>\n",
              "    </tr>\n",
              "    <tr>\n",
              "      <th>4</th>\n",
              "      <td>546.024553</td>\n",
              "      <td>1000.446011</td>\n",
              "      <td>1000.338531</td>\n",
              "    </tr>\n",
              "  </tbody>\n",
              "</table>\n",
              "</div>"
            ],
            "text/plain": [
              "        price     feature1     feature2\n",
              "0  461.527929   999.787558   999.766096\n",
              "1  548.130011   998.861615  1001.042403\n",
              "2  410.297162  1000.070267   998.844015\n",
              "3  540.382220   999.952251  1000.440940\n",
              "4  546.024553  1000.446011  1000.338531"
            ]
          },
          "metadata": {
            "tags": []
          },
          "execution_count": 4
        }
      ]
    },
    {
      "cell_type": "code",
      "metadata": {
        "id": "z-i2Kysu2OY6",
        "colab_type": "code",
        "colab": {
          "base_uri": "https://localhost:8080/",
          "height": 587
        },
        "outputId": "1ba82ae9-187b-4eb7-84d9-1b4f17d039aa"
      },
      "source": [
        "sns.pairplot(df)"
      ],
      "execution_count": 5,
      "outputs": [
        {
          "output_type": "execute_result",
          "data": {
            "text/plain": [
              "<seaborn.axisgrid.PairGrid at 0x7f2e32ab3128>"
            ]
          },
          "metadata": {
            "tags": []
          },
          "execution_count": 5
        },
        {
          "output_type": "display_data",
          "data": {
            "image/png": "[encoded data removed]",
            "text/plain": [
              "<Figure size 540x540 with 12 Axes>"
            ]
          },
          "metadata": {
            "tags": [],
            "needs_background": "light"
          }
        }
      ]
    },
    {
      "cell_type": "code",
      "metadata": {
        "id": "JD77YN0R4ggU",
        "colab_type": "code",
        "colab": {}
      },
      "source": [
        "from sklearn.model_selection import train_test_split"
      ],
      "execution_count": 6,
      "outputs": []
    },
    {
      "cell_type": "code",
      "metadata": {
        "id": "3XxwbkJL7up6",
        "colab_type": "code",
        "colab": {}
      },
      "source": [
        "X =df[['feature1','feature2']].values\n",
        "y=df['price'].values"
      ],
      "execution_count": 7,
      "outputs": []
    },
    {
      "cell_type": "code",
      "metadata": {
        "id": "L9cNv-sN8BKE",
        "colab_type": "code",
        "colab": {}
      },
      "source": [
        "X_train, X_test, y_train, y_test = train_test_split(X, y, test_size=0.3, random_state=42)"
      ],
      "execution_count": 8,
      "outputs": []
    },
    {
      "cell_type": "code",
      "metadata": {
        "id": "M9ncSGeY8Cjr",
        "colab_type": "code",
        "colab": {
          "base_uri": "https://localhost:8080/",
          "height": 34
        },
        "outputId": "97c3ba14-888b-4aa4-bb68-9b4efe93312b"
      },
      "source": [
        "X_train.shape"
      ],
      "execution_count": 9,
      "outputs": [
        {
          "output_type": "execute_result",
          "data": {
            "text/plain": [
              "(700, 2)"
            ]
          },
          "metadata": {
            "tags": []
          },
          "execution_count": 9
        }
      ]
    },
    {
      "cell_type": "code",
      "metadata": {
        "id": "XY0C2TIF8iQo",
        "colab_type": "code",
        "colab": {
          "base_uri": "https://localhost:8080/",
          "height": 34
        },
        "outputId": "db677b69-68e7-465d-a1ff-b791bbe924d2"
      },
      "source": [
        "X_test.shape"
      ],
      "execution_count": 10,
      "outputs": [
        {
          "output_type": "execute_result",
          "data": {
            "text/plain": [
              "(300, 2)"
            ]
          },
          "metadata": {
            "tags": []
          },
          "execution_count": 10
        }
      ]
    },
    {
      "cell_type": "code",
      "metadata": {
        "id": "1fTboTHL8lx2",
        "colab_type": "code",
        "colab": {}
      },
      "source": [
        "# normalize or scale\n",
        "from sklearn.preprocessing import MinMaxScaler\n",
        "scaler = MinMaxScaler()\n",
        "scaler.fit(X_train)\n",
        "X_train = scaler.transform(X_train)\n",
        "X_test = scaler.transform(X_test)"
      ],
      "execution_count": 11,
      "outputs": []
    },
    {
      "cell_type": "code",
      "metadata": {
        "id": "ci7LCVtNCsQ1",
        "colab_type": "code",
        "colab": {}
      },
      "source": [
        ""
      ],
      "execution_count": 11,
      "outputs": []
    },
    {
      "cell_type": "code",
      "metadata": {
        "id": "FaeRMVVoCuc0",
        "colab_type": "code",
        "colab": {}
      },
      "source": [
        "from tensorflow.keras.models import Sequential\n",
        "from tensorflow.keras.layers import Dense"
      ],
      "execution_count": 12,
      "outputs": []
    },
    {
      "cell_type": "code",
      "metadata": {
        "id": "R5vxqqGQRKd8",
        "colab_type": "code",
        "colab": {
          "base_uri": "https://localhost:8080/",
          "height": 1000
        },
        "outputId": "f2a481e0-f0bc-4460-8b15-71493705090c"
      },
      "source": [
        "model = Sequential()\n",
        "model.add(Dense(4, activation='relu'))\n",
        "model.add(Dense(4, activation='relu'))\n",
        "model.add(Dense(4, activation='relu'))\n",
        "model.add(Dense(1))\n",
        "model.compile(optimizer='rmsprop',loss='mse')\n",
        "model.fit(x=X_train,y=y_train,epochs=250,verbose=2)"
      ],
      "execution_count": 13,
      "outputs": [
        {
          "output_type": "stream",
          "text": [
            "Epoch 1/250\n",
            "22/22 - 0s - loss: 256704.5312\n",
            "Epoch 2/250\n",
            "22/22 - 0s - loss: 256641.5938\n",
            "Epoch 3/250\n",
            "22/22 - 0s - loss: 256583.4531\n",
            "Epoch 4/250\n",
            "22/22 - 0s - loss: 256516.3125\n",
            "Epoch 5/250\n",
            "22/22 - 0s - loss: 256439.9375\n",
            "Epoch 6/250\n",
            "22/22 - 0s - loss: 256352.5938\n",
            "Epoch 7/250\n",
            "22/22 - 0s - loss: 256253.5156\n",
            "Epoch 8/250\n",
            "22/22 - 0s - loss: 256138.7031\n",
            "Epoch 9/250\n",
            "22/22 - 0s - loss: 256009.2344\n",
            "Epoch 10/250\n",
            "22/22 - 0s - loss: 255862.3125\n",
            "Epoch 11/250\n",
            "22/22 - 0s - loss: 255698.4062\n",
            "Epoch 12/250\n",
            "22/22 - 0s - loss: 255516.6406\n",
            "Epoch 13/250\n",
            "22/22 - 0s - loss: 255313.8906\n",
            "Epoch 14/250\n",
            "22/22 - 0s - loss: 255087.4688\n",
            "Epoch 15/250\n",
            "22/22 - 0s - loss: 254836.4062\n",
            "Epoch 16/250\n",
            "22/22 - 0s - loss: 254557.4375\n",
            "Epoch 17/250\n",
            "22/22 - 0s - loss: 254245.7812\n",
            "Epoch 18/250\n",
            "22/22 - 0s - loss: 253899.8125\n",
            "Epoch 19/250\n",
            "22/22 - 0s - loss: 253519.0781\n",
            "Epoch 20/250\n",
            "22/22 - 0s - loss: 253100.7031\n",
            "Epoch 21/250\n",
            "22/22 - 0s - loss: 252642.3594\n",
            "Epoch 22/250\n",
            "22/22 - 0s - loss: 252145.9844\n",
            "Epoch 23/250\n",
            "22/22 - 0s - loss: 251602.4531\n",
            "Epoch 24/250\n",
            "22/22 - 0s - loss: 251012.8906\n",
            "Epoch 25/250\n",
            "22/22 - 0s - loss: 250375.0781\n",
            "Epoch 26/250\n",
            "22/22 - 0s - loss: 249686.2656\n",
            "Epoch 27/250\n",
            "22/22 - 0s - loss: 248944.0000\n",
            "Epoch 28/250\n",
            "22/22 - 0s - loss: 248142.0312\n",
            "Epoch 29/250\n",
            "22/22 - 0s - loss: 247282.4219\n",
            "Epoch 30/250\n",
            "22/22 - 0s - loss: 246365.5938\n",
            "Epoch 31/250\n",
            "22/22 - 0s - loss: 245383.0625\n",
            "Epoch 32/250\n",
            "22/22 - 0s - loss: 244333.3750\n",
            "Epoch 33/250\n",
            "22/22 - 0s - loss: 243211.3906\n",
            "Epoch 34/250\n",
            "22/22 - 0s - loss: 242019.5469\n",
            "Epoch 35/250\n",
            "22/22 - 0s - loss: 240751.2656\n",
            "Epoch 36/250\n",
            "22/22 - 0s - loss: 239413.9688\n",
            "Epoch 37/250\n",
            "22/22 - 0s - loss: 237981.9688\n",
            "Epoch 38/250\n",
            "22/22 - 0s - loss: 236470.9062\n",
            "Epoch 39/250\n",
            "22/22 - 0s - loss: 234884.0000\n",
            "Epoch 40/250\n",
            "22/22 - 0s - loss: 233199.5469\n",
            "Epoch 41/250\n",
            "22/22 - 0s - loss: 231426.0781\n",
            "Epoch 42/250\n",
            "22/22 - 0s - loss: 229565.6719\n",
            "Epoch 43/250\n",
            "22/22 - 0s - loss: 227606.0312\n",
            "Epoch 44/250\n",
            "22/22 - 0s - loss: 225544.9531\n",
            "Epoch 45/250\n",
            "22/22 - 0s - loss: 223384.6094\n",
            "Epoch 46/250\n",
            "22/22 - 0s - loss: 221129.6250\n",
            "Epoch 47/250\n",
            "22/22 - 0s - loss: 218748.4844\n",
            "Epoch 48/250\n",
            "22/22 - 0s - loss: 216286.6562\n",
            "Epoch 49/250\n",
            "22/22 - 0s - loss: 213713.4688\n",
            "Epoch 50/250\n",
            "22/22 - 0s - loss: 211021.2969\n",
            "Epoch 51/250\n",
            "22/22 - 0s - loss: 208225.6406\n",
            "Epoch 52/250\n",
            "22/22 - 0s - loss: 205316.0938\n",
            "Epoch 53/250\n",
            "22/22 - 0s - loss: 202277.5938\n",
            "Epoch 54/250\n",
            "22/22 - 0s - loss: 199137.9375\n",
            "Epoch 55/250\n",
            "22/22 - 0s - loss: 195874.3281\n",
            "Epoch 56/250\n",
            "22/22 - 0s - loss: 192517.9844\n",
            "Epoch 57/250\n",
            "22/22 - 0s - loss: 189024.3750\n",
            "Epoch 58/250\n",
            "22/22 - 0s - loss: 185405.0469\n",
            "Epoch 59/250\n",
            "22/22 - 0s - loss: 181684.9844\n",
            "Epoch 60/250\n",
            "22/22 - 0s - loss: 177858.0312\n",
            "Epoch 61/250\n",
            "22/22 - 0s - loss: 173879.8906\n",
            "Epoch 62/250\n",
            "22/22 - 0s - loss: 169820.9062\n",
            "Epoch 63/250\n",
            "22/22 - 0s - loss: 165652.2344\n",
            "Epoch 64/250\n",
            "22/22 - 0s - loss: 161360.3906\n",
            "Epoch 65/250\n",
            "22/22 - 0s - loss: 156961.6875\n",
            "Epoch 66/250\n",
            "22/22 - 0s - loss: 152463.2344\n",
            "Epoch 67/250\n",
            "22/22 - 0s - loss: 147866.0625\n",
            "Epoch 68/250\n",
            "22/22 - 0s - loss: 143197.6875\n",
            "Epoch 69/250\n",
            "22/22 - 0s - loss: 138426.8750\n",
            "Epoch 70/250\n",
            "22/22 - 0s - loss: 133544.5312\n",
            "Epoch 71/250\n",
            "22/22 - 0s - loss: 128611.5000\n",
            "Epoch 72/250\n",
            "22/22 - 0s - loss: 123575.3828\n",
            "Epoch 73/250\n",
            "22/22 - 0s - loss: 118471.5625\n",
            "Epoch 74/250\n",
            "22/22 - 0s - loss: 113317.9219\n",
            "Epoch 75/250\n",
            "22/22 - 0s - loss: 108113.4062\n",
            "Epoch 76/250\n",
            "22/22 - 0s - loss: 102898.0547\n",
            "Epoch 77/250\n",
            "22/22 - 0s - loss: 97600.0703\n",
            "Epoch 78/250\n",
            "22/22 - 0s - loss: 92289.9062\n",
            "Epoch 79/250\n",
            "22/22 - 0s - loss: 86979.8906\n",
            "Epoch 80/250\n",
            "22/22 - 0s - loss: 81643.7266\n",
            "Epoch 81/250\n",
            "22/22 - 0s - loss: 76361.2734\n",
            "Epoch 82/250\n",
            "22/22 - 0s - loss: 71093.1484\n",
            "Epoch 83/250\n",
            "22/22 - 0s - loss: 65870.1328\n",
            "Epoch 84/250\n",
            "22/22 - 0s - loss: 60716.4297\n",
            "Epoch 85/250\n",
            "22/22 - 0s - loss: 55621.0352\n",
            "Epoch 86/250\n",
            "22/22 - 0s - loss: 50680.0156\n",
            "Epoch 87/250\n",
            "22/22 - 0s - loss: 45802.6719\n",
            "Epoch 88/250\n",
            "22/22 - 0s - loss: 41055.0469\n",
            "Epoch 89/250\n",
            "22/22 - 0s - loss: 36475.7812\n",
            "Epoch 90/250\n",
            "22/22 - 0s - loss: 32085.4824\n",
            "Epoch 91/250\n",
            "22/22 - 0s - loss: 27912.5000\n",
            "Epoch 92/250\n",
            "22/22 - 0s - loss: 23979.2734\n",
            "Epoch 93/250\n",
            "22/22 - 0s - loss: 20308.0117\n",
            "Epoch 94/250\n",
            "22/22 - 0s - loss: 16884.5391\n",
            "Epoch 95/250\n",
            "22/22 - 0s - loss: 13771.7812\n",
            "Epoch 96/250\n",
            "22/22 - 0s - loss: 11050.0225\n",
            "Epoch 97/250\n",
            "22/22 - 0s - loss: 8653.5645\n",
            "Epoch 98/250\n",
            "22/22 - 0s - loss: 6645.1431\n",
            "Epoch 99/250\n",
            "22/22 - 0s - loss: 5045.7144\n",
            "Epoch 100/250\n",
            "22/22 - 0s - loss: 3883.9519\n",
            "Epoch 101/250\n",
            "22/22 - 0s - loss: 3137.8076\n",
            "Epoch 102/250\n",
            "22/22 - 0s - loss: 2802.7415\n",
            "Epoch 103/250\n",
            "22/22 - 0s - loss: 2713.1367\n",
            "Epoch 104/250\n",
            "22/22 - 0s - loss: 2679.2104\n",
            "Epoch 105/250\n",
            "22/22 - 0s - loss: 2649.2576\n",
            "Epoch 106/250\n",
            "22/22 - 0s - loss: 2611.0442\n",
            "Epoch 107/250\n",
            "22/22 - 0s - loss: 2573.5920\n",
            "Epoch 108/250\n",
            "22/22 - 0s - loss: 2545.6299\n",
            "Epoch 109/250\n",
            "22/22 - 0s - loss: 2508.2546\n",
            "Epoch 110/250\n",
            "22/22 - 0s - loss: 2471.4980\n",
            "Epoch 111/250\n",
            "22/22 - 0s - loss: 2434.9712\n",
            "Epoch 112/250\n",
            "22/22 - 0s - loss: 2395.9602\n",
            "Epoch 113/250\n",
            "22/22 - 0s - loss: 2359.9221\n",
            "Epoch 114/250\n",
            "22/22 - 0s - loss: 2325.6506\n",
            "Epoch 115/250\n",
            "22/22 - 0s - loss: 2293.5496\n",
            "Epoch 116/250\n",
            "22/22 - 0s - loss: 2255.2676\n",
            "Epoch 117/250\n",
            "22/22 - 0s - loss: 2218.3989\n",
            "Epoch 118/250\n",
            "22/22 - 0s - loss: 2183.8730\n",
            "Epoch 119/250\n",
            "22/22 - 0s - loss: 2152.0669\n",
            "Epoch 120/250\n",
            "22/22 - 0s - loss: 2114.6753\n",
            "Epoch 121/250\n",
            "22/22 - 0s - loss: 2081.8567\n",
            "Epoch 122/250\n",
            "22/22 - 0s - loss: 2052.0747\n",
            "Epoch 123/250\n",
            "22/22 - 0s - loss: 2016.8044\n",
            "Epoch 124/250\n",
            "22/22 - 0s - loss: 1987.9218\n",
            "Epoch 125/250\n",
            "22/22 - 0s - loss: 1953.4661\n",
            "Epoch 126/250\n",
            "22/22 - 0s - loss: 1921.6382\n",
            "Epoch 127/250\n",
            "22/22 - 0s - loss: 1890.3677\n",
            "Epoch 128/250\n",
            "22/22 - 0s - loss: 1859.4783\n",
            "Epoch 129/250\n",
            "22/22 - 0s - loss: 1829.4502\n",
            "Epoch 130/250\n",
            "22/22 - 0s - loss: 1797.1747\n",
            "Epoch 131/250\n",
            "22/22 - 0s - loss: 1766.0134\n",
            "Epoch 132/250\n",
            "22/22 - 0s - loss: 1733.3018\n",
            "Epoch 133/250\n",
            "22/22 - 0s - loss: 1696.9443\n",
            "Epoch 134/250\n",
            "22/22 - 0s - loss: 1670.0880\n",
            "Epoch 135/250\n",
            "22/22 - 0s - loss: 1638.2109\n",
            "Epoch 136/250\n",
            "22/22 - 0s - loss: 1604.8550\n",
            "Epoch 137/250\n",
            "22/22 - 0s - loss: 1577.8398\n",
            "Epoch 138/250\n",
            "22/22 - 0s - loss: 1549.1471\n",
            "Epoch 139/250\n",
            "22/22 - 0s - loss: 1520.0331\n",
            "Epoch 140/250\n",
            "22/22 - 0s - loss: 1489.8287\n",
            "Epoch 141/250\n",
            "22/22 - 0s - loss: 1462.6746\n",
            "Epoch 142/250\n",
            "22/22 - 0s - loss: 1435.3057\n",
            "Epoch 143/250\n",
            "22/22 - 0s - loss: 1407.5791\n",
            "Epoch 144/250\n",
            "22/22 - 0s - loss: 1379.6575\n",
            "Epoch 145/250\n",
            "22/22 - 0s - loss: 1354.2490\n",
            "Epoch 146/250\n",
            "22/22 - 0s - loss: 1327.0118\n",
            "Epoch 147/250\n",
            "22/22 - 0s - loss: 1299.0800\n",
            "Epoch 148/250\n",
            "22/22 - 0s - loss: 1275.4050\n",
            "Epoch 149/250\n",
            "22/22 - 0s - loss: 1252.8093\n",
            "Epoch 150/250\n",
            "22/22 - 0s - loss: 1225.7701\n",
            "Epoch 151/250\n",
            "22/22 - 0s - loss: 1197.1694\n",
            "Epoch 152/250\n",
            "22/22 - 0s - loss: 1170.9054\n",
            "Epoch 153/250\n",
            "22/22 - 0s - loss: 1145.6675\n",
            "Epoch 154/250\n",
            "22/22 - 0s - loss: 1119.8260\n",
            "Epoch 155/250\n",
            "22/22 - 0s - loss: 1095.9696\n",
            "Epoch 156/250\n",
            "22/22 - 0s - loss: 1069.5845\n",
            "Epoch 157/250\n",
            "22/22 - 0s - loss: 1046.9781\n",
            "Epoch 158/250\n",
            "22/22 - 0s - loss: 1021.8616\n",
            "Epoch 159/250\n",
            "22/22 - 0s - loss: 993.9005\n",
            "Epoch 160/250\n",
            "22/22 - 0s - loss: 964.2594\n",
            "Epoch 161/250\n",
            "22/22 - 0s - loss: 938.4825\n",
            "Epoch 162/250\n",
            "22/22 - 0s - loss: 915.0276\n",
            "Epoch 163/250\n",
            "22/22 - 0s - loss: 888.5814\n",
            "Epoch 164/250\n",
            "22/22 - 0s - loss: 864.3107\n",
            "Epoch 165/250\n",
            "22/22 - 0s - loss: 841.3940\n",
            "Epoch 166/250\n",
            "22/22 - 0s - loss: 817.5799\n",
            "Epoch 167/250\n",
            "22/22 - 0s - loss: 793.5159\n",
            "Epoch 168/250\n",
            "22/22 - 0s - loss: 770.9865\n",
            "Epoch 169/250\n",
            "22/22 - 0s - loss: 745.1354\n",
            "Epoch 170/250\n",
            "22/22 - 0s - loss: 722.4681\n",
            "Epoch 171/250\n",
            "22/22 - 0s - loss: 700.0448\n",
            "Epoch 172/250\n",
            "22/22 - 0s - loss: 677.7774\n",
            "Epoch 173/250\n",
            "22/22 - 0s - loss: 656.8146\n",
            "Epoch 174/250\n",
            "22/22 - 0s - loss: 634.5799\n",
            "Epoch 175/250\n",
            "22/22 - 0s - loss: 611.1349\n",
            "Epoch 176/250\n",
            "22/22 - 0s - loss: 589.4125\n",
            "Epoch 177/250\n",
            "22/22 - 0s - loss: 568.8699\n",
            "Epoch 178/250\n",
            "22/22 - 0s - loss: 548.0752\n",
            "Epoch 179/250\n",
            "22/22 - 0s - loss: 527.3766\n",
            "Epoch 180/250\n",
            "22/22 - 0s - loss: 506.4044\n",
            "Epoch 181/250\n",
            "22/22 - 0s - loss: 488.6914\n",
            "Epoch 182/250\n",
            "22/22 - 0s - loss: 468.2506\n",
            "Epoch 183/250\n",
            "22/22 - 0s - loss: 449.4991\n",
            "Epoch 184/250\n",
            "22/22 - 0s - loss: 432.6077\n",
            "Epoch 185/250\n",
            "22/22 - 0s - loss: 417.0035\n",
            "Epoch 186/250\n",
            "22/22 - 0s - loss: 401.0049\n",
            "Epoch 187/250\n",
            "22/22 - 0s - loss: 387.4607\n",
            "Epoch 188/250\n",
            "22/22 - 0s - loss: 373.1916\n",
            "Epoch 189/250\n",
            "22/22 - 0s - loss: 355.3073\n",
            "Epoch 190/250\n",
            "22/22 - 0s - loss: 339.3135\n",
            "Epoch 191/250\n",
            "22/22 - 0s - loss: 323.2876\n",
            "Epoch 192/250\n",
            "22/22 - 0s - loss: 308.5770\n",
            "Epoch 193/250\n",
            "22/22 - 0s - loss: 291.7383\n",
            "Epoch 194/250\n",
            "22/22 - 0s - loss: 277.5746\n",
            "Epoch 195/250\n",
            "22/22 - 0s - loss: 262.6439\n",
            "Epoch 196/250\n",
            "22/22 - 0s - loss: 247.6283\n",
            "Epoch 197/250\n",
            "22/22 - 0s - loss: 233.2290\n",
            "Epoch 198/250\n",
            "22/22 - 0s - loss: 220.1412\n",
            "Epoch 199/250\n",
            "22/22 - 0s - loss: 209.2086\n",
            "Epoch 200/250\n",
            "22/22 - 0s - loss: 197.9030\n",
            "Epoch 201/250\n",
            "22/22 - 0s - loss: 188.3548\n",
            "Epoch 202/250\n",
            "22/22 - 0s - loss: 177.5803\n",
            "Epoch 203/250\n",
            "22/22 - 0s - loss: 167.5891\n",
            "Epoch 204/250\n",
            "22/22 - 0s - loss: 157.5131\n",
            "Epoch 205/250\n",
            "22/22 - 0s - loss: 146.6897\n",
            "Epoch 206/250\n",
            "22/22 - 0s - loss: 138.1419\n",
            "Epoch 207/250\n",
            "22/22 - 0s - loss: 129.7744\n",
            "Epoch 208/250\n",
            "22/22 - 0s - loss: 121.8230\n",
            "Epoch 209/250\n",
            "22/22 - 0s - loss: 113.5893\n",
            "Epoch 210/250\n",
            "22/22 - 0s - loss: 106.4081\n",
            "Epoch 211/250\n",
            "22/22 - 0s - loss: 99.5029\n",
            "Epoch 212/250\n",
            "22/22 - 0s - loss: 92.7135\n",
            "Epoch 213/250\n",
            "22/22 - 0s - loss: 85.5774\n",
            "Epoch 214/250\n",
            "22/22 - 0s - loss: 78.4390\n",
            "Epoch 215/250\n",
            "22/22 - 0s - loss: 74.0517\n",
            "Epoch 216/250\n",
            "22/22 - 0s - loss: 69.5547\n",
            "Epoch 217/250\n",
            "22/22 - 0s - loss: 64.6412\n",
            "Epoch 218/250\n",
            "22/22 - 0s - loss: 60.4404\n",
            "Epoch 219/250\n",
            "22/22 - 0s - loss: 56.7181\n",
            "Epoch 220/250\n",
            "22/22 - 0s - loss: 52.4655\n",
            "Epoch 221/250\n",
            "22/22 - 0s - loss: 48.9096\n",
            "Epoch 222/250\n",
            "22/22 - 0s - loss: 45.4688\n",
            "Epoch 223/250\n",
            "22/22 - 0s - loss: 43.1281\n",
            "Epoch 224/250\n",
            "22/22 - 0s - loss: 40.6142\n",
            "Epoch 225/250\n",
            "22/22 - 0s - loss: 38.9879\n",
            "Epoch 226/250\n",
            "22/22 - 0s - loss: 36.8229\n",
            "Epoch 227/250\n",
            "22/22 - 0s - loss: 34.6793\n",
            "Epoch 228/250\n",
            "22/22 - 0s - loss: 32.9527\n",
            "Epoch 229/250\n",
            "22/22 - 0s - loss: 31.6443\n",
            "Epoch 230/250\n",
            "22/22 - 0s - loss: 30.3084\n",
            "Epoch 231/250\n",
            "22/22 - 0s - loss: 29.0683\n",
            "Epoch 232/250\n",
            "22/22 - 0s - loss: 28.1238\n",
            "Epoch 233/250\n",
            "22/22 - 0s - loss: 27.4008\n",
            "Epoch 234/250\n",
            "22/22 - 0s - loss: 26.7522\n",
            "Epoch 235/250\n",
            "22/22 - 0s - loss: 26.2424\n",
            "Epoch 236/250\n",
            "22/22 - 0s - loss: 26.6020\n",
            "Epoch 237/250\n",
            "22/22 - 0s - loss: 25.6238\n",
            "Epoch 238/250\n",
            "22/22 - 0s - loss: 25.6639\n",
            "Epoch 239/250\n",
            "22/22 - 0s - loss: 25.2512\n",
            "Epoch 240/250\n",
            "22/22 - 0s - loss: 24.6879\n",
            "Epoch 241/250\n",
            "22/22 - 0s - loss: 24.9578\n",
            "Epoch 242/250\n",
            "22/22 - 0s - loss: 24.7680\n",
            "Epoch 243/250\n",
            "22/22 - 0s - loss: 24.6256\n",
            "Epoch 244/250\n",
            "22/22 - 0s - loss: 24.5220\n",
            "Epoch 245/250\n",
            "22/22 - 0s - loss: 24.4800\n",
            "Epoch 246/250\n",
            "22/22 - 0s - loss: 24.1113\n",
            "Epoch 247/250\n",
            "22/22 - 0s - loss: 23.9697\n",
            "Epoch 248/250\n",
            "22/22 - 0s - loss: 24.3439\n",
            "Epoch 249/250\n",
            "22/22 - 0s - loss: 24.2942\n",
            "Epoch 250/250\n",
            "22/22 - 0s - loss: 24.7341\n"
          ],
          "name": "stdout"
        },
        {
          "output_type": "execute_result",
          "data": {
            "text/plain": [
              "<tensorflow.python.keras.callbacks.History at 0x7f2dd034a1d0>"
            ]
          },
          "metadata": {
            "tags": []
          },
          "execution_count": 13
        }
      ]
    },
    {
      "cell_type": "code",
      "metadata": {
        "id": "GRF09Sl1R2vC",
        "colab_type": "code",
        "colab": {
          "base_uri": "https://localhost:8080/",
          "height": 282
        },
        "outputId": "ecc8df60-7152-4b8e-b840-ee08d0bfe6c4"
      },
      "source": [
        "loss_df=pd.DataFrame(model.history.history)\n",
        "loss_df.plot()"
      ],
      "execution_count": 14,
      "outputs": [
        {
          "output_type": "execute_result",
          "data": {
            "text/plain": [
              "<matplotlib.axes._subplots.AxesSubplot at 0x7f2dd0128fd0>"
            ]
          },
          "metadata": {
            "tags": []
          },
          "execution_count": 14
        },
        {
          "output_type": "display_data",
          "data": {
            "image/png": "[encoded data removed]",
            "text/plain": [
              "<Figure size 432x288 with 1 Axes>"
            ]
          },
          "metadata": {
            "tags": [],
            "needs_background": "light"
          }
        }
      ]
    },
    {
      "cell_type": "code",
      "metadata": {
        "id": "r3pqppFRSz2D",
        "colab_type": "code",
        "colab": {
          "base_uri": "https://localhost:8080/",
          "height": 34
        },
        "outputId": "22d635f6-df8d-49d5-b924-a6b1e2660226"
      },
      "source": [
        "model.evaluate(X_test,y_test,verbose=0)"
      ],
      "execution_count": 15,
      "outputs": [
        {
          "output_type": "execute_result",
          "data": {
            "text/plain": [
              "26.80367088317871"
            ]
          },
          "metadata": {
            "tags": []
          },
          "execution_count": 15
        }
      ]
    },
    {
      "cell_type": "code",
      "metadata": {
        "id": "4Xdm5w8fifGP",
        "colab_type": "code",
        "colab": {
          "base_uri": "https://localhost:8080/",
          "height": 34
        },
        "outputId": "2af96e48-818c-476b-fb31-2f55a60475a9"
      },
      "source": [
        "model.evaluate(X_train,y_train,verbose=0)"
      ],
      "execution_count": 16,
      "outputs": [
        {
          "output_type": "execute_result",
          "data": {
            "text/plain": [
              "24.550539016723633"
            ]
          },
          "metadata": {
            "tags": []
          },
          "execution_count": 16
        }
      ]
    },
    {
      "cell_type": "code",
      "metadata": {
        "id": "0njSWuG1jEiK",
        "colab_type": "code",
        "colab": {
          "base_uri": "https://localhost:8080/",
          "height": 402
        },
        "outputId": "9158c48f-5b6b-4a8a-e70e-8b9377dc21b6"
      },
      "source": [
        "test_predictions=model.predict(X_test)\n",
        "test_predictions=pd.Series(test_predictions.reshape(300,))\n",
        "pred_df = pd.DataFrame(y_test,columns=['Test True Y'])\n",
        "pred_df = pd.concat([pred_df,test_predictions],axis=1)\n",
        "pred_df.columns=['Test True Y','Model Predictions']\n",
        "pred_df\n"
      ],
      "execution_count": 24,
      "outputs": [
        {
          "output_type": "execute_result",
          "data": {
            "text/html": [
              "<div>\n",
              "<style scoped>\n",
              "    .dataframe tbody tr th:only-of-type {\n",
              "        vertical-align: middle;\n",
              "    }\n",
              "\n",
              "    .dataframe tbody tr th {\n",
              "        vertical-align: top;\n",
              "    }\n",
              "\n",
              "    .dataframe thead th {\n",
              "        text-align: right;\n",
              "    }\n",
              "</style>\n",
              "<table border=\"1\" class=\"dataframe\">\n",
              "  <thead>\n",
              "    <tr style=\"text-align: right;\">\n",
              "      <th></th>\n",
              "      <th>Test True Y</th>\n",
              "      <th>Model Predictions</th>\n",
              "    </tr>\n",
              "  </thead>\n",
              "  <tbody>\n",
              "    <tr>\n",
              "      <th>0</th>\n",
              "      <td>402.296319</td>\n",
              "      <td>406.508606</td>\n",
              "    </tr>\n",
              "    <tr>\n",
              "      <th>1</th>\n",
              "      <td>624.156198</td>\n",
              "      <td>624.756287</td>\n",
              "    </tr>\n",
              "    <tr>\n",
              "      <th>2</th>\n",
              "      <td>582.455066</td>\n",
              "      <td>593.275879</td>\n",
              "    </tr>\n",
              "    <tr>\n",
              "      <th>3</th>\n",
              "      <td>578.588606</td>\n",
              "      <td>573.609924</td>\n",
              "    </tr>\n",
              "    <tr>\n",
              "      <th>4</th>\n",
              "      <td>371.224104</td>\n",
              "      <td>368.154449</td>\n",
              "    </tr>\n",
              "    <tr>\n",
              "      <th>...</th>\n",
              "      <td>...</td>\n",
              "      <td>...</td>\n",
              "    </tr>\n",
              "    <tr>\n",
              "      <th>295</th>\n",
              "      <td>525.704657</td>\n",
              "      <td>530.404846</td>\n",
              "    </tr>\n",
              "    <tr>\n",
              "      <th>296</th>\n",
              "      <td>502.909473</td>\n",
              "      <td>517.069336</td>\n",
              "    </tr>\n",
              "    <tr>\n",
              "      <th>297</th>\n",
              "      <td>612.727910</td>\n",
              "      <td>610.832397</td>\n",
              "    </tr>\n",
              "    <tr>\n",
              "      <th>298</th>\n",
              "      <td>417.569725</td>\n",
              "      <td>418.024078</td>\n",
              "    </tr>\n",
              "    <tr>\n",
              "      <th>299</th>\n",
              "      <td>410.538250</td>\n",
              "      <td>412.216675</td>\n",
              "    </tr>\n",
              "  </tbody>\n",
              "</table>\n",
              "<p>300 rows × 2 columns</p>\n",
              "</div>"
            ],
            "text/plain": [
              "     Test True Y  Model Predictions\n",
              "0     402.296319         406.508606\n",
              "1     624.156198         624.756287\n",
              "2     582.455066         593.275879\n",
              "3     578.588606         573.609924\n",
              "4     371.224104         368.154449\n",
              "..           ...                ...\n",
              "295   525.704657         530.404846\n",
              "296   502.909473         517.069336\n",
              "297   612.727910         610.832397\n",
              "298   417.569725         418.024078\n",
              "299   410.538250         412.216675\n",
              "\n",
              "[300 rows x 2 columns]"
            ]
          },
          "metadata": {
            "tags": []
          },
          "execution_count": 24
        }
      ]
    },
    {
      "cell_type": "code",
      "metadata": {
        "id": "mOJOAsjjjUhL",
        "colab_type": "code",
        "colab": {
          "base_uri": "https://localhost:8080/",
          "height": 296
        },
        "outputId": "95e6a553-a48b-4c70-ee99-86a79ce435c4"
      },
      "source": [
        "sns.scatterplot(x='Test True Y',y='Model Predictions',data=pred_df)"
      ],
      "execution_count": 25,
      "outputs": [
        {
          "output_type": "execute_result",
          "data": {
            "text/plain": [
              "<matplotlib.axes._subplots.AxesSubplot at 0x7f2d6f171240>"
            ]
          },
          "metadata": {
            "tags": []
          },
          "execution_count": 25
        },
        {
          "output_type": "display_data",
          "data": {
            "image/png": "[encoded data removed]",
            "text/plain": [
              "<Figure size 432x288 with 1 Axes>"
            ]
          },
          "metadata": {
            "tags": [],
            "needs_background": "light"
          }
        }
      ]
    },
    {
      "cell_type": "code",
      "metadata": {
        "id": "CKRqQqtFlHHo",
        "colab_type": "code",
        "colab": {
          "base_uri": "https://localhost:8080/",
          "height": 34
        },
        "outputId": "e8fda205-40ae-46b7-baee-0d50b30dde05"
      },
      "source": [
        "from sklearn.metrics import mean_absolute_error,mean_squared_error\n",
        "mean_absolute_error(pred_df['Test True Y'],pred_df['Model Predictions'])"
      ],
      "execution_count": 27,
      "outputs": [
        {
          "output_type": "execute_result",
          "data": {
            "text/plain": [
              "4.203749409641492"
            ]
          },
          "metadata": {
            "tags": []
          },
          "execution_count": 27
        }
      ]
    },
    {
      "cell_type": "code",
      "metadata": {
        "id": "dPyrEQcBpiej",
        "colab_type": "code",
        "colab": {
          "base_uri": "https://localhost:8080/",
          "height": 34
        },
        "outputId": "a363af90-1b2e-45cf-b225-dc5706e8cfd4"
      },
      "source": [
        "mean_squared_error(pred_df['Test True Y'],pred_df['Model Predictions'])**0.5"
      ],
      "execution_count": 29,
      "outputs": [
        {
          "output_type": "execute_result",
          "data": {
            "text/plain": [
              "5.177226437684781"
            ]
          },
          "metadata": {
            "tags": []
          },
          "execution_count": 29
        }
      ]
    },
    {
      "cell_type": "code",
      "metadata": {
        "id": "_OTKgqqxpqZZ",
        "colab_type": "code",
        "colab": {
          "base_uri": "https://localhost:8080/",
          "height": 284
        },
        "outputId": "a856c0c6-734a-4912-b2bd-303cd54db952"
      },
      "source": [
        "df.describe()"
      ],
      "execution_count": 30,
      "outputs": [
        {
          "output_type": "execute_result",
          "data": {
            "text/html": [
              "<div>\n",
              "<style scoped>\n",
              "    .dataframe tbody tr th:only-of-type {\n",
              "        vertical-align: middle;\n",
              "    }\n",
              "\n",
              "    .dataframe tbody tr th {\n",
              "        vertical-align: top;\n",
              "    }\n",
              "\n",
              "    .dataframe thead th {\n",
              "        text-align: right;\n",
              "    }\n",
              "</style>\n",
              "<table border=\"1\" class=\"dataframe\">\n",
              "  <thead>\n",
              "    <tr style=\"text-align: right;\">\n",
              "      <th></th>\n",
              "      <th>price</th>\n",
              "      <th>feature1</th>\n",
              "      <th>feature2</th>\n",
              "    </tr>\n",
              "  </thead>\n",
              "  <tbody>\n",
              "    <tr>\n",
              "      <th>count</th>\n",
              "      <td>1000.000000</td>\n",
              "      <td>1000.000000</td>\n",
              "      <td>1000.000000</td>\n",
              "    </tr>\n",
              "    <tr>\n",
              "      <th>mean</th>\n",
              "      <td>498.673029</td>\n",
              "      <td>1000.014171</td>\n",
              "      <td>999.979847</td>\n",
              "    </tr>\n",
              "    <tr>\n",
              "      <th>std</th>\n",
              "      <td>93.785431</td>\n",
              "      <td>0.974018</td>\n",
              "      <td>0.948330</td>\n",
              "    </tr>\n",
              "    <tr>\n",
              "      <th>min</th>\n",
              "      <td>223.346793</td>\n",
              "      <td>997.058347</td>\n",
              "      <td>996.995651</td>\n",
              "    </tr>\n",
              "    <tr>\n",
              "      <th>25%</th>\n",
              "      <td>433.025732</td>\n",
              "      <td>999.332068</td>\n",
              "      <td>999.316106</td>\n",
              "    </tr>\n",
              "    <tr>\n",
              "      <th>50%</th>\n",
              "      <td>502.382117</td>\n",
              "      <td>1000.009915</td>\n",
              "      <td>1000.002243</td>\n",
              "    </tr>\n",
              "    <tr>\n",
              "      <th>75%</th>\n",
              "      <td>564.921588</td>\n",
              "      <td>1000.637580</td>\n",
              "      <td>1000.645380</td>\n",
              "    </tr>\n",
              "    <tr>\n",
              "      <th>max</th>\n",
              "      <td>774.407854</td>\n",
              "      <td>1003.207934</td>\n",
              "      <td>1002.666308</td>\n",
              "    </tr>\n",
              "  </tbody>\n",
              "</table>\n",
              "</div>"
            ],
            "text/plain": [
              "             price     feature1     feature2\n",
              "count  1000.000000  1000.000000  1000.000000\n",
              "mean    498.673029  1000.014171   999.979847\n",
              "std      93.785431     0.974018     0.948330\n",
              "min     223.346793   997.058347   996.995651\n",
              "25%     433.025732   999.332068   999.316106\n",
              "50%     502.382117  1000.009915  1000.002243\n",
              "75%     564.921588  1000.637580  1000.645380\n",
              "max     774.407854  1003.207934  1002.666308"
            ]
          },
          "metadata": {
            "tags": []
          },
          "execution_count": 30
        }
      ]
    },
    {
      "cell_type": "code",
      "metadata": {
        "id": "QntRuSKopxkP",
        "colab_type": "code",
        "colab": {
          "base_uri": "https://localhost:8080/",
          "height": 34
        },
        "outputId": "42ec6107-6d50-4a07-e133-ef66d1fa7057"
      },
      "source": [
        "new_data=[[998,1000]]\n",
        "new_data=scaler.transform(new_data)\n",
        "model.predict(new_data)"
      ],
      "execution_count": 31,
      "outputs": [
        {
          "output_type": "execute_result",
          "data": {
            "text/plain": [
              "array([[421.2015]], dtype=float32)"
            ]
          },
          "metadata": {
            "tags": []
          },
          "execution_count": 31
        }
      ]
    },
    {
      "cell_type": "code",
      "metadata": {
        "id": "aA5-9or3qHQy",
        "colab_type": "code",
        "colab": {}
      },
      "source": [
        "# To save\n",
        "from tensorflow.keras.models import load_model\n",
        "model.save('my_first_pred.h5')"
      ],
      "execution_count": 34,
      "outputs": []
    },
    {
      "cell_type": "code",
      "metadata": {
        "id": "5Xj6m5DSrKEI",
        "colab_type": "code",
        "colab": {
          "base_uri": "https://localhost:8080/",
          "height": 34
        },
        "outputId": "6cf15843-14bf-401f-cc4b-ef6b0299c8fb"
      },
      "source": [
        "latter_model=load_model('my_first_pred.h5')\n",
        "model.predict(new_data)"
      ],
      "execution_count": 35,
      "outputs": [
        {
          "output_type": "execute_result",
          "data": {
            "text/plain": [
              "array([[421.2015]], dtype=float32)"
            ]
          },
          "metadata": {
            "tags": []
          },
          "execution_count": 35
        }
      ]
    },
    {
      "cell_type": "code",
      "metadata": {
        "id": "oflGqYvorgbT",
        "colab_type": "code",
        "colab": {}
      },
      "source": [
        ""
      ],
      "execution_count": null,
      "outputs": []
    }
  ]
}